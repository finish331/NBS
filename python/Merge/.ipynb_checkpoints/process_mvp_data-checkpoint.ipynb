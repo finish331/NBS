{
 "cells": [
  {
   "cell_type": "code",
   "execution_count": 28,
   "metadata": {},
   "outputs": [],
   "source": [
    "import json\n",
    "import pandas as pd\n",
    "import numpy as np"
   ]
  },
  {
   "cell_type": "code",
   "execution_count": 58,
   "metadata": {},
   "outputs": [],
   "source": [
    "with open('../JSON/AllPlayer/final/all_player2019.json', 'r') as loadFile:\n",
    "    data = pd.DataFrame(json.load(loadFile))\n",
    "with open('../JSON/MVP/MVP_2019.json', 'r') as loadFile:\n",
    "    mvp = pd.DataFrame(json.load(loadFile))"
   ]
  },
  {
   "cell_type": "code",
   "execution_count": 56,
   "metadata": {},
   "outputs": [
    {
     "data": {
      "text/html": [
       "<div>\n",
       "<style scoped>\n",
       "    .dataframe tbody tr th:only-of-type {\n",
       "        vertical-align: middle;\n",
       "    }\n",
       "\n",
       "    .dataframe tbody tr th {\n",
       "        vertical-align: top;\n",
       "    }\n",
       "\n",
       "    .dataframe thead th {\n",
       "        text-align: right;\n",
       "    }\n",
       "</style>\n",
       "<table border=\"1\" class=\"dataframe\">\n",
       "  <thead>\n",
       "    <tr style=\"text-align: right;\">\n",
       "      <th></th>\n",
       "      <th>Player</th>\n",
       "      <th>Pos</th>\n",
       "      <th>Age</th>\n",
       "      <th>Tm</th>\n",
       "      <th>G</th>\n",
       "      <th>GS</th>\n",
       "      <th>MP</th>\n",
       "      <th>FG</th>\n",
       "      <th>FGA</th>\n",
       "      <th>FG%</th>\n",
       "      <th>...</th>\n",
       "      <th>DWS</th>\n",
       "      <th>WS</th>\n",
       "      <th>WS/48</th>\n",
       "      <th>OBPM</th>\n",
       "      <th>DBPM</th>\n",
       "      <th>BPM</th>\n",
       "      <th>VORP</th>\n",
       "      <th>Team.Wins</th>\n",
       "      <th>Share</th>\n",
       "      <th>Year</th>\n",
       "    </tr>\n",
       "  </thead>\n",
       "  <tbody>\n",
       "    <tr>\n",
       "      <th>1</th>\n",
       "      <td>Álex Abrines</td>\n",
       "      <td>SG</td>\n",
       "      <td>25</td>\n",
       "      <td>OKC</td>\n",
       "      <td>31.0</td>\n",
       "      <td>2.0</td>\n",
       "      <td>19.0</td>\n",
       "      <td>1.8</td>\n",
       "      <td>5.1</td>\n",
       "      <td>0.357</td>\n",
       "      <td>...</td>\n",
       "      <td>0.6</td>\n",
       "      <td>0.6</td>\n",
       "      <td>0.053</td>\n",
       "      <td>-2.4</td>\n",
       "      <td>-0.9</td>\n",
       "      <td>-3.4</td>\n",
       "      <td>-0.2</td>\n",
       "      <td>49.0</td>\n",
       "      <td>0</td>\n",
       "      <td>2019</td>\n",
       "    </tr>\n",
       "    <tr>\n",
       "      <th>10</th>\n",
       "      <td>Grayson Allen</td>\n",
       "      <td>SG</td>\n",
       "      <td>23</td>\n",
       "      <td>UTA</td>\n",
       "      <td>38.0</td>\n",
       "      <td>2.0</td>\n",
       "      <td>10.9</td>\n",
       "      <td>1.8</td>\n",
       "      <td>4.7</td>\n",
       "      <td>0.376</td>\n",
       "      <td>...</td>\n",
       "      <td>0.4</td>\n",
       "      <td>0.0</td>\n",
       "      <td>0.002</td>\n",
       "      <td>-3.7</td>\n",
       "      <td>-3.1</td>\n",
       "      <td>-6.8</td>\n",
       "      <td>-0.5</td>\n",
       "      <td>50.0</td>\n",
       "      <td>0</td>\n",
       "      <td>2019</td>\n",
       "    </tr>\n",
       "    <tr>\n",
       "      <th>100</th>\n",
       "      <td>Tyson Chandler</td>\n",
       "      <td>C</td>\n",
       "      <td>36</td>\n",
       "      <td>TOT</td>\n",
       "      <td>55.0</td>\n",
       "      <td>6.0</td>\n",
       "      <td>15.9</td>\n",
       "      <td>1.1</td>\n",
       "      <td>1.8</td>\n",
       "      <td>0.616</td>\n",
       "      <td>...</td>\n",
       "      <td>1.2</td>\n",
       "      <td>2.1</td>\n",
       "      <td>0.114</td>\n",
       "      <td>-3.1</td>\n",
       "      <td>1.8</td>\n",
       "      <td>-1.3</td>\n",
       "      <td>0.2</td>\n",
       "      <td>33.0</td>\n",
       "      <td>0</td>\n",
       "      <td>2019</td>\n",
       "    </tr>\n",
       "    <tr>\n",
       "      <th>101</th>\n",
       "      <td>Wilson Chandler</td>\n",
       "      <td>PF-SF</td>\n",
       "      <td>31</td>\n",
       "      <td>TOT</td>\n",
       "      <td>51.0</td>\n",
       "      <td>33.0</td>\n",
       "      <td>23.1</td>\n",
       "      <td>2.2</td>\n",
       "      <td>5.4</td>\n",
       "      <td>0.418</td>\n",
       "      <td>...</td>\n",
       "      <td>1.0</td>\n",
       "      <td>1.5</td>\n",
       "      <td>0.062</td>\n",
       "      <td>-1.3</td>\n",
       "      <td>0.3</td>\n",
       "      <td>-1.0</td>\n",
       "      <td>0.3</td>\n",
       "      <td>33.0</td>\n",
       "      <td>0</td>\n",
       "      <td>2019</td>\n",
       "    </tr>\n",
       "    <tr>\n",
       "      <th>102</th>\n",
       "      <td>Joe Chealey</td>\n",
       "      <td>PG</td>\n",
       "      <td>23</td>\n",
       "      <td>CHO</td>\n",
       "      <td>1.0</td>\n",
       "      <td>0.0</td>\n",
       "      <td>8.0</td>\n",
       "      <td>1.0</td>\n",
       "      <td>3.0</td>\n",
       "      <td>0.333</td>\n",
       "      <td>...</td>\n",
       "      <td>0.0</td>\n",
       "      <td>0.0</td>\n",
       "      <td>-0.080</td>\n",
       "      <td>-9.0</td>\n",
       "      <td>-8.2</td>\n",
       "      <td>-17.2</td>\n",
       "      <td>0.0</td>\n",
       "      <td>39.0</td>\n",
       "      <td>0</td>\n",
       "      <td>2019</td>\n",
       "    </tr>\n",
       "  </tbody>\n",
       "</table>\n",
       "<p>5 rows × 52 columns</p>\n",
       "</div>"
      ],
      "text/plain": [
       "              Player    Pos  Age   Tm     G    GS    MP   FG  FGA    FG%  ...  \\\n",
       "1       Álex Abrines     SG   25  OKC  31.0   2.0  19.0  1.8  5.1  0.357  ...   \n",
       "10     Grayson Allen     SG   23  UTA  38.0   2.0  10.9  1.8  4.7  0.376  ...   \n",
       "100   Tyson Chandler      C   36  TOT  55.0   6.0  15.9  1.1  1.8  0.616  ...   \n",
       "101  Wilson Chandler  PF-SF   31  TOT  51.0  33.0  23.1  2.2  5.4  0.418  ...   \n",
       "102      Joe Chealey     PG   23  CHO   1.0   0.0   8.0  1.0  3.0  0.333  ...   \n",
       "\n",
       "     DWS   WS  WS/48  OBPM  DBPM   BPM  VORP  Team.Wins  Share  Year  \n",
       "1    0.6  0.6  0.053  -2.4  -0.9  -3.4  -0.2       49.0      0  2019  \n",
       "10   0.4  0.0  0.002  -3.7  -3.1  -6.8  -0.5       50.0      0  2019  \n",
       "100  1.2  2.1  0.114  -3.1   1.8  -1.3   0.2       33.0      0  2019  \n",
       "101  1.0  1.5  0.062  -1.3   0.3  -1.0   0.3       33.0      0  2019  \n",
       "102  0.0  0.0 -0.080  -9.0  -8.2 -17.2   0.0       39.0      0  2019  \n",
       "\n",
       "[5 rows x 52 columns]"
      ]
     },
     "execution_count": 56,
     "metadata": {},
     "output_type": "execute_result"
    }
   ],
   "source": [
    "data.head()"
   ]
  },
  {
   "cell_type": "code",
   "execution_count": 69,
   "metadata": {},
   "outputs": [],
   "source": [
    "win_map = {\n",
    "  'MIL': 60,\n",
    "  'TOR': 58,\n",
    "  'PHI': 51,\n",
    "  'BOS': 49,\n",
    "  'IND': 48,\n",
    "  'BRK': 42,\n",
    "  'ORL': 42,\n",
    "  'DET': 41,\n",
    "  'CHO': 39,\n",
    "  'MIA': 39,\n",
    "  'WAS': 32,\n",
    "  'ATL': 29,\n",
    "  'CHI': 22,\n",
    "  'CLE': 19,\n",
    "  'NYK': 17,\n",
    "  'GSW': 57,\n",
    "  'DEN': 54,\n",
    "  'POR': 53,\n",
    "  'HOU': 53,\n",
    "  'UTA': 50,\n",
    "  'OKC': 49,\n",
    "  'SAS': 48,\n",
    "  'LAC': 48,\n",
    "  'SAC': 39,\n",
    "  'LAL': 37,\n",
    "  'MIN': 36,\n",
    "  'MEM': 33,\n",
    "  'NOP': 33,\n",
    "  'DAL': 33,\n",
    "  'PHO': 19\n",
    "}"
   ]
  },
  {
   "cell_type": "code",
   "execution_count": 31,
   "metadata": {},
   "outputs": [],
   "source": [
    "temp = []\n",
    "for win in win_map:\n",
    "    temp.append(win_map[win])"
   ]
  },
  {
   "cell_type": "code",
   "execution_count": 32,
   "metadata": {},
   "outputs": [
    {
     "data": {
      "text/html": [
       "<div>\n",
       "<style scoped>\n",
       "    .dataframe tbody tr th:only-of-type {\n",
       "        vertical-align: middle;\n",
       "    }\n",
       "\n",
       "    .dataframe tbody tr th {\n",
       "        vertical-align: top;\n",
       "    }\n",
       "\n",
       "    .dataframe thead th {\n",
       "        text-align: right;\n",
       "    }\n",
       "</style>\n",
       "<table border=\"1\" class=\"dataframe\">\n",
       "  <thead>\n",
       "    <tr style=\"text-align: right;\">\n",
       "      <th></th>\n",
       "      <th>0</th>\n",
       "    </tr>\n",
       "  </thead>\n",
       "  <tbody>\n",
       "    <tr>\n",
       "      <th>count</th>\n",
       "      <td>30.000000</td>\n",
       "    </tr>\n",
       "    <tr>\n",
       "      <th>mean</th>\n",
       "      <td>41.000000</td>\n",
       "    </tr>\n",
       "    <tr>\n",
       "      <th>std</th>\n",
       "      <td>12.028701</td>\n",
       "    </tr>\n",
       "    <tr>\n",
       "      <th>min</th>\n",
       "      <td>17.000000</td>\n",
       "    </tr>\n",
       "    <tr>\n",
       "      <th>25%</th>\n",
       "      <td>33.000000</td>\n",
       "    </tr>\n",
       "    <tr>\n",
       "      <th>50%</th>\n",
       "      <td>41.500000</td>\n",
       "    </tr>\n",
       "    <tr>\n",
       "      <th>75%</th>\n",
       "      <td>49.750000</td>\n",
       "    </tr>\n",
       "    <tr>\n",
       "      <th>max</th>\n",
       "      <td>60.000000</td>\n",
       "    </tr>\n",
       "  </tbody>\n",
       "</table>\n",
       "</div>"
      ],
      "text/plain": [
       "               0\n",
       "count  30.000000\n",
       "mean   41.000000\n",
       "std    12.028701\n",
       "min    17.000000\n",
       "25%    33.000000\n",
       "50%    41.500000\n",
       "75%    49.750000\n",
       "max    60.000000"
      ]
     },
     "execution_count": 32,
     "metadata": {},
     "output_type": "execute_result"
    }
   ],
   "source": [
    "win = pd.DataFrame(temp)\n",
    "win.describe()"
   ]
  },
  {
   "cell_type": "code",
   "execution_count": 60,
   "metadata": {},
   "outputs": [],
   "source": [
    "a2019['Share'] = 0\n",
    "a2019['Season'] = 2019\n",
    "for mvp_index, mvp_row in mvp.iterrows():\n",
    "    for data_index, data_row in a2019.iterrows():\n",
    "        if mvp_row['Player'] == data_row['Player']:\n",
    "            a2019.loc[data_index, 'Share'] = mvp_row['Share']"
   ]
  },
  {
   "cell_type": "code",
   "execution_count": 66,
   "metadata": {},
   "outputs": [],
   "source": [
    "ori_data = pd.read_csv('../JSON/totals.csv')"
   ]
  },
  {
   "cell_type": "code",
   "execution_count": 79,
   "metadata": {},
   "outputs": [
    {
     "data": {
      "text/plain": [
       "Index(['Rk', 'Player', 'Season', 'MVP', 'First', 'Share', 'Pos', 'Age', 'Tm',\n",
       "       'G', 'GS', 'MP', 'FG', 'FGA', 'FG%', '3P', '3PA', '3P%', '2P', '2PA',\n",
       "       '2P%', 'eFG%', 'FT', 'FTA', 'FT%', 'ORB', 'DRB', 'TRB', 'AST', 'STL',\n",
       "       'BLK', 'TOV', 'PF', 'PTS', 'Win_PCT'],\n",
       "      dtype='object')"
      ]
     },
     "execution_count": 79,
     "metadata": {},
     "output_type": "execute_result"
    }
   ],
   "source": [
    "ori_data.columns"
   ]
  },
  {
   "cell_type": "code",
   "execution_count": 72,
   "metadata": {},
   "outputs": [
    {
     "data": {
      "text/html": [
       "<div>\n",
       "<style scoped>\n",
       "    .dataframe tbody tr th:only-of-type {\n",
       "        vertical-align: middle;\n",
       "    }\n",
       "\n",
       "    .dataframe tbody tr th {\n",
       "        vertical-align: top;\n",
       "    }\n",
       "\n",
       "    .dataframe thead th {\n",
       "        text-align: right;\n",
       "    }\n",
       "</style>\n",
       "<table border=\"1\" class=\"dataframe\">\n",
       "  <thead>\n",
       "    <tr style=\"text-align: right;\">\n",
       "      <th></th>\n",
       "      <th>Rk</th>\n",
       "      <th>Player</th>\n",
       "      <th>Pos</th>\n",
       "      <th>Age</th>\n",
       "      <th>Tm</th>\n",
       "      <th>G</th>\n",
       "      <th>GS</th>\n",
       "      <th>MP</th>\n",
       "      <th>FG</th>\n",
       "      <th>FGA</th>\n",
       "      <th>...</th>\n",
       "      <th>DWS</th>\n",
       "      <th>WS</th>\n",
       "      <th>WS/48</th>\n",
       "      <th>OBPM</th>\n",
       "      <th>DBPM</th>\n",
       "      <th>BPM</th>\n",
       "      <th>VORP</th>\n",
       "      <th>Share</th>\n",
       "      <th>Season</th>\n",
       "      <th>Win_PCT</th>\n",
       "    </tr>\n",
       "  </thead>\n",
       "  <tbody>\n",
       "    <tr>\n",
       "      <th>0</th>\n",
       "      <td>1</td>\n",
       "      <td>Álex Abrines</td>\n",
       "      <td>SG</td>\n",
       "      <td>25</td>\n",
       "      <td>OKC</td>\n",
       "      <td>31</td>\n",
       "      <td>2</td>\n",
       "      <td>588</td>\n",
       "      <td>56</td>\n",
       "      <td>157</td>\n",
       "      <td>...</td>\n",
       "      <td>0.6</td>\n",
       "      <td>0.6</td>\n",
       "      <td>.053</td>\n",
       "      <td>-2.4</td>\n",
       "      <td>-0.9</td>\n",
       "      <td>-3.4</td>\n",
       "      <td>-0.2</td>\n",
       "      <td>0.0</td>\n",
       "      <td>2019</td>\n",
       "      <td>49.0</td>\n",
       "    </tr>\n",
       "    <tr>\n",
       "      <th>1</th>\n",
       "      <td>2</td>\n",
       "      <td>Quincy Acy</td>\n",
       "      <td>PF</td>\n",
       "      <td>28</td>\n",
       "      <td>PHO</td>\n",
       "      <td>10</td>\n",
       "      <td>0</td>\n",
       "      <td>123</td>\n",
       "      <td>4</td>\n",
       "      <td>18</td>\n",
       "      <td>...</td>\n",
       "      <td>0.0</td>\n",
       "      <td>-0.1</td>\n",
       "      <td>-0.022</td>\n",
       "      <td>-5.7</td>\n",
       "      <td>-0.3</td>\n",
       "      <td>-5.9</td>\n",
       "      <td>-0.1</td>\n",
       "      <td>0.0</td>\n",
       "      <td>2019</td>\n",
       "      <td>19.0</td>\n",
       "    </tr>\n",
       "    <tr>\n",
       "      <th>2</th>\n",
       "      <td>3</td>\n",
       "      <td>Jaylen Adams</td>\n",
       "      <td>PG</td>\n",
       "      <td>22</td>\n",
       "      <td>ATL</td>\n",
       "      <td>34</td>\n",
       "      <td>1</td>\n",
       "      <td>428</td>\n",
       "      <td>38</td>\n",
       "      <td>110</td>\n",
       "      <td>...</td>\n",
       "      <td>0.2</td>\n",
       "      <td>0.1</td>\n",
       "      <td>.011</td>\n",
       "      <td>-3.1</td>\n",
       "      <td>-1.3</td>\n",
       "      <td>-4.4</td>\n",
       "      <td>-0.3</td>\n",
       "      <td>0.0</td>\n",
       "      <td>2019</td>\n",
       "      <td>29.0</td>\n",
       "    </tr>\n",
       "    <tr>\n",
       "      <th>3</th>\n",
       "      <td>4</td>\n",
       "      <td>Steven Adams</td>\n",
       "      <td>C</td>\n",
       "      <td>25</td>\n",
       "      <td>OKC</td>\n",
       "      <td>80</td>\n",
       "      <td>80</td>\n",
       "      <td>2669</td>\n",
       "      <td>481</td>\n",
       "      <td>809</td>\n",
       "      <td>...</td>\n",
       "      <td>4.0</td>\n",
       "      <td>9.1</td>\n",
       "      <td>.163</td>\n",
       "      <td>0.6</td>\n",
       "      <td>2.1</td>\n",
       "      <td>2.7</td>\n",
       "      <td>3.2</td>\n",
       "      <td>0.0</td>\n",
       "      <td>2019</td>\n",
       "      <td>49.0</td>\n",
       "    </tr>\n",
       "    <tr>\n",
       "      <th>4</th>\n",
       "      <td>5</td>\n",
       "      <td>Bam Adebayo</td>\n",
       "      <td>C</td>\n",
       "      <td>21</td>\n",
       "      <td>MIA</td>\n",
       "      <td>82</td>\n",
       "      <td>28</td>\n",
       "      <td>1913</td>\n",
       "      <td>280</td>\n",
       "      <td>486</td>\n",
       "      <td>...</td>\n",
       "      <td>3.4</td>\n",
       "      <td>6.8</td>\n",
       "      <td>.171</td>\n",
       "      <td>-0.6</td>\n",
       "      <td>3.6</td>\n",
       "      <td>3.0</td>\n",
       "      <td>2.4</td>\n",
       "      <td>0.0</td>\n",
       "      <td>2019</td>\n",
       "      <td>39.0</td>\n",
       "    </tr>\n",
       "  </tbody>\n",
       "</table>\n",
       "<p>5 rows × 53 columns</p>\n",
       "</div>"
      ],
      "text/plain": [
       "  Rk        Player Pos Age   Tm   G  GS    MP   FG  FGA  ...  DWS    WS  \\\n",
       "0  1  Álex Abrines  SG  25  OKC  31   2   588   56  157  ...  0.6   0.6   \n",
       "1  2    Quincy Acy  PF  28  PHO  10   0   123    4   18  ...  0.0  -0.1   \n",
       "2  3  Jaylen Adams  PG  22  ATL  34   1   428   38  110  ...  0.2   0.1   \n",
       "3  4  Steven Adams   C  25  OKC  80  80  2669  481  809  ...  4.0   9.1   \n",
       "4  5   Bam Adebayo   C  21  MIA  82  28  1913  280  486  ...  3.4   6.8   \n",
       "\n",
       "    WS/48  OBPM  DBPM   BPM  VORP Share Season Win_PCT  \n",
       "0    .053  -2.4  -0.9  -3.4  -0.2   0.0   2019    49.0  \n",
       "1  -0.022  -5.7  -0.3  -5.9  -0.1   0.0   2019    19.0  \n",
       "2    .011  -3.1  -1.3  -4.4  -0.3   0.0   2019    29.0  \n",
       "3    .163   0.6   2.1   2.7   3.2   0.0   2019    49.0  \n",
       "4    .171  -0.6   3.6   3.0   2.4   0.0   2019    39.0  \n",
       "\n",
       "[5 rows x 53 columns]"
      ]
     },
     "execution_count": 72,
     "metadata": {},
     "output_type": "execute_result"
    }
   ],
   "source": [
    "a2019.head()"
   ]
  },
  {
   "cell_type": "code",
   "execution_count": 81,
   "metadata": {},
   "outputs": [
    {
     "data": {
      "text/plain": [
       "Index(['Player', 'Pos', 'Age', 'Tm', 'G', 'GS', 'MP', 'FG', 'FGA', 'FG%', '3P',\n",
       "       '3PA', '3P%', '2P', '2PA', '2P%', 'eFG%', 'FT', 'FTA', 'FT%', 'ORB',\n",
       "       'DRB', 'TRB', 'AST', 'STL', 'BLK', 'TOV', 'PF', 'PTS', 'PER', 'TS%',\n",
       "       '3PAr', 'FTr', 'ORB%', 'DRB%', 'TRB%', 'AST%', 'STL%', 'BLK%', 'TOV%',\n",
       "       'USG%', 'OWS', 'DWS', 'WS', 'WS/48', 'OBPM', 'DBPM', 'BPM', 'VORP',\n",
       "       'Win_PCT', 'Share', 'Year'],\n",
       "      dtype='object')"
      ]
     },
     "execution_count": 81,
     "metadata": {},
     "output_type": "execute_result"
    }
   ],
   "source": [
    "data.columns"
   ]
  },
  {
   "cell_type": "code",
   "execution_count": 110,
   "metadata": {},
   "outputs": [],
   "source": [
    "new_data.rename(columns={\"Year\": \"Season\"}, inplace=True)"
   ]
  },
  {
   "cell_type": "code",
   "execution_count": 176,
   "metadata": {},
   "outputs": [],
   "source": [
    "ori_data = ori_data[['Player', 'Season', 'Tm', 'Win_PCT', 'Age', 'Pos', 'G', 'GS', 'MP', 'FG', 'FGA', 'FG%', '3P',\n",
    "       '3PA', '3P%', '2P', '2PA', '2P%', 'eFG%', 'FT', 'FTA', 'FT%', 'ORB',\n",
    "       'DRB', 'TRB', 'AST', 'STL', 'BLK', 'TOV', 'PF', 'PTS', 'Share']]"
   ]
  },
  {
   "cell_type": "code",
   "execution_count": 34,
   "metadata": {},
   "outputs": [],
   "source": [
    "import requests\n",
    "from bs4 import BeautifulSoup as BS"
   ]
  },
  {
   "cell_type": "code",
   "execution_count": 39,
   "metadata": {},
   "outputs": [],
   "source": [
    "tol = pd.read_html('https://www.basketball-reference.com/leagues/NBA_2019_totals.html')[0]\n",
    "adv = pd.read_html('https://www.basketball-reference.com/leagues/NBA_2019_advanced.html')[0]"
   ]
  },
  {
   "cell_type": "code",
   "execution_count": 48,
   "metadata": {},
   "outputs": [
    {
     "data": {
      "text/plain": [
       "Index(['Rk', 'Player', 'Pos', 'Age', 'Tm', 'G', 'GS', 'MP', 'FG', 'FGA', 'FG%',\n",
       "       '3P', '3PA', '3P%', '2P', '2PA', '2P%', 'eFG%', 'FT', 'FTA', 'FT%',\n",
       "       'ORB', 'DRB', 'TRB', 'AST', 'STL', 'BLK', 'TOV', 'PF', 'PTS'],\n",
       "      dtype='object')"
      ]
     },
     "execution_count": 48,
     "metadata": {},
     "output_type": "execute_result"
    }
   ],
   "source": [
    "tol.columns"
   ]
  },
  {
   "cell_type": "code",
   "execution_count": 51,
   "metadata": {},
   "outputs": [
    {
     "data": {
      "text/plain": [
       "Index(['PER', 'TS%', '3PAr', 'FTr', 'ORB%', 'DRB%', 'TRB%', 'AST%', 'STL%',\n",
       "       'BLK%', 'TOV%', 'USG%', 'OWS', 'DWS', 'WS', 'WS/48', 'OBPM', 'DBPM',\n",
       "       'BPM', 'VORP'],\n",
       "      dtype='object')"
      ]
     },
     "execution_count": 51,
     "metadata": {},
     "output_type": "execute_result"
    }
   ],
   "source": [
    "adv.columns"
   ]
  },
  {
   "cell_type": "code",
   "execution_count": 49,
   "metadata": {},
   "outputs": [],
   "source": [
    "adv = adv.drop(['Rk', 'Player', 'Pos', 'Age', 'Tm', 'G', 'MP'], axis=1)"
   ]
  },
  {
   "cell_type": "code",
   "execution_count": 50,
   "metadata": {},
   "outputs": [],
   "source": [
    "adv = adv.dropna(how='all', axis=1)"
   ]
  },
  {
   "cell_type": "code",
   "execution_count": 52,
   "metadata": {},
   "outputs": [],
   "source": [
    "a2019 = pd.concat([tol, adv], axis=1, sort=False)"
   ]
  },
  {
   "cell_type": "code",
   "execution_count": 70,
   "metadata": {},
   "outputs": [],
   "source": [
    "a2019['Win_PCT'] = a2019['Tm'].map(win_map)"
   ]
  },
  {
   "cell_type": "code",
   "execution_count": 73,
   "metadata": {},
   "outputs": [
    {
     "data": {
      "text/plain": [
       "(734, 53)"
      ]
     },
     "execution_count": 73,
     "metadata": {},
     "output_type": "execute_result"
    }
   ],
   "source": [
    "a2019.shape"
   ]
  },
  {
   "cell_type": "code",
   "execution_count": 67,
   "metadata": {},
   "outputs": [
    {
     "data": {
      "text/plain": [
       "Index(['Rk', 'Player', 'Season', 'MVP', 'First', 'Share', 'Pos', 'Age', 'Tm',\n",
       "       'G', 'GS', 'MP', 'FG', 'FGA', 'FG.', 'X3P', 'X3PA', 'X3P.', 'X2P',\n",
       "       'X2PA', 'X2P.', 'eFG.', 'FT', 'FTA', 'FT.', 'ORB', 'DRB', 'TRB', 'AST',\n",
       "       'STL', 'BLK', 'TOV', 'PF', 'PTS', 'Team.Wins', 'PER', 'TS.', 'X3PAr',\n",
       "       'FTr', 'ORB.', 'DRB.', 'TRB.', 'AST.', 'STL.', 'BLK.', 'TOV.', 'USG.',\n",
       "       'OWS', 'DWS', 'WS', 'WS.48', 'OBPM', 'DBPM', 'BPM', 'VORP'],\n",
       "      dtype='object')"
      ]
     },
     "execution_count": 67,
     "metadata": {},
     "output_type": "execute_result"
    }
   ],
   "source": [
    "result.columns"
   ]
  },
  {
   "cell_type": "code",
   "execution_count": 44,
   "metadata": {},
   "outputs": [
    {
     "ename": "NameError",
     "evalue": "name 'new_data' is not defined",
     "output_type": "error",
     "traceback": [
      "\u001b[1;31m---------------------------------------------------------------------------\u001b[0m",
      "\u001b[1;31mNameError\u001b[0m                                 Traceback (most recent call last)",
      "\u001b[1;32m<ipython-input-44-4e65bf0628fd>\u001b[0m in \u001b[0;36m<module>\u001b[1;34m\u001b[0m\n\u001b[1;32m----> 1\u001b[1;33m \u001b[0mnew_data\u001b[0m\u001b[1;33m[\u001b[0m\u001b[1;34m'Win_PCT'\u001b[0m\u001b[1;33m]\u001b[0m \u001b[1;33m=\u001b[0m \u001b[0mnew_data\u001b[0m\u001b[1;33m[\u001b[0m\u001b[1;34m'Tm'\u001b[0m\u001b[1;33m]\u001b[0m\u001b[1;33m.\u001b[0m\u001b[0mmap\u001b[0m\u001b[1;33m(\u001b[0m\u001b[0mwin_map\u001b[0m\u001b[1;33m)\u001b[0m\u001b[1;33m\u001b[0m\u001b[1;33m\u001b[0m\u001b[0m\n\u001b[0m\u001b[0;32m      2\u001b[0m \u001b[0mnew_data\u001b[0m\u001b[1;33m[\u001b[0m\u001b[1;34m'Win_PCT'\u001b[0m\u001b[1;33m]\u001b[0m\u001b[1;33m.\u001b[0m\u001b[0mfillna\u001b[0m\u001b[1;33m(\u001b[0m\u001b[0mvalue\u001b[0m\u001b[1;33m=\u001b[0m\u001b[0mwin\u001b[0m\u001b[1;33m.\u001b[0m\u001b[0mquantile\u001b[0m\u001b[1;33m(\u001b[0m\u001b[1;36m.25\u001b[0m\u001b[1;33m)\u001b[0m\u001b[1;33m[\u001b[0m\u001b[1;36m0\u001b[0m\u001b[1;33m]\u001b[0m\u001b[1;33m,\u001b[0m \u001b[0minplace\u001b[0m\u001b[1;33m=\u001b[0m\u001b[1;32mTrue\u001b[0m\u001b[1;33m)\u001b[0m\u001b[1;33m\u001b[0m\u001b[1;33m\u001b[0m\u001b[0m\n",
      "\u001b[1;31mNameError\u001b[0m: name 'new_data' is not defined"
     ]
    }
   ],
   "source": [
    "new_data['Win_PCT'] = new_data['Tm'].map(win_map)\n",
    "new_data['Win_PCT'].fillna(value=win.quantile(.25)[0], inplace=True)"
   ]
  },
  {
   "cell_type": "code",
   "execution_count": 45,
   "metadata": {},
   "outputs": [
    {
     "ename": "NameError",
     "evalue": "name 'ori_data' is not defined",
     "output_type": "error",
     "traceback": [
      "\u001b[1;31m---------------------------------------------------------------------------\u001b[0m",
      "\u001b[1;31mNameError\u001b[0m                                 Traceback (most recent call last)",
      "\u001b[1;32m<ipython-input-45-7ec6dbae230f>\u001b[0m in \u001b[0;36m<module>\u001b[1;34m\u001b[0m\n\u001b[1;32m----> 1\u001b[1;33m \u001b[0mtemp\u001b[0m \u001b[1;33m=\u001b[0m \u001b[1;33m[\u001b[0m\u001b[0mori_data\u001b[0m\u001b[1;33m,\u001b[0m \u001b[0mnew_data\u001b[0m\u001b[1;33m]\u001b[0m\u001b[1;33m\u001b[0m\u001b[1;33m\u001b[0m\u001b[0m\n\u001b[0m\u001b[0;32m      2\u001b[0m \u001b[0mresult\u001b[0m \u001b[1;33m=\u001b[0m \u001b[0mpd\u001b[0m\u001b[1;33m.\u001b[0m\u001b[0mconcat\u001b[0m\u001b[1;33m(\u001b[0m\u001b[0mtemp\u001b[0m\u001b[1;33m)\u001b[0m\u001b[1;33m\u001b[0m\u001b[1;33m\u001b[0m\u001b[0m\n",
      "\u001b[1;31mNameError\u001b[0m: name 'ori_data' is not defined"
     ]
    }
   ],
   "source": [
    "temp = [ori_data, new_data]\n",
    "result = pd.concat(temp)"
   ]
  },
  {
   "cell_type": "code",
   "execution_count": 208,
   "metadata": {
    "scrolled": false
   },
   "outputs": [
    {
     "data": {
      "text/html": [
       "<div>\n",
       "<style scoped>\n",
       "    .dataframe tbody tr th:only-of-type {\n",
       "        vertical-align: middle;\n",
       "    }\n",
       "\n",
       "    .dataframe tbody tr th {\n",
       "        vertical-align: top;\n",
       "    }\n",
       "\n",
       "    .dataframe thead th {\n",
       "        text-align: right;\n",
       "    }\n",
       "</style>\n",
       "<table border=\"1\" class=\"dataframe\">\n",
       "  <thead>\n",
       "    <tr style=\"text-align: right;\">\n",
       "      <th></th>\n",
       "      <th>Season</th>\n",
       "      <th>Win_PCT</th>\n",
       "      <th>Share</th>\n",
       "    </tr>\n",
       "  </thead>\n",
       "  <tbody>\n",
       "    <tr>\n",
       "      <th>count</th>\n",
       "      <td>5520.000000</td>\n",
       "      <td>5520.000000</td>\n",
       "      <td>5520.000000</td>\n",
       "    </tr>\n",
       "    <tr>\n",
       "      <th>mean</th>\n",
       "      <td>2010.134420</td>\n",
       "      <td>40.945109</td>\n",
       "      <td>0.009217</td>\n",
       "    </tr>\n",
       "    <tr>\n",
       "      <th>std</th>\n",
       "      <td>5.993145</td>\n",
       "      <td>12.345970</td>\n",
       "      <td>0.074534</td>\n",
       "    </tr>\n",
       "    <tr>\n",
       "      <th>min</th>\n",
       "      <td>2000.000000</td>\n",
       "      <td>7.000000</td>\n",
       "      <td>0.000000</td>\n",
       "    </tr>\n",
       "    <tr>\n",
       "      <th>25%</th>\n",
       "      <td>2005.000000</td>\n",
       "      <td>33.000000</td>\n",
       "      <td>0.000000</td>\n",
       "    </tr>\n",
       "    <tr>\n",
       "      <th>50%</th>\n",
       "      <td>2010.000000</td>\n",
       "      <td>42.000000</td>\n",
       "      <td>0.000000</td>\n",
       "    </tr>\n",
       "    <tr>\n",
       "      <th>75%</th>\n",
       "      <td>2016.000000</td>\n",
       "      <td>50.000000</td>\n",
       "      <td>0.000000</td>\n",
       "    </tr>\n",
       "    <tr>\n",
       "      <th>max</th>\n",
       "      <td>2019.000000</td>\n",
       "      <td>73.000000</td>\n",
       "      <td>1.000000</td>\n",
       "    </tr>\n",
       "  </tbody>\n",
       "</table>\n",
       "</div>"
      ],
      "text/plain": [
       "            Season      Win_PCT        Share\n",
       "count  5520.000000  5520.000000  5520.000000\n",
       "mean   2010.134420    40.945109     0.009217\n",
       "std       5.993145    12.345970     0.074534\n",
       "min    2000.000000     7.000000     0.000000\n",
       "25%    2005.000000    33.000000     0.000000\n",
       "50%    2010.000000    42.000000     0.000000\n",
       "75%    2016.000000    50.000000     0.000000\n",
       "max    2019.000000    73.000000     1.000000"
      ]
     },
     "execution_count": 208,
     "metadata": {},
     "output_type": "execute_result"
    }
   ],
   "source": [
    "result.describe()"
   ]
  },
  {
   "cell_type": "code",
   "execution_count": 168,
   "metadata": {},
   "outputs": [],
   "source": [
    "# new_data.drop_duplicates(subset =\"Player\", keep = 'first', inplace = True)"
   ]
  },
  {
   "cell_type": "code",
   "execution_count": 169,
   "metadata": {},
   "outputs": [],
   "source": [
    "# new_data = new_data[new_data['Player'] != 'Player']"
   ]
  },
  {
   "cell_type": "code",
   "execution_count": 203,
   "metadata": {},
   "outputs": [],
   "source": [
    "with open('../JSON/a.json', 'w') as file_object:\n",
    "        save_file = result.to_dict()\n",
    "        json.dump(save_file, file_object)"
   ]
  },
  {
   "cell_type": "code",
   "execution_count": 218,
   "metadata": {},
   "outputs": [],
   "source": [
    "result.to_json(r'../JSON/a.json', orient=\"columns\")"
   ]
  },
  {
   "cell_type": "code",
   "execution_count": 217,
   "metadata": {},
   "outputs": [],
   "source": [
    "result = result.sort_values(['Season', 'Share', 'Player'], ascending=[True, False, True])\n",
    "result = result.reset_index(drop=True)"
   ]
  },
  {
   "cell_type": "code",
   "execution_count": 219,
   "metadata": {},
   "outputs": [],
   "source": [
    "with open('../JSON/a.json', 'r') as loadFile:\n",
    "    temp = pd.DataFrame(json.load(loadFile))"
   ]
  },
  {
   "cell_type": "code",
   "execution_count": 220,
   "metadata": {},
   "outputs": [
    {
     "data": {
      "text/html": [
       "<div>\n",
       "<style scoped>\n",
       "    .dataframe tbody tr th:only-of-type {\n",
       "        vertical-align: middle;\n",
       "    }\n",
       "\n",
       "    .dataframe tbody tr th {\n",
       "        vertical-align: top;\n",
       "    }\n",
       "\n",
       "    .dataframe thead th {\n",
       "        text-align: right;\n",
       "    }\n",
       "</style>\n",
       "<table border=\"1\" class=\"dataframe\">\n",
       "  <thead>\n",
       "    <tr style=\"text-align: right;\">\n",
       "      <th></th>\n",
       "      <th>Season</th>\n",
       "      <th>Win_PCT</th>\n",
       "      <th>Share</th>\n",
       "    </tr>\n",
       "  </thead>\n",
       "  <tbody>\n",
       "    <tr>\n",
       "      <th>count</th>\n",
       "      <td>5520.000000</td>\n",
       "      <td>5520.000000</td>\n",
       "      <td>5520.000000</td>\n",
       "    </tr>\n",
       "    <tr>\n",
       "      <th>mean</th>\n",
       "      <td>2010.134420</td>\n",
       "      <td>40.945109</td>\n",
       "      <td>0.009217</td>\n",
       "    </tr>\n",
       "    <tr>\n",
       "      <th>std</th>\n",
       "      <td>5.993145</td>\n",
       "      <td>12.345970</td>\n",
       "      <td>0.074534</td>\n",
       "    </tr>\n",
       "    <tr>\n",
       "      <th>min</th>\n",
       "      <td>2000.000000</td>\n",
       "      <td>7.000000</td>\n",
       "      <td>0.000000</td>\n",
       "    </tr>\n",
       "    <tr>\n",
       "      <th>25%</th>\n",
       "      <td>2005.000000</td>\n",
       "      <td>33.000000</td>\n",
       "      <td>0.000000</td>\n",
       "    </tr>\n",
       "    <tr>\n",
       "      <th>50%</th>\n",
       "      <td>2010.000000</td>\n",
       "      <td>42.000000</td>\n",
       "      <td>0.000000</td>\n",
       "    </tr>\n",
       "    <tr>\n",
       "      <th>75%</th>\n",
       "      <td>2016.000000</td>\n",
       "      <td>50.000000</td>\n",
       "      <td>0.000000</td>\n",
       "    </tr>\n",
       "    <tr>\n",
       "      <th>max</th>\n",
       "      <td>2019.000000</td>\n",
       "      <td>73.000000</td>\n",
       "      <td>1.000000</td>\n",
       "    </tr>\n",
       "  </tbody>\n",
       "</table>\n",
       "</div>"
      ],
      "text/plain": [
       "            Season      Win_PCT        Share\n",
       "count  5520.000000  5520.000000  5520.000000\n",
       "mean   2010.134420    40.945109     0.009217\n",
       "std       5.993145    12.345970     0.074534\n",
       "min    2000.000000     7.000000     0.000000\n",
       "25%    2005.000000    33.000000     0.000000\n",
       "50%    2010.000000    42.000000     0.000000\n",
       "75%    2016.000000    50.000000     0.000000\n",
       "max    2019.000000    73.000000     1.000000"
      ]
     },
     "execution_count": 220,
     "metadata": {},
     "output_type": "execute_result"
    }
   ],
   "source": [
    "temp.describe()"
   ]
  },
  {
   "cell_type": "code",
   "execution_count": 221,
   "metadata": {},
   "outputs": [
    {
     "data": {
      "text/html": [
       "<div>\n",
       "<style scoped>\n",
       "    .dataframe tbody tr th:only-of-type {\n",
       "        vertical-align: middle;\n",
       "    }\n",
       "\n",
       "    .dataframe tbody tr th {\n",
       "        vertical-align: top;\n",
       "    }\n",
       "\n",
       "    .dataframe thead th {\n",
       "        text-align: right;\n",
       "    }\n",
       "</style>\n",
       "<table border=\"1\" class=\"dataframe\">\n",
       "  <thead>\n",
       "    <tr style=\"text-align: right;\">\n",
       "      <th></th>\n",
       "      <th>Player</th>\n",
       "      <th>Season</th>\n",
       "      <th>Tm</th>\n",
       "      <th>Win_PCT</th>\n",
       "      <th>Age</th>\n",
       "      <th>Pos</th>\n",
       "      <th>G</th>\n",
       "      <th>GS</th>\n",
       "      <th>MP</th>\n",
       "      <th>FG</th>\n",
       "      <th>...</th>\n",
       "      <th>ORB</th>\n",
       "      <th>DRB</th>\n",
       "      <th>TRB</th>\n",
       "      <th>AST</th>\n",
       "      <th>STL</th>\n",
       "      <th>BLK</th>\n",
       "      <th>TOV</th>\n",
       "      <th>PF</th>\n",
       "      <th>PTS</th>\n",
       "      <th>Share</th>\n",
       "    </tr>\n",
       "  </thead>\n",
       "  <tbody>\n",
       "    <tr>\n",
       "      <th>0</th>\n",
       "      <td>Shaquille O'Neal</td>\n",
       "      <td>2000</td>\n",
       "      <td>LAL</td>\n",
       "      <td>67.0</td>\n",
       "      <td>27</td>\n",
       "      <td>C</td>\n",
       "      <td>79</td>\n",
       "      <td>79</td>\n",
       "      <td>3163</td>\n",
       "      <td>956</td>\n",
       "      <td>...</td>\n",
       "      <td>336</td>\n",
       "      <td>742</td>\n",
       "      <td>1078</td>\n",
       "      <td>299</td>\n",
       "      <td>36</td>\n",
       "      <td>239</td>\n",
       "      <td>223</td>\n",
       "      <td>255</td>\n",
       "      <td>2344</td>\n",
       "      <td>0.998</td>\n",
       "    </tr>\n",
       "    <tr>\n",
       "      <th>1</th>\n",
       "      <td>Kevin Garnett</td>\n",
       "      <td>2000</td>\n",
       "      <td>MIN</td>\n",
       "      <td>50.0</td>\n",
       "      <td>23</td>\n",
       "      <td>PF</td>\n",
       "      <td>81</td>\n",
       "      <td>81</td>\n",
       "      <td>3243</td>\n",
       "      <td>759</td>\n",
       "      <td>...</td>\n",
       "      <td>223</td>\n",
       "      <td>733</td>\n",
       "      <td>956</td>\n",
       "      <td>401</td>\n",
       "      <td>120</td>\n",
       "      <td>126</td>\n",
       "      <td>268</td>\n",
       "      <td>205</td>\n",
       "      <td>1857</td>\n",
       "      <td>0.337</td>\n",
       "    </tr>\n",
       "    <tr>\n",
       "      <th>10</th>\n",
       "      <td>Jason Kidd</td>\n",
       "      <td>2000</td>\n",
       "      <td>PHO</td>\n",
       "      <td>53.0</td>\n",
       "      <td>26</td>\n",
       "      <td>PG</td>\n",
       "      <td>67</td>\n",
       "      <td>67</td>\n",
       "      <td>2616</td>\n",
       "      <td>350</td>\n",
       "      <td>...</td>\n",
       "      <td>96</td>\n",
       "      <td>387</td>\n",
       "      <td>483</td>\n",
       "      <td>678</td>\n",
       "      <td>134</td>\n",
       "      <td>28</td>\n",
       "      <td>226</td>\n",
       "      <td>148</td>\n",
       "      <td>959</td>\n",
       "      <td>0.021</td>\n",
       "    </tr>\n",
       "    <tr>\n",
       "      <th>100</th>\n",
       "      <td>Eric Piatkowski</td>\n",
       "      <td>2000</td>\n",
       "      <td>LAC</td>\n",
       "      <td>15.0</td>\n",
       "      <td>29</td>\n",
       "      <td>SF</td>\n",
       "      <td>75</td>\n",
       "      <td>23</td>\n",
       "      <td>1712</td>\n",
       "      <td>238</td>\n",
       "      <td>...</td>\n",
       "      <td>74</td>\n",
       "      <td>148</td>\n",
       "      <td>222</td>\n",
       "      <td>81</td>\n",
       "      <td>44</td>\n",
       "      <td>13</td>\n",
       "      <td>57</td>\n",
       "      <td>140</td>\n",
       "      <td>654</td>\n",
       "      <td>0.000</td>\n",
       "    </tr>\n",
       "    <tr>\n",
       "      <th>1000</th>\n",
       "      <td>Tim Thomas</td>\n",
       "      <td>2003</td>\n",
       "      <td>MIL</td>\n",
       "      <td>42.0</td>\n",
       "      <td>25</td>\n",
       "      <td>SF</td>\n",
       "      <td>80</td>\n",
       "      <td>70</td>\n",
       "      <td>2358</td>\n",
       "      <td>412</td>\n",
       "      <td>...</td>\n",
       "      <td>97</td>\n",
       "      <td>292</td>\n",
       "      <td>389</td>\n",
       "      <td>102</td>\n",
       "      <td>70</td>\n",
       "      <td>49</td>\n",
       "      <td>133</td>\n",
       "      <td>257</td>\n",
       "      <td>1066</td>\n",
       "      <td>0.000</td>\n",
       "    </tr>\n",
       "  </tbody>\n",
       "</table>\n",
       "<p>5 rows × 32 columns</p>\n",
       "</div>"
      ],
      "text/plain": [
       "                Player  Season   Tm  Win_PCT Age Pos   G  GS    MP   FG  ...  \\\n",
       "0     Shaquille O'Neal    2000  LAL     67.0  27   C  79  79  3163  956  ...   \n",
       "1        Kevin Garnett    2000  MIN     50.0  23  PF  81  81  3243  759  ...   \n",
       "10          Jason Kidd    2000  PHO     53.0  26  PG  67  67  2616  350  ...   \n",
       "100    Eric Piatkowski    2000  LAC     15.0  29  SF  75  23  1712  238  ...   \n",
       "1000        Tim Thomas    2003  MIL     42.0  25  SF  80  70  2358  412  ...   \n",
       "\n",
       "      ORB  DRB   TRB  AST  STL  BLK  TOV   PF   PTS  Share  \n",
       "0     336  742  1078  299   36  239  223  255  2344  0.998  \n",
       "1     223  733   956  401  120  126  268  205  1857  0.337  \n",
       "10     96  387   483  678  134   28  226  148   959  0.021  \n",
       "100    74  148   222   81   44   13   57  140   654  0.000  \n",
       "1000   97  292   389  102   70   49  133  257  1066  0.000  \n",
       "\n",
       "[5 rows x 32 columns]"
      ]
     },
     "execution_count": 221,
     "metadata": {},
     "output_type": "execute_result"
    }
   ],
   "source": [
    "temp.head()"
   ]
  },
  {
   "cell_type": "code",
   "execution_count": 2,
   "metadata": {},
   "outputs": [],
   "source": [
    "totals = pd.read_csv('../JSON/Backup/totals.csv')\n",
    "advance = pd.read_csv('../JSON/Backup/advanced.csv')"
   ]
  },
  {
   "cell_type": "code",
   "execution_count": 17,
   "metadata": {},
   "outputs": [
    {
     "data": {
      "text/plain": [
       "Index(['Rk', 'Player', 'Season', 'MVP', 'First', 'Share', 'Pos', 'Age', 'Tm',\n",
       "       'G', 'GS', 'MP', 'FG', 'FGA', 'FG.', 'X3P', 'X3PA', 'X3P.', 'X2P',\n",
       "       'X2PA', 'X2P.', 'eFG.', 'FT', 'FTA', 'FT.', 'ORB', 'DRB', 'TRB', 'AST',\n",
       "       'STL', 'BLK', 'TOV', 'PF', 'PTS', 'Team.Wins'],\n",
       "      dtype='object')"
      ]
     },
     "execution_count": 17,
     "metadata": {},
     "output_type": "execute_result"
    }
   ],
   "source": [
    "totals.columns"
   ]
  },
  {
   "cell_type": "code",
   "execution_count": 19,
   "metadata": {
    "scrolled": true
   },
   "outputs": [
    {
     "data": {
      "text/plain": [
       "Index(['PER', 'TS.', 'X3PAr', 'FTr', 'ORB.', 'DRB.', 'TRB.', 'AST.', 'STL.',\n",
       "       'BLK.', 'TOV.', 'USG.', 'OWS', 'DWS', 'WS', 'WS.48', 'OBPM', 'DBPM',\n",
       "       'BPM', 'VORP'],\n",
       "      dtype='object')"
      ]
     },
     "execution_count": 19,
     "metadata": {},
     "output_type": "execute_result"
    }
   ],
   "source": [
    "advance.columns"
   ]
  },
  {
   "cell_type": "code",
   "execution_count": 18,
   "metadata": {},
   "outputs": [],
   "source": [
    "advance = advance.drop(['Rk', 'Player', 'Season', 'MVP', 'First', 'Share', 'Pos', 'Age', 'Tm', 'G', 'MP', 'Team.Wins'], axis=1)"
   ]
  },
  {
   "cell_type": "code",
   "execution_count": 20,
   "metadata": {},
   "outputs": [],
   "source": [
    "result = pd.concat([totals, advance], axis=1, sort=False)"
   ]
  },
  {
   "cell_type": "code",
   "execution_count": 21,
   "metadata": {},
   "outputs": [
    {
     "data": {
      "text/html": [
       "<div>\n",
       "<style scoped>\n",
       "    .dataframe tbody tr th:only-of-type {\n",
       "        vertical-align: middle;\n",
       "    }\n",
       "\n",
       "    .dataframe tbody tr th {\n",
       "        vertical-align: top;\n",
       "    }\n",
       "\n",
       "    .dataframe thead th {\n",
       "        text-align: right;\n",
       "    }\n",
       "</style>\n",
       "<table border=\"1\" class=\"dataframe\">\n",
       "  <thead>\n",
       "    <tr style=\"text-align: right;\">\n",
       "      <th></th>\n",
       "      <th>Rk</th>\n",
       "      <th>Player</th>\n",
       "      <th>Season</th>\n",
       "      <th>MVP</th>\n",
       "      <th>First</th>\n",
       "      <th>Share</th>\n",
       "      <th>Pos</th>\n",
       "      <th>Age</th>\n",
       "      <th>Tm</th>\n",
       "      <th>G</th>\n",
       "      <th>...</th>\n",
       "      <th>TOV.</th>\n",
       "      <th>USG.</th>\n",
       "      <th>OWS</th>\n",
       "      <th>DWS</th>\n",
       "      <th>WS</th>\n",
       "      <th>WS.48</th>\n",
       "      <th>OBPM</th>\n",
       "      <th>DBPM</th>\n",
       "      <th>BPM</th>\n",
       "      <th>VORP</th>\n",
       "    </tr>\n",
       "  </thead>\n",
       "  <tbody>\n",
       "    <tr>\n",
       "      <th>0</th>\n",
       "      <td>2.0</td>\n",
       "      <td>Shareef Abdur-Rahim</td>\n",
       "      <td>2000.0</td>\n",
       "      <td>False</td>\n",
       "      <td>0.0</td>\n",
       "      <td>0.0</td>\n",
       "      <td>SF</td>\n",
       "      <td>23.0</td>\n",
       "      <td>VAN</td>\n",
       "      <td>82.0</td>\n",
       "      <td>...</td>\n",
       "      <td>14.1</td>\n",
       "      <td>25.0</td>\n",
       "      <td>6.2</td>\n",
       "      <td>2.6</td>\n",
       "      <td>8.8</td>\n",
       "      <td>0.132</td>\n",
       "      <td>1.8</td>\n",
       "      <td>0.5</td>\n",
       "      <td>2.3</td>\n",
       "      <td>3.5</td>\n",
       "    </tr>\n",
       "    <tr>\n",
       "      <th>1</th>\n",
       "      <td>4.0</td>\n",
       "      <td>Ray Allen</td>\n",
       "      <td>2000.0</td>\n",
       "      <td>False</td>\n",
       "      <td>0.0</td>\n",
       "      <td>0.0</td>\n",
       "      <td>SG</td>\n",
       "      <td>24.0</td>\n",
       "      <td>MIL</td>\n",
       "      <td>82.0</td>\n",
       "      <td>...</td>\n",
       "      <td>10.3</td>\n",
       "      <td>25.6</td>\n",
       "      <td>9.0</td>\n",
       "      <td>1.0</td>\n",
       "      <td>10.1</td>\n",
       "      <td>0.157</td>\n",
       "      <td>5.0</td>\n",
       "      <td>-2.0</td>\n",
       "      <td>3.0</td>\n",
       "      <td>3.9</td>\n",
       "    </tr>\n",
       "    <tr>\n",
       "      <th>2</th>\n",
       "      <td>6.0</td>\n",
       "      <td>John Amaechi</td>\n",
       "      <td>2000.0</td>\n",
       "      <td>False</td>\n",
       "      <td>0.0</td>\n",
       "      <td>0.0</td>\n",
       "      <td>C</td>\n",
       "      <td>29.0</td>\n",
       "      <td>ORL</td>\n",
       "      <td>80.0</td>\n",
       "      <td>...</td>\n",
       "      <td>14.4</td>\n",
       "      <td>24.1</td>\n",
       "      <td>0.6</td>\n",
       "      <td>1.8</td>\n",
       "      <td>2.4</td>\n",
       "      <td>0.067</td>\n",
       "      <td>-2.7</td>\n",
       "      <td>-0.9</td>\n",
       "      <td>-3.6</td>\n",
       "      <td>-0.7</td>\n",
       "    </tr>\n",
       "    <tr>\n",
       "      <th>3</th>\n",
       "      <td>7.0</td>\n",
       "      <td>Derek Anderson</td>\n",
       "      <td>2000.0</td>\n",
       "      <td>False</td>\n",
       "      <td>0.0</td>\n",
       "      <td>0.0</td>\n",
       "      <td>SG</td>\n",
       "      <td>25.0</td>\n",
       "      <td>LAC</td>\n",
       "      <td>64.0</td>\n",
       "      <td>...</td>\n",
       "      <td>14.4</td>\n",
       "      <td>23.4</td>\n",
       "      <td>3.1</td>\n",
       "      <td>0.3</td>\n",
       "      <td>3.3</td>\n",
       "      <td>0.073</td>\n",
       "      <td>1.7</td>\n",
       "      <td>-1.9</td>\n",
       "      <td>-0.2</td>\n",
       "      <td>1.0</td>\n",
       "    </tr>\n",
       "    <tr>\n",
       "      <th>4</th>\n",
       "      <td>8.0</td>\n",
       "      <td>Kenny Anderson</td>\n",
       "      <td>2000.0</td>\n",
       "      <td>False</td>\n",
       "      <td>0.0</td>\n",
       "      <td>0.0</td>\n",
       "      <td>PG</td>\n",
       "      <td>29.0</td>\n",
       "      <td>BOS</td>\n",
       "      <td>82.0</td>\n",
       "      <td>...</td>\n",
       "      <td>10.6</td>\n",
       "      <td>20.5</td>\n",
       "      <td>5.4</td>\n",
       "      <td>1.9</td>\n",
       "      <td>7.3</td>\n",
       "      <td>0.136</td>\n",
       "      <td>2.6</td>\n",
       "      <td>-1.4</td>\n",
       "      <td>1.2</td>\n",
       "      <td>2.1</td>\n",
       "    </tr>\n",
       "  </tbody>\n",
       "</table>\n",
       "<p>5 rows × 55 columns</p>\n",
       "</div>"
      ],
      "text/plain": [
       "    Rk               Player  Season    MVP  First  Share Pos   Age   Tm     G  \\\n",
       "0  2.0  Shareef Abdur-Rahim  2000.0  False    0.0    0.0  SF  23.0  VAN  82.0   \n",
       "1  4.0            Ray Allen  2000.0  False    0.0    0.0  SG  24.0  MIL  82.0   \n",
       "2  6.0         John Amaechi  2000.0  False    0.0    0.0   C  29.0  ORL  80.0   \n",
       "3  7.0       Derek Anderson  2000.0  False    0.0    0.0  SG  25.0  LAC  64.0   \n",
       "4  8.0       Kenny Anderson  2000.0  False    0.0    0.0  PG  29.0  BOS  82.0   \n",
       "\n",
       "   ...  TOV.  USG.  OWS  DWS    WS  WS.48  OBPM  DBPM  BPM  VORP  \n",
       "0  ...  14.1  25.0  6.2  2.6   8.8  0.132   1.8   0.5  2.3   3.5  \n",
       "1  ...  10.3  25.6  9.0  1.0  10.1  0.157   5.0  -2.0  3.0   3.9  \n",
       "2  ...  14.4  24.1  0.6  1.8   2.4  0.067  -2.7  -0.9 -3.6  -0.7  \n",
       "3  ...  14.4  23.4  3.1  0.3   3.3  0.073   1.7  -1.9 -0.2   1.0  \n",
       "4  ...  10.6  20.5  5.4  1.9   7.3  0.136   2.6  -1.4  1.2   2.1  \n",
       "\n",
       "[5 rows x 55 columns]"
      ]
     },
     "execution_count": 21,
     "metadata": {},
     "output_type": "execute_result"
    }
   ],
   "source": [
    "result.head()"
   ]
  },
  {
   "cell_type": "code",
   "execution_count": 22,
   "metadata": {},
   "outputs": [
    {
     "data": {
      "text/plain": [
       "Index(['Rk', 'Player', 'Season', 'MVP', 'First', 'Share', 'Pos', 'Age', 'Tm',\n",
       "       'G', 'GS', 'MP', 'FG', 'FGA', 'FG.', 'X3P', 'X3PA', 'X3P.', 'X2P',\n",
       "       'X2PA', 'X2P.', 'eFG.', 'FT', 'FTA', 'FT.', 'ORB', 'DRB', 'TRB', 'AST',\n",
       "       'STL', 'BLK', 'TOV', 'PF', 'PTS', 'Team.Wins', 'PER', 'TS.', 'X3PAr',\n",
       "       'FTr', 'ORB.', 'DRB.', 'TRB.', 'AST.', 'STL.', 'BLK.', 'TOV.', 'USG.',\n",
       "       'OWS', 'DWS', 'WS', 'WS.48', 'OBPM', 'DBPM', 'BPM', 'VORP'],\n",
       "      dtype='object')"
      ]
     },
     "execution_count": 22,
     "metadata": {},
     "output_type": "execute_result"
    }
   ],
   "source": [
    "result.columns"
   ]
  },
  {
   "cell_type": "code",
   "execution_count": 27,
   "metadata": {},
   "outputs": [
    {
     "data": {
      "text/plain": [
       "Rk                             2\n",
       "Player       Shareef Abdur-Rahim\n",
       "Season                      2000\n",
       "MVP                        False\n",
       "First                          0\n",
       "Share                          0\n",
       "Pos                           SF\n",
       "Age                           23\n",
       "Tm                           VAN\n",
       "G                             82\n",
       "GS                            82\n",
       "MP                          3223\n",
       "FG                           594\n",
       "FGA                         1277\n",
       "FG.                        0.465\n",
       "X3P                           29\n",
       "X3PA                          96\n",
       "X3P.                       0.302\n",
       "X2P                          565\n",
       "X2PA                        1181\n",
       "X2P.                       0.478\n",
       "eFG.                       0.477\n",
       "FT                           446\n",
       "FTA                          551\n",
       "FT.                        0.809\n",
       "ORB                          218\n",
       "DRB                          607\n",
       "TRB                          825\n",
       "AST                          271\n",
       "STL                           89\n",
       "BLK                           87\n",
       "TOV                          249\n",
       "PF                           244\n",
       "PTS                         1663\n",
       "Team.Wins                     22\n",
       "PER                         20.2\n",
       "TS.                        0.547\n",
       "X3PAr                      0.075\n",
       "FTr                        0.431\n",
       "ORB.                           8\n",
       "DRB.                        22.7\n",
       "TRB.                        15.3\n",
       "AST.                        15.5\n",
       "STL.                         1.5\n",
       "BLK.                         1.9\n",
       "TOV.                        14.1\n",
       "USG.                          25\n",
       "OWS                          6.2\n",
       "DWS                          2.6\n",
       "WS                           8.8\n",
       "WS.48                      0.132\n",
       "OBPM                         1.8\n",
       "DBPM                         0.5\n",
       "BPM                          2.3\n",
       "VORP                         3.5\n",
       "Name: 0, dtype: object"
      ]
     },
     "execution_count": 27,
     "metadata": {},
     "output_type": "execute_result"
    }
   ],
   "source": [
    "result.iloc[0]"
   ]
  },
  {
   "cell_type": "code",
   "execution_count": null,
   "metadata": {},
   "outputs": [],
   "source": []
  }
 ],
 "metadata": {
  "kernelspec": {
   "display_name": "Python 3",
   "language": "python",
   "name": "python3"
  },
  "language_info": {
   "codemirror_mode": {
    "name": "ipython",
    "version": 3
   },
   "file_extension": ".py",
   "mimetype": "text/x-python",
   "name": "python",
   "nbconvert_exporter": "python",
   "pygments_lexer": "ipython3",
   "version": "3.7.3"
  }
 },
 "nbformat": 4,
 "nbformat_minor": 2
}

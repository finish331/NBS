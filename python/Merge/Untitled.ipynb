{
 "cells": [
  {
   "cell_type": "code",
   "execution_count": 20,
   "metadata": {},
   "outputs": [],
   "source": [
    "import pandas as pd"
   ]
  },
  {
   "cell_type": "code",
   "execution_count": 21,
   "metadata": {},
   "outputs": [],
   "source": [
    "adv = pd.read_csv('../JSON/Backup/advanced.csv')\n",
    "tot = pd.read_csv('../JSON/Backup/totals.csv')"
   ]
  },
  {
   "cell_type": "code",
   "execution_count": 49,
   "metadata": {},
   "outputs": [
    {
     "name": "stdout",
     "output_type": "stream",
     "text": [
      "<class 'pandas.core.frame.DataFrame'>\n",
      "RangeIndex: 5492 entries, 0 to 5491\n",
      "Data columns (total 32 columns):\n",
      "Rk           5492 non-null int64\n",
      "Player       5492 non-null object\n",
      "Season       5492 non-null int64\n",
      "MVP          5492 non-null bool\n",
      "First        5492 non-null int64\n",
      "Share        5492 non-null float64\n",
      "Pos          5492 non-null object\n",
      "Age          5492 non-null int64\n",
      "Tm           5492 non-null object\n",
      "G            5492 non-null int64\n",
      "MP           5492 non-null int64\n",
      "PER          5492 non-null float64\n",
      "TS.          5492 non-null float64\n",
      "X3PAr        5492 non-null float64\n",
      "FTr          5492 non-null float64\n",
      "ORB.         5492 non-null float64\n",
      "DRB.         5492 non-null float64\n",
      "TRB.         5492 non-null float64\n",
      "AST.         5492 non-null float64\n",
      "STL.         5492 non-null float64\n",
      "BLK.         5492 non-null float64\n",
      "TOV.         5492 non-null float64\n",
      "USG.         5492 non-null float64\n",
      "OWS          5492 non-null float64\n",
      "DWS          5492 non-null float64\n",
      "WS           5492 non-null float64\n",
      "WS.48        5492 non-null float64\n",
      "OBPM         5492 non-null float64\n",
      "DBPM         5492 non-null float64\n",
      "BPM          5492 non-null float64\n",
      "VORP         5492 non-null float64\n",
      "Team.Wins    5492 non-null int64\n",
      "dtypes: bool(1), float64(21), int64(7), object(3)\n",
      "memory usage: 1.3+ MB\n"
     ]
    }
   ],
   "source": [
    "adv.info()"
   ]
  },
  {
   "cell_type": "code",
   "execution_count": 23,
   "metadata": {},
   "outputs": [
    {
     "data": {
      "text/html": [
       "<div>\n",
       "<style scoped>\n",
       "    .dataframe tbody tr th:only-of-type {\n",
       "        vertical-align: middle;\n",
       "    }\n",
       "\n",
       "    .dataframe tbody tr th {\n",
       "        vertical-align: top;\n",
       "    }\n",
       "\n",
       "    .dataframe thead th {\n",
       "        text-align: right;\n",
       "    }\n",
       "</style>\n",
       "<table border=\"1\" class=\"dataframe\">\n",
       "  <thead>\n",
       "    <tr style=\"text-align: right;\">\n",
       "      <th></th>\n",
       "      <th>Rk</th>\n",
       "      <th>Season</th>\n",
       "      <th>First</th>\n",
       "      <th>Share</th>\n",
       "      <th>Age</th>\n",
       "      <th>G</th>\n",
       "      <th>GS</th>\n",
       "      <th>MP</th>\n",
       "      <th>FG</th>\n",
       "      <th>FGA</th>\n",
       "      <th>...</th>\n",
       "      <th>ORB</th>\n",
       "      <th>DRB</th>\n",
       "      <th>TRB</th>\n",
       "      <th>AST</th>\n",
       "      <th>STL</th>\n",
       "      <th>BLK</th>\n",
       "      <th>TOV</th>\n",
       "      <th>PF</th>\n",
       "      <th>PTS</th>\n",
       "      <th>Team.Wins</th>\n",
       "    </tr>\n",
       "  </thead>\n",
       "  <tbody>\n",
       "    <tr>\n",
       "      <th>count</th>\n",
       "      <td>4990.000000</td>\n",
       "      <td>4990.000000</td>\n",
       "      <td>4990.000000</td>\n",
       "      <td>4990.000000</td>\n",
       "      <td>4990.000000</td>\n",
       "      <td>4990.000000</td>\n",
       "      <td>4990.000000</td>\n",
       "      <td>4990.000000</td>\n",
       "      <td>4990.000000</td>\n",
       "      <td>4990.000000</td>\n",
       "      <td>...</td>\n",
       "      <td>4990.000000</td>\n",
       "      <td>4990.000000</td>\n",
       "      <td>4990.000000</td>\n",
       "      <td>4990.00000</td>\n",
       "      <td>4990.000000</td>\n",
       "      <td>4990.000000</td>\n",
       "      <td>4990.000000</td>\n",
       "      <td>4990.000000</td>\n",
       "      <td>4990.000000</td>\n",
       "      <td>4990.000000</td>\n",
       "    </tr>\n",
       "    <tr>\n",
       "      <th>mean</th>\n",
       "      <td>229.965932</td>\n",
       "      <td>2009.192786</td>\n",
       "      <td>0.451703</td>\n",
       "      <td>0.009675</td>\n",
       "      <td>26.672545</td>\n",
       "      <td>69.122445</td>\n",
       "      <td>37.928858</td>\n",
       "      <td>1773.576754</td>\n",
       "      <td>278.500200</td>\n",
       "      <td>615.485371</td>\n",
       "      <td>...</td>\n",
       "      <td>76.905611</td>\n",
       "      <td>223.422044</td>\n",
       "      <td>300.327655</td>\n",
       "      <td>167.25491</td>\n",
       "      <td>57.190982</td>\n",
       "      <td>33.597395</td>\n",
       "      <td>102.419439</td>\n",
       "      <td>148.395190</td>\n",
       "      <td>748.169138</td>\n",
       "      <td>41.054709</td>\n",
       "    </tr>\n",
       "    <tr>\n",
       "      <th>std</th>\n",
       "      <td>133.649957</td>\n",
       "      <td>5.522391</td>\n",
       "      <td>6.147611</td>\n",
       "      <td>0.076238</td>\n",
       "      <td>4.279355</td>\n",
       "      <td>11.264902</td>\n",
       "      <td>30.342601</td>\n",
       "      <td>725.754377</td>\n",
       "      <td>165.930101</td>\n",
       "      <td>352.678682</td>\n",
       "      <td>...</td>\n",
       "      <td>63.113410</td>\n",
       "      <td>138.060901</td>\n",
       "      <td>191.633377</td>\n",
       "      <td>144.47425</td>\n",
       "      <td>33.418065</td>\n",
       "      <td>37.088157</td>\n",
       "      <td>60.937746</td>\n",
       "      <td>57.635174</td>\n",
       "      <td>458.103443</td>\n",
       "      <td>12.456427</td>\n",
       "    </tr>\n",
       "    <tr>\n",
       "      <th>min</th>\n",
       "      <td>1.000000</td>\n",
       "      <td>2000.000000</td>\n",
       "      <td>0.000000</td>\n",
       "      <td>0.000000</td>\n",
       "      <td>19.000000</td>\n",
       "      <td>42.000000</td>\n",
       "      <td>0.000000</td>\n",
       "      <td>224.000000</td>\n",
       "      <td>10.000000</td>\n",
       "      <td>34.000000</td>\n",
       "      <td>...</td>\n",
       "      <td>1.000000</td>\n",
       "      <td>9.000000</td>\n",
       "      <td>16.000000</td>\n",
       "      <td>2.00000</td>\n",
       "      <td>3.000000</td>\n",
       "      <td>0.000000</td>\n",
       "      <td>2.000000</td>\n",
       "      <td>11.000000</td>\n",
       "      <td>29.000000</td>\n",
       "      <td>7.000000</td>\n",
       "    </tr>\n",
       "    <tr>\n",
       "      <th>25%</th>\n",
       "      <td>116.000000</td>\n",
       "      <td>2004.000000</td>\n",
       "      <td>0.000000</td>\n",
       "      <td>0.000000</td>\n",
       "      <td>23.000000</td>\n",
       "      <td>61.000000</td>\n",
       "      <td>7.000000</td>\n",
       "      <td>1206.000000</td>\n",
       "      <td>148.000000</td>\n",
       "      <td>340.000000</td>\n",
       "      <td>...</td>\n",
       "      <td>30.000000</td>\n",
       "      <td>124.000000</td>\n",
       "      <td>159.000000</td>\n",
       "      <td>65.00000</td>\n",
       "      <td>32.000000</td>\n",
       "      <td>10.000000</td>\n",
       "      <td>56.000000</td>\n",
       "      <td>105.000000</td>\n",
       "      <td>395.250000</td>\n",
       "      <td>32.000000</td>\n",
       "    </tr>\n",
       "    <tr>\n",
       "      <th>50%</th>\n",
       "      <td>227.000000</td>\n",
       "      <td>2009.000000</td>\n",
       "      <td>0.000000</td>\n",
       "      <td>0.000000</td>\n",
       "      <td>26.000000</td>\n",
       "      <td>72.000000</td>\n",
       "      <td>35.000000</td>\n",
       "      <td>1765.000000</td>\n",
       "      <td>247.000000</td>\n",
       "      <td>555.000000</td>\n",
       "      <td>...</td>\n",
       "      <td>56.000000</td>\n",
       "      <td>192.000000</td>\n",
       "      <td>254.000000</td>\n",
       "      <td>123.00000</td>\n",
       "      <td>50.000000</td>\n",
       "      <td>21.000000</td>\n",
       "      <td>90.000000</td>\n",
       "      <td>146.000000</td>\n",
       "      <td>656.500000</td>\n",
       "      <td>42.000000</td>\n",
       "    </tr>\n",
       "    <tr>\n",
       "      <th>75%</th>\n",
       "      <td>344.000000</td>\n",
       "      <td>2014.000000</td>\n",
       "      <td>0.000000</td>\n",
       "      <td>0.000000</td>\n",
       "      <td>30.000000</td>\n",
       "      <td>79.000000</td>\n",
       "      <td>69.000000</td>\n",
       "      <td>2336.000000</td>\n",
       "      <td>378.000000</td>\n",
       "      <td>829.000000</td>\n",
       "      <td>...</td>\n",
       "      <td>105.000000</td>\n",
       "      <td>289.000000</td>\n",
       "      <td>391.000000</td>\n",
       "      <td>222.00000</td>\n",
       "      <td>76.000000</td>\n",
       "      <td>42.000000</td>\n",
       "      <td>138.000000</td>\n",
       "      <td>189.000000</td>\n",
       "      <td>1012.000000</td>\n",
       "      <td>50.000000</td>\n",
       "    </tr>\n",
       "    <tr>\n",
       "      <th>max</th>\n",
       "      <td>540.000000</td>\n",
       "      <td>2018.000000</td>\n",
       "      <td>131.000000</td>\n",
       "      <td>1.000000</td>\n",
       "      <td>41.000000</td>\n",
       "      <td>82.000000</td>\n",
       "      <td>82.000000</td>\n",
       "      <td>3485.000000</td>\n",
       "      <td>978.000000</td>\n",
       "      <td>2173.000000</td>\n",
       "      <td>...</td>\n",
       "      <td>440.000000</td>\n",
       "      <td>894.000000</td>\n",
       "      <td>1247.000000</td>\n",
       "      <td>925.00000</td>\n",
       "      <td>225.000000</td>\n",
       "      <td>294.000000</td>\n",
       "      <td>464.000000</td>\n",
       "      <td>371.000000</td>\n",
       "      <td>2832.000000</td>\n",
       "      <td>73.000000</td>\n",
       "    </tr>\n",
       "  </tbody>\n",
       "</table>\n",
       "<p>8 rows × 31 columns</p>\n",
       "</div>"
      ],
      "text/plain": [
       "                Rk       Season        First        Share          Age  \\\n",
       "count  4990.000000  4990.000000  4990.000000  4990.000000  4990.000000   \n",
       "mean    229.965932  2009.192786     0.451703     0.009675    26.672545   \n",
       "std     133.649957     5.522391     6.147611     0.076238     4.279355   \n",
       "min       1.000000  2000.000000     0.000000     0.000000    19.000000   \n",
       "25%     116.000000  2004.000000     0.000000     0.000000    23.000000   \n",
       "50%     227.000000  2009.000000     0.000000     0.000000    26.000000   \n",
       "75%     344.000000  2014.000000     0.000000     0.000000    30.000000   \n",
       "max     540.000000  2018.000000   131.000000     1.000000    41.000000   \n",
       "\n",
       "                 G           GS           MP           FG          FGA  ...  \\\n",
       "count  4990.000000  4990.000000  4990.000000  4990.000000  4990.000000  ...   \n",
       "mean     69.122445    37.928858  1773.576754   278.500200   615.485371  ...   \n",
       "std      11.264902    30.342601   725.754377   165.930101   352.678682  ...   \n",
       "min      42.000000     0.000000   224.000000    10.000000    34.000000  ...   \n",
       "25%      61.000000     7.000000  1206.000000   148.000000   340.000000  ...   \n",
       "50%      72.000000    35.000000  1765.000000   247.000000   555.000000  ...   \n",
       "75%      79.000000    69.000000  2336.000000   378.000000   829.000000  ...   \n",
       "max      82.000000    82.000000  3485.000000   978.000000  2173.000000  ...   \n",
       "\n",
       "               ORB          DRB          TRB         AST          STL  \\\n",
       "count  4990.000000  4990.000000  4990.000000  4990.00000  4990.000000   \n",
       "mean     76.905611   223.422044   300.327655   167.25491    57.190982   \n",
       "std      63.113410   138.060901   191.633377   144.47425    33.418065   \n",
       "min       1.000000     9.000000    16.000000     2.00000     3.000000   \n",
       "25%      30.000000   124.000000   159.000000    65.00000    32.000000   \n",
       "50%      56.000000   192.000000   254.000000   123.00000    50.000000   \n",
       "75%     105.000000   289.000000   391.000000   222.00000    76.000000   \n",
       "max     440.000000   894.000000  1247.000000   925.00000   225.000000   \n",
       "\n",
       "               BLK          TOV           PF          PTS    Team.Wins  \n",
       "count  4990.000000  4990.000000  4990.000000  4990.000000  4990.000000  \n",
       "mean     33.597395   102.419439   148.395190   748.169138    41.054709  \n",
       "std      37.088157    60.937746    57.635174   458.103443    12.456427  \n",
       "min       0.000000     2.000000    11.000000    29.000000     7.000000  \n",
       "25%      10.000000    56.000000   105.000000   395.250000    32.000000  \n",
       "50%      21.000000    90.000000   146.000000   656.500000    42.000000  \n",
       "75%      42.000000   138.000000   189.000000  1012.000000    50.000000  \n",
       "max     294.000000   464.000000   371.000000  2832.000000    73.000000  \n",
       "\n",
       "[8 rows x 31 columns]"
      ]
     },
     "execution_count": 23,
     "metadata": {},
     "output_type": "execute_result"
    }
   ],
   "source": [
    "tot.describe()"
   ]
  },
  {
   "cell_type": "code",
   "execution_count": 25,
   "metadata": {},
   "outputs": [],
   "source": [
    "new = pd.merge(adv, tot, on=['Season', 'Player', 'Rk'])"
   ]
  },
  {
   "cell_type": "code",
   "execution_count": 105,
   "metadata": {},
   "outputs": [],
   "source": [
    "tol_2019 = pd.read_html('https://www.basketball-reference.com/leagues/NBA_2019_totals.html')[0]"
   ]
  },
  {
   "cell_type": "code",
   "execution_count": 95,
   "metadata": {},
   "outputs": [],
   "source": [
    "adv_2019 = pd.read_html('https://www.basketball-reference.com/leagues/NBA_2019_advanced.html')[0]"
   ]
  },
  {
   "cell_type": "code",
   "execution_count": 82,
   "metadata": {},
   "outputs": [],
   "source": [
    "cols = ['Age', 'Tm', 'G', 'MP', 'PER', 'TS%', '3PAr', 'FTr', 'ORB%', 'DRB%', 'TRB%', 'AST%', 'STL%', 'BLK%', 'TOV%', 'USG%', ]"
   ]
  },
  {
   "cell_type": "code",
   "execution_count": 113,
   "metadata": {},
   "outputs": [
    {
     "data": {
      "text/plain": [
       "Index(['Rk', 'Player', 'Pos', 'Age', 'Tm', 'G', 'MP', 'PER', 'TS%', '3PAr',\n",
       "       'FTr', 'ORB%', 'DRB%', 'TRB%', 'AST%', 'STL%', 'BLK%', 'TOV%', 'USG%',\n",
       "       'OWS', 'DWS', 'WS', 'WS/48', 'OBPM', 'DBPM', 'BPM', 'VORP'],\n",
       "      dtype='object')"
      ]
     },
     "execution_count": 113,
     "metadata": {},
     "output_type": "execute_result"
    }
   ],
   "source": [
    "adv_2019.columns"
   ]
  },
  {
   "cell_type": "code",
   "execution_count": 114,
   "metadata": {},
   "outputs": [
    {
     "data": {
      "text/plain": [
       "Index(['Rk', 'Player', 'Pos', 'Age', 'Tm', 'G', 'GS', 'MP', 'FG', 'FGA', 'FG%',\n",
       "       '3P', '3PA', '3P%', '2P', '2PA', '2P%', 'eFG%', 'FT', 'FTA', 'FT%',\n",
       "       'ORB', 'DRB', 'TRB', 'AST', 'STL', 'BLK', 'TOV', 'PF', 'PTS'],\n",
       "      dtype='object')"
      ]
     },
     "execution_count": 114,
     "metadata": {},
     "output_type": "execute_result"
    }
   ],
   "source": [
    "tol_2019.columns"
   ]
  },
  {
   "cell_type": "code",
   "execution_count": 109,
   "metadata": {},
   "outputs": [],
   "source": [
    "for col in tol_2019.columns:\n",
    "    tol_2019[col] = tol_2019[col].astype('float64', errors='ignore')"
   ]
  },
  {
   "cell_type": "code",
   "execution_count": 120,
   "metadata": {},
   "outputs": [],
   "source": [
    "new_2019['Season'] = 2019"
   ]
  },
  {
   "cell_type": "code",
   "execution_count": 137,
   "metadata": {},
   "outputs": [
    {
     "data": {
      "text/plain": [
       "Index(['Rk', 'Player', 'Pos', 'Age', 'Tm', 'G', 'MP', 'PER', 'TS%', '3PAr',\n",
       "       'FTr', 'ORB%', 'DRB%', 'TRB%', 'AST%', 'STL%', 'BLK%', 'TOV%', 'USG%',\n",
       "       'OWS', 'DWS', 'WS', 'WS/48', 'OBPM', 'DBPM', 'BPM', 'VORP', 'FG', 'FGA',\n",
       "       'FG%', '3P', '3PA', '3P%', '2P', '2PA', '2P%', 'eFG%', 'FT', 'FTA',\n",
       "       'FT%', 'ORB', 'DRB', 'TRB', 'AST', 'STL', 'BLK', 'TOV', 'PF', 'PTS',\n",
       "       'Season', 'Share', 'Win_PCT'],\n",
       "      dtype='object')"
      ]
     },
     "execution_count": 137,
     "metadata": {},
     "output_type": "execute_result"
    }
   ],
   "source": [
    "new_2019.columns"
   ]
  },
  {
   "cell_type": "code",
   "execution_count": 123,
   "metadata": {},
   "outputs": [],
   "source": [
    "new_2019 = new_2019.drop(['Age_y', 'Tm_y', 'G_y', 'GS', 'MP_y'], axis=1)"
   ]
  },
  {
   "cell_type": "code",
   "execution_count": 128,
   "metadata": {},
   "outputs": [],
   "source": [
    "new_2019.rename(columns={\"Tm_x\": \"Tm\"}, inplace=True)"
   ]
  },
  {
   "cell_type": "code",
   "execution_count": 131,
   "metadata": {},
   "outputs": [],
   "source": [
    "import json\n",
    "with open('../JSON/MVP/MVP_2019.json', 'r') as loadFile:\n",
    "    mvp = pd.DataFrame(json.load(loadFile))"
   ]
  },
  {
   "cell_type": "code",
   "execution_count": 132,
   "metadata": {},
   "outputs": [],
   "source": [
    "win_map = {\n",
    "  'MIL': 60,\n",
    "  'TOR': 58,\n",
    "  'PHI': 51,\n",
    "  'BOS': 49,\n",
    "  'IND': 48,\n",
    "  'BRK': 42,\n",
    "  'ORL': 42,\n",
    "  'DET': 41,\n",
    "  'CHO': 39,\n",
    "  'MIA': 39,\n",
    "  'WAS': 32,\n",
    "  'ATL': 29,\n",
    "  'CHI': 22,\n",
    "  'CLE': 19,\n",
    "  'NYK': 17,\n",
    "  'GSW': 57,\n",
    "  'DEN': 54,\n",
    "  'POR': 53,\n",
    "  'HOU': 53,\n",
    "  'UTA': 50,\n",
    "  'OKC': 49,\n",
    "  'SAS': 48,\n",
    "  'LAC': 48,\n",
    "  'SAC': 39,\n",
    "  'LAL': 37,\n",
    "  'MIN': 36,\n",
    "  'MEM': 33,\n",
    "  'NOP': 33,\n",
    "  'DAL': 33,\n",
    "  'PHO': 19\n",
    "}"
   ]
  },
  {
   "cell_type": "code",
   "execution_count": 133,
   "metadata": {},
   "outputs": [],
   "source": [
    "new_2019['Share'] = 0\n",
    "for mvp_index, mvp_row in mvp.iterrows():\n",
    "    for data_index, data_row in new_2019.iterrows():\n",
    "        if mvp_row['Player'] == data_row['Player']:\n",
    "            new_2019.loc[data_index, 'Share'] = mvp_row['Share']"
   ]
  },
  {
   "cell_type": "code",
   "execution_count": 135,
   "metadata": {},
   "outputs": [],
   "source": [
    "new_2019['Win_PCT'] = new_2019['Tm'].map(win_map)\n",
    "new_2019['Win_PCT'].fillna(value=33, inplace=True)"
   ]
  },
  {
   "cell_type": "code",
   "execution_count": 160,
   "metadata": {
    "scrolled": true
   },
   "outputs": [
    {
     "data": {
      "text/plain": [
       "Index(['Player', 'Season', 'Pos', 'Age', 'Tm', 'G', 'MP', 'FG', 'FGA', 'FG%',\n",
       "       '3P', '3PA', '3P%', '2P', '2PA', '2P%', 'eFG%', 'FT', 'FTA', 'FT%',\n",
       "       'ORB', 'DRB', 'TRB', 'AST', 'STL', 'BLK', 'TOV', 'PF', 'PTS', 'PER',\n",
       "       'TS%', '3PAr', 'FTr', 'ORB%', 'DRB%', 'TRB%', 'AST%', 'STL%', 'BLK%',\n",
       "       'VORP', 'Win_PCT', 'Share'],\n",
       "      dtype='object')"
      ]
     },
     "execution_count": 160,
     "metadata": {},
     "output_type": "execute_result"
    }
   ],
   "source": [
    "new.columns"
   ]
  },
  {
   "cell_type": "code",
   "execution_count": 161,
   "metadata": {},
   "outputs": [
    {
     "data": {
      "text/plain": [
       "Index(['Player', 'Season', 'Pos', 'Age', 'Tm', 'G', 'MP', 'FG', 'FGA', 'FG%',\n",
       "       '3P', '3PA', '3P%', '2P', '2PA', '2P%', 'eFG%', 'FT', 'FTA', 'FT%',\n",
       "       'ORB', 'DRB', 'TRB', 'AST', 'STL', 'BLK', 'TOV', 'PF', 'PTS', 'PER',\n",
       "       'TS%', '3PAr', 'FTr', 'ORB%', 'DRB%', 'TRB%', 'AST%', 'STL%', 'BLK%',\n",
       "       'VORP', 'Win_PCT', 'Share'],\n",
       "      dtype='object')"
      ]
     },
     "execution_count": 161,
     "metadata": {},
     "output_type": "execute_result"
    }
   ],
   "source": [
    "new_2019.columns"
   ]
  },
  {
   "cell_type": "code",
   "execution_count": 158,
   "metadata": {},
   "outputs": [],
   "source": [
    "cols = ['Player', 'Season', 'Pos', 'Age', 'Tm', 'G', 'MP', 'FG', 'FGA', 'FG%', '3P', '3PA', '3P%', '2P', '2PA',\n",
    "       '2P%', 'eFG%', 'FT', 'FTA', 'FT%', 'ORB', 'DRB', 'TRB', 'AST', 'STL', 'BLK', 'TOV', 'PF', 'PTS',\n",
    "       'PER', 'TS%', '3PAr', 'FTr', 'ORB%', 'DRB%', 'TRB%', 'AST%', 'STL%', 'BLK%', 'VORP', 'Win_PCT', 'Share']"
   ]
  },
  {
   "cell_type": "code",
   "execution_count": 156,
   "metadata": {},
   "outputs": [],
   "source": [
    "new.rename(columns={'MP_x': 'MP'}, inplace=True)"
   ]
  },
  {
   "cell_type": "code",
   "execution_count": 159,
   "metadata": {},
   "outputs": [],
   "source": [
    "new = new[cols]\n",
    "new_2019 = new_2019[cols]"
   ]
  },
  {
   "cell_type": "code",
   "execution_count": 166,
   "metadata": {},
   "outputs": [],
   "source": [
    "frame = [new, new_2019]\n",
    "result = pd.concat(frame)"
   ]
  },
  {
   "cell_type": "code",
   "execution_count": 169,
   "metadata": {},
   "outputs": [
    {
     "data": {
      "text/plain": [
       "Player     0\n",
       "Season     0\n",
       "Pos        0\n",
       "Age        0\n",
       "Tm         0\n",
       "G          0\n",
       "MP         0\n",
       "FG         0\n",
       "FGA        0\n",
       "FG%        0\n",
       "3P         0\n",
       "3PA        0\n",
       "3P%        0\n",
       "2P         0\n",
       "2PA        0\n",
       "2P%        0\n",
       "eFG%       0\n",
       "FT         0\n",
       "FTA        0\n",
       "FT%        0\n",
       "ORB        0\n",
       "DRB        0\n",
       "TRB        0\n",
       "AST        0\n",
       "STL        0\n",
       "BLK        0\n",
       "TOV        0\n",
       "PF         0\n",
       "PTS        0\n",
       "PER        0\n",
       "TS%        0\n",
       "3PAr       0\n",
       "FTr        0\n",
       "ORB%       0\n",
       "DRB%       0\n",
       "TRB%       0\n",
       "AST%       0\n",
       "STL%       0\n",
       "BLK%       0\n",
       "VORP       0\n",
       "Win_PCT    0\n",
       "Share      0\n",
       "dtype: int64"
      ]
     },
     "execution_count": 169,
     "metadata": {},
     "output_type": "execute_result"
    }
   ],
   "source": [
    "result.isna().sum()"
   ]
  },
  {
   "cell_type": "code",
   "execution_count": 165,
   "metadata": {},
   "outputs": [],
   "source": [
    "new_2019.drop_duplicates(subset=['Player', 'Age'], keep='first', inplace=True)"
   ]
  },
  {
   "cell_type": "code",
   "execution_count": 170,
   "metadata": {},
   "outputs": [],
   "source": [
    "with open('../JSON/new_mvp.json', 'w') as file_object:\n",
    "            data = result.to_dict()\n",
    "            json.dump(data, file_object)"
   ]
  },
  {
   "cell_type": "code",
   "execution_count": null,
   "metadata": {},
   "outputs": [],
   "source": []
  }
 ],
 "metadata": {
  "kernelspec": {
   "display_name": "Python 3",
   "language": "python",
   "name": "python3"
  },
  "language_info": {
   "codemirror_mode": {
    "name": "ipython",
    "version": 3
   },
   "file_extension": ".py",
   "mimetype": "text/x-python",
   "name": "python",
   "nbconvert_exporter": "python",
   "pygments_lexer": "ipython3",
   "version": "3.7.3"
  }
 },
 "nbformat": 4,
 "nbformat_minor": 2
}

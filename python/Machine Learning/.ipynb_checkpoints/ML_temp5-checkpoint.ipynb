{
 "cells": [
  {
   "cell_type": "code",
   "execution_count": 1,
   "metadata": {},
   "outputs": [],
   "source": [
    "import json\n",
    "import pandas as pd\n",
    "import numpy as np\n",
    "import matplotlib.pyplot as plt"
   ]
  },
  {
   "cell_type": "code",
   "execution_count": 26,
   "metadata": {},
   "outputs": [],
   "source": [
    "with open('../JSON/new_mvp_final.json', 'r') as loadFile:\n",
    "    data =  pd.DataFrame(json.load(loadFile))"
   ]
  },
  {
   "cell_type": "code",
   "execution_count": 27,
   "metadata": {},
   "outputs": [],
   "source": [
    "data = data[data['Share'] != 0]"
   ]
  },
  {
   "cell_type": "code",
   "execution_count": 33,
   "metadata": {},
   "outputs": [
    {
     "data": {
      "text/html": [
       "<div>\n",
       "<style scoped>\n",
       "    .dataframe tbody tr th:only-of-type {\n",
       "        vertical-align: middle;\n",
       "    }\n",
       "\n",
       "    .dataframe tbody tr th {\n",
       "        vertical-align: top;\n",
       "    }\n",
       "\n",
       "    .dataframe thead th {\n",
       "        text-align: right;\n",
       "    }\n",
       "</style>\n",
       "<table border=\"1\" class=\"dataframe\">\n",
       "  <thead>\n",
       "    <tr style=\"text-align: right;\">\n",
       "      <th></th>\n",
       "      <th>Player</th>\n",
       "      <th>Pos</th>\n",
       "      <th>Age</th>\n",
       "      <th>Tm</th>\n",
       "      <th>G</th>\n",
       "      <th>GS</th>\n",
       "      <th>MP</th>\n",
       "      <th>FG</th>\n",
       "      <th>FGA</th>\n",
       "      <th>FG%</th>\n",
       "      <th>...</th>\n",
       "      <th>DWS</th>\n",
       "      <th>WS</th>\n",
       "      <th>WS/48</th>\n",
       "      <th>OBPM</th>\n",
       "      <th>DBPM</th>\n",
       "      <th>BPM</th>\n",
       "      <th>VORP</th>\n",
       "      <th>MVP_Season</th>\n",
       "      <th>Share</th>\n",
       "      <th>Season</th>\n",
       "    </tr>\n",
       "  </thead>\n",
       "  <tbody>\n",
       "    <tr>\n",
       "      <th>11</th>\n",
       "      <td>LeBron James</td>\n",
       "      <td>SF</td>\n",
       "      <td>24</td>\n",
       "      <td>CLE</td>\n",
       "      <td>81.0</td>\n",
       "      <td>81.0</td>\n",
       "      <td>37.7</td>\n",
       "      <td>9.7</td>\n",
       "      <td>19.9</td>\n",
       "      <td>0.489</td>\n",
       "      <td>...</td>\n",
       "      <td>6.5</td>\n",
       "      <td>20.3</td>\n",
       "      <td>0.318</td>\n",
       "      <td>9.4</td>\n",
       "      <td>3.6</td>\n",
       "      <td>13.0</td>\n",
       "      <td>11.6</td>\n",
       "      <td>2010</td>\n",
       "      <td>0.980</td>\n",
       "      <td>2010</td>\n",
       "    </tr>\n",
       "    <tr>\n",
       "      <th>59</th>\n",
       "      <td>Kevin Durant</td>\n",
       "      <td>SF</td>\n",
       "      <td>20</td>\n",
       "      <td>OKC</td>\n",
       "      <td>74.0</td>\n",
       "      <td>74.0</td>\n",
       "      <td>39.0</td>\n",
       "      <td>8.9</td>\n",
       "      <td>18.8</td>\n",
       "      <td>0.476</td>\n",
       "      <td>...</td>\n",
       "      <td>2.7</td>\n",
       "      <td>7.9</td>\n",
       "      <td>0.132</td>\n",
       "      <td>2.2</td>\n",
       "      <td>-0.5</td>\n",
       "      <td>1.8</td>\n",
       "      <td>2.8</td>\n",
       "      <td>2010</td>\n",
       "      <td>0.495</td>\n",
       "      <td>2010</td>\n",
       "    </tr>\n",
       "    <tr>\n",
       "      <th>98</th>\n",
       "      <td>Kobe Bryant</td>\n",
       "      <td>SG</td>\n",
       "      <td>30</td>\n",
       "      <td>LAL</td>\n",
       "      <td>82.0</td>\n",
       "      <td>82.0</td>\n",
       "      <td>36.1</td>\n",
       "      <td>9.8</td>\n",
       "      <td>20.9</td>\n",
       "      <td>0.467</td>\n",
       "      <td>...</td>\n",
       "      <td>4.0</td>\n",
       "      <td>12.7</td>\n",
       "      <td>0.206</td>\n",
       "      <td>4.8</td>\n",
       "      <td>-0.2</td>\n",
       "      <td>4.5</td>\n",
       "      <td>4.9</td>\n",
       "      <td>2010</td>\n",
       "      <td>0.487</td>\n",
       "      <td>2010</td>\n",
       "    </tr>\n",
       "    <tr>\n",
       "      <th>1</th>\n",
       "      <td>Dwight Howard</td>\n",
       "      <td>C</td>\n",
       "      <td>23</td>\n",
       "      <td>ORL</td>\n",
       "      <td>79.0</td>\n",
       "      <td>79.0</td>\n",
       "      <td>35.7</td>\n",
       "      <td>7.1</td>\n",
       "      <td>12.4</td>\n",
       "      <td>0.572</td>\n",
       "      <td>...</td>\n",
       "      <td>7.6</td>\n",
       "      <td>13.8</td>\n",
       "      <td>0.234</td>\n",
       "      <td>0.1</td>\n",
       "      <td>4.3</td>\n",
       "      <td>4.4</td>\n",
       "      <td>4.6</td>\n",
       "      <td>2010</td>\n",
       "      <td>0.389</td>\n",
       "      <td>2010</td>\n",
       "    </tr>\n",
       "    <tr>\n",
       "      <th>81</th>\n",
       "      <td>Dwyane Wade</td>\n",
       "      <td>SG</td>\n",
       "      <td>27</td>\n",
       "      <td>MIA</td>\n",
       "      <td>79.0</td>\n",
       "      <td>79.0</td>\n",
       "      <td>38.6</td>\n",
       "      <td>10.8</td>\n",
       "      <td>22.0</td>\n",
       "      <td>0.491</td>\n",
       "      <td>...</td>\n",
       "      <td>4.4</td>\n",
       "      <td>14.7</td>\n",
       "      <td>0.232</td>\n",
       "      <td>8.7</td>\n",
       "      <td>2.0</td>\n",
       "      <td>10.7</td>\n",
       "      <td>9.7</td>\n",
       "      <td>2010</td>\n",
       "      <td>0.097</td>\n",
       "      <td>2010</td>\n",
       "    </tr>\n",
       "  </tbody>\n",
       "</table>\n",
       "<p>5 rows × 52 columns</p>\n",
       "</div>"
      ],
      "text/plain": [
       "           Player Pos  Age   Tm     G    GS    MP    FG   FGA    FG%  ...  \\\n",
       "11   LeBron James  SF   24  CLE  81.0  81.0  37.7   9.7  19.9  0.489  ...   \n",
       "59   Kevin Durant  SF   20  OKC  74.0  74.0  39.0   8.9  18.8  0.476  ...   \n",
       "98    Kobe Bryant  SG   30  LAL  82.0  82.0  36.1   9.8  20.9  0.467  ...   \n",
       "1   Dwight Howard   C   23  ORL  79.0  79.0  35.7   7.1  12.4  0.572  ...   \n",
       "81    Dwyane Wade  SG   27  MIA  79.0  79.0  38.6  10.8  22.0  0.491  ...   \n",
       "\n",
       "    DWS    WS  WS/48  OBPM  DBPM   BPM  VORP  MVP_Season  Share  Season  \n",
       "11  6.5  20.3  0.318   9.4   3.6  13.0  11.6        2010  0.980    2010  \n",
       "59  2.7   7.9  0.132   2.2  -0.5   1.8   2.8        2010  0.495    2010  \n",
       "98  4.0  12.7  0.206   4.8  -0.2   4.5   4.9        2010  0.487    2010  \n",
       "1   7.6  13.8  0.234   0.1   4.3   4.4   4.6        2010  0.389    2010  \n",
       "81  4.4  14.7  0.232   8.7   2.0  10.7   9.7        2010  0.097    2010  \n",
       "\n",
       "[5 rows x 52 columns]"
      ]
     },
     "execution_count": 33,
     "metadata": {},
     "output_type": "execute_result"
    }
   ],
   "source": [
    "# data = data.reset_index(drop=True)\n",
    "data = data.sort_values(['MVP_Season', 'Share'], ascending=[True, False])\n",
    "data.head()"
   ]
  },
  {
   "cell_type": "code",
   "execution_count": 34,
   "metadata": {},
   "outputs": [
    {
     "data": {
      "text/plain": [
       "Index(['Player', 'Pos', 'Age', 'Tm', 'G', 'GS', 'MP', 'FG', 'FGA', 'FG%', '3P',\n",
       "       '3PA', '3P%', '2P', '2PA', '2P%', 'eFG%', 'FT', 'FTA', 'FT%', 'ORB',\n",
       "       'DRB', 'TRB', 'AST', 'STL', 'BLK', 'TOV', 'PF', 'PTS', 'PER', 'TS%',\n",
       "       '3PAr', 'FTr', 'ORB%', 'DRB%', 'TRB%', 'AST%', 'STL%', 'BLK%', 'TOV%',\n",
       "       'USG%', 'OWS', 'DWS', 'WS', 'WS/48', 'OBPM', 'DBPM', 'BPM', 'VORP',\n",
       "       'MVP_Season', 'Share', 'Season'],\n",
       "      dtype='object')"
      ]
     },
     "execution_count": 34,
     "metadata": {},
     "output_type": "execute_result"
    }
   ],
   "source": [
    "data.columns"
   ]
  },
  {
   "cell_type": "code",
   "execution_count": 79,
   "metadata": {},
   "outputs": [],
   "source": [
    "X = data[['TS%', 'BPM', 'MP', 'PTS', 'TRB', 'AST', 'STL', 'BLK', 'WS']].to_numpy()\n",
    "y = data['Share'].to_numpy()\n",
    "y = y.reshape(y.shape[0], )"
   ]
  },
  {
   "cell_type": "code",
   "execution_count": 57,
   "metadata": {},
   "outputs": [],
   "source": [
    "from sklearn.model_selection import train_test_split\n",
    "\n",
    "X_train, X_valid, y_train, y_valid = train_test_split(X, y, test_size=0.2, random_state=42)"
   ]
  },
  {
   "cell_type": "markdown",
   "metadata": {},
   "source": [
    "## K-fold"
   ]
  },
  {
   "cell_type": "code",
   "execution_count": 91,
   "metadata": {},
   "outputs": [
    {
     "ename": "ValueError",
     "evalue": "Found input variables with inconsistent numbers of samples: [131, 131, 10]",
     "output_type": "error",
     "traceback": [
      "\u001b[1;31m---------------------------------------------------------------------------\u001b[0m",
      "\u001b[1;31mValueError\u001b[0m                                Traceback (most recent call last)",
      "\u001b[1;32m<ipython-input-91-8d15a396661b>\u001b[0m in \u001b[0;36m<module>\u001b[1;34m\u001b[0m\n\u001b[0;32m      1\u001b[0m \u001b[1;32mfrom\u001b[0m \u001b[0msklearn\u001b[0m\u001b[1;33m.\u001b[0m\u001b[0mmodel_selection\u001b[0m \u001b[1;32mimport\u001b[0m \u001b[0mGroupShuffleSplit\u001b[0m\u001b[1;33m\u001b[0m\u001b[1;33m\u001b[0m\u001b[0m\n\u001b[0;32m      2\u001b[0m \u001b[0mgss\u001b[0m \u001b[1;33m=\u001b[0m \u001b[0mGroupShuffleSplit\u001b[0m\u001b[1;33m(\u001b[0m\u001b[0mn_splits\u001b[0m\u001b[1;33m=\u001b[0m\u001b[1;36m1\u001b[0m\u001b[1;33m,\u001b[0m \u001b[0mtest_size\u001b[0m\u001b[1;33m=\u001b[0m\u001b[1;36m0.3\u001b[0m\u001b[1;33m,\u001b[0m \u001b[0mrandom_state\u001b[0m\u001b[1;33m=\u001b[0m\u001b[1;36m42\u001b[0m\u001b[1;33m)\u001b[0m\u001b[1;33m\u001b[0m\u001b[1;33m\u001b[0m\u001b[0m\n\u001b[1;32m----> 3\u001b[1;33m \u001b[0mtrain_dataset\u001b[0m\u001b[1;33m,\u001b[0m \u001b[0mtest_dataset\u001b[0m \u001b[1;33m=\u001b[0m \u001b[0mnext\u001b[0m\u001b[1;33m(\u001b[0m\u001b[0mgss\u001b[0m\u001b[1;33m.\u001b[0m\u001b[0msplit\u001b[0m\u001b[1;33m(\u001b[0m\u001b[0mX\u001b[0m\u001b[1;33m=\u001b[0m\u001b[0mX\u001b[0m\u001b[1;33m,\u001b[0m \u001b[0my\u001b[0m\u001b[1;33m=\u001b[0m\u001b[0my\u001b[0m\u001b[1;33m,\u001b[0m \u001b[0mgroups\u001b[0m\u001b[1;33m=\u001b[0m\u001b[0mdata\u001b[0m\u001b[1;33m.\u001b[0m\u001b[0mMVP_Season\u001b[0m\u001b[1;33m.\u001b[0m\u001b[0munique\u001b[0m\u001b[1;33m(\u001b[0m\u001b[1;33m)\u001b[0m\u001b[1;33m)\u001b[0m\u001b[1;33m)\u001b[0m\u001b[1;33m\u001b[0m\u001b[1;33m\u001b[0m\u001b[0m\n\u001b[0m\u001b[0;32m      4\u001b[0m \u001b[1;31m# scores = []\u001b[0m\u001b[1;33m\u001b[0m\u001b[1;33m\u001b[0m\u001b[1;33m\u001b[0m\u001b[0m\n\u001b[0;32m      5\u001b[0m \u001b[1;31m# for train_index, test_index in skf.split(X, y):\u001b[0m\u001b[1;33m\u001b[0m\u001b[1;33m\u001b[0m\u001b[1;33m\u001b[0m\u001b[0m\n",
      "\u001b[1;32m~\\Anaconda3\\lib\\site-packages\\sklearn\\model_selection\\_split.py\u001b[0m in \u001b[0;36msplit\u001b[1;34m(self, X, y, groups)\u001b[0m\n\u001b[0;32m   1312\u001b[0m         \u001b[0mto\u001b[0m \u001b[0man\u001b[0m \u001b[0minteger\u001b[0m\u001b[1;33m.\u001b[0m\u001b[1;33m\u001b[0m\u001b[1;33m\u001b[0m\u001b[0m\n\u001b[0;32m   1313\u001b[0m         \"\"\"\n\u001b[1;32m-> 1314\u001b[1;33m         \u001b[0mX\u001b[0m\u001b[1;33m,\u001b[0m \u001b[0my\u001b[0m\u001b[1;33m,\u001b[0m \u001b[0mgroups\u001b[0m \u001b[1;33m=\u001b[0m \u001b[0mindexable\u001b[0m\u001b[1;33m(\u001b[0m\u001b[0mX\u001b[0m\u001b[1;33m,\u001b[0m \u001b[0my\u001b[0m\u001b[1;33m,\u001b[0m \u001b[0mgroups\u001b[0m\u001b[1;33m)\u001b[0m\u001b[1;33m\u001b[0m\u001b[1;33m\u001b[0m\u001b[0m\n\u001b[0m\u001b[0;32m   1315\u001b[0m         \u001b[1;32mfor\u001b[0m \u001b[0mtrain\u001b[0m\u001b[1;33m,\u001b[0m \u001b[0mtest\u001b[0m \u001b[1;32min\u001b[0m \u001b[0mself\u001b[0m\u001b[1;33m.\u001b[0m\u001b[0m_iter_indices\u001b[0m\u001b[1;33m(\u001b[0m\u001b[0mX\u001b[0m\u001b[1;33m,\u001b[0m \u001b[0my\u001b[0m\u001b[1;33m,\u001b[0m \u001b[0mgroups\u001b[0m\u001b[1;33m)\u001b[0m\u001b[1;33m:\u001b[0m\u001b[1;33m\u001b[0m\u001b[1;33m\u001b[0m\u001b[0m\n\u001b[0;32m   1316\u001b[0m             \u001b[1;32myield\u001b[0m \u001b[0mtrain\u001b[0m\u001b[1;33m,\u001b[0m \u001b[0mtest\u001b[0m\u001b[1;33m\u001b[0m\u001b[1;33m\u001b[0m\u001b[0m\n",
      "\u001b[1;32m~\\Anaconda3\\lib\\site-packages\\sklearn\\utils\\validation.py\u001b[0m in \u001b[0;36mindexable\u001b[1;34m(*iterables)\u001b[0m\n\u001b[0;32m    258\u001b[0m         \u001b[1;32melse\u001b[0m\u001b[1;33m:\u001b[0m\u001b[1;33m\u001b[0m\u001b[1;33m\u001b[0m\u001b[0m\n\u001b[0;32m    259\u001b[0m             \u001b[0mresult\u001b[0m\u001b[1;33m.\u001b[0m\u001b[0mappend\u001b[0m\u001b[1;33m(\u001b[0m\u001b[0mnp\u001b[0m\u001b[1;33m.\u001b[0m\u001b[0marray\u001b[0m\u001b[1;33m(\u001b[0m\u001b[0mX\u001b[0m\u001b[1;33m)\u001b[0m\u001b[1;33m)\u001b[0m\u001b[1;33m\u001b[0m\u001b[1;33m\u001b[0m\u001b[0m\n\u001b[1;32m--> 260\u001b[1;33m     \u001b[0mcheck_consistent_length\u001b[0m\u001b[1;33m(\u001b[0m\u001b[1;33m*\u001b[0m\u001b[0mresult\u001b[0m\u001b[1;33m)\u001b[0m\u001b[1;33m\u001b[0m\u001b[1;33m\u001b[0m\u001b[0m\n\u001b[0m\u001b[0;32m    261\u001b[0m     \u001b[1;32mreturn\u001b[0m \u001b[0mresult\u001b[0m\u001b[1;33m\u001b[0m\u001b[1;33m\u001b[0m\u001b[0m\n\u001b[0;32m    262\u001b[0m \u001b[1;33m\u001b[0m\u001b[0m\n",
      "\u001b[1;32m~\\Anaconda3\\lib\\site-packages\\sklearn\\utils\\validation.py\u001b[0m in \u001b[0;36mcheck_consistent_length\u001b[1;34m(*arrays)\u001b[0m\n\u001b[0;32m    233\u001b[0m     \u001b[1;32mif\u001b[0m \u001b[0mlen\u001b[0m\u001b[1;33m(\u001b[0m\u001b[0muniques\u001b[0m\u001b[1;33m)\u001b[0m \u001b[1;33m>\u001b[0m \u001b[1;36m1\u001b[0m\u001b[1;33m:\u001b[0m\u001b[1;33m\u001b[0m\u001b[1;33m\u001b[0m\u001b[0m\n\u001b[0;32m    234\u001b[0m         raise ValueError(\"Found input variables with inconsistent numbers of\"\n\u001b[1;32m--> 235\u001b[1;33m                          \" samples: %r\" % [int(l) for l in lengths])\n\u001b[0m\u001b[0;32m    236\u001b[0m \u001b[1;33m\u001b[0m\u001b[0m\n\u001b[0;32m    237\u001b[0m \u001b[1;33m\u001b[0m\u001b[0m\n",
      "\u001b[1;31mValueError\u001b[0m: Found input variables with inconsistent numbers of samples: [131, 131, 10]"
     ]
    }
   ],
   "source": [
    "from sklearn.model_selection import GroupShuffleSplit\n",
    "gss = GroupShuffleSplit(n_splits=1, test_size=0.3, random_state=42)\n",
    "train_dataset, test_dataset = next(gss.split(X=X, y=y, groups=data.MVP_Season.unique()))\n",
    "# scores = []\n",
    "# for train_index, test_index in skf.split(X, y):\n",
    "#    print(\"TRAIN:\", train_index, \"TEST:\", test_index)\n",
    "#    X_train, X_test = X[train_index], X[test_index]\n",
    "#    y_train, y_test = y[train_index], y[test_index]\n",
    "for x in np.nditer(test_dataset.T):\n",
    "    rec = data.iloc[x]\n",
    "    print (rec)\n",
    "# for k, (train, test) in enumerate(skf):\n",
    "#     random.best_estimator_.fit(X[train], y[train])\n",
    "#     score = random.best_estimator_.score(X[test], y[test])\n",
    "#     scores.append(score)\n",
    "#     print('Fold: %, Class dist.: %s, Acc: %.3f' % (k+1, np.bincount(y[train]), score))"
   ]
  },
  {
   "cell_type": "markdown",
   "metadata": {},
   "source": [
    "# 計算準確率"
   ]
  },
  {
   "cell_type": "code",
   "execution_count": 65,
   "metadata": {},
   "outputs": [],
   "source": [
    "# Create function that gives accuracy scores for each model\n",
    "from sklearn.metrics import mean_squared_error, r2_score\n",
    "from sklearn.model_selection import cross_val_score\n",
    "\n",
    "def scores(y, model):\n",
    "    \n",
    "    model.fit(X_train, y_train)\n",
    "    y_pred = model.predict(X_valid)\n",
    "    \n",
    "    print(\"預測訓練 R2 score: %.3f\" % r2_score(y_train, model.predict(X_train)))\n",
    "    print(\"Mean squared error: %.3f\" % mean_squared_error(y_valid, y_pred))\n",
    "    print('R2 score: %.3f' % r2_score(y_valid, y_pred))\n",
    "\n",
    "    cvScore = cross_val_score(model, X_valid, y_valid, cv = 3, scoring = 'r2')\n",
    "    print(\"R2 cross validation score: %0.2f (+/- %0.2f)\" % (cvScore.mean(), cvScore.std() * 2))\n",
    "    \n",
    "    for i in y_pred:\n",
    "        y.append(i)"
   ]
  },
  {
   "cell_type": "markdown",
   "metadata": {},
   "source": [
    "# Models"
   ]
  },
  {
   "cell_type": "code",
   "execution_count": 40,
   "metadata": {},
   "outputs": [],
   "source": [
    "from sklearn.pipeline import Pipeline\n",
    "from sklearn.preprocessing import StandardScaler"
   ]
  },
  {
   "cell_type": "code",
   "execution_count": 131,
   "metadata": {
    "scrolled": true
   },
   "outputs": [
    {
     "name": "stdout",
     "output_type": "stream",
     "text": [
      "預測訓練 R2 score: 0.614\n",
      "Mean squared error: 0.065\n",
      "R2 score: 0.253\n",
      "R2 cross validation score: 0.23 (+/- 0.54)\n"
     ]
    }
   ],
   "source": [
    "from sklearn.svm import SVR\n",
    "\n",
    "svr = SVR(kernel='rbf', gamma='auto_deprecated', C=1, epsilon = 0.1112)\n",
    "\n",
    "pipe_svr = Pipeline([('scl', StandardScaler()),\n",
    "                    ('clf', svr)])\n",
    "\n",
    "y_svr = []\n",
    "\n",
    "scores(y_svr, pipe_svr)"
   ]
  },
  {
   "cell_type": "code",
   "execution_count": 132,
   "metadata": {
    "scrolled": true
   },
   "outputs": [
    {
     "name": "stdout",
     "output_type": "stream",
     "text": [
      "預測訓練 R2 score: 0.447\n",
      "Mean squared error: 0.051\n",
      "R2 score: 0.412\n",
      "R2 cross validation score: 0.23 (+/- 0.64)\n"
     ]
    }
   ],
   "source": [
    "from sklearn.ensemble import RandomForestRegressor\n",
    "rf = RandomForestRegressor(random_state=42, criterion='mse', bootstrap=True, max_features='auto', min_samples_split=3, min_samples_leaf=6, max_depth=None, n_estimators=15000, n_jobs=-1)\n",
    "\n",
    "y_rf = []\n",
    "\n",
    "scores(y_rf, rf)"
   ]
  },
  {
   "cell_type": "code",
   "execution_count": 133,
   "metadata": {
    "scrolled": true
   },
   "outputs": [
    {
     "name": "stdout",
     "output_type": "stream",
     "text": [
      "預測訓練 R2 score: 0.270\n",
      "Mean squared error: 0.050\n",
      "R2 score: 0.422\n",
      "R2 cross validation score: 0.43 (+/- 0.42)\n"
     ]
    }
   ],
   "source": [
    "from sklearn.neural_network import MLPRegressor\n",
    "\n",
    "dnn = MLPRegressor(\n",
    "    solver='lbfgs',\n",
    "    hidden_layer_sizes=100,\n",
    "    max_iter=10000,\n",
    "    random_state=987654321,\n",
    "    activation='identity',\n",
    "    learning_rate ='invscaling')\n",
    "\n",
    "pipe_dnn = Pipeline([('scl', StandardScaler()),\n",
    "                    ('clf', dnn)])\n",
    "\n",
    "\n",
    "y_dnn = []\n",
    "\n",
    "scores(y_dnn, pipe_dnn)"
   ]
  },
  {
   "cell_type": "markdown",
   "metadata": {},
   "source": [
    "# 查看特徵是否有影響"
   ]
  },
  {
   "cell_type": "code",
   "execution_count": 48,
   "metadata": {},
   "outputs": [
    {
     "name": "stderr",
     "output_type": "stream",
     "text": [
      "C:\\Users\\ying\\Anaconda3\\lib\\site-packages\\sklearn\\ensemble\\forest.py:246: FutureWarning: The default value of n_estimators will change from 10 in version 0.20 to 100 in 0.22.\n",
      "  \"10 in version 0.20 to 100 in 0.22.\", FutureWarning)\n"
     ]
    },
    {
     "name": "stdout",
     "output_type": "stream",
     "text": [
      "Features sorted by their score:\n",
      "[(3.4313, 'WS'), (0.8062, 'PTS'), (0.1544, 'MP'), (0.152, 'TRB'), (-0.0498, 'PF'), (-0.0598, 'TOV%'), (-0.1922, 'AST'), (-0.2143, 'Age')]\n"
     ]
    }
   ],
   "source": [
    "from sklearn.model_selection  import ShuffleSplit\n",
    "from sklearn.metrics import r2_score\n",
    "from collections import defaultdict\n",
    "\n",
    "X_temp = X.to_numpy()\n",
    "y_temp = data['Share'].to_numpy()\n",
    "names = X.columns\n",
    "rf = RandomForestRegressor()\n",
    "scores = defaultdict(list)\n",
    "\n",
    "rs = ShuffleSplit(X_temp.size, .3, .7)\n",
    "for train_idx, test_idx in rs.split(X_temp):\n",
    "    X_train_temp, X_test_temp = X_temp[train_idx], X_temp[test_idx]\n",
    "    Y_train_temp, Y_test_temp = y_temp[train_idx], y_temp[test_idx]\n",
    "    r = rf.fit(X_train_temp, Y_train_temp)\n",
    "    acc = r2_score(Y_test_temp, rf.predict(X_test_temp))\n",
    "    for i in range(X_temp.shape[1]):\n",
    "        X_t = X_test_temp.copy()\n",
    "        np.random.shuffle(X_t[:, i])\n",
    "        shuff_acc = r2_score(Y_test_temp, rf.predict(X_t))\n",
    "        scores[names[i]].append((acc-shuff_acc)/acc)\n",
    "print(\"Features sorted by their score:\")\n",
    "print(sorted([(round(np.mean(score), 4), feat) for feat, score in scores.items()], reverse=True))"
   ]
  },
  {
   "cell_type": "code",
   "execution_count": 74,
   "metadata": {},
   "outputs": [
    {
     "name": "stdout",
     "output_type": "stream",
     "text": [
      "預測訓練 R2 score: 0.434\n",
      "Mean squared error: 0.051\n",
      "R2 score: 0.410\n",
      "R2 cross validation score: 0.28 (+/- 0.50)\n"
     ]
    }
   ],
   "source": [
    "X = data[['WS', 'PTS', 'OWS', 'BPM', 'TRB', 'BLK', 'FTA', 'VORP']]\n",
    "X_train, X_valid, y_train, y_valid = train_test_split(X, y, test_size=0.3, random_state=42)"
   ]
  },
  {
   "cell_type": "code",
   "execution_count": 87,
   "metadata": {},
   "outputs": [
    {
     "name": "stdout",
     "output_type": "stream",
     "text": [
      "預測訓練 R2 score: 0.443\n",
      "Mean squared error: 0.052\n",
      "R2 score: 0.400\n",
      "R2 cross validation score: 0.24 (+/- 0.68)\n"
     ]
    }
   ],
   "source": [
    "X = data[['WS', 'PTS', 'OWS', 'BPM', 'TRB', 'FTA', 'VORP']]\n",
    "X_train, X_valid, y_train, y_valid = train_test_split(X, y, test_size=0.3, random_state=42)\n",
    "randomforest()"
   ]
  },
  {
   "cell_type": "markdown",
   "metadata": {},
   "source": [
    "## 調整參數"
   ]
  },
  {
   "cell_type": "code",
   "execution_count": 71,
   "metadata": {},
   "outputs": [],
   "source": [
    "from sklearn.model_selection import RandomizedSearchCV\n",
    "from sklearn.model_selection import GridSearchCV\n",
    "from pprint import pprint"
   ]
  },
  {
   "cell_type": "code",
   "execution_count": 63,
   "metadata": {},
   "outputs": [],
   "source": [
    "rf = RandomForestRegressor()"
   ]
  },
  {
   "cell_type": "code",
   "execution_count": 58,
   "metadata": {},
   "outputs": [],
   "source": [
    "n_estimators = [int(x) for x in np.linspace(start = 100, stop = 2000, num = 20)]\n",
    "max_depth = [int(x) for x in np.linspace(50, 5000, num = 10)]\n",
    "max_depth.append(None)\n",
    "min_samples_split =  [2, 3, 4]\n",
    "min_samples_leaf = [1, 2, 3]\n",
    "bootstrap = [True, False]"
   ]
  },
  {
   "cell_type": "code",
   "execution_count": 68,
   "metadata": {},
   "outputs": [],
   "source": [
    "random_grid = {'n_estimators': n_estimators,\n",
    "               'max_depth': max_depth,\n",
    "               'min_samples_split': min_samples_split,\n",
    "               'min_samples_leaf': min_samples_leaf,\n",
    "               'bootstrap': bootstrap}"
   ]
  },
  {
   "cell_type": "code",
   "execution_count": 72,
   "metadata": {},
   "outputs": [
    {
     "name": "stdout",
     "output_type": "stream",
     "text": [
      "Fitting 3 folds for each of 100 candidates, totalling 300 fits\n"
     ]
    },
    {
     "name": "stderr",
     "output_type": "stream",
     "text": [
      "[Parallel(n_jobs=-1)]: Using backend LokyBackend with 4 concurrent workers.\n",
      "[Parallel(n_jobs=-1)]: Done  33 tasks      | elapsed:    8.5s\n",
      "[Parallel(n_jobs=-1)]: Done 154 tasks      | elapsed:   53.3s\n",
      "[Parallel(n_jobs=-1)]: Done 300 out of 300 | elapsed:  1.8min finished\n",
      "C:\\Users\\ying\\Anaconda3\\lib\\site-packages\\sklearn\\model_selection\\_search.py:841: DeprecationWarning: The default of the `iid` parameter will change from True to False in version 0.22 and will be removed in 0.24. This will change numeric results when test-set sizes are unequal.\n",
      "  DeprecationWarning)\n"
     ]
    },
    {
     "name": "stdout",
     "output_type": "stream",
     "text": [
      "{'bootstrap': True,\n",
      " 'max_depth': 5000,\n",
      " 'min_samples_leaf': 3,\n",
      " 'min_samples_split': 3,\n",
      " 'n_estimators': 600}\n"
     ]
    }
   ],
   "source": [
    "random = RandomizedSearchCV(estimator = rf, param_distributions = random_grid, n_iter = 100, cv = 3, verbose=2, random_state=42, n_jobs = -1)\n",
    "# y_temp = []\n",
    "# scores(y_temp, random)\n",
    "random.fit(X_train, y_train)\n",
    "pprint(random.best_params_)"
   ]
  },
  {
   "cell_type": "code",
   "execution_count": null,
   "metadata": {},
   "outputs": [],
   "source": []
  }
 ],
 "metadata": {
  "kernelspec": {
   "display_name": "Python 3",
   "language": "python",
   "name": "python3"
  },
  "language_info": {
   "codemirror_mode": {
    "name": "ipython",
    "version": 3
   },
   "file_extension": ".py",
   "mimetype": "text/x-python",
   "name": "python",
   "nbconvert_exporter": "python",
   "pygments_lexer": "ipython3",
   "version": "3.7.3"
  }
 },
 "nbformat": 4,
 "nbformat_minor": 2
}

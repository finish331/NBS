{
 "cells": [
  {
   "cell_type": "code",
   "execution_count": 4,
   "metadata": {},
   "outputs": [],
   "source": [
    "import json\n",
    "import pandas as pd\n",
    "import numpy as np\n",
    "import matplotlib.pyplot as plt\n",
    "import seaborn as sns"
   ]
  },
  {
   "cell_type": "markdown",
   "metadata": {},
   "source": [
    "### 讀取資料"
   ]
  },
  {
   "cell_type": "code",
   "execution_count": 5,
   "metadata": {},
   "outputs": [],
   "source": [
    "data = pd.read_json('../JSON/new_mvp.json')"
   ]
  },
  {
   "cell_type": "code",
   "execution_count": 6,
   "metadata": {},
   "outputs": [],
   "source": [
    "pos_mapping = {\n",
    "    'PG': 1,\n",
    "    'SG': 2,\n",
    "    'SF': 3,\n",
    "    'PF': 4,\n",
    "    'C': 5\n",
    "}\n",
    "data['Pos'] = data['Pos'].map(pos_mapping)"
   ]
  },
  {
   "cell_type": "code",
   "execution_count": 7,
   "metadata": {},
   "outputs": [],
   "source": [
    "training = data[data['Share'] != 0]"
   ]
  },
  {
   "cell_type": "code",
   "execution_count": 8,
   "metadata": {
    "scrolled": true
   },
   "outputs": [
    {
     "data": {
      "text/html": [
       "<div>\n",
       "<style scoped>\n",
       "    .dataframe tbody tr th:only-of-type {\n",
       "        vertical-align: middle;\n",
       "    }\n",
       "\n",
       "    .dataframe tbody tr th {\n",
       "        vertical-align: top;\n",
       "    }\n",
       "\n",
       "    .dataframe thead th {\n",
       "        text-align: right;\n",
       "    }\n",
       "</style>\n",
       "<table border=\"1\" class=\"dataframe\">\n",
       "  <thead>\n",
       "    <tr style=\"text-align: right;\">\n",
       "      <th></th>\n",
       "      <th>Season</th>\n",
       "      <th>Pos</th>\n",
       "      <th>Age</th>\n",
       "      <th>G</th>\n",
       "      <th>MP</th>\n",
       "      <th>FG</th>\n",
       "      <th>FGA</th>\n",
       "      <th>FG%</th>\n",
       "      <th>3P</th>\n",
       "      <th>3PA</th>\n",
       "      <th>...</th>\n",
       "      <th>FTr</th>\n",
       "      <th>ORB%</th>\n",
       "      <th>DRB%</th>\n",
       "      <th>TRB%</th>\n",
       "      <th>AST%</th>\n",
       "      <th>STL%</th>\n",
       "      <th>BLK%</th>\n",
       "      <th>VORP</th>\n",
       "      <th>Win_PCT</th>\n",
       "      <th>Share</th>\n",
       "    </tr>\n",
       "  </thead>\n",
       "  <tbody>\n",
       "    <tr>\n",
       "      <th>count</th>\n",
       "      <td>240.000000</td>\n",
       "      <td>240.000000</td>\n",
       "      <td>240.000000</td>\n",
       "      <td>240.000000</td>\n",
       "      <td>240.000000</td>\n",
       "      <td>240.000000</td>\n",
       "      <td>240.000000</td>\n",
       "      <td>240.000000</td>\n",
       "      <td>240.000000</td>\n",
       "      <td>240.000000</td>\n",
       "      <td>...</td>\n",
       "      <td>240.000000</td>\n",
       "      <td>240.000000</td>\n",
       "      <td>240.000000</td>\n",
       "      <td>240.000000</td>\n",
       "      <td>240.000000</td>\n",
       "      <td>240.000000</td>\n",
       "      <td>240.000000</td>\n",
       "      <td>240.000000</td>\n",
       "      <td>240.000000</td>\n",
       "      <td>240.000000</td>\n",
       "    </tr>\n",
       "    <tr>\n",
       "      <th>mean</th>\n",
       "      <td>2010.187500</td>\n",
       "      <td>2.841667</td>\n",
       "      <td>27.241667</td>\n",
       "      <td>74.645833</td>\n",
       "      <td>2706.225000</td>\n",
       "      <td>617.012500</td>\n",
       "      <td>1283.575000</td>\n",
       "      <td>0.483592</td>\n",
       "      <td>92.350000</td>\n",
       "      <td>253.766667</td>\n",
       "      <td>...</td>\n",
       "      <td>0.391029</td>\n",
       "      <td>4.906667</td>\n",
       "      <td>17.645417</td>\n",
       "      <td>11.395833</td>\n",
       "      <td>25.742917</td>\n",
       "      <td>1.908333</td>\n",
       "      <td>1.866250</td>\n",
       "      <td>5.002083</td>\n",
       "      <td>52.412500</td>\n",
       "      <td>0.188250</td>\n",
       "    </tr>\n",
       "    <tr>\n",
       "      <th>std</th>\n",
       "      <td>5.333467</td>\n",
       "      <td>1.452142</td>\n",
       "      <td>3.728205</td>\n",
       "      <td>7.364081</td>\n",
       "      <td>370.940577</td>\n",
       "      <td>134.547327</td>\n",
       "      <td>295.643151</td>\n",
       "      <td>0.042180</td>\n",
       "      <td>80.243004</td>\n",
       "      <td>203.312248</td>\n",
       "      <td>...</td>\n",
       "      <td>0.119189</td>\n",
       "      <td>3.084412</td>\n",
       "      <td>6.934860</td>\n",
       "      <td>4.792374</td>\n",
       "      <td>12.265523</td>\n",
       "      <td>0.697585</td>\n",
       "      <td>1.658851</td>\n",
       "      <td>2.161579</td>\n",
       "      <td>8.002657</td>\n",
       "      <td>0.283077</td>\n",
       "    </tr>\n",
       "    <tr>\n",
       "      <th>min</th>\n",
       "      <td>2000.000000</td>\n",
       "      <td>1.000000</td>\n",
       "      <td>19.000000</td>\n",
       "      <td>49.000000</td>\n",
       "      <td>1625.000000</td>\n",
       "      <td>210.000000</td>\n",
       "      <td>437.000000</td>\n",
       "      <td>0.395000</td>\n",
       "      <td>0.000000</td>\n",
       "      <td>0.000000</td>\n",
       "      <td>...</td>\n",
       "      <td>0.172000</td>\n",
       "      <td>1.000000</td>\n",
       "      <td>7.000000</td>\n",
       "      <td>4.400000</td>\n",
       "      <td>4.800000</td>\n",
       "      <td>0.400000</td>\n",
       "      <td>0.100000</td>\n",
       "      <td>0.700000</td>\n",
       "      <td>26.000000</td>\n",
       "      <td>0.001000</td>\n",
       "    </tr>\n",
       "    <tr>\n",
       "      <th>25%</th>\n",
       "      <td>2006.000000</td>\n",
       "      <td>1.000000</td>\n",
       "      <td>24.000000</td>\n",
       "      <td>71.000000</td>\n",
       "      <td>2489.000000</td>\n",
       "      <td>534.750000</td>\n",
       "      <td>1066.500000</td>\n",
       "      <td>0.456000</td>\n",
       "      <td>13.750000</td>\n",
       "      <td>56.000000</td>\n",
       "      <td>...</td>\n",
       "      <td>0.315000</td>\n",
       "      <td>2.475000</td>\n",
       "      <td>11.400000</td>\n",
       "      <td>7.375000</td>\n",
       "      <td>15.975000</td>\n",
       "      <td>1.400000</td>\n",
       "      <td>0.600000</td>\n",
       "      <td>3.375000</td>\n",
       "      <td>47.000000</td>\n",
       "      <td>0.003000</td>\n",
       "    </tr>\n",
       "    <tr>\n",
       "      <th>50%</th>\n",
       "      <td>2010.000000</td>\n",
       "      <td>3.000000</td>\n",
       "      <td>27.000000</td>\n",
       "      <td>77.000000</td>\n",
       "      <td>2778.000000</td>\n",
       "      <td>632.500000</td>\n",
       "      <td>1321.500000</td>\n",
       "      <td>0.480000</td>\n",
       "      <td>86.000000</td>\n",
       "      <td>263.000000</td>\n",
       "      <td>...</td>\n",
       "      <td>0.380000</td>\n",
       "      <td>3.800000</td>\n",
       "      <td>17.050000</td>\n",
       "      <td>10.250000</td>\n",
       "      <td>24.400000</td>\n",
       "      <td>1.800000</td>\n",
       "      <td>1.350000</td>\n",
       "      <td>4.800000</td>\n",
       "      <td>53.000000</td>\n",
       "      <td>0.030500</td>\n",
       "    </tr>\n",
       "    <tr>\n",
       "      <th>75%</th>\n",
       "      <td>2014.000000</td>\n",
       "      <td>4.000000</td>\n",
       "      <td>29.250000</td>\n",
       "      <td>80.000000</td>\n",
       "      <td>2981.250000</td>\n",
       "      <td>712.500000</td>\n",
       "      <td>1481.250000</td>\n",
       "      <td>0.505000</td>\n",
       "      <td>132.000000</td>\n",
       "      <td>363.500000</td>\n",
       "      <td>...</td>\n",
       "      <td>0.442250</td>\n",
       "      <td>7.300000</td>\n",
       "      <td>23.300000</td>\n",
       "      <td>15.325000</td>\n",
       "      <td>33.925000</td>\n",
       "      <td>2.400000</td>\n",
       "      <td>2.600000</td>\n",
       "      <td>6.025000</td>\n",
       "      <td>58.000000</td>\n",
       "      <td>0.294000</td>\n",
       "    </tr>\n",
       "    <tr>\n",
       "      <th>max</th>\n",
       "      <td>2019.000000</td>\n",
       "      <td>5.000000</td>\n",
       "      <td>38.000000</td>\n",
       "      <td>82.000000</td>\n",
       "      <td>3485.000000</td>\n",
       "      <td>978.000000</td>\n",
       "      <td>2173.000000</td>\n",
       "      <td>0.669000</td>\n",
       "      <td>402.000000</td>\n",
       "      <td>1028.000000</td>\n",
       "      <td>...</td>\n",
       "      <td>0.978000</td>\n",
       "      <td>13.800000</td>\n",
       "      <td>34.900000</td>\n",
       "      <td>23.200000</td>\n",
       "      <td>57.300000</td>\n",
       "      <td>3.900000</td>\n",
       "      <td>7.800000</td>\n",
       "      <td>12.400000</td>\n",
       "      <td>73.000000</td>\n",
       "      <td>1.000000</td>\n",
       "    </tr>\n",
       "  </tbody>\n",
       "</table>\n",
       "<p>8 rows × 40 columns</p>\n",
       "</div>"
      ],
      "text/plain": [
       "            Season         Pos         Age           G           MP  \\\n",
       "count   240.000000  240.000000  240.000000  240.000000   240.000000   \n",
       "mean   2010.187500    2.841667   27.241667   74.645833  2706.225000   \n",
       "std       5.333467    1.452142    3.728205    7.364081   370.940577   \n",
       "min    2000.000000    1.000000   19.000000   49.000000  1625.000000   \n",
       "25%    2006.000000    1.000000   24.000000   71.000000  2489.000000   \n",
       "50%    2010.000000    3.000000   27.000000   77.000000  2778.000000   \n",
       "75%    2014.000000    4.000000   29.250000   80.000000  2981.250000   \n",
       "max    2019.000000    5.000000   38.000000   82.000000  3485.000000   \n",
       "\n",
       "               FG          FGA         FG%          3P          3PA  ...  \\\n",
       "count  240.000000   240.000000  240.000000  240.000000   240.000000  ...   \n",
       "mean   617.012500  1283.575000    0.483592   92.350000   253.766667  ...   \n",
       "std    134.547327   295.643151    0.042180   80.243004   203.312248  ...   \n",
       "min    210.000000   437.000000    0.395000    0.000000     0.000000  ...   \n",
       "25%    534.750000  1066.500000    0.456000   13.750000    56.000000  ...   \n",
       "50%    632.500000  1321.500000    0.480000   86.000000   263.000000  ...   \n",
       "75%    712.500000  1481.250000    0.505000  132.000000   363.500000  ...   \n",
       "max    978.000000  2173.000000    0.669000  402.000000  1028.000000  ...   \n",
       "\n",
       "              FTr        ORB%        DRB%        TRB%        AST%        STL%  \\\n",
       "count  240.000000  240.000000  240.000000  240.000000  240.000000  240.000000   \n",
       "mean     0.391029    4.906667   17.645417   11.395833   25.742917    1.908333   \n",
       "std      0.119189    3.084412    6.934860    4.792374   12.265523    0.697585   \n",
       "min      0.172000    1.000000    7.000000    4.400000    4.800000    0.400000   \n",
       "25%      0.315000    2.475000   11.400000    7.375000   15.975000    1.400000   \n",
       "50%      0.380000    3.800000   17.050000   10.250000   24.400000    1.800000   \n",
       "75%      0.442250    7.300000   23.300000   15.325000   33.925000    2.400000   \n",
       "max      0.978000   13.800000   34.900000   23.200000   57.300000    3.900000   \n",
       "\n",
       "             BLK%        VORP     Win_PCT       Share  \n",
       "count  240.000000  240.000000  240.000000  240.000000  \n",
       "mean     1.866250    5.002083   52.412500    0.188250  \n",
       "std      1.658851    2.161579    8.002657    0.283077  \n",
       "min      0.100000    0.700000   26.000000    0.001000  \n",
       "25%      0.600000    3.375000   47.000000    0.003000  \n",
       "50%      1.350000    4.800000   53.000000    0.030500  \n",
       "75%      2.600000    6.025000   58.000000    0.294000  \n",
       "max      7.800000   12.400000   73.000000    1.000000  \n",
       "\n",
       "[8 rows x 40 columns]"
      ]
     },
     "execution_count": 8,
     "metadata": {},
     "output_type": "execute_result"
    }
   ],
   "source": [
    "training.describe()"
   ]
  },
  {
   "cell_type": "markdown",
   "metadata": {},
   "source": [
    "### MVP Share分布圖"
   ]
  },
  {
   "cell_type": "code",
   "execution_count": 9,
   "metadata": {},
   "outputs": [
    {
     "data": {
      "text/plain": [
       "Text(0.5, 0, 'Award share')"
      ]
     },
     "execution_count": 9,
     "metadata": {},
     "output_type": "execute_result"
    },
    {
     "data": {
      "image/png": "[encoded data removed]",
      "text/plain": [
       "<Figure size 720x432 with 1 Axes>"
      ]
     },
     "metadata": {
      "needs_background": "light"
     },
     "output_type": "display_data"
    }
   ],
   "source": [
    "plt.figure(figsize=(10, 6))\n",
    "plt.hist(training.Share, bins=10, edgecolor='#F5F5F5')\n",
    "plt.title(\"Number of occurrences of award shares\", size=16)\n",
    "plt.ylabel(\"Number of occurrences\", size=12)\n",
    "plt.xlabel(\"Award share\", size=12)"
   ]
  },
  {
   "cell_type": "markdown",
   "metadata": {},
   "source": [
    "### 特徵重要度"
   ]
  },
  {
   "cell_type": "code",
   "execution_count": 10,
   "metadata": {},
   "outputs": [
    {
     "data": {
      "text/plain": [
       "RandomForestRegressor(bootstrap=True, criterion='mse', max_depth=9,\n",
       "           max_features='auto', max_leaf_nodes=16,\n",
       "           min_impurity_decrease=0.0, min_impurity_split=None,\n",
       "           min_samples_leaf=6, min_samples_split=3,\n",
       "           min_weight_fraction_leaf=0.0, n_estimators=3500, n_jobs=-1,\n",
       "           oob_score=True, random_state=42, verbose=0, warm_start=False)"
      ]
     },
     "execution_count": 10,
     "metadata": {},
     "output_type": "execute_result"
    }
   ],
   "source": [
    "from sklearn.ensemble import RandomForestRegressor\n",
    "\n",
    "feat_X = training.drop(['Player', 'Season', 'Tm', 'Share'], axis=1)\n",
    "feat_y = training['Share']\n",
    "model = RandomForestRegressor(random_state=42, n_jobs=-1, oob_score=True, max_depth=9, n_estimators=3500, min_samples_split=3, min_samples_leaf=6, bootstrap=True, max_leaf_nodes=16)\n",
    "model.fit(feat_X, feat_y)"
   ]
  },
  {
   "cell_type": "code",
   "execution_count": 11,
   "metadata": {},
   "outputs": [
    {
     "name": "stdout",
     "output_type": "stream",
     "text": [
      "1) VORP                           0.359880\n",
      "2) PER                            0.265419\n",
      "3) Win_PCT                        0.090719\n",
      "4) TOV                            0.044443\n",
      "5) PTS                            0.028138\n",
      "6) FG                             0.024341\n",
      "7) TS%                            0.019911\n",
      "8) 3P%                            0.017825\n",
      "9) FGA                            0.015370\n",
      "10) eFG%                           0.013157\n",
      "11) FT%                            0.010431\n",
      "12) PF                             0.010302\n",
      "13) AST                            0.010066\n",
      "14) AST%                           0.006906\n",
      "15) FTA                            0.006241\n",
      "16) 2P%                            0.005819\n",
      "17) 3P                             0.005663\n",
      "18) FG%                            0.005206\n",
      "19) DRB%                           0.005119\n",
      "20) G                              0.005031\n",
      "21) STL                            0.004963\n",
      "22) MP                             0.004387\n",
      "23) FT                             0.003716\n",
      "24) 2PA                            0.003529\n",
      "25) 2P                             0.003519\n",
      "26) FTr                            0.003262\n",
      "27) STL%                           0.003126\n",
      "28) 3PA                            0.002934\n",
      "29) Age                            0.002932\n",
      "30) 3PAr                           0.002883\n",
      "31) BLK%                           0.002690\n",
      "32) BLK                            0.002579\n",
      "33) DRB                            0.002502\n",
      "34) ORB                            0.001972\n",
      "35) TRB                            0.001748\n",
      "36) TRB%                           0.001732\n",
      "37) ORB%                           0.001387\n",
      "38) Pos                            0.000153\n"
     ]
    }
   ],
   "source": [
    "feat_labels = feat_X.columns\n",
    "# print(feat_labels)\n",
    "importances = model.feature_importances_\n",
    "# print(importances)\n",
    "indices = np.argsort(importances)[::-1]\n",
    "# print(indices)\n",
    "for feat in range(feat_X.shape[1]):\n",
    "    print(\"%d) %-*s %f\" % (feat + 1, 30, feat_labels[indices[feat]], importances[indices[feat]]))"
   ]
  },
  {
   "cell_type": "code",
   "execution_count": 12,
   "metadata": {
    "scrolled": false
   },
   "outputs": [
    {
     "data": {
      "image/png": "[encoded data removed]",
      "text/plain": [
       "<Figure size 576x432 with 1 Axes>"
      ]
     },
     "metadata": {
      "needs_background": "light"
     },
     "output_type": "display_data"
    }
   ],
   "source": [
    "plt.figure(figsize=(8, 6))\n",
    "plt.rcParams.update({'font.size': 12})\n",
    "plt.title('Feature importance')\n",
    "plt.bar(range(feat_X.shape[1]), importances[indices], color='lightblue', align='center')\n",
    "plt.xticks(range(feat_X.shape[1]), feat_labels[indices], rotation=90)\n",
    "plt.xlim([-1, feat_X.shape[1]])\n",
    "plt.tight_layout()\n",
    "plt.show()"
   ]
  },
  {
   "cell_type": "markdown",
   "metadata": {},
   "source": [
    "# <font color=\" #FF0000\">選擇特徵"
   ]
  },
  {
   "cell_type": "code",
   "execution_count": 13,
   "metadata": {},
   "outputs": [
    {
     "data": {
      "text/plain": [
       "Index(['Player', 'Season', 'Pos', 'Age', 'Tm', 'G', 'MP', 'FG', 'FGA', 'FG%',\n",
       "       '3P', '3PA', '3P%', '2P', '2PA', '2P%', 'eFG%', 'FT', 'FTA', 'FT%',\n",
       "       'ORB', 'DRB', 'TRB', 'AST', 'STL', 'BLK', 'TOV', 'PF', 'PTS', 'PER',\n",
       "       'TS%', '3PAr', 'FTr', 'ORB%', 'DRB%', 'TRB%', 'AST%', 'STL%', 'BLK%',\n",
       "       'VORP', 'Win_PCT', 'Share'],\n",
       "      dtype='object')"
      ]
     },
     "execution_count": 13,
     "metadata": {},
     "output_type": "execute_result"
    }
   ],
   "source": [
    "training.columns"
   ]
  },
  {
   "cell_type": "code",
   "execution_count": 14,
   "metadata": {
    "scrolled": true
   },
   "outputs": [
    {
     "name": "stdout",
     "output_type": "stream",
     "text": [
      "['PTS', 'Win_PCT', 'AST', 'DRB', 'VORP', 'PER', 'TOV']\n"
     ]
    }
   ],
   "source": [
    "# feature = ['PTS', 'Win_PCT', 'FG', 'TOV', 'AST', 'DRB', 'FTA', 'eFG%']\n",
    "feature = ['PTS', 'Win_PCT', 'AST', 'DRB', 'VORP', 'PER', 'TOV']    #.602\n",
    "# feature = ['PTS', 'Win_PCT', 'AST', 'DRB', 'VORP', 'TOV', '3P%']\n",
    "# feature = ['Age', 'PTS', 'FG%', '3P%', 'FT%', 'ORB', 'DRB', 'AST', 'STL', 'BLK', 'TOV', 'PF']\n",
    "print(feature)"
   ]
  },
  {
   "cell_type": "markdown",
   "metadata": {},
   "source": [
    "### 特徵關係圖"
   ]
  },
  {
   "cell_type": "code",
   "execution_count": 15,
   "metadata": {},
   "outputs": [
    {
     "data": {
      "text/plain": [
       "<matplotlib.axes._subplots.AxesSubplot at 0x17751a8beb8>"
      ]
     },
     "execution_count": 15,
     "metadata": {},
     "output_type": "execute_result"
    },
    {
     "data": {
      "image/png": "[encoded data removed]",
      "text/plain": [
       "<Figure size 720x720 with 2 Axes>"
      ]
     },
     "metadata": {},
     "output_type": "display_data"
    }
   ],
   "source": [
    "# 設定顯示特徵\n",
    "cols = list(feature)\n",
    "cols.append('Share')\n",
    "# 視覺化特徵關係\n",
    "fig = plt.figure(figsize=(10, 10))\n",
    "fig.set_facecolor('white')\n",
    "plt.rcParams.update({'font.size': 10})\n",
    "sns.heatmap(training[cols].corr(), annot=True, cmap=\"RdYlGn\")"
   ]
  },
  {
   "cell_type": "markdown",
   "metadata": {},
   "source": [
    "### 拆分訓練及驗證資料"
   ]
  },
  {
   "cell_type": "code",
   "execution_count": 16,
   "metadata": {},
   "outputs": [],
   "source": [
    "X = training[feature]\n",
    "y = training['Share']"
   ]
  },
  {
   "cell_type": "code",
   "execution_count": 17,
   "metadata": {},
   "outputs": [],
   "source": [
    "from sklearn.model_selection import train_test_split\n",
    "\n",
    "X_train, X_valid, y_train, y_valid = train_test_split(X, y, test_size=0.3, random_state=42)\n",
    "X_sqrt_train, X_sqrt_valid, y_sqrt_train, y_sqrt_valid = train_test_split(X, np.sqrt(y), test_size=0.3, random_state=42)"
   ]
  },
  {
   "cell_type": "markdown",
   "metadata": {},
   "source": [
    "## K-fold"
   ]
  },
  {
   "cell_type": "code",
   "execution_count": 18,
   "metadata": {},
   "outputs": [],
   "source": [
    "from sklearn.model_selection import GroupShuffleSplit\n",
    "cols = list(feature)\n",
    "cols.append('Season')\n",
    "#實作 k-fold\n",
    "def K_fold(model):\n",
    "    temp_X = training[cols]\n",
    "    temp_y = training[['Share', 'Season']]\n",
    "    scores = []\n",
    "\n",
    "    for year in range(2010, 2020):\n",
    "        # 依照球季將資料分成訓練及應證資料\n",
    "        X_train_data, y_train_data = temp_X[temp_X['Season'] != year].drop('Season',axis=1).to_numpy(), temp_y[temp_y['Season'] != year].drop('Season',axis=1).to_numpy()\n",
    "        X_valid_data, y_valid_data = temp_X[temp_X['Season'] == year].drop('Season',axis=1).to_numpy(), temp_y[temp_y['Season'] == year].drop('Season',axis=1).to_numpy()\n",
    "        model.fit(X_train_data, y_train_data)    #訓練資料\n",
    "        score = model.score(X_valid_data, y_valid_data)    #取得驗證分數\n",
    "        scores.append(score)\n",
    "        print('Fold year: %d, Score: %.5f' % (year, score))\n",
    "    print('CV accuracy: %.3f +/- %.3f' % (np.mean(scores), np.std(scores)))    #取得平均準確率及標準差"
   ]
  },
  {
   "cell_type": "markdown",
   "metadata": {},
   "source": [
    "### 計算準確率"
   ]
  },
  {
   "cell_type": "code",
   "execution_count": 19,
   "metadata": {},
   "outputs": [],
   "source": [
    "from sklearn.metrics import mean_squared_error, r2_score\n",
    "from sklearn.model_selection import cross_val_score\n",
    "\n",
    "def scores(y, model):\n",
    "    \n",
    "    model.fit(X_train, y_train)\n",
    "    y_pred = model.predict(X_valid)\n",
    "    # 預測訓練資料的 R2分數\n",
    "    print(\"預測訓練 R2 score: %.3f\" % r2_score(y_train, model.predict(X_train)))\n",
    "    # 均分誤差分數\n",
    "    print(\"Mean squared error: %.3f\" % mean_squared_error(y_valid, y_pred))\n",
    "    # 預測R2分數\n",
    "    print('R2 score: %.3f' % r2_score(y_valid, y_pred))"
   ]
  },
  {
   "cell_type": "markdown",
   "metadata": {},
   "source": [
    "### 調整參數"
   ]
  },
  {
   "cell_type": "code",
   "execution_count": 20,
   "metadata": {},
   "outputs": [],
   "source": [
    "from sklearn.model_selection import RandomizedSearchCV\n",
    "from sklearn.model_selection import GridSearchCV\n",
    "from pprint import pprint\n",
    "from sklearn.model_selection import validation_curve"
   ]
  },
  {
   "cell_type": "code",
   "execution_count": 34,
   "metadata": {},
   "outputs": [],
   "source": [
    "# 透過視覺化尋找適合的參數\n",
    "rf = RandomForestRegressor(random_state=42, n_jobs=-1, n_estimators=10, min_samples_split=3, min_samples_leaf=6, bootstrap=True, max_leaf_nodes=16)\n",
    "def find_param(name, param):\n",
    "    train_scores, valid_scores = validation_curve(estimator=rf, X=X_train, y=y_train, param_name=name, param_range=param, cv=10)\n",
    "    train_mean = np.mean(train_scores, axis=1)\n",
    "    train_std = np.std(train_scores, axis=1)\n",
    "    valid_mean = np.std(valid_scores, axis=1)\n",
    "    valid_std = np.std(valid_scores, axis=1)\n",
    "    plt.plot(param, train_mean, color='blue', marker='o', markersize=5, label='train accuracy')\n",
    "    plt.fill_between(param, train_mean+train_std, train_mean-train_std, alpha=0.15, color='blue')\n",
    "    plt.plot(param, valid_mean, color='red', marker='s', linestyle='--', markersize=5, label='valid accuracy')\n",
    "    plt.fill_between(param, valid_mean+valid_std, valid_mean-valid_std, alpha=0.15, color='red')\n",
    "    plt.grid()\n",
    "    plt.xscale('log')\n",
    "    plt.legend(loc='lower right')\n",
    "    plt.xlabel(name)\n",
    "    plt.ylabel('Accuracy')\n",
    "    plt.ylim([0.0, 1.0])\n",
    "    plt.show()"
   ]
  },
  {
   "cell_type": "code",
   "execution_count": 35,
   "metadata": {
    "scrolled": true
   },
   "outputs": [
    {
     "data": {
      "image/png": "[encoded data removed]",
      "text/plain": [
       "<Figure size 432x288 with 1 Axes>"
      ]
     },
     "metadata": {
      "needs_background": "light"
     },
     "output_type": "display_data"
    }
   ],
   "source": [
    "# [int(x) for x in np.linspace(start = 100, stop = 2000, num = 20)]\n",
    "param = [1, 10, 100, 1000, 10000]\n",
    "find_param('max_depth', param)"
   ]
  },
  {
   "cell_type": "code",
   "execution_count": null,
   "metadata": {},
   "outputs": [],
   "source": [
    "# Create the parameter grid based on the results of random search \n",
    "random_grid = {'n_estimators': n_estimators,\n",
    "               'max_depth': max_depth,\n",
    "               'min_samples_split': min_samples_split,\n",
    "               'min_samples_leaf': min_samples_leaf,\n",
    "               'bootstrap': bootstrap}"
   ]
  },
  {
   "cell_type": "code",
   "execution_count": 242,
   "metadata": {},
   "outputs": [],
   "source": [
    "param_grid = {\n",
    "    'n_estimators': [15000, 10000, 5000, 3000, 300]\n",
    "}"
   ]
  },
  {
   "cell_type": "code",
   "execution_count": 243,
   "metadata": {},
   "outputs": [
    {
     "name": "stdout",
     "output_type": "stream",
     "text": [
      "Fitting 3 folds for each of 5 candidates, totalling 15 fits\n"
     ]
    },
    {
     "name": "stderr",
     "output_type": "stream",
     "text": [
      "[Parallel(n_jobs=-1)]: Using backend LokyBackend with 4 concurrent workers.\n",
      "[Parallel(n_jobs=-1)]: Done  15 out of  15 | elapsed:   49.0s finished\n"
     ]
    },
    {
     "data": {
      "text/plain": [
       "{'n_estimators': 300}"
      ]
     },
     "execution_count": 243,
     "metadata": {},
     "output_type": "execute_result"
    }
   ],
   "source": [
    "# Create a based model\n",
    "try_rf = RandomForestRegressor(random_state=42, n_jobs=-1, oob_score=True, max_depth=60, min_samples_split=8, max_leaf_nodes=14)\n",
    "# Instantiate the grid search model\n",
    "grid_search = GridSearchCV(estimator = try_rf, param_grid = param_grid, cv = 3, n_jobs = -1, verbose = 2, scoring='r2')\n",
    "# Fit the grid search to the data\n",
    "grid_search.fit(X_train, y_train)\n",
    "grid_search.best_params_"
   ]
  },
  {
   "cell_type": "markdown",
   "metadata": {},
   "source": [
    "## Random Forest Regressor"
   ]
  },
  {
   "cell_type": "code",
   "execution_count": 15,
   "metadata": {},
   "outputs": [],
   "source": [
    "from sklearn.ensemble import RandomForestRegressor\n",
    "rf = RandomForestRegressor(random_state=42, n_jobs=-1, oob_score=True, max_depth=9, n_estimators=3500, min_samples_split=3, min_samples_leaf=6, bootstrap=True, max_leaf_nodes=16)\n",
    "# rf = RandomForestRegressor(random_state=42, n_jobs=-1, oob_score=True, max_depth=9, n_estimators=24, min_samples_split=2, min_samples_leaf=3, bootstrap=True, max_leaf_nodes=19)"
   ]
  },
  {
   "cell_type": "code",
   "execution_count": 18,
   "metadata": {},
   "outputs": [
    {
     "name": "stdout",
     "output_type": "stream",
     "text": [
      "預測訓練 R2 score: 0.709\n",
      "Mean squared error: 0.036\n",
      "R2 score: 0.602\n"
     ]
    }
   ],
   "source": [
    "y_rf = []\n",
    "scores(y_rf, rf)"
   ]
  },
  {
   "cell_type": "code",
   "execution_count": 488,
   "metadata": {
    "scrolled": false
   },
   "outputs": [
    {
     "name": "stderr",
     "output_type": "stream",
     "text": [
      "C:\\Users\\ying\\Anaconda3\\lib\\site-packages\\ipykernel_launcher.py:13: DataConversionWarning: A column-vector y was passed when a 1d array was expected. Please change the shape of y to (n_samples,), for example using ravel().\n",
      "  del sys.path[0]\n"
     ]
    },
    {
     "name": "stdout",
     "output_type": "stream",
     "text": [
      "Fold year: 2010, Score: 0.73585\n"
     ]
    },
    {
     "name": "stderr",
     "output_type": "stream",
     "text": [
      "C:\\Users\\ying\\Anaconda3\\lib\\site-packages\\ipykernel_launcher.py:13: DataConversionWarning: A column-vector y was passed when a 1d array was expected. Please change the shape of y to (n_samples,), for example using ravel().\n",
      "  del sys.path[0]\n"
     ]
    },
    {
     "name": "stdout",
     "output_type": "stream",
     "text": [
      "Fold year: 2011, Score: 0.28180\n"
     ]
    },
    {
     "name": "stderr",
     "output_type": "stream",
     "text": [
      "C:\\Users\\ying\\Anaconda3\\lib\\site-packages\\ipykernel_launcher.py:13: DataConversionWarning: A column-vector y was passed when a 1d array was expected. Please change the shape of y to (n_samples,), for example using ravel().\n",
      "  del sys.path[0]\n"
     ]
    },
    {
     "name": "stdout",
     "output_type": "stream",
     "text": [
      "Fold year: 2012, Score: 0.24568\n"
     ]
    },
    {
     "name": "stderr",
     "output_type": "stream",
     "text": [
      "C:\\Users\\ying\\Anaconda3\\lib\\site-packages\\ipykernel_launcher.py:13: DataConversionWarning: A column-vector y was passed when a 1d array was expected. Please change the shape of y to (n_samples,), for example using ravel().\n",
      "  del sys.path[0]\n"
     ]
    },
    {
     "name": "stdout",
     "output_type": "stream",
     "text": [
      "Fold year: 2013, Score: 0.72813\n"
     ]
    },
    {
     "name": "stderr",
     "output_type": "stream",
     "text": [
      "C:\\Users\\ying\\Anaconda3\\lib\\site-packages\\ipykernel_launcher.py:13: DataConversionWarning: A column-vector y was passed when a 1d array was expected. Please change the shape of y to (n_samples,), for example using ravel().\n",
      "  del sys.path[0]\n"
     ]
    },
    {
     "name": "stdout",
     "output_type": "stream",
     "text": [
      "Fold year: 2014, Score: 0.79411\n"
     ]
    },
    {
     "name": "stderr",
     "output_type": "stream",
     "text": [
      "C:\\Users\\ying\\Anaconda3\\lib\\site-packages\\ipykernel_launcher.py:13: DataConversionWarning: A column-vector y was passed when a 1d array was expected. Please change the shape of y to (n_samples,), for example using ravel().\n",
      "  del sys.path[0]\n"
     ]
    },
    {
     "name": "stdout",
     "output_type": "stream",
     "text": [
      "Fold year: 2015, Score: 0.56034\n"
     ]
    },
    {
     "name": "stderr",
     "output_type": "stream",
     "text": [
      "C:\\Users\\ying\\Anaconda3\\lib\\site-packages\\ipykernel_launcher.py:13: DataConversionWarning: A column-vector y was passed when a 1d array was expected. Please change the shape of y to (n_samples,), for example using ravel().\n",
      "  del sys.path[0]\n"
     ]
    },
    {
     "name": "stdout",
     "output_type": "stream",
     "text": [
      "Fold year: 2016, Score: 0.59809\n"
     ]
    },
    {
     "name": "stderr",
     "output_type": "stream",
     "text": [
      "C:\\Users\\ying\\Anaconda3\\lib\\site-packages\\ipykernel_launcher.py:13: DataConversionWarning: A column-vector y was passed when a 1d array was expected. Please change the shape of y to (n_samples,), for example using ravel().\n",
      "  del sys.path[0]\n"
     ]
    },
    {
     "name": "stdout",
     "output_type": "stream",
     "text": [
      "Fold year: 2017, Score: 0.54181\n"
     ]
    },
    {
     "name": "stderr",
     "output_type": "stream",
     "text": [
      "C:\\Users\\ying\\Anaconda3\\lib\\site-packages\\ipykernel_launcher.py:13: DataConversionWarning: A column-vector y was passed when a 1d array was expected. Please change the shape of y to (n_samples,), for example using ravel().\n",
      "  del sys.path[0]\n"
     ]
    },
    {
     "name": "stdout",
     "output_type": "stream",
     "text": [
      "Fold year: 2018, Score: 0.75992\n"
     ]
    },
    {
     "name": "stderr",
     "output_type": "stream",
     "text": [
      "C:\\Users\\ying\\Anaconda3\\lib\\site-packages\\ipykernel_launcher.py:13: DataConversionWarning: A column-vector y was passed when a 1d array was expected. Please change the shape of y to (n_samples,), for example using ravel().\n",
      "  del sys.path[0]\n"
     ]
    },
    {
     "name": "stdout",
     "output_type": "stream",
     "text": [
      "Fold year: 2019, Score: 0.84233\n",
      "CV accuracy: 0.609 +/- 0.197\n"
     ]
    }
   ],
   "source": [
    "K_fold(rf)"
   ]
  },
  {
   "cell_type": "markdown",
   "metadata": {},
   "source": [
    "### 執行預測"
   ]
  },
  {
   "cell_type": "code",
   "execution_count": 19,
   "metadata": {},
   "outputs": [],
   "source": [
    "data.sort_values(by=['Season', 'Share'], ascending=[True, False], inplace=True)"
   ]
  },
  {
   "cell_type": "code",
   "execution_count": 25,
   "metadata": {},
   "outputs": [],
   "source": [
    "def output(rf, year, final):\n",
    "    pred = data[data['Season'] == year]\n",
    "    t = data[(data['Season'] != year) & (data['Share'] != 0)]\n",
    "    t_X = t[feature]\n",
    "    t_y = t['Share']\n",
    "    rf.fit(t_X, t_y)\n",
    "    result = rf.predict(pred[feature])\n",
    "    names = list(pred.Player)\n",
    "    shares = list(pred.Share)\n",
    "    indices = np.argsort(result)[::-1]\n",
    "    rank = []\n",
    "    for player in range(0, 10):\n",
    "        print(\"%d) %-*s %.3f %s %.3f\" % (player + 1, 30, names[indices[player]], result[indices[player]], names[player], shares[player]))\n",
    "        pred = {\n",
    "            'pred_name': names[indices[player]],\n",
    "            'pred_share': result[indices[player]],\n",
    "            'act_name': names[player],\n",
    "            'act_share': shares[player]\n",
    "        }\n",
    "        rank.append(pred)\n",
    "    final[year] = rank"
   ]
  },
  {
   "cell_type": "code",
   "execution_count": 27,
   "metadata": {},
   "outputs": [
    {
     "name": "stdout",
     "output_type": "stream",
     "text": [
      "1) Giannis Antetokounmpo          0.724 Giannis Antetokounmpo 0.932\n",
      "2) James Harden                   0.713 James Harden 0.768\n",
      "3) Trevon Duval                   0.336 Paul George 0.352\n",
      "4) Anthony Davis                  0.313 Nikola Jokić 0.210\n",
      "5) Nikola Jokić                   0.296 Stephen Curry 0.173\n",
      "6) Zhou Qi                        0.283 Damian Lillard 0.068\n",
      "7) Karl-Anthony Towns             0.244 Joel Embiid 0.049\n",
      "8) Gary Payton                    0.244 Kevin Durant 0.025\n",
      "9) Alan Williams                  0.244 Kawhi Leonard 0.013\n",
      "10) Troy Caupain                   0.244 Russell Westbrook 0.008\n",
      "1) James Harden                   0.800 James Harden 0.955\n",
      "2) LeBron James                   0.465 LeBron James 0.731\n",
      "3) Russell Westbrook              0.322 Anthony Davis 0.441\n",
      "4) Anthony Davis                  0.241 Damian Lillard 0.205\n",
      "5) Stephen Curry                  0.204 Russell Westbrook 0.075\n",
      "6) Giannis Antetokounmpo          0.167 Giannis Antetokounmpo 0.074\n",
      "7) Kevin Durant                   0.147 Kevin Durant 0.065\n",
      "8) Damian Lillard                 0.133 DeMar DeRozan 0.032\n",
      "9) Chris Paul                     0.130 LaMarcus Aldridge 0.006\n",
      "10) Clint Capela                   0.128 Jimmy Butler 0.005\n",
      "1) Russell Westbrook              0.533 Russell Westbrook 0.879\n",
      "2) James Harden                   0.519 James Harden 0.746\n",
      "3) Kawhi Leonard                  0.413 Kawhi Leonard 0.495\n",
      "4) Kevin Durant                   0.373 LeBron James 0.330\n",
      "5) Stephen Curry                  0.324 Isaiah Thomas 0.080\n",
      "6) LeBron James                   0.304 Stephen Curry 0.051\n",
      "7) Isaiah Thomas                  0.229 Giannis Antetokounmpo 0.007\n",
      "8) John Wall                      0.202 John Wall 0.007\n",
      "9) Giannis Antetokounmpo          0.188 Anthony Davis 0.002\n",
      "10) Karl-Anthony Towns             0.186 Kevin Durant 0.002\n",
      "1) Stephen Curry                  0.858 Stephen Curry 1.000\n",
      "2) Russell Westbrook              0.604 Kawhi Leonard 0.484\n",
      "3) LeBron James                   0.551 LeBron James 0.482\n",
      "4) Kevin Durant                   0.359 Russell Westbrook 0.371\n",
      "5) James Harden                   0.312 Kevin Durant 0.112\n",
      "6) Kawhi Leonard                  0.266 Chris Paul 0.082\n",
      "7) Chris Paul                     0.174 Draymond Green 0.038\n",
      "8) DeMarcus Cousins               0.161 Damian Lillard 0.020\n",
      "9) Draymond Green                 0.155 James Harden 0.007\n",
      "10) Rajon Rondo                    0.116 Kyle Lowry 0.005\n",
      "                                                2019  \\\n",
      "0  {'pred_name': 'Giannis Antetokounmpo', 'pred_s...   \n",
      "1  {'pred_name': 'James Harden', 'pred_share': 0....   \n",
      "2  {'pred_name': 'Trevon Duval', 'pred_share': 0....   \n",
      "3  {'pred_name': 'Anthony Davis', 'pred_share': 0...   \n",
      "4  {'pred_name': 'Nikola Jokić', 'pred_share': 0....   \n",
      "5  {'pred_name': 'Zhou Qi', 'pred_share': 0.28289...   \n",
      "6  {'pred_name': 'Karl-Anthony Towns', 'pred_shar...   \n",
      "7  {'pred_name': 'Gary Payton', 'pred_share': 0.2...   \n",
      "8  {'pred_name': 'Alan Williams', 'pred_share': 0...   \n",
      "9  {'pred_name': 'Troy Caupain', 'pred_share': 0....   \n",
      "\n",
      "                                                2018  \\\n",
      "0  {'pred_name': 'James Harden', 'pred_share': 0....   \n",
      "1  {'pred_name': 'LeBron James', 'pred_share': 0....   \n",
      "2  {'pred_name': 'Russell Westbrook', 'pred_share...   \n",
      "3  {'pred_name': 'Anthony Davis', 'pred_share': 0...   \n",
      "4  {'pred_name': 'Stephen Curry', 'pred_share': 0...   \n",
      "5  {'pred_name': 'Giannis Antetokounmpo', 'pred_s...   \n",
      "6  {'pred_name': 'Kevin Durant', 'pred_share': 0....   \n",
      "7  {'pred_name': 'Damian Lillard', 'pred_share': ...   \n",
      "8  {'pred_name': 'Chris Paul', 'pred_share': 0.13...   \n",
      "9  {'pred_name': 'Clint Capela', 'pred_share': 0....   \n",
      "\n",
      "                                                2017  \\\n",
      "0  {'pred_name': 'Russell Westbrook', 'pred_share...   \n",
      "1  {'pred_name': 'James Harden', 'pred_share': 0....   \n",
      "2  {'pred_name': 'Kawhi Leonard', 'pred_share': 0...   \n",
      "3  {'pred_name': 'Kevin Durant', 'pred_share': 0....   \n",
      "4  {'pred_name': 'Stephen Curry', 'pred_share': 0...   \n",
      "5  {'pred_name': 'LeBron James', 'pred_share': 0....   \n",
      "6  {'pred_name': 'Isaiah Thomas', 'pred_share': 0...   \n",
      "7  {'pred_name': 'John Wall', 'pred_share': 0.201...   \n",
      "8  {'pred_name': 'Giannis Antetokounmpo', 'pred_s...   \n",
      "9  {'pred_name': 'Karl-Anthony Towns', 'pred_shar...   \n",
      "\n",
      "                                                2016  \n",
      "0  {'pred_name': 'Stephen Curry', 'pred_share': 0...  \n",
      "1  {'pred_name': 'Russell Westbrook', 'pred_share...  \n",
      "2  {'pred_name': 'LeBron James', 'pred_share': 0....  \n",
      "3  {'pred_name': 'Kevin Durant', 'pred_share': 0....  \n",
      "4  {'pred_name': 'James Harden', 'pred_share': 0....  \n",
      "5  {'pred_name': 'Kawhi Leonard', 'pred_share': 0...  \n",
      "6  {'pred_name': 'Chris Paul', 'pred_share': 0.17...  \n",
      "7  {'pred_name': 'DeMarcus Cousins', 'pred_share'...  \n",
      "8  {'pred_name': 'Draymond Green', 'pred_share': ...  \n",
      "9  {'pred_name': 'Rajon Rondo', 'pred_share': 0.1...  \n"
     ]
    }
   ],
   "source": [
    "final = {}\n",
    "for year in range(2019, 2015, -1):\n",
    "    output(rf, year, final)\n",
    "temp = pd.DataFrame(final)\n",
    "print(temp)"
   ]
  },
  {
   "cell_type": "code",
   "execution_count": 28,
   "metadata": {},
   "outputs": [],
   "source": [
    "with open('../JSON/pred_mvp_result.json', 'w') as file_object:\n",
    "            json.dump(final, file_object)"
   ]
  },
  {
   "cell_type": "markdown",
   "metadata": {},
   "source": [
    "## 儲存Model"
   ]
  },
  {
   "cell_type": "code",
   "execution_count": 29,
   "metadata": {},
   "outputs": [],
   "source": [
    "import pickle\n",
    "with open('./randomForestModel.pickle', 'wb') as model:\n",
    "    pickle.dump(rf, model)"
   ]
  },
  {
   "cell_type": "markdown",
   "metadata": {},
   "source": [
    "## 載入Model"
   ]
  },
  {
   "cell_type": "code",
   "execution_count": 30,
   "metadata": {},
   "outputs": [],
   "source": [
    "with open('./randomForestModel.pickle', 'rb') as model:\n",
    "    rf2 = pickle.load(model)"
   ]
  },
  {
   "cell_type": "code",
   "execution_count": 31,
   "metadata": {},
   "outputs": [
    {
     "name": "stdout",
     "output_type": "stream",
     "text": [
      "預測訓練 R2 score: 0.709\n",
      "Mean squared error: 0.036\n",
      "R2 score: 0.602\n"
     ]
    }
   ],
   "source": [
    "scores([], rf2)"
   ]
  },
  {
   "cell_type": "code",
   "execution_count": null,
   "metadata": {},
   "outputs": [],
   "source": []
  }
 ],
 "metadata": {
  "kernelspec": {
   "display_name": "Python 3",
   "language": "python",
   "name": "python3"
  },
  "language_info": {
   "codemirror_mode": {
    "name": "ipython",
    "version": 3
   },
   "file_extension": ".py",
   "mimetype": "text/x-python",
   "name": "python",
   "nbconvert_exporter": "python",
   "pygments_lexer": "ipython3",
   "version": "3.7.3"
  }
 },
 "nbformat": 4,
 "nbformat_minor": 2
}

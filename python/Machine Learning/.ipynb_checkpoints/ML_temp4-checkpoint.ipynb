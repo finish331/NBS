{
 "cells": [
  {
   "cell_type": "code",
   "execution_count": 1,
   "metadata": {},
   "outputs": [],
   "source": [
    "import numpy as np\n",
    "import pandas as pd\n",
    "import matplotlib.pyplot as plt\n",
    "import requests\n",
    "from bs4 import BeautifulSoup\n",
    "import time\n",
    "import re"
   ]
  },
  {
   "cell_type": "code",
   "execution_count": 285,
   "metadata": {},
   "outputs": [],
   "source": [
    "plt.style.use('fivethirtyeight')"
   ]
  },
  {
   "cell_type": "markdown",
   "metadata": {},
   "source": [
    "# Getting the data"
   ]
  },
  {
   "cell_type": "markdown",
   "metadata": {},
   "source": [
    "Data will be from 1980-81 up to past season for train and validation splits. That is because prior to that season voting was done by players."
   ]
  },
  {
   "cell_type": "code",
   "execution_count": 2,
   "metadata": {},
   "outputs": [],
   "source": [
    "from collections import defaultdict"
   ]
  },
  {
   "cell_type": "code",
   "execution_count": 3,
   "metadata": {},
   "outputs": [],
   "source": [
    "def work_player_profile(param, season):\n",
    "    url = \"https://www.basketball-reference.com\" + param\n",
    "    res = requests.get(url)\n",
    "    soup = BeautifulSoup(res.text)\n",
    "    \n",
    "    data_dict = {}\n",
    "    \n",
    "    per_game = soup.find(attrs={'id': 'all_per_game'})\n",
    "    for row in per_game.findAll(\"tr\"):\n",
    "        if 'id' in row.attrs and row.attrs['id'] == \"per_game.\" + season:\n",
    "            data_dict['fga'] = float(row.find('td', attrs={'data-stat': 'fga_per_g'}).text)\n",
    "            data_dict['fg3a'] = float(row.find('td', attrs={'data-stat': 'fg3a_per_g'}).text)\n",
    "            data_dict['fta'] = float(row.find('td', attrs={'data-stat': 'fta_per_g'}).text)\n",
    "            break\n",
    "    \n",
    "    advanced_table = soup.find(attrs={'id': 'all_advanced'})\n",
    "    for child in advanced_table.children:\n",
    "        if \"table_outer_container\" in child:\n",
    "            other_soup = BeautifulSoup(child)\n",
    "            rows = other_soup.findAll(\"tr\")\n",
    "    for row in rows:\n",
    "        if 'id' in row.attrs and row.attrs['id'] == \"advanced.\" + season:\n",
    "            data_dict.update(\n",
    "                {\n",
    "                    'per': float(row.find('td', attrs={'data-stat': 'per'}).text),\n",
    "                    'ts_pct': float(row.find('td', attrs={'data-stat': 'ts_pct'}).text),\n",
    "                    'usg_pct': float(row.find('td', attrs={'data-stat': 'usg_pct'}).text),\n",
    "                    'bpm': float(row.find('td', attrs={'data-stat': 'bpm'}).text),\n",
    "                    'season': str(int(season)-1) + \"-\" + season[-2:],\n",
    "                }\n",
    "            )\n",
    "            return data_dict\n",
    "        "
   ]
  },
  {
   "cell_type": "code",
   "execution_count": 14,
   "metadata": {},
   "outputs": [],
   "source": [
    "def get_stats_of_voting(url):\n",
    "    res = requests.get(url)\n",
    "    soup = BeautifulSoup(res.text)\n",
    "    item = soup.find(attrs={'class': 'stats_table'})\n",
    "    rows = item.findAll(\"tr\")\n",
    "    \n",
    "    season = url.split(\".html\")[0][-4:]\n",
    "    \n",
    "    print(f\"Current season: {season}\")\n",
    "    \n",
    "    players_stats = defaultdict(list)\n",
    "    \n",
    "    for index, row in enumerate(rows):\n",
    "        \n",
    "        print(f\"\\tCurrent index: {index} of {len(rows)}\")\n",
    "        header_cells = row.findAll(\"th\")\n",
    "        for header_cell in header_cells:\n",
    "            if 'data-stat' in header_cell.attrs and header_cell['data-stat'] == 'ranker' and 'csk' in header_cell.attrs:\n",
    "                rank = int(header_cell.getText())\n",
    "        td_cells = row.findAll(\"td\")\n",
    "        if not td_cells:\n",
    "            continue\n",
    "        for cell in td_cells:\n",
    "            if 'data-stat' not in cell.attrs:\n",
    "                continue\n",
    "            if cell['data-stat'] == 'age':\n",
    "                continue\n",
    "            if cell['data-stat'] == 'team_id':\n",
    "                base = \"https://www.basketball-reference.com\"\n",
    "                try:\n",
    "                    link = cell.find(\"a\")['href']\n",
    "                except Exception:\n",
    "                    players_stats['win_pct'].append(0.5)  # average\n",
    "                    continue\n",
    "                url = base + link\n",
    "                time.sleep(1)\n",
    "                soup = BeautifulSoup(requests.get(url).text)\n",
    "                for item in soup.findAll(\"p\"):\n",
    "                    if \"Record\" in item.text:\n",
    "                        record = re.findall(\"\\d+\\-\\d+\", item.text)[0]\n",
    "                        splitted = record.split(\"-\")\n",
    "                        players_stats['win_pct'].append(float(splitted[0]) / (float(splitted[1]) + float(splitted[0])))\n",
    "                        break\n",
    "                continue\n",
    "            if cell['data-stat'] == 'player':\n",
    "                time.sleep(1)\n",
    "                advanced_dict = work_player_profile(cell.find(\"a\")['href'], season)\n",
    "                for key in advanced_dict:\n",
    "                    players_stats[key].append(advanced_dict[key])\n",
    "                players_stats[cell['data-stat']].append(cell.getText())\n",
    "            else:\n",
    "                text = cell.getText() or \"0\"\n",
    "                players_stats[cell['data-stat']].append(float(text))\n",
    "    return players_stats"
   ]
  },
  {
   "cell_type": "code",
   "execution_count": null,
   "metadata": {
    "scrolled": true
   },
   "outputs": [],
   "source": [
    "seasons = range(2016, 2019)\n",
    "\n",
    "new_data = defaultdict(list)\n",
    "\n",
    "for season in seasons:\n",
    "    full_url = f\"https://www.basketball-reference.com/awards/awards_{str(season)}.html\"\n",
    "    cur_season_dict = get_stats_of_voting(full_url)\n",
    "    for key in cur_season_dict:\n",
    "        new_data[key].extend(cur_season_dict[key])\n",
    "        \n",
    "data_frame = pd.DataFrame(data_mvp)\n",
    "data_frame.to_csv(\"mvp_votings.csv\")"
   ]
  },
  {
   "cell_type": "code",
   "execution_count": 20,
   "metadata": {},
   "outputs": [],
   "source": [
    "for key in new_data:\n",
    "    data_mvp[key].extend(new_data[key])"
   ]
  },
  {
   "cell_type": "code",
   "execution_count": null,
   "metadata": {},
   "outputs": [],
   "source": [
    "data_frame = pd.DataFrame(data_mvp)\n",
    "data_frame.to_csv(\"mvp_votings.csv\")"
   ]
  },
  {
   "cell_type": "markdown",
   "metadata": {},
   "source": [
    "### Load data"
   ]
  },
  {
   "cell_type": "code",
   "execution_count": 1,
   "metadata": {},
   "outputs": [
    {
     "ename": "NameError",
     "evalue": "name 'pd' is not defined",
     "output_type": "error",
     "traceback": [
      "\u001b[1;31m---------------------------------------------------------------------------\u001b[0m",
      "\u001b[1;31mNameError\u001b[0m                                 Traceback (most recent call last)",
      "\u001b[1;32m<ipython-input-1-477d74f632db>\u001b[0m in \u001b[0;36m<module>\u001b[1;34m\u001b[0m\n\u001b[1;32m----> 1\u001b[1;33m \u001b[0mdata_frame\u001b[0m \u001b[1;33m=\u001b[0m \u001b[0mpd\u001b[0m\u001b[1;33m.\u001b[0m\u001b[0mread_csv\u001b[0m\u001b[1;33m(\u001b[0m\u001b[1;34m\"mvp_votings.csv\"\u001b[0m\u001b[1;33m)\u001b[0m\u001b[1;33m\u001b[0m\u001b[1;33m\u001b[0m\u001b[0m\n\u001b[0m\u001b[0;32m      2\u001b[0m \u001b[0mdata_frame\u001b[0m\u001b[1;33m.\u001b[0m\u001b[0mhead\u001b[0m\u001b[1;33m(\u001b[0m\u001b[1;33m)\u001b[0m\u001b[1;33m\u001b[0m\u001b[1;33m\u001b[0m\u001b[0m\n",
      "\u001b[1;31mNameError\u001b[0m: name 'pd' is not defined"
     ]
    }
   ],
   "source": [
    "data_frame = pd.read_csv(\"mvp_votings.csv\")"
   ]
  },
  {
   "cell_type": "markdown",
   "metadata": {},
   "source": [
    "# Finding best features"
   ]
  },
  {
   "cell_type": "code",
   "execution_count": 4,
   "metadata": {},
   "outputs": [],
   "source": [
    "from sklearn.feature_selection import SelectKBest, mutual_info_regression, f_regression"
   ]
  },
  {
   "cell_type": "code",
   "execution_count": 5,
   "metadata": {},
   "outputs": [],
   "source": [
    "from sklearn.ensemble import RandomForestRegressor"
   ]
  },
  {
   "cell_type": "code",
   "execution_count": 6,
   "metadata": {},
   "outputs": [],
   "source": [
    "orig_features = ['fga', 'fg3a', 'fta', 'per', 'ts_pct', 'usg_pct', 'bpm',\n",
    "       'mp_per_g', 'pts_per_g', 'trb_per_g', 'ast_per_g',\n",
    "       'stl_per_g', 'blk_per_g', 'fg_pct', 'fg3_pct', 'ft_pct', 'ws',\n",
    "       'ws_per_48', 'win_pct']\n"
   ]
  },
  {
   "cell_type": "code",
   "execution_count": 7,
   "metadata": {},
   "outputs": [],
   "source": [
    "x_data = data_frame[orig_features].to_numpy()\n",
    "y_data = data_frame[['award_share']].to_numpy()\n",
    "y_data = y_data.reshape(y_data.shape[0], )"
   ]
  },
  {
   "cell_type": "markdown",
   "metadata": {},
   "source": [
    "## Using Random forest to check most significant features"
   ]
  },
  {
   "cell_type": "code",
   "execution_count": 8,
   "metadata": {},
   "outputs": [],
   "source": [
    "regressor = RandomForestRegressor(n_estimators=200)"
   ]
  },
  {
   "cell_type": "code",
   "execution_count": 9,
   "metadata": {},
   "outputs": [
    {
     "data": {
      "text/plain": [
       "RandomForestRegressor(bootstrap=True, criterion='mse', max_depth=None,\n",
       "           max_features='auto', max_leaf_nodes=None,\n",
       "           min_impurity_decrease=0.0, min_impurity_split=None,\n",
       "           min_samples_leaf=1, min_samples_split=2,\n",
       "           min_weight_fraction_leaf=0.0, n_estimators=200, n_jobs=None,\n",
       "           oob_score=False, random_state=None, verbose=0, warm_start=False)"
      ]
     },
     "execution_count": 9,
     "metadata": {},
     "output_type": "execute_result"
    }
   ],
   "source": [
    "regressor.fit(x_data, y_data)"
   ]
  },
  {
   "cell_type": "code",
   "execution_count": 10,
   "metadata": {},
   "outputs": [],
   "source": [
    "sorted_indices = np.argsort(regressor.feature_importances_)[::-1]"
   ]
  },
  {
   "cell_type": "code",
   "execution_count": 11,
   "metadata": {},
   "outputs": [
    {
     "name": "stdout",
     "output_type": "stream",
     "text": [
      "ws: 0.40651032881353694\n",
      "win_pct: 0.12516923391566231\n",
      "per: 0.09620828488856095\n",
      "bpm: 0.05180647439660696\n",
      "ws_per_48: 0.037306876283414836\n",
      "fga: 0.03628823279036492\n",
      "usg_pct: 0.02922362860650428\n",
      "ft_pct: 0.027996304407172944\n",
      "ast_per_g: 0.024380031499797675\n",
      "fg_pct: 0.022485588465302166\n",
      "mp_per_g: 0.022081776438384656\n",
      "fta: 0.02187362197773666\n",
      "pts_per_g: 0.018496710202897785\n",
      "trb_per_g: 0.01616551911325858\n",
      "fg3_pct: 0.016158514189164693\n",
      "ts_pct: 0.015414174749726362\n",
      "blk_per_g: 0.011512056523768808\n",
      "stl_per_g: 0.010514733414184891\n",
      "fg3a: 0.010407909323953446\n"
     ]
    }
   ],
   "source": [
    "for index in sorted_indices:\n",
    "    print(f\"{orig_features[index]}: {regressor.feature_importances_[index]}\")"
   ]
  },
  {
   "cell_type": "markdown",
   "metadata": {},
   "source": [
    "It kinda seems that only using Win shares we can conclude which player won the most points."
   ]
  },
  {
   "cell_type": "markdown",
   "metadata": {},
   "source": [
    "## Using feature selection"
   ]
  },
  {
   "cell_type": "code",
   "execution_count": 12,
   "metadata": {},
   "outputs": [],
   "source": [
    "selector = SelectKBest(mutual_info_regression, k=5)"
   ]
  },
  {
   "cell_type": "code",
   "execution_count": 13,
   "metadata": {},
   "outputs": [],
   "source": [
    "best_feat = selector.fit_transform(x_data, y_data)"
   ]
  },
  {
   "cell_type": "code",
   "execution_count": 14,
   "metadata": {},
   "outputs": [],
   "source": [
    "sorted_indices = np.argsort(selector.scores_)[::-1]"
   ]
  },
  {
   "cell_type": "code",
   "execution_count": 15,
   "metadata": {
    "scrolled": true
   },
   "outputs": [
    {
     "name": "stdout",
     "output_type": "stream",
     "text": [
      "ws: 0.3037\n",
      "per: 0.2628\n",
      "ws_per_48: 0.2598\n",
      "bpm: 0.1992\n",
      "pts_per_g: 0.1482\n",
      "win_pct: 0.1152\n",
      "usg_pct: 0.1012\n",
      "fta: 0.0967\n",
      "fga: 0.0875\n",
      "ts_pct: 0.0773\n",
      "trb_per_g: 0.0702\n",
      "mp_per_g: 0.0626\n",
      "stl_per_g: 0.0467\n",
      "fg3a: 0.0269\n",
      "ast_per_g: 0.0251\n",
      "ft_pct: 0.0245\n",
      "blk_per_g: 0.0168\n",
      "fg_pct: 0.0127\n",
      "fg3_pct: 0.0000\n"
     ]
    }
   ],
   "source": [
    "for index in sorted_indices:\n",
    "    print(f\"{orig_features[index]}: {selector.scores_[index]:.4f}\")"
   ]
  },
  {
   "cell_type": "markdown",
   "metadata": {},
   "source": [
    "Same goes here, Win shares are at the top again."
   ]
  },
  {
   "cell_type": "markdown",
   "metadata": {},
   "source": [
    "## Correlation matrix"
   ]
  },
  {
   "cell_type": "code",
   "execution_count": 16,
   "metadata": {},
   "outputs": [],
   "source": [
    "data = data_frame[orig_features + [\"award_share\"]]"
   ]
  },
  {
   "cell_type": "code",
   "execution_count": 17,
   "metadata": {},
   "outputs": [],
   "source": [
    "import seaborn as sns"
   ]
  },
  {
   "cell_type": "code",
   "execution_count": 18,
   "metadata": {
    "scrolled": false
   },
   "outputs": [
    {
     "data": {
      "text/plain": [
       "<matplotlib.axes._subplots.AxesSubplot at 0x7f18047db940>"
      ]
     },
     "execution_count": 18,
     "metadata": {},
     "output_type": "execute_result"
    },
    {
     "data": {
      "image/png": "[encoded data removed]",
      "text/plain": [
       "<Figure size 1152x1152 with 2 Axes>"
      ]
     },
     "metadata": {},
     "output_type": "display_data"
    }
   ],
   "source": [
    "fig = plt.figure(figsize=(16, 16))\n",
    "\n",
    "fig.set_facecolor('white')\n",
    "\n",
    "sns.heatmap(data.corr(), annot=True, cmap=\"RdYlGn\")"
   ]
  },
  {
   "cell_type": "markdown",
   "metadata": {},
   "source": [
    "BPM and PER represent similar stat. "
   ]
  },
  {
   "cell_type": "markdown",
   "metadata": {},
   "source": [
    "Points per game is directly connected with usage"
   ]
  },
  {
   "cell_type": "markdown",
   "metadata": {},
   "source": [
    "I will remove now all percentages because true shooting percentage is enough. Also, WS per 48 can be removed since WS are better and that is just scaled value.\n",
    "\n",
    "Also, the attempts will be removed since they are included in usage stat."
   ]
  },
  {
   "cell_type": "markdown",
   "metadata": {},
   "source": [
    "Since per and BPM model similiar stat, I will use BPM only"
   ]
  },
  {
   "cell_type": "code",
   "execution_count": 19,
   "metadata": {},
   "outputs": [],
   "source": [
    "features = ['ts_pct', 'bpm', 'mp_per_g', 'pts_per_g', 'trb_per_g', 'ast_per_g',\n",
    "            'stl_per_g', 'blk_per_g', 'ws', 'win_pct']"
   ]
  },
  {
   "cell_type": "code",
   "execution_count": 20,
   "metadata": {
    "scrolled": true
   },
   "outputs": [
    {
     "data": {
      "image/png": "[encoded data removed]",
      "text/plain": [
       "<Figure size 1008x1008 with 2 Axes>"
      ]
     },
     "metadata": {},
     "output_type": "display_data"
    }
   ],
   "source": [
    "data = data_frame[features + [\"award_share\"]]\n",
    "fig = plt.figure(figsize=(14, 14))\n",
    "\n",
    "fig.set_facecolor('white')\n",
    "\n",
    "sns.heatmap(data.corr(), annot=True, cmap=\"RdYlGn\")\n",
    "_ = plt.yticks(rotation='horizontal')"
   ]
  },
  {
   "cell_type": "code",
   "execution_count": 21,
   "metadata": {},
   "outputs": [],
   "source": [
    "data = data_frame[orig_features]"
   ]
  },
  {
   "cell_type": "code",
   "execution_count": 22,
   "metadata": {},
   "outputs": [],
   "source": [
    "from sklearn.decomposition import PCA"
   ]
  },
  {
   "cell_type": "code",
   "execution_count": 23,
   "metadata": {},
   "outputs": [],
   "source": [
    "from sklearn.preprocessing import StandardScaler"
   ]
  },
  {
   "cell_type": "code",
   "execution_count": 24,
   "metadata": {},
   "outputs": [],
   "source": [
    "scaler = StandardScaler()"
   ]
  },
  {
   "cell_type": "code",
   "execution_count": 25,
   "metadata": {},
   "outputs": [],
   "source": [
    "transformed = scaler.fit_transform(data)"
   ]
  },
  {
   "cell_type": "code",
   "execution_count": 26,
   "metadata": {},
   "outputs": [],
   "source": [
    "pca = PCA(n_components=1)"
   ]
  },
  {
   "cell_type": "code",
   "execution_count": 27,
   "metadata": {},
   "outputs": [],
   "source": [
    "decomposed = pca.fit_transform(transformed)"
   ]
  },
  {
   "cell_type": "code",
   "execution_count": 28,
   "metadata": {},
   "outputs": [
    {
     "data": {
      "text/plain": [
       "<matplotlib.collections.PathCollection at 0x7f1801abb400>"
      ]
     },
     "execution_count": 28,
     "metadata": {},
     "output_type": "execute_result"
    },
    {
     "data": {
      "image/png": "[encoded data removed]",
      "text/plain": [
       "<Figure size 1008x1008 with 1 Axes>"
      ]
     },
     "metadata": {
      "needs_background": "light"
     },
     "output_type": "display_data"
    }
   ],
   "source": [
    "plt.figure(figsize=(14, 14))\n",
    "\n",
    "plt.scatter(decomposed, data_frame.award_share)"
   ]
  },
  {
   "cell_type": "markdown",
   "metadata": {},
   "source": [
    "We can see that the data doesn't really fit that well the regression task, but we gotta work with what we have."
   ]
  },
  {
   "cell_type": "code",
   "execution_count": 29,
   "metadata": {},
   "outputs": [
    {
     "data": {
      "text/plain": [
       "Text(0.5, 0, 'Award share')"
      ]
     },
     "execution_count": 29,
     "metadata": {},
     "output_type": "execute_result"
    },
    {
     "data": {
      "image/png": "[encoded data removed]",
      "text/plain": [
       "<Figure size 864x864 with 1 Axes>"
      ]
     },
     "metadata": {},
     "output_type": "display_data"
    }
   ],
   "source": [
    "plt.figure(figsize=(12, 12))\n",
    "\n",
    "plt.hist(data_frame.award_share, bins=20, edgecolor='#F5F5F5')\n",
    "plt.title(\"Number of occurrences of award shares\", size=16)\n",
    "plt.ylabel(\"Number of occurrences\", size=12)\n",
    "plt.xlabel(\"Award share\", size=12)"
   ]
  },
  {
   "cell_type": "markdown",
   "metadata": {},
   "source": [
    "# Defining the pipeline"
   ]
  },
  {
   "cell_type": "code",
   "execution_count": 30,
   "metadata": {},
   "outputs": [],
   "source": [
    "from sklearn.preprocessing import PolynomialFeatures, normalize, StandardScaler, MinMaxScaler\n",
    "from sklearn.linear_model import SGDRegressor, LinearRegression, Ridge, Lasso, ElasticNet\n",
    "from sklearn.neural_network import MLPRegressor\n",
    "from sklearn.svm import SVR\n",
    "from sklearn.ensemble import RandomForestRegressor, GradientBoostingRegressor, BaggingRegressor, AdaBoostRegressor"
   ]
  },
  {
   "cell_type": "code",
   "execution_count": 31,
   "metadata": {},
   "outputs": [],
   "source": [
    "from sklearn.metrics import mean_squared_error\n",
    "from sklearn.utils import shuffle"
   ]
  },
  {
   "cell_type": "code",
   "execution_count": 32,
   "metadata": {},
   "outputs": [],
   "source": [
    "import logging"
   ]
  },
  {
   "cell_type": "code",
   "execution_count": 156,
   "metadata": {},
   "outputs": [],
   "source": [
    "def pipeline(data_frame, estimators, params, filename, poly_fit = None, scaler = None):\n",
    "    \n",
    "    unique_seasons = data_frame.season.unique()\n",
    "    train_columns = ['ts_pct', 'bpm', 'usg_pct', 'pts_per_g', 'trb_per_g', 'per', 'ws','ws_per_48', 'win_pct']\n",
    "    target_columns = ['award_share']\n",
    "    \n",
    "    for handler in logging.root.handlers[:]:\n",
    "        logging.root.removeHandler(handler)\n",
    "    logging.basicConfig(filename=filename, filemode='w', level=logging.INFO)\n",
    "    logger = logging.getLogger()\n",
    "    \n",
    "    minimal_error, best_estimator = None, None\n",
    "    \n",
    "    for estimator in estimators:\n",
    "        \n",
    "        try: \n",
    "            print(f\"Starting with estimator: {estimator.__name__}\")\n",
    "            logging.info(f\"Starting with estimator: {estimator.__name__}\")\n",
    "\n",
    "            for index, cur_params in enumerate(params[estimator.__name__]):\n",
    "\n",
    "                regressor = estimator(**cur_params)\n",
    "\n",
    "                # To collect MSE over each split\n",
    "                errors = []\n",
    "\n",
    "                # to collect accuracies\n",
    "                accuracies = []\n",
    "                top_1_accs = []\n",
    "\n",
    "                for season in unique_seasons:\n",
    "                    \n",
    "                    train_data = data_frame.loc[data_frame.season != season]\n",
    "                    validation_data = data_frame.loc[data_frame.season == season]\n",
    "                    validation_data = validation_data.sort_values(by='award_share', ascending=False)\n",
    "\n",
    "                    # Get train data\n",
    "                    train_x = train_data[train_columns].to_numpy()\n",
    "                    train_y = train_data[target_columns].to_numpy()\n",
    "                    train_y = train_y.reshape(train_y.shape[0], )\n",
    "\n",
    "                    # Validate over one season only\n",
    "                    val_x = validation_data[train_columns].to_numpy()\n",
    "                    val_y = validation_data[target_columns].to_numpy()\n",
    "                    val_y = val_y.reshape(val_y.shape[0], )\n",
    "\n",
    "                    if poly_fit is not None:\n",
    "                        # poly_fit = PolynomialFeatures(degree=2,interaction_only=False)\n",
    "                        train_x = poly_fit.fit_transform(train_x)\n",
    "                        val_x = poly_fit.fit_transform(val_x)\n",
    "\n",
    "                    if scaler is not None:\n",
    "                        train_x = scaler.fit_transform(train_x)\n",
    "                        val_x = scaler.fit_transform(val_x)\n",
    "                        \n",
    "                    shuffle_x, shuffle_y = shuffle(train_x, train_y)\n",
    "\n",
    "                    regressor.fit(shuffle_x, shuffle_y)\n",
    "                    predicted_y = regressor.predict(val_x)\n",
    "\n",
    "                    sorted_indices = np.argsort(predicted_y)[::-1]\n",
    "                    correct_indices = np.arange(len(val_y))\n",
    "\n",
    "                    accuracy = np.sum(sorted_indices[:5] == correct_indices[:5]) / len(correct_indices[:5])\n",
    "                    accuracies.append(accuracy)\n",
    "                    \n",
    "                    top_1_accs.append(\n",
    "                        np.sum(sorted_indices[:1] == correct_indices[:1]) / len(correct_indices[:1])\n",
    "                    )\n",
    "                    curr_error = mean_squared_error(val_y, predicted_y)\n",
    "                    errors.append(curr_error)\n",
    "\n",
    "                mean_error = np.average(errors)\n",
    "                mean_accuracy = np.average(accuracies)\n",
    "                mean_acc_at_1 = np.average(top_1_accs)\n",
    "                logging.info(f\"Params: {cur_params}, MSE over all splits is: {mean_error:.4f}, Mean acc at 5: {mean_accuracy:.4f}, Mean acc at 1: {mean_acc_at_1:.4f}\")\n",
    "                print(\n",
    "                    f\"Params: {cur_params}, MSE over all splits is: {mean_error:.4f}, Mean acc at 5: {mean_accuracy:.4f}, Mean acc at 1: {mean_acc_at_1:.4f}\"\n",
    "                )\n",
    "\n",
    "\n",
    "                if minimal_error is None or mean_error < minimal_error:\n",
    "                    minimal_error = mean_error\n",
    "                    best_estimator = estimator(*cur_params)\n",
    "        except Exception:\n",
    "            print(f\"Exception: {estimator}\")\n",
    "            continue\n",
    "            \n",
    "    return best_estimator\n",
    "        "
   ]
  },
  {
   "cell_type": "code",
   "execution_count": 147,
   "metadata": {},
   "outputs": [],
   "source": [
    "def define_rbf_svr():\n",
    "    dicts = []\n",
    "    for C in [0.1, 1, 10, 50, 100]:\n",
    "        for gamma in [0.00001, 0.0001, 0.001, 0.01, 0.1]:\n",
    "            dicts.append(\n",
    "                {\n",
    "                    'kernel': 'rbf',\n",
    "                    'C': C,\n",
    "                    'gamma': gamma\n",
    "                }\n",
    "            )\n",
    "    return dicts\n",
    "\n",
    "def define_poly_svr():\n",
    "    dicts = []\n",
    "    for C in [0.1, 1, 10, 100]:\n",
    "        for gamma in [0.0001, 0.001, 0.01, 0.1]:\n",
    "            for degree in [1, 2, 3]:\n",
    "                dicts.append(\n",
    "                    {\n",
    "                        'kernel': 'poly',\n",
    "                        'C': C,\n",
    "                        'gamma': gamma,\n",
    "                        'degree': degree\n",
    "                    }\n",
    "                )\n",
    "    return dicts\n",
    "\n",
    "def define_linear_svr():\n",
    "    dicts = []\n",
    "    for C in [0.1, 1, 10, 100]:\n",
    "        dicts.append(\n",
    "            {\n",
    "                'kernel': 'linear',\n",
    "                'C': C\n",
    "            }\n",
    "        )\n",
    "    return dicts"
   ]
  },
  {
   "cell_type": "code",
   "execution_count": 148,
   "metadata": {},
   "outputs": [],
   "source": [
    "def define_gradient_boosting_regressor():\n",
    "    dicts = []\n",
    "    for estimator in [10, 50, 100, 200]:\n",
    "        for learning_rate in [0.1, 0.01, 0.001, 0.0001, 1]:\n",
    "            for subsample in [0.5, 1.0]:\n",
    "                dicts.append(\n",
    "                    {\n",
    "                        'n_estimators': estimator,\n",
    "                        'learning_rate': learning_rate,\n",
    "                        'subsample': subsample,\n",
    "                    }\n",
    "                )\n",
    "    return dicts\n",
    "\n",
    "def define_adaboost_regressor():\n",
    "    dicts = []\n",
    "    BaggingRegressor\n",
    "    for n_estimators in [10, 50, 100, 200]:\n",
    "        for learning_rate in [0.0001, 0.001, 0.01, 0.1, 1]:\n",
    "            dicts.append(\n",
    "                {\n",
    "                    'base_estimator': Ridge(alpha=10.0),\n",
    "                    'n_estimators': n_estimators,\n",
    "                }\n",
    "            )\n",
    "    return dicts"
   ]
  },
  {
   "cell_type": "code",
   "execution_count": 149,
   "metadata": {},
   "outputs": [],
   "source": [
    "def get_elastic_net_params():\n",
    "    dicts = []\n",
    "    for alpha in [0.2, 0.5, 1.0, 2.0, 5.0]:\n",
    "        for ratio in [0.2, 0.4, 0.5, 0.6, 0.8]:\n",
    "            dicts.append(\n",
    "                {\n",
    "                    'alpha': alpha,\n",
    "                    'l1_ratio': ratio\n",
    "                }\n",
    "            )\n",
    "    return dicts"
   ]
  },
  {
   "cell_type": "code",
   "execution_count": 159,
   "metadata": {},
   "outputs": [],
   "source": [
    "estimators = [\n",
    "    LinearRegression,\n",
    "    Ridge,\n",
    "    RandomForestRegressor,\n",
    "    #ElasticNet,\n",
    "    # AdaBoostRegressor,\n",
    "    GradientBoostingRegressor,\n",
    "    SVR,\n",
    "    # MLPRegressor,\n",
    "]\n",
    "params = {\n",
    "    LinearRegression.__name__: [\n",
    "        {\n",
    "            'n_jobs': -1,\n",
    "        },\n",
    "        {\n",
    "            'n_jobs': -1,\n",
    "            'normalize': True\n",
    "        },\n",
    "    ],\n",
    "    Ridge.__name__: [\n",
    "        {\n",
    "            'alpha': 1.0\n",
    "        },\n",
    "        {\n",
    "            'alpha': 10.0\n",
    "        },\n",
    "        {\n",
    "            'alpha': 50.0\n",
    "        },\n",
    "        {\n",
    "            'alpha': 100.0\n",
    "        },\n",
    "        {\n",
    "            'alpha': 200.0\n",
    "        },\n",
    "        {\n",
    "            'alpha': 500.0\n",
    "        },\n",
    "    ],\n",
    "    ElasticNet.__name__: [\n",
    "        *get_elastic_net_params()\n",
    "    ],\n",
    "    RandomForestRegressor.__name__: [\n",
    "        {\n",
    "            'n_estimators': 10,\n",
    "            'n_jobs': -1\n",
    "        },\n",
    "        {\n",
    "            'n_estimators': 100,\n",
    "            'n_jobs': -1\n",
    "        },\n",
    "        {\n",
    "            'n_estimators': 50,\n",
    "            'n_jobs': -1\n",
    "        },\n",
    "        {\n",
    "            'n_estimators': 50,\n",
    "            'n_jobs': -1,\n",
    "            'min_samples_split': 3\n",
    "        },\n",
    "        {\n",
    "            'n_estimators': 100,\n",
    "            'n_jobs': -1,\n",
    "            'min_samples_split': 3\n",
    "        },\n",
    "        {\n",
    "            'n_estimators': 200,\n",
    "            'n_jobs': -1,\n",
    "            'min_samples_split': 3\n",
    "        },\n",
    "        {\n",
    "            'n_estimators': 200,\n",
    "            'n_jobs': -1,\n",
    "        },\n",
    "    ],\n",
    "    SVR.__name__: [\n",
    "        # *define_poly_svr(),\n",
    "        # *define_linear_svr(),\n",
    "        *define_rbf_svr(),\n",
    "    ],\n",
    "    AdaBoostRegressor.__name__: [\n",
    "        *define_adaboost_regressor()\n",
    "    ],\n",
    "    GradientBoostingRegressor.__name__: [\n",
    "        *define_gradient_boosting_regressor()\n",
    "    ],\n",
    "}"
   ]
  },
  {
   "cell_type": "code",
   "execution_count": 158,
   "metadata": {
    "scrolled": true
   },
   "outputs": [
    {
     "name": "stdout",
     "output_type": "stream",
     "text": [
      "Starting with estimator: LAD\n"
     ]
    },
    {
     "name": "stderr",
     "output_type": "stream",
     "text": [
      "/home/daniel/.local/lib/python3.6/site-packages/sklearn/svm/base.py:931: ConvergenceWarning: Liblinear failed to converge, increase the number of iterations.\n",
      "  \"the number of iterations.\", ConvergenceWarning)\n",
      "/home/daniel/.local/lib/python3.6/site-packages/sklearn/svm/base.py:931: ConvergenceWarning: Liblinear failed to converge, increase the number of iterations.\n",
      "  \"the number of iterations.\", ConvergenceWarning)\n",
      "/home/daniel/.local/lib/python3.6/site-packages/sklearn/svm/base.py:931: ConvergenceWarning: Liblinear failed to converge, increase the number of iterations.\n",
      "  \"the number of iterations.\", ConvergenceWarning)\n",
      "/home/daniel/.local/lib/python3.6/site-packages/sklearn/svm/base.py:931: ConvergenceWarning: Liblinear failed to converge, increase the number of iterations.\n",
      "  \"the number of iterations.\", ConvergenceWarning)\n",
      "/home/daniel/.local/lib/python3.6/site-packages/sklearn/svm/base.py:931: ConvergenceWarning: Liblinear failed to converge, increase the number of iterations.\n",
      "  \"the number of iterations.\", ConvergenceWarning)\n",
      "/home/daniel/.local/lib/python3.6/site-packages/sklearn/svm/base.py:931: ConvergenceWarning: Liblinear failed to converge, increase the number of iterations.\n",
      "  \"the number of iterations.\", ConvergenceWarning)\n",
      "/home/daniel/.local/lib/python3.6/site-packages/sklearn/svm/base.py:931: ConvergenceWarning: Liblinear failed to converge, increase the number of iterations.\n",
      "  \"the number of iterations.\", ConvergenceWarning)\n",
      "/home/daniel/.local/lib/python3.6/site-packages/sklearn/svm/base.py:931: ConvergenceWarning: Liblinear failed to converge, increase the number of iterations.\n",
      "  \"the number of iterations.\", ConvergenceWarning)\n",
      "/home/daniel/.local/lib/python3.6/site-packages/sklearn/svm/base.py:931: ConvergenceWarning: Liblinear failed to converge, increase the number of iterations.\n",
      "  \"the number of iterations.\", ConvergenceWarning)\n",
      "/home/daniel/.local/lib/python3.6/site-packages/sklearn/svm/base.py:931: ConvergenceWarning: Liblinear failed to converge, increase the number of iterations.\n",
      "  \"the number of iterations.\", ConvergenceWarning)\n",
      "/home/daniel/.local/lib/python3.6/site-packages/sklearn/svm/base.py:931: ConvergenceWarning: Liblinear failed to converge, increase the number of iterations.\n",
      "  \"the number of iterations.\", ConvergenceWarning)\n",
      "/home/daniel/.local/lib/python3.6/site-packages/sklearn/svm/base.py:931: ConvergenceWarning: Liblinear failed to converge, increase the number of iterations.\n",
      "  \"the number of iterations.\", ConvergenceWarning)\n",
      "/home/daniel/.local/lib/python3.6/site-packages/sklearn/svm/base.py:931: ConvergenceWarning: Liblinear failed to converge, increase the number of iterations.\n",
      "  \"the number of iterations.\", ConvergenceWarning)\n",
      "/home/daniel/.local/lib/python3.6/site-packages/sklearn/svm/base.py:931: ConvergenceWarning: Liblinear failed to converge, increase the number of iterations.\n",
      "  \"the number of iterations.\", ConvergenceWarning)\n",
      "/home/daniel/.local/lib/python3.6/site-packages/sklearn/svm/base.py:931: ConvergenceWarning: Liblinear failed to converge, increase the number of iterations.\n",
      "  \"the number of iterations.\", ConvergenceWarning)\n",
      "/home/daniel/.local/lib/python3.6/site-packages/sklearn/svm/base.py:931: ConvergenceWarning: Liblinear failed to converge, increase the number of iterations.\n",
      "  \"the number of iterations.\", ConvergenceWarning)\n",
      "/home/daniel/.local/lib/python3.6/site-packages/sklearn/svm/base.py:931: ConvergenceWarning: Liblinear failed to converge, increase the number of iterations.\n",
      "  \"the number of iterations.\", ConvergenceWarning)\n",
      "/home/daniel/.local/lib/python3.6/site-packages/sklearn/svm/base.py:931: ConvergenceWarning: Liblinear failed to converge, increase the number of iterations.\n",
      "  \"the number of iterations.\", ConvergenceWarning)\n",
      "/home/daniel/.local/lib/python3.6/site-packages/sklearn/svm/base.py:931: ConvergenceWarning: Liblinear failed to converge, increase the number of iterations.\n",
      "  \"the number of iterations.\", ConvergenceWarning)\n",
      "/home/daniel/.local/lib/python3.6/site-packages/sklearn/svm/base.py:931: ConvergenceWarning: Liblinear failed to converge, increase the number of iterations.\n",
      "  \"the number of iterations.\", ConvergenceWarning)\n",
      "/home/daniel/.local/lib/python3.6/site-packages/sklearn/svm/base.py:931: ConvergenceWarning: Liblinear failed to converge, increase the number of iterations.\n",
      "  \"the number of iterations.\", ConvergenceWarning)\n",
      "/home/daniel/.local/lib/python3.6/site-packages/sklearn/svm/base.py:931: ConvergenceWarning: Liblinear failed to converge, increase the number of iterations.\n",
      "  \"the number of iterations.\", ConvergenceWarning)\n",
      "/home/daniel/.local/lib/python3.6/site-packages/sklearn/svm/base.py:931: ConvergenceWarning: Liblinear failed to converge, increase the number of iterations.\n",
      "  \"the number of iterations.\", ConvergenceWarning)\n",
      "/home/daniel/.local/lib/python3.6/site-packages/sklearn/svm/base.py:931: ConvergenceWarning: Liblinear failed to converge, increase the number of iterations.\n",
      "  \"the number of iterations.\", ConvergenceWarning)\n",
      "/home/daniel/.local/lib/python3.6/site-packages/sklearn/svm/base.py:931: ConvergenceWarning: Liblinear failed to converge, increase the number of iterations.\n",
      "  \"the number of iterations.\", ConvergenceWarning)\n",
      "/home/daniel/.local/lib/python3.6/site-packages/sklearn/svm/base.py:931: ConvergenceWarning: Liblinear failed to converge, increase the number of iterations.\n",
      "  \"the number of iterations.\", ConvergenceWarning)\n",
      "/home/daniel/.local/lib/python3.6/site-packages/sklearn/svm/base.py:931: ConvergenceWarning: Liblinear failed to converge, increase the number of iterations.\n",
      "  \"the number of iterations.\", ConvergenceWarning)\n",
      "/home/daniel/.local/lib/python3.6/site-packages/sklearn/svm/base.py:931: ConvergenceWarning: Liblinear failed to converge, increase the number of iterations.\n",
      "  \"the number of iterations.\", ConvergenceWarning)\n",
      "/home/daniel/.local/lib/python3.6/site-packages/sklearn/svm/base.py:931: ConvergenceWarning: Liblinear failed to converge, increase the number of iterations.\n",
      "  \"the number of iterations.\", ConvergenceWarning)\n",
      "/home/daniel/.local/lib/python3.6/site-packages/sklearn/svm/base.py:931: ConvergenceWarning: Liblinear failed to converge, increase the number of iterations.\n",
      "  \"the number of iterations.\", ConvergenceWarning)\n",
      "/home/daniel/.local/lib/python3.6/site-packages/sklearn/svm/base.py:931: ConvergenceWarning: Liblinear failed to converge, increase the number of iterations.\n",
      "  \"the number of iterations.\", ConvergenceWarning)\n",
      "/home/daniel/.local/lib/python3.6/site-packages/sklearn/svm/base.py:931: ConvergenceWarning: Liblinear failed to converge, increase the number of iterations.\n",
      "  \"the number of iterations.\", ConvergenceWarning)\n",
      "/home/daniel/.local/lib/python3.6/site-packages/sklearn/svm/base.py:931: ConvergenceWarning: Liblinear failed to converge, increase the number of iterations.\n",
      "  \"the number of iterations.\", ConvergenceWarning)\n",
      "/home/daniel/.local/lib/python3.6/site-packages/sklearn/svm/base.py:931: ConvergenceWarning: Liblinear failed to converge, increase the number of iterations.\n",
      "  \"the number of iterations.\", ConvergenceWarning)\n",
      "/home/daniel/.local/lib/python3.6/site-packages/sklearn/svm/base.py:931: ConvergenceWarning: Liblinear failed to converge, increase the number of iterations.\n",
      "  \"the number of iterations.\", ConvergenceWarning)\n",
      "/home/daniel/.local/lib/python3.6/site-packages/sklearn/svm/base.py:931: ConvergenceWarning: Liblinear failed to converge, increase the number of iterations.\n",
      "  \"the number of iterations.\", ConvergenceWarning)\n",
      "/home/daniel/.local/lib/python3.6/site-packages/sklearn/svm/base.py:931: ConvergenceWarning: Liblinear failed to converge, increase the number of iterations.\n",
      "  \"the number of iterations.\", ConvergenceWarning)\n"
     ]
    },
    {
     "name": "stdout",
     "output_type": "stream",
     "text": [
      "Params: {'epsilon': 0.001, 'max_iter': 5000}, MSE over all splits is: 0.0892, Mean acc at 5: 0.0632, Mean acc at 1: 0.2632\n"
     ]
    },
    {
     "name": "stderr",
     "output_type": "stream",
     "text": [
      "/home/daniel/.local/lib/python3.6/site-packages/sklearn/svm/base.py:931: ConvergenceWarning: Liblinear failed to converge, increase the number of iterations.\n",
      "  \"the number of iterations.\", ConvergenceWarning)\n"
     ]
    }
   ],
   "source": [
    "best_estimator = pipeline(\n",
    "    data_frame=data_frame,\n",
    "    estimators=estimators,\n",
    "    params=params,\n",
    "    filename=\"temp.txt\",\n",
    "    # scaler=MinMaxScaler(),\n",
    "    poly_fit=PolynomialFeatures(degree=2, interaction_only=False),\n",
    ")"
   ]
  },
  {
   "cell_type": "code",
   "execution_count": 176,
   "metadata": {
    "scrolled": true
   },
   "outputs": [
    {
     "name": "stdout",
     "output_type": "stream",
     "text": [
      "Starting with estimator: LinearRegression\n",
      "Params: {'n_jobs': -1}, MSE over all splits is: 0.0350, Mean acc at 5: 0.2421, Mean acc at 1: 0.6316\n",
      "Params: {'n_jobs': -1, 'normalize': True}, MSE over all splits is: 0.0276, Mean acc at 5: 0.2895, Mean acc at 1: 0.6579\n",
      "Starting with estimator: Ridge\n",
      "Params: {'alpha': 1.0}, MSE over all splits is: 0.0269, Mean acc at 5: 0.3105, Mean acc at 1: 0.6316\n",
      "Params: {'alpha': 10.0}, MSE over all splits is: 0.0270, Mean acc at 5: 0.3526, Mean acc at 1: 0.6579\n",
      "Params: {'alpha': 50.0}, MSE over all splits is: 0.0275, Mean acc at 5: 0.3316, Mean acc at 1: 0.6579\n",
      "Params: {'alpha': 100.0}, MSE over all splits is: 0.0280, Mean acc at 5: 0.3263, Mean acc at 1: 0.6579\n",
      "Params: {'alpha': 200.0}, MSE over all splits is: 0.0285, Mean acc at 5: 0.3105, Mean acc at 1: 0.6316\n",
      "Params: {'alpha': 500.0}, MSE over all splits is: 0.0291, Mean acc at 5: 0.3158, Mean acc at 1: 0.6316\n",
      "Starting with estimator: RandomForestRegressor\n",
      "Params: {'n_estimators': 10, 'n_jobs': -1}, MSE over all splits is: 0.0284, Mean acc at 5: 0.3158, Mean acc at 1: 0.6579\n",
      "Params: {'n_estimators': 100, 'n_jobs': -1}, MSE over all splits is: 0.0263, Mean acc at 5: 0.2789, Mean acc at 1: 0.6842\n",
      "Params: {'n_estimators': 50, 'n_jobs': -1}, MSE over all splits is: 0.0269, Mean acc at 5: 0.3158, Mean acc at 1: 0.7105\n",
      "Params: {'n_estimators': 50, 'n_jobs': -1, 'min_samples_split': 3}, MSE over all splits is: 0.0272, Mean acc at 5: 0.3000, Mean acc at 1: 0.6842\n",
      "Params: {'n_estimators': 100, 'n_jobs': -1, 'min_samples_split': 3}, MSE over all splits is: 0.0264, Mean acc at 5: 0.2895, Mean acc at 1: 0.6579\n",
      "Params: {'n_estimators': 200, 'n_jobs': -1, 'min_samples_split': 3}, MSE over all splits is: 0.0265, Mean acc at 5: 0.3316, Mean acc at 1: 0.6842\n",
      "Params: {'n_estimators': 200, 'n_jobs': -1}, MSE over all splits is: 0.0263, Mean acc at 5: 0.2895, Mean acc at 1: 0.6579\n",
      "Starting with estimator: GradientBoostingRegressor\n",
      "Params: {'n_estimators': 10, 'learning_rate': 0.1, 'subsample': 0.5}, MSE over all splits is: 0.0315, Mean acc at 5: 0.2947, Mean acc at 1: 0.6316\n",
      "Params: {'n_estimators': 10, 'learning_rate': 0.1, 'subsample': 1.0}, MSE over all splits is: 0.0309, Mean acc at 5: 0.2895, Mean acc at 1: 0.6579\n",
      "Params: {'n_estimators': 10, 'learning_rate': 0.01, 'subsample': 0.5}, MSE over all splits is: 0.0618, Mean acc at 5: 0.2789, Mean acc at 1: 0.6316\n",
      "Params: {'n_estimators': 10, 'learning_rate': 0.01, 'subsample': 1.0}, MSE over all splits is: 0.0617, Mean acc at 5: 0.2579, Mean acc at 1: 0.6316\n",
      "Params: {'n_estimators': 10, 'learning_rate': 0.001, 'subsample': 0.5}, MSE over all splits is: 0.0685, Mean acc at 5: 0.3158, Mean acc at 1: 0.6842\n",
      "Params: {'n_estimators': 10, 'learning_rate': 0.001, 'subsample': 1.0}, MSE over all splits is: 0.0685, Mean acc at 5: 0.2316, Mean acc at 1: 0.6316\n",
      "Params: {'n_estimators': 10, 'learning_rate': 0.0001, 'subsample': 0.5}, MSE over all splits is: 0.0692, Mean acc at 5: 0.2895, Mean acc at 1: 0.6842\n",
      "Params: {'n_estimators': 10, 'learning_rate': 0.0001, 'subsample': 1.0}, MSE over all splits is: 0.0692, Mean acc at 5: 0.2526, Mean acc at 1: 0.6316\n",
      "Params: {'n_estimators': 10, 'learning_rate': 1, 'subsample': 0.5}, MSE over all splits is: 0.0787, Mean acc at 5: 0.2526, Mean acc at 1: 0.4737\n",
      "Params: {'n_estimators': 10, 'learning_rate': 1, 'subsample': 1.0}, MSE over all splits is: 0.0325, Mean acc at 5: 0.2947, Mean acc at 1: 0.7105\n",
      "Params: {'n_estimators': 50, 'learning_rate': 0.1, 'subsample': 0.5}, MSE over all splits is: 0.0267, Mean acc at 5: 0.2895, Mean acc at 1: 0.6579\n",
      "Params: {'n_estimators': 50, 'learning_rate': 0.1, 'subsample': 1.0}, MSE over all splits is: 0.0259, Mean acc at 5: 0.2842, Mean acc at 1: 0.6842\n",
      "Params: {'n_estimators': 50, 'learning_rate': 0.01, 'subsample': 0.5}, MSE over all splits is: 0.0418, Mean acc at 5: 0.2737, Mean acc at 1: 0.6579\n",
      "Params: {'n_estimators': 50, 'learning_rate': 0.01, 'subsample': 1.0}, MSE over all splits is: 0.0427, Mean acc at 5: 0.2895, Mean acc at 1: 0.6316\n",
      "Params: {'n_estimators': 50, 'learning_rate': 0.001, 'subsample': 0.5}, MSE over all splits is: 0.0653, Mean acc at 5: 0.3158, Mean acc at 1: 0.6579\n",
      "Params: {'n_estimators': 50, 'learning_rate': 0.001, 'subsample': 1.0}, MSE over all splits is: 0.0653, Mean acc at 5: 0.2368, Mean acc at 1: 0.6316\n",
      "Params: {'n_estimators': 50, 'learning_rate': 0.0001, 'subsample': 0.5}, MSE over all splits is: 0.0689, Mean acc at 5: 0.2789, Mean acc at 1: 0.6842\n",
      "Params: {'n_estimators': 50, 'learning_rate': 0.0001, 'subsample': 1.0}, MSE over all splits is: 0.0689, Mean acc at 5: 0.2368, Mean acc at 1: 0.6316\n",
      "Params: {'n_estimators': 50, 'learning_rate': 1, 'subsample': 0.5}, MSE over all splits is: 0.1773, Mean acc at 5: 0.1789, Mean acc at 1: 0.3421\n",
      "Params: {'n_estimators': 50, 'learning_rate': 1, 'subsample': 1.0}, MSE over all splits is: 0.0386, Mean acc at 5: 0.2947, Mean acc at 1: 0.6842\n",
      "Params: {'n_estimators': 100, 'learning_rate': 0.1, 'subsample': 0.5}, MSE over all splits is: 0.0270, Mean acc at 5: 0.2789, Mean acc at 1: 0.7368\n",
      "Params: {'n_estimators': 100, 'learning_rate': 0.1, 'subsample': 1.0}, MSE over all splits is: 0.0254, Mean acc at 5: 0.3105, Mean acc at 1: 0.7105\n",
      "Params: {'n_estimators': 100, 'learning_rate': 0.01, 'subsample': 0.5}, MSE over all splits is: 0.0320, Mean acc at 5: 0.2526, Mean acc at 1: 0.6842\n",
      "Params: {'n_estimators': 100, 'learning_rate': 0.01, 'subsample': 1.0}, MSE over all splits is: 0.0320, Mean acc at 5: 0.2737, Mean acc at 1: 0.6316\n",
      "Params: {'n_estimators': 100, 'learning_rate': 0.001, 'subsample': 0.5}, MSE over all splits is: 0.0617, Mean acc at 5: 0.2947, Mean acc at 1: 0.6579\n",
      "Params: {'n_estimators': 100, 'learning_rate': 0.001, 'subsample': 1.0}, MSE over all splits is: 0.0617, Mean acc at 5: 0.2684, Mean acc at 1: 0.6316\n",
      "Params: {'n_estimators': 100, 'learning_rate': 0.0001, 'subsample': 0.5}, MSE over all splits is: 0.0685, Mean acc at 5: 0.2526, Mean acc at 1: 0.6316\n",
      "Params: {'n_estimators': 100, 'learning_rate': 0.0001, 'subsample': 1.0}, MSE over all splits is: 0.0685, Mean acc at 5: 0.2316, Mean acc at 1: 0.6316\n",
      "Params: {'n_estimators': 100, 'learning_rate': 1, 'subsample': 0.5}, MSE over all splits is: 0.2237, Mean acc at 5: 0.1632, Mean acc at 1: 0.3158\n",
      "Params: {'n_estimators': 100, 'learning_rate': 1, 'subsample': 1.0}, MSE over all splits is: 0.0412, Mean acc at 5: 0.2947, Mean acc at 1: 0.6316\n",
      "Params: {'n_estimators': 200, 'learning_rate': 0.1, 'subsample': 0.5}, MSE over all splits is: 0.0294, Mean acc at 5: 0.2421, Mean acc at 1: 0.6579\n",
      "Params: {'n_estimators': 200, 'learning_rate': 0.1, 'subsample': 1.0}, MSE over all splits is: 0.0268, Mean acc at 5: 0.3053, Mean acc at 1: 0.7368\n",
      "Params: {'n_estimators': 200, 'learning_rate': 0.01, 'subsample': 0.5}, MSE over all splits is: 0.0265, Mean acc at 5: 0.2632, Mean acc at 1: 0.6842\n",
      "Params: {'n_estimators': 200, 'learning_rate': 0.01, 'subsample': 1.0}, MSE over all splits is: 0.0264, Mean acc at 5: 0.2947, Mean acc at 1: 0.6842\n",
      "Params: {'n_estimators': 200, 'learning_rate': 0.001, 'subsample': 0.5}, MSE over all splits is: 0.0554, Mean acc at 5: 0.2789, Mean acc at 1: 0.6842\n",
      "Params: {'n_estimators': 200, 'learning_rate': 0.001, 'subsample': 1.0}, MSE over all splits is: 0.0556, Mean acc at 5: 0.2789, Mean acc at 1: 0.6579\n",
      "Params: {'n_estimators': 200, 'learning_rate': 0.0001, 'subsample': 0.5}, MSE over all splits is: 0.0677, Mean acc at 5: 0.2842, Mean acc at 1: 0.6842\n",
      "Params: {'n_estimators': 200, 'learning_rate': 0.0001, 'subsample': 1.0}, MSE over all splits is: 0.0677, Mean acc at 5: 0.2368, Mean acc at 1: 0.6053\n",
      "Params: {'n_estimators': 200, 'learning_rate': 1, 'subsample': 0.5}, MSE over all splits is: 0.1785, Mean acc at 5: 0.1368, Mean acc at 1: 0.2895\n",
      "Params: {'n_estimators': 200, 'learning_rate': 1, 'subsample': 1.0}, MSE over all splits is: 0.0415, Mean acc at 5: 0.2895, Mean acc at 1: 0.6316\n",
      "Starting with estimator: SVR\n",
      "Params: {'kernel': 'rbf', 'C': 0.1, 'gamma': 1e-05}, MSE over all splits is: 0.0369, Mean acc at 5: 0.2684, Mean acc at 1: 0.5526\n",
      "Params: {'kernel': 'rbf', 'C': 0.1, 'gamma': 0.0001}, MSE over all splits is: 0.0592, Mean acc at 5: 0.2211, Mean acc at 1: 0.3421\n",
      "Params: {'kernel': 'rbf', 'C': 0.1, 'gamma': 0.001}, MSE over all splits is: 0.0692, Mean acc at 5: 0.1105, Mean acc at 1: 0.1579\n"
     ]
    },
    {
     "name": "stdout",
     "output_type": "stream",
     "text": [
      "Params: {'kernel': 'rbf', 'C': 0.1, 'gamma': 0.01}, MSE over all splits is: 0.0696, Mean acc at 5: 0.0316, Mean acc at 1: 0.0789\n",
      "Params: {'kernel': 'rbf', 'C': 0.1, 'gamma': 0.1}, MSE over all splits is: 0.0696, Mean acc at 5: 0.0000, Mean acc at 1: 0.0000\n",
      "Params: {'kernel': 'rbf', 'C': 1, 'gamma': 1e-05}, MSE over all splits is: 0.0380, Mean acc at 5: 0.2684, Mean acc at 1: 0.4737\n",
      "Params: {'kernel': 'rbf', 'C': 1, 'gamma': 0.0001}, MSE over all splits is: 0.0518, Mean acc at 5: 0.1789, Mean acc at 1: 0.3421\n",
      "Params: {'kernel': 'rbf', 'C': 1, 'gamma': 0.001}, MSE over all splits is: 0.0698, Mean acc at 5: 0.0895, Mean acc at 1: 0.1579\n",
      "Params: {'kernel': 'rbf', 'C': 1, 'gamma': 0.01}, MSE over all splits is: 0.0711, Mean acc at 5: 0.0421, Mean acc at 1: 0.0789\n",
      "Params: {'kernel': 'rbf', 'C': 1, 'gamma': 0.1}, MSE over all splits is: 0.0711, Mean acc at 5: 0.0000, Mean acc at 1: 0.0000\n",
      "Params: {'kernel': 'rbf', 'C': 10, 'gamma': 1e-05}, MSE over all splits is: 0.0443, Mean acc at 5: 0.2789, Mean acc at 1: 0.5526\n",
      "Params: {'kernel': 'rbf', 'C': 10, 'gamma': 0.0001}, MSE over all splits is: 0.0520, Mean acc at 5: 0.1737, Mean acc at 1: 0.3421\n",
      "Params: {'kernel': 'rbf', 'C': 10, 'gamma': 0.001}, MSE over all splits is: 0.0698, Mean acc at 5: 0.0895, Mean acc at 1: 0.1579\n",
      "Params: {'kernel': 'rbf', 'C': 10, 'gamma': 0.01}, MSE over all splits is: 0.0711, Mean acc at 5: 0.0421, Mean acc at 1: 0.0789\n",
      "Params: {'kernel': 'rbf', 'C': 10, 'gamma': 0.1}, MSE over all splits is: 0.0711, Mean acc at 5: 0.0000, Mean acc at 1: 0.0000\n",
      "Params: {'kernel': 'rbf', 'C': 50, 'gamma': 1e-05}, MSE over all splits is: 0.0518, Mean acc at 5: 0.2737, Mean acc at 1: 0.6053\n",
      "Params: {'kernel': 'rbf', 'C': 50, 'gamma': 0.0001}, MSE over all splits is: 0.0520, Mean acc at 5: 0.1737, Mean acc at 1: 0.3421\n",
      "Params: {'kernel': 'rbf', 'C': 50, 'gamma': 0.001}, MSE over all splits is: 0.0698, Mean acc at 5: 0.0895, Mean acc at 1: 0.1579\n",
      "Params: {'kernel': 'rbf', 'C': 50, 'gamma': 0.01}, MSE over all splits is: 0.0711, Mean acc at 5: 0.0421, Mean acc at 1: 0.0789\n",
      "Params: {'kernel': 'rbf', 'C': 50, 'gamma': 0.1}, MSE over all splits is: 0.0711, Mean acc at 5: 0.0000, Mean acc at 1: 0.0000\n",
      "Params: {'kernel': 'rbf', 'C': 100, 'gamma': 1e-05}, MSE over all splits is: 0.0578, Mean acc at 5: 0.2526, Mean acc at 1: 0.5789\n",
      "Params: {'kernel': 'rbf', 'C': 100, 'gamma': 0.0001}, MSE over all splits is: 0.0520, Mean acc at 5: 0.1737, Mean acc at 1: 0.3421\n",
      "Params: {'kernel': 'rbf', 'C': 100, 'gamma': 0.001}, MSE over all splits is: 0.0698, Mean acc at 5: 0.0895, Mean acc at 1: 0.1579\n",
      "Params: {'kernel': 'rbf', 'C': 100, 'gamma': 0.01}, MSE over all splits is: 0.0711, Mean acc at 5: 0.0421, Mean acc at 1: 0.0789\n",
      "Params: {'kernel': 'rbf', 'C': 100, 'gamma': 0.1}, MSE over all splits is: 0.0711, Mean acc at 5: 0.0000, Mean acc at 1: 0.0000\n"
     ]
    }
   ],
   "source": [
    "best_estimator = pipeline(\n",
    "    data_frame=data_frame,\n",
    "    estimators=estimators,\n",
    "    params=params,\n",
    "    filename=\"log_reg_poly_2.txt\",\n",
    "    # scaler=MinMaxScaler(),\n",
    "    poly_fit=PolynomialFeatures(degree=2, interaction_only=True),\n",
    ")"
   ]
  },
  {
   "cell_type": "code",
   "execution_count": 177,
   "metadata": {
    "scrolled": true
   },
   "outputs": [
    {
     "name": "stdout",
     "output_type": "stream",
     "text": [
      "Starting with estimator: LinearRegression\n",
      "Params: {'n_jobs': -1}, MSE over all splits is: 0.0382, Mean acc at 5: 0.2368, Mean acc at 1: 0.6316\n",
      "Params: {'n_jobs': -1, 'normalize': True}, MSE over all splits is: 0.0335, Mean acc at 5: 0.2632, Mean acc at 1: 0.6579\n",
      "Starting with estimator: Ridge\n",
      "Params: {'alpha': 1.0}, MSE over all splits is: 0.0270, Mean acc at 5: 0.3000, Mean acc at 1: 0.6316\n",
      "Params: {'alpha': 10.0}, MSE over all splits is: 0.0272, Mean acc at 5: 0.3263, Mean acc at 1: 0.6579\n",
      "Params: {'alpha': 50.0}, MSE over all splits is: 0.0276, Mean acc at 5: 0.3000, Mean acc at 1: 0.6316\n",
      "Params: {'alpha': 100.0}, MSE over all splits is: 0.0280, Mean acc at 5: 0.2895, Mean acc at 1: 0.6316\n",
      "Params: {'alpha': 200.0}, MSE over all splits is: 0.0283, Mean acc at 5: 0.3105, Mean acc at 1: 0.6316\n",
      "Params: {'alpha': 500.0}, MSE over all splits is: 0.0288, Mean acc at 5: 0.3000, Mean acc at 1: 0.6316\n",
      "Starting with estimator: RandomForestRegressor\n",
      "Params: {'n_estimators': 10, 'n_jobs': -1}, MSE over all splits is: 0.0289, Mean acc at 5: 0.2789, Mean acc at 1: 0.6316\n",
      "Params: {'n_estimators': 100, 'n_jobs': -1}, MSE over all splits is: 0.0261, Mean acc at 5: 0.2684, Mean acc at 1: 0.6579\n",
      "Params: {'n_estimators': 50, 'n_jobs': -1}, MSE over all splits is: 0.0265, Mean acc at 5: 0.3211, Mean acc at 1: 0.6579\n",
      "Params: {'n_estimators': 50, 'n_jobs': -1, 'min_samples_split': 3}, MSE over all splits is: 0.0264, Mean acc at 5: 0.2895, Mean acc at 1: 0.6579\n",
      "Params: {'n_estimators': 100, 'n_jobs': -1, 'min_samples_split': 3}, MSE over all splits is: 0.0265, Mean acc at 5: 0.2895, Mean acc at 1: 0.7105\n",
      "Params: {'n_estimators': 200, 'n_jobs': -1, 'min_samples_split': 3}, MSE over all splits is: 0.0264, Mean acc at 5: 0.2947, Mean acc at 1: 0.6842\n",
      "Params: {'n_estimators': 200, 'n_jobs': -1}, MSE over all splits is: 0.0264, Mean acc at 5: 0.2895, Mean acc at 1: 0.6579\n",
      "Starting with estimator: GradientBoostingRegressor\n",
      "Params: {'n_estimators': 10, 'learning_rate': 0.1, 'subsample': 0.5}, MSE over all splits is: 0.0322, Mean acc at 5: 0.3053, Mean acc at 1: 0.7105\n",
      "Params: {'n_estimators': 10, 'learning_rate': 0.1, 'subsample': 1.0}, MSE over all splits is: 0.0309, Mean acc at 5: 0.2842, Mean acc at 1: 0.6579\n",
      "Params: {'n_estimators': 10, 'learning_rate': 0.01, 'subsample': 0.5}, MSE over all splits is: 0.0615, Mean acc at 5: 0.2895, Mean acc at 1: 0.6579\n",
      "Params: {'n_estimators': 10, 'learning_rate': 0.01, 'subsample': 1.0}, MSE over all splits is: 0.0617, Mean acc at 5: 0.2579, Mean acc at 1: 0.6316\n",
      "Params: {'n_estimators': 10, 'learning_rate': 0.001, 'subsample': 0.5}, MSE over all splits is: 0.0685, Mean acc at 5: 0.2947, Mean acc at 1: 0.6579\n",
      "Params: {'n_estimators': 10, 'learning_rate': 0.001, 'subsample': 1.0}, MSE over all splits is: 0.0685, Mean acc at 5: 0.2316, Mean acc at 1: 0.6316\n",
      "Params: {'n_estimators': 10, 'learning_rate': 0.0001, 'subsample': 0.5}, MSE over all splits is: 0.0692, Mean acc at 5: 0.3263, Mean acc at 1: 0.6842\n",
      "Params: {'n_estimators': 10, 'learning_rate': 0.0001, 'subsample': 1.0}, MSE over all splits is: 0.0692, Mean acc at 5: 0.2526, Mean acc at 1: 0.6316\n",
      "Params: {'n_estimators': 10, 'learning_rate': 1, 'subsample': 0.5}, MSE over all splits is: 0.0687, Mean acc at 5: 0.2158, Mean acc at 1: 0.5789\n",
      "Params: {'n_estimators': 10, 'learning_rate': 1, 'subsample': 1.0}, MSE over all splits is: 0.0338, Mean acc at 5: 0.2684, Mean acc at 1: 0.6842\n",
      "Params: {'n_estimators': 50, 'learning_rate': 0.1, 'subsample': 0.5}, MSE over all splits is: 0.0275, Mean acc at 5: 0.2895, Mean acc at 1: 0.6842\n",
      "Params: {'n_estimators': 50, 'learning_rate': 0.1, 'subsample': 1.0}, MSE over all splits is: 0.0260, Mean acc at 5: 0.2789, Mean acc at 1: 0.6842\n",
      "Params: {'n_estimators': 50, 'learning_rate': 0.01, 'subsample': 0.5}, MSE over all splits is: 0.0423, Mean acc at 5: 0.2737, Mean acc at 1: 0.6579\n",
      "Params: {'n_estimators': 50, 'learning_rate': 0.01, 'subsample': 1.0}, MSE over all splits is: 0.0426, Mean acc at 5: 0.2895, Mean acc at 1: 0.6316\n",
      "Params: {'n_estimators': 50, 'learning_rate': 0.001, 'subsample': 0.5}, MSE over all splits is: 0.0653, Mean acc at 5: 0.2895, Mean acc at 1: 0.6842\n",
      "Params: {'n_estimators': 50, 'learning_rate': 0.001, 'subsample': 1.0}, MSE over all splits is: 0.0653, Mean acc at 5: 0.2368, Mean acc at 1: 0.6316\n",
      "Params: {'n_estimators': 50, 'learning_rate': 0.0001, 'subsample': 0.5}, MSE over all splits is: 0.0689, Mean acc at 5: 0.3105, Mean acc at 1: 0.6579\n",
      "Params: {'n_estimators': 50, 'learning_rate': 0.0001, 'subsample': 1.0}, MSE over all splits is: 0.0689, Mean acc at 5: 0.2368, Mean acc at 1: 0.6316\n",
      "Params: {'n_estimators': 50, 'learning_rate': 1, 'subsample': 0.5}, MSE over all splits is: 0.1540, Mean acc at 5: 0.1895, Mean acc at 1: 0.5000\n",
      "Params: {'n_estimators': 50, 'learning_rate': 1, 'subsample': 1.0}, MSE over all splits is: 0.0380, Mean acc at 5: 0.3053, Mean acc at 1: 0.6579\n",
      "Params: {'n_estimators': 100, 'learning_rate': 0.1, 'subsample': 0.5}, MSE over all splits is: 0.0280, Mean acc at 5: 0.3000, Mean acc at 1: 0.7368\n",
      "Params: {'n_estimators': 100, 'learning_rate': 0.1, 'subsample': 1.0}, MSE over all splits is: 0.0255, Mean acc at 5: 0.3053, Mean acc at 1: 0.7105\n",
      "Params: {'n_estimators': 100, 'learning_rate': 0.01, 'subsample': 0.5}, MSE over all splits is: 0.0324, Mean acc at 5: 0.3105, Mean acc at 1: 0.6842\n",
      "Params: {'n_estimators': 100, 'learning_rate': 0.01, 'subsample': 1.0}, MSE over all splits is: 0.0320, Mean acc at 5: 0.2737, Mean acc at 1: 0.6316\n",
      "Params: {'n_estimators': 100, 'learning_rate': 0.001, 'subsample': 0.5}, MSE over all splits is: 0.0617, Mean acc at 5: 0.3000, Mean acc at 1: 0.6842\n",
      "Params: {'n_estimators': 100, 'learning_rate': 0.001, 'subsample': 1.0}, MSE over all splits is: 0.0617, Mean acc at 5: 0.2684, Mean acc at 1: 0.6316\n",
      "Params: {'n_estimators': 100, 'learning_rate': 0.0001, 'subsample': 0.5}, MSE over all splits is: 0.0685, Mean acc at 5: 0.2947, Mean acc at 1: 0.6842\n",
      "Params: {'n_estimators': 100, 'learning_rate': 0.0001, 'subsample': 1.0}, MSE over all splits is: 0.0685, Mean acc at 5: 0.2316, Mean acc at 1: 0.6316\n",
      "Params: {'n_estimators': 100, 'learning_rate': 1, 'subsample': 0.5}, MSE over all splits is: 0.1668, Mean acc at 5: 0.1789, Mean acc at 1: 0.3684\n",
      "Params: {'n_estimators': 100, 'learning_rate': 1, 'subsample': 1.0}, MSE over all splits is: 0.0396, Mean acc at 5: 0.3000, Mean acc at 1: 0.6316\n",
      "Params: {'n_estimators': 200, 'learning_rate': 0.1, 'subsample': 0.5}, MSE over all splits is: 0.0295, Mean acc at 5: 0.2526, Mean acc at 1: 0.6579\n",
      "Params: {'n_estimators': 200, 'learning_rate': 0.1, 'subsample': 1.0}, MSE over all splits is: 0.0265, Mean acc at 5: 0.3105, Mean acc at 1: 0.7368\n",
      "Params: {'n_estimators': 200, 'learning_rate': 0.01, 'subsample': 0.5}, MSE over all splits is: 0.0268, Mean acc at 5: 0.2474, Mean acc at 1: 0.6842\n",
      "Params: {'n_estimators': 200, 'learning_rate': 0.01, 'subsample': 1.0}, MSE over all splits is: 0.0264, Mean acc at 5: 0.3000, Mean acc at 1: 0.6842\n",
      "Params: {'n_estimators': 200, 'learning_rate': 0.001, 'subsample': 0.5}, MSE over all splits is: 0.0554, Mean acc at 5: 0.2684, Mean acc at 1: 0.6579\n",
      "Params: {'n_estimators': 200, 'learning_rate': 0.001, 'subsample': 1.0}, MSE over all splits is: 0.0556, Mean acc at 5: 0.2789, Mean acc at 1: 0.6579\n",
      "Params: {'n_estimators': 200, 'learning_rate': 0.0001, 'subsample': 0.5}, MSE over all splits is: 0.0677, Mean acc at 5: 0.2789, Mean acc at 1: 0.6842\n",
      "Params: {'n_estimators': 200, 'learning_rate': 0.0001, 'subsample': 1.0}, MSE over all splits is: 0.0677, Mean acc at 5: 0.2368, Mean acc at 1: 0.6053\n",
      "Params: {'n_estimators': 200, 'learning_rate': 1, 'subsample': 0.5}, MSE over all splits is: 0.3045, Mean acc at 5: 0.1579, Mean acc at 1: 0.2632\n",
      "Params: {'n_estimators': 200, 'learning_rate': 1, 'subsample': 1.0}, MSE over all splits is: 0.0396, Mean acc at 5: 0.3211, Mean acc at 1: 0.6579\n",
      "Starting with estimator: SVR\n",
      "Params: {'kernel': 'rbf', 'C': 0.1, 'gamma': 1e-05}, MSE over all splits is: 0.0400, Mean acc at 5: 0.2368, Mean acc at 1: 0.4737\n",
      "Params: {'kernel': 'rbf', 'C': 0.1, 'gamma': 0.0001}, MSE over all splits is: 0.0642, Mean acc at 5: 0.1053, Mean acc at 1: 0.2105\n",
      "Params: {'kernel': 'rbf', 'C': 0.1, 'gamma': 0.001}, MSE over all splits is: 0.0695, Mean acc at 5: 0.1053, Mean acc at 1: 0.1316\n"
     ]
    },
    {
     "name": "stdout",
     "output_type": "stream",
     "text": [
      "Params: {'kernel': 'rbf', 'C': 0.1, 'gamma': 0.01}, MSE over all splits is: 0.0696, Mean acc at 5: 0.0105, Mean acc at 1: 0.0263\n",
      "Params: {'kernel': 'rbf', 'C': 0.1, 'gamma': 0.1}, MSE over all splits is: 0.0696, Mean acc at 5: 0.0000, Mean acc at 1: 0.0000\n",
      "Params: {'kernel': 'rbf', 'C': 1, 'gamma': 1e-05}, MSE over all splits is: 0.0406, Mean acc at 5: 0.2526, Mean acc at 1: 0.5263\n",
      "Params: {'kernel': 'rbf', 'C': 1, 'gamma': 0.0001}, MSE over all splits is: 0.0591, Mean acc at 5: 0.1316, Mean acc at 1: 0.2368\n",
      "Params: {'kernel': 'rbf', 'C': 1, 'gamma': 0.001}, MSE over all splits is: 0.0707, Mean acc at 5: 0.1158, Mean acc at 1: 0.2105\n",
      "Params: {'kernel': 'rbf', 'C': 1, 'gamma': 0.01}, MSE over all splits is: 0.0711, Mean acc at 5: 0.0105, Mean acc at 1: 0.0263\n",
      "Params: {'kernel': 'rbf', 'C': 1, 'gamma': 0.1}, MSE over all splits is: 0.0711, Mean acc at 5: 0.0000, Mean acc at 1: 0.0000\n",
      "Params: {'kernel': 'rbf', 'C': 10, 'gamma': 1e-05}, MSE over all splits is: 0.0521, Mean acc at 5: 0.2421, Mean acc at 1: 0.4474\n",
      "Params: {'kernel': 'rbf', 'C': 10, 'gamma': 0.0001}, MSE over all splits is: 0.0591, Mean acc at 5: 0.1316, Mean acc at 1: 0.2368\n",
      "Params: {'kernel': 'rbf', 'C': 10, 'gamma': 0.001}, MSE over all splits is: 0.0707, Mean acc at 5: 0.1158, Mean acc at 1: 0.2105\n",
      "Params: {'kernel': 'rbf', 'C': 10, 'gamma': 0.01}, MSE over all splits is: 0.0711, Mean acc at 5: 0.0105, Mean acc at 1: 0.0263\n",
      "Params: {'kernel': 'rbf', 'C': 10, 'gamma': 0.1}, MSE over all splits is: 0.0711, Mean acc at 5: 0.0000, Mean acc at 1: 0.0000\n",
      "Params: {'kernel': 'rbf', 'C': 50, 'gamma': 1e-05}, MSE over all splits is: 0.0580, Mean acc at 5: 0.2158, Mean acc at 1: 0.5526\n",
      "Params: {'kernel': 'rbf', 'C': 50, 'gamma': 0.0001}, MSE over all splits is: 0.0591, Mean acc at 5: 0.1316, Mean acc at 1: 0.2368\n",
      "Params: {'kernel': 'rbf', 'C': 50, 'gamma': 0.001}, MSE over all splits is: 0.0707, Mean acc at 5: 0.1158, Mean acc at 1: 0.2105\n",
      "Params: {'kernel': 'rbf', 'C': 50, 'gamma': 0.01}, MSE over all splits is: 0.0711, Mean acc at 5: 0.0105, Mean acc at 1: 0.0263\n",
      "Params: {'kernel': 'rbf', 'C': 50, 'gamma': 0.1}, MSE over all splits is: 0.0711, Mean acc at 5: 0.0000, Mean acc at 1: 0.0000\n",
      "Params: {'kernel': 'rbf', 'C': 100, 'gamma': 1e-05}, MSE over all splits is: 0.0607, Mean acc at 5: 0.2053, Mean acc at 1: 0.5526\n",
      "Params: {'kernel': 'rbf', 'C': 100, 'gamma': 0.0001}, MSE over all splits is: 0.0591, Mean acc at 5: 0.1316, Mean acc at 1: 0.2368\n",
      "Params: {'kernel': 'rbf', 'C': 100, 'gamma': 0.001}, MSE over all splits is: 0.0707, Mean acc at 5: 0.1158, Mean acc at 1: 0.2105\n",
      "Params: {'kernel': 'rbf', 'C': 100, 'gamma': 0.01}, MSE over all splits is: 0.0711, Mean acc at 5: 0.0105, Mean acc at 1: 0.0263\n",
      "Params: {'kernel': 'rbf', 'C': 100, 'gamma': 0.1}, MSE over all splits is: 0.0711, Mean acc at 5: 0.0000, Mean acc at 1: 0.0000\n"
     ]
    }
   ],
   "source": [
    "best_estimator = pipeline(\n",
    "    data_frame=data_frame,\n",
    "    estimators=estimators,\n",
    "    params=params,\n",
    "    filename=\"log_reg_poly_2_all.txt\",\n",
    "    # scaler=MinMaxScaler(),\n",
    "    poly_fit=PolynomialFeatures(degree=2, interaction_only=False),\n",
    ")"
   ]
  },
  {
   "cell_type": "code",
   "execution_count": 178,
   "metadata": {
    "scrolled": true
   },
   "outputs": [
    {
     "name": "stdout",
     "output_type": "stream",
     "text": [
      "Starting with estimator: LinearRegression\n",
      "Params: {'n_jobs': -1}, MSE over all splits is: 0.0673, Mean acc at 5: 0.2368, Mean acc at 1: 0.5789\n",
      "Params: {'n_jobs': -1, 'normalize': True}, MSE over all splits is: 0.0451, Mean acc at 5: 0.2316, Mean acc at 1: 0.5526\n",
      "Starting with estimator: Ridge\n",
      "Params: {'alpha': 1.0}, MSE over all splits is: 0.0311, Mean acc at 5: 0.2684, Mean acc at 1: 0.6053\n",
      "Params: {'alpha': 10.0}, MSE over all splits is: 0.0299, Mean acc at 5: 0.2737, Mean acc at 1: 0.6053\n",
      "Params: {'alpha': 50.0}, MSE over all splits is: 0.0290, Mean acc at 5: 0.3000, Mean acc at 1: 0.6316\n",
      "Params: {'alpha': 100.0}, MSE over all splits is: 0.0287, Mean acc at 5: 0.2947, Mean acc at 1: 0.6316\n",
      "Params: {'alpha': 200.0}, MSE over all splits is: 0.0284, Mean acc at 5: 0.3053, Mean acc at 1: 0.6316\n",
      "Params: {'alpha': 500.0}, MSE over all splits is: 0.0281, Mean acc at 5: 0.3211, Mean acc at 1: 0.6316\n",
      "Starting with estimator: RandomForestRegressor\n",
      "Params: {'n_estimators': 10, 'n_jobs': -1}, MSE over all splits is: 0.0306, Mean acc at 5: 0.3158, Mean acc at 1: 0.6842\n",
      "Params: {'n_estimators': 100, 'n_jobs': -1}, MSE over all splits is: 0.0269, Mean acc at 5: 0.3158, Mean acc at 1: 0.7105\n",
      "Params: {'n_estimators': 50, 'n_jobs': -1}, MSE over all splits is: 0.0269, Mean acc at 5: 0.3158, Mean acc at 1: 0.7105\n",
      "Params: {'n_estimators': 50, 'n_jobs': -1, 'min_samples_split': 3}, MSE over all splits is: 0.0268, Mean acc at 5: 0.3368, Mean acc at 1: 0.7105\n",
      "Params: {'n_estimators': 100, 'n_jobs': -1, 'min_samples_split': 3}, MSE over all splits is: 0.0271, Mean acc at 5: 0.3421, Mean acc at 1: 0.7105\n",
      "Params: {'n_estimators': 200, 'n_jobs': -1, 'min_samples_split': 3}, MSE over all splits is: 0.0265, Mean acc at 5: 0.3211, Mean acc at 1: 0.7105\n",
      "Params: {'n_estimators': 200, 'n_jobs': -1}, MSE over all splits is: 0.0264, Mean acc at 5: 0.3474, Mean acc at 1: 0.7105\n",
      "Starting with estimator: GradientBoostingRegressor\n",
      "Params: {'n_estimators': 10, 'learning_rate': 0.1, 'subsample': 0.5}, MSE over all splits is: 0.0311, Mean acc at 5: 0.3105, Mean acc at 1: 0.6842\n",
      "Params: {'n_estimators': 10, 'learning_rate': 0.1, 'subsample': 1.0}, MSE over all splits is: 0.0309, Mean acc at 5: 0.3053, Mean acc at 1: 0.7632\n",
      "Params: {'n_estimators': 10, 'learning_rate': 0.01, 'subsample': 0.5}, MSE over all splits is: 0.0613, Mean acc at 5: 0.3053, Mean acc at 1: 0.6842\n",
      "Params: {'n_estimators': 10, 'learning_rate': 0.01, 'subsample': 1.0}, MSE over all splits is: 0.0618, Mean acc at 5: 0.2947, Mean acc at 1: 0.7105\n",
      "Params: {'n_estimators': 10, 'learning_rate': 0.001, 'subsample': 0.5}, MSE over all splits is: 0.0685, Mean acc at 5: 0.3158, Mean acc at 1: 0.7368\n",
      "Params: {'n_estimators': 10, 'learning_rate': 0.001, 'subsample': 1.0}, MSE over all splits is: 0.0685, Mean acc at 5: 0.3158, Mean acc at 1: 0.6579\n",
      "Params: {'n_estimators': 10, 'learning_rate': 0.0001, 'subsample': 0.5}, MSE over all splits is: 0.0692, Mean acc at 5: 0.3158, Mean acc at 1: 0.7105\n",
      "Params: {'n_estimators': 10, 'learning_rate': 0.0001, 'subsample': 1.0}, MSE over all splits is: 0.0692, Mean acc at 5: 0.3263, Mean acc at 1: 0.6842\n",
      "Params: {'n_estimators': 10, 'learning_rate': 1, 'subsample': 0.5}, MSE over all splits is: 0.0952, Mean acc at 5: 0.2105, Mean acc at 1: 0.5263\n",
      "Params: {'n_estimators': 10, 'learning_rate': 1, 'subsample': 1.0}, MSE over all splits is: 0.0429, Mean acc at 5: 0.2895, Mean acc at 1: 0.6053\n",
      "Params: {'n_estimators': 50, 'learning_rate': 0.1, 'subsample': 0.5}, MSE over all splits is: 0.0278, Mean acc at 5: 0.2632, Mean acc at 1: 0.6316\n",
      "Params: {'n_estimators': 50, 'learning_rate': 0.1, 'subsample': 1.0}, MSE over all splits is: 0.0264, Mean acc at 5: 0.2842, Mean acc at 1: 0.6842\n",
      "Params: {'n_estimators': 50, 'learning_rate': 0.01, 'subsample': 0.5}, MSE over all splits is: 0.0414, Mean acc at 5: 0.2895, Mean acc at 1: 0.7105\n",
      "Params: {'n_estimators': 50, 'learning_rate': 0.01, 'subsample': 1.0}, MSE over all splits is: 0.0417, Mean acc at 5: 0.3105, Mean acc at 1: 0.7632\n",
      "Params: {'n_estimators': 50, 'learning_rate': 0.001, 'subsample': 0.5}, MSE over all splits is: 0.0652, Mean acc at 5: 0.2895, Mean acc at 1: 0.7105\n",
      "Params: {'n_estimators': 50, 'learning_rate': 0.001, 'subsample': 1.0}, MSE over all splits is: 0.0654, Mean acc at 5: 0.3158, Mean acc at 1: 0.6842\n",
      "Params: {'n_estimators': 50, 'learning_rate': 0.0001, 'subsample': 0.5}, MSE over all splits is: 0.0689, Mean acc at 5: 0.3158, Mean acc at 1: 0.7105\n",
      "Params: {'n_estimators': 50, 'learning_rate': 0.0001, 'subsample': 1.0}, MSE over all splits is: 0.0689, Mean acc at 5: 0.3263, Mean acc at 1: 0.6842\n",
      "Params: {'n_estimators': 50, 'learning_rate': 1, 'subsample': 0.5}, MSE over all splits is: 0.1812, Mean acc at 5: 0.1842, Mean acc at 1: 0.3684\n",
      "Params: {'n_estimators': 50, 'learning_rate': 1, 'subsample': 1.0}, MSE over all splits is: 0.0494, Mean acc at 5: 0.2158, Mean acc at 1: 0.5000\n",
      "Params: {'n_estimators': 100, 'learning_rate': 0.1, 'subsample': 0.5}, MSE over all splits is: 0.0287, Mean acc at 5: 0.3000, Mean acc at 1: 0.6579\n",
      "Params: {'n_estimators': 100, 'learning_rate': 0.1, 'subsample': 1.0}, MSE over all splits is: 0.0269, Mean acc at 5: 0.2526, Mean acc at 1: 0.7105\n",
      "Params: {'n_estimators': 100, 'learning_rate': 0.01, 'subsample': 0.5}, MSE over all splits is: 0.0308, Mean acc at 5: 0.3000, Mean acc at 1: 0.7105\n",
      "Params: {'n_estimators': 100, 'learning_rate': 0.01, 'subsample': 1.0}, MSE over all splits is: 0.0313, Mean acc at 5: 0.2947, Mean acc at 1: 0.7368\n",
      "Params: {'n_estimators': 100, 'learning_rate': 0.001, 'subsample': 0.5}, MSE over all splits is: 0.0614, Mean acc at 5: 0.3211, Mean acc at 1: 0.7105\n",
      "Params: {'n_estimators': 100, 'learning_rate': 0.001, 'subsample': 1.0}, MSE over all splits is: 0.0618, Mean acc at 5: 0.2842, Mean acc at 1: 0.7105\n",
      "Params: {'n_estimators': 100, 'learning_rate': 0.0001, 'subsample': 0.5}, MSE over all splits is: 0.0685, Mean acc at 5: 0.3211, Mean acc at 1: 0.7105\n",
      "Params: {'n_estimators': 100, 'learning_rate': 0.0001, 'subsample': 1.0}, MSE over all splits is: 0.0685, Mean acc at 5: 0.3158, Mean acc at 1: 0.6579\n",
      "Params: {'n_estimators': 100, 'learning_rate': 1, 'subsample': 0.5}, MSE over all splits is: 0.2492, Mean acc at 5: 0.1211, Mean acc at 1: 0.3421\n",
      "Params: {'n_estimators': 100, 'learning_rate': 1, 'subsample': 1.0}, MSE over all splits is: 0.0477, Mean acc at 5: 0.2211, Mean acc at 1: 0.5000\n",
      "Params: {'n_estimators': 200, 'learning_rate': 0.1, 'subsample': 0.5}, MSE over all splits is: 0.0291, Mean acc at 5: 0.2737, Mean acc at 1: 0.6579\n",
      "Params: {'n_estimators': 200, 'learning_rate': 0.1, 'subsample': 1.0}, MSE over all splits is: 0.0278, Mean acc at 5: 0.2474, Mean acc at 1: 0.7105\n",
      "Params: {'n_estimators': 200, 'learning_rate': 0.01, 'subsample': 0.5}, MSE over all splits is: 0.0262, Mean acc at 5: 0.3211, Mean acc at 1: 0.7105\n",
      "Params: {'n_estimators': 200, 'learning_rate': 0.01, 'subsample': 1.0}, MSE over all splits is: 0.0261, Mean acc at 5: 0.3105, Mean acc at 1: 0.7368\n",
      "Params: {'n_estimators': 200, 'learning_rate': 0.001, 'subsample': 0.5}, MSE over all splits is: 0.0548, Mean acc at 5: 0.3000, Mean acc at 1: 0.7105\n",
      "Params: {'n_estimators': 200, 'learning_rate': 0.001, 'subsample': 1.0}, MSE over all splits is: 0.0552, Mean acc at 5: 0.3053, Mean acc at 1: 0.7368\n",
      "Params: {'n_estimators': 200, 'learning_rate': 0.0001, 'subsample': 0.5}, MSE over all splits is: 0.0676, Mean acc at 5: 0.3368, Mean acc at 1: 0.7105\n",
      "Params: {'n_estimators': 200, 'learning_rate': 0.0001, 'subsample': 1.0}, MSE over all splits is: 0.0677, Mean acc at 5: 0.3053, Mean acc at 1: 0.6842\n",
      "Params: {'n_estimators': 200, 'learning_rate': 1, 'subsample': 0.5}, MSE over all splits is: 0.2431, Mean acc at 5: 0.1579, Mean acc at 1: 0.3158\n",
      "Params: {'n_estimators': 200, 'learning_rate': 1, 'subsample': 1.0}, MSE over all splits is: 0.0484, Mean acc at 5: 0.2474, Mean acc at 1: 0.5526\n",
      "Starting with estimator: SVR\n",
      "Params: {'kernel': 'rbf', 'C': 0.1, 'gamma': 1e-05}, MSE over all splits is: 0.0696, Mean acc at 5: 0.1000, Mean acc at 1: 0.1579\n",
      "Params: {'kernel': 'rbf', 'C': 0.1, 'gamma': 0.0001}, MSE over all splits is: 0.0696, Mean acc at 5: 0.0000, Mean acc at 1: 0.0000\n",
      "Params: {'kernel': 'rbf', 'C': 0.1, 'gamma': 0.001}, MSE over all splits is: 0.0696, Mean acc at 5: 0.0000, Mean acc at 1: 0.0000\n"
     ]
    },
    {
     "name": "stdout",
     "output_type": "stream",
     "text": [
      "Params: {'kernel': 'rbf', 'C': 0.1, 'gamma': 0.01}, MSE over all splits is: 0.0696, Mean acc at 5: 0.0000, Mean acc at 1: 0.0000\n",
      "Params: {'kernel': 'rbf', 'C': 0.1, 'gamma': 0.1}, MSE over all splits is: 0.0696, Mean acc at 5: 0.0000, Mean acc at 1: 0.0000\n",
      "Params: {'kernel': 'rbf', 'C': 1, 'gamma': 1e-05}, MSE over all splits is: 0.0710, Mean acc at 5: 0.1211, Mean acc at 1: 0.1842\n",
      "Params: {'kernel': 'rbf', 'C': 1, 'gamma': 0.0001}, MSE over all splits is: 0.0711, Mean acc at 5: 0.0000, Mean acc at 1: 0.0000\n",
      "Params: {'kernel': 'rbf', 'C': 1, 'gamma': 0.001}, MSE over all splits is: 0.0711, Mean acc at 5: 0.0000, Mean acc at 1: 0.0000\n",
      "Params: {'kernel': 'rbf', 'C': 1, 'gamma': 0.01}, MSE over all splits is: 0.0711, Mean acc at 5: 0.0000, Mean acc at 1: 0.0000\n",
      "Params: {'kernel': 'rbf', 'C': 1, 'gamma': 0.1}, MSE over all splits is: 0.0711, Mean acc at 5: 0.0000, Mean acc at 1: 0.0000\n",
      "Params: {'kernel': 'rbf', 'C': 10, 'gamma': 1e-05}, MSE over all splits is: 0.0710, Mean acc at 5: 0.1211, Mean acc at 1: 0.1842\n",
      "Params: {'kernel': 'rbf', 'C': 10, 'gamma': 0.0001}, MSE over all splits is: 0.0711, Mean acc at 5: 0.0000, Mean acc at 1: 0.0000\n",
      "Params: {'kernel': 'rbf', 'C': 10, 'gamma': 0.001}, MSE over all splits is: 0.0711, Mean acc at 5: 0.0000, Mean acc at 1: 0.0000\n",
      "Params: {'kernel': 'rbf', 'C': 10, 'gamma': 0.01}, MSE over all splits is: 0.0711, Mean acc at 5: 0.0000, Mean acc at 1: 0.0000\n",
      "Params: {'kernel': 'rbf', 'C': 10, 'gamma': 0.1}, MSE over all splits is: 0.0711, Mean acc at 5: 0.0000, Mean acc at 1: 0.0000\n",
      "Params: {'kernel': 'rbf', 'C': 50, 'gamma': 1e-05}, MSE over all splits is: 0.0710, Mean acc at 5: 0.1211, Mean acc at 1: 0.1842\n",
      "Params: {'kernel': 'rbf', 'C': 50, 'gamma': 0.0001}, MSE over all splits is: 0.0711, Mean acc at 5: 0.0000, Mean acc at 1: 0.0000\n",
      "Params: {'kernel': 'rbf', 'C': 50, 'gamma': 0.001}, MSE over all splits is: 0.0711, Mean acc at 5: 0.0000, Mean acc at 1: 0.0000\n",
      "Params: {'kernel': 'rbf', 'C': 50, 'gamma': 0.01}, MSE over all splits is: 0.0711, Mean acc at 5: 0.0000, Mean acc at 1: 0.0000\n",
      "Params: {'kernel': 'rbf', 'C': 50, 'gamma': 0.1}, MSE over all splits is: 0.0711, Mean acc at 5: 0.0000, Mean acc at 1: 0.0000\n",
      "Params: {'kernel': 'rbf', 'C': 100, 'gamma': 1e-05}, MSE over all splits is: 0.0710, Mean acc at 5: 0.1211, Mean acc at 1: 0.1842\n",
      "Params: {'kernel': 'rbf', 'C': 100, 'gamma': 0.0001}, MSE over all splits is: 0.0711, Mean acc at 5: 0.0000, Mean acc at 1: 0.0000\n",
      "Params: {'kernel': 'rbf', 'C': 100, 'gamma': 0.001}, MSE over all splits is: 0.0711, Mean acc at 5: 0.0000, Mean acc at 1: 0.0000\n",
      "Params: {'kernel': 'rbf', 'C': 100, 'gamma': 0.01}, MSE over all splits is: 0.0711, Mean acc at 5: 0.0000, Mean acc at 1: 0.0000\n",
      "Params: {'kernel': 'rbf', 'C': 100, 'gamma': 0.1}, MSE over all splits is: 0.0711, Mean acc at 5: 0.0000, Mean acc at 1: 0.0000\n"
     ]
    }
   ],
   "source": [
    "best_estimator = pipeline(\n",
    "    data_frame=data_frame,\n",
    "    estimators=estimators,\n",
    "    params=params,\n",
    "    filename=\"log_reg_poly_3.txt\",\n",
    "    # scaler=MinMaxScaler(),\n",
    "    poly_fit=PolynomialFeatures(degree=3, interaction_only=True),\n",
    ")"
   ]
  },
  {
   "cell_type": "code",
   "execution_count": 179,
   "metadata": {},
   "outputs": [],
   "source": [
    "estimators = [\n",
    "    LinearRegression,\n",
    "    Ridge,\n",
    "    Lasso,\n",
    "    # RandomForestRegressor,\n",
    "    GradientBoostingRegressor,\n",
    "    #SVR,\n",
    "    # MLPRegressor,\n",
    "]\n",
    "params = {\n",
    "    LinearRegression.__name__: [\n",
    "        {\n",
    "            'n_jobs': -1,\n",
    "        },\n",
    "        {\n",
    "            'n_jobs': -1,\n",
    "            'normalize': True\n",
    "        },\n",
    "    ],\n",
    "    Ridge.__name__: [\n",
    "        {\n",
    "            'alpha': 1.0\n",
    "        },\n",
    "        {\n",
    "            'alpha': 10.0\n",
    "        },\n",
    "        {\n",
    "            'alpha': 50.0\n",
    "        },\n",
    "        {\n",
    "            'alpha': 100.0\n",
    "        },\n",
    "        {\n",
    "            'alpha': 200.0\n",
    "        },\n",
    "        {\n",
    "            'alpha': 500.0\n",
    "        },\n",
    "    ],\n",
    "    Lasso.__name__: [\n",
    "        {\n",
    "            'alpha': 1.0,\n",
    "        },\n",
    "        {\n",
    "            'alpha': 10.0\n",
    "        },\n",
    "        {\n",
    "            'alpha': 100.0\n",
    "        },\n",
    "    ],\n",
    "    RandomForestRegressor.__name__: [\n",
    "        {\n",
    "            'n_estimators': 10,\n",
    "            'n_jobs': -1\n",
    "        },\n",
    "        {\n",
    "            'n_estimators': 50,\n",
    "            'n_jobs': -1\n",
    "        },\n",
    "        \n",
    "    ],\n",
    "    SVR.__name__: [\n",
    "        *define_poly_svr(),\n",
    "        *define_linear_svr(),\n",
    "        #*define_rbf_svr(),\n",
    "    ],\n",
    "    GradientBoostingRegressor.__name__: [\n",
    "        *define_gradient_boosting_regressor()\n",
    "    ]\n",
    "}"
   ]
  },
  {
   "cell_type": "code",
   "execution_count": 180,
   "metadata": {
    "scrolled": true
   },
   "outputs": [
    {
     "name": "stdout",
     "output_type": "stream",
     "text": [
      "Starting with estimator: LinearRegression\n",
      "Params: {'n_jobs': -1}, MSE over all splits is: 0.0500, Mean acc at 5: 0.3316, Mean acc at 1: 0.6842\n",
      "Params: {'n_jobs': -1, 'normalize': True}, MSE over all splits is: 0.0500, Mean acc at 5: 0.3316, Mean acc at 1: 0.6842\n",
      "Starting with estimator: Ridge\n",
      "Params: {'alpha': 1.0}, MSE over all splits is: 0.0485, Mean acc at 5: 0.3421, Mean acc at 1: 0.6842\n",
      "Params: {'alpha': 10.0}, MSE over all splits is: 0.0414, Mean acc at 5: 0.3474, Mean acc at 1: 0.6842\n",
      "Params: {'alpha': 50.0}, MSE over all splits is: 0.0378, Mean acc at 5: 0.3579, Mean acc at 1: 0.6842\n",
      "Params: {'alpha': 100.0}, MSE over all splits is: 0.0413, Mean acc at 5: 0.3316, Mean acc at 1: 0.6579\n",
      "Params: {'alpha': 200.0}, MSE over all splits is: 0.0482, Mean acc at 5: 0.3263, Mean acc at 1: 0.6316\n",
      "Params: {'alpha': 500.0}, MSE over all splits is: 0.0578, Mean acc at 5: 0.3211, Mean acc at 1: 0.6316\n",
      "Starting with estimator: Lasso\n",
      "Params: {'alpha': 1.0}, MSE over all splits is: 0.0693, Mean acc at 5: 0.0000, Mean acc at 1: 0.0000\n",
      "Params: {'alpha': 10.0}, MSE over all splits is: 0.0693, Mean acc at 5: 0.0000, Mean acc at 1: 0.0000\n",
      "Params: {'alpha': 100.0}, MSE over all splits is: 0.0693, Mean acc at 5: 0.0000, Mean acc at 1: 0.0000\n",
      "Starting with estimator: GradientBoostingRegressor\n",
      "Params: {'n_estimators': 10, 'learning_rate': 0.1, 'subsample': 0.5}, MSE over all splits is: 0.0364, Mean acc at 5: 0.3158, Mean acc at 1: 0.6579\n",
      "Params: {'n_estimators': 10, 'learning_rate': 0.1, 'subsample': 1.0}, MSE over all splits is: 0.0359, Mean acc at 5: 0.3000, Mean acc at 1: 0.7105\n",
      "Params: {'n_estimators': 10, 'learning_rate': 0.01, 'subsample': 0.5}, MSE over all splits is: 0.0610, Mean acc at 5: 0.3211, Mean acc at 1: 0.6842\n",
      "Params: {'n_estimators': 10, 'learning_rate': 0.01, 'subsample': 1.0}, MSE over all splits is: 0.0607, Mean acc at 5: 0.3211, Mean acc at 1: 0.7368\n",
      "Params: {'n_estimators': 10, 'learning_rate': 0.001, 'subsample': 0.5}, MSE over all splits is: 0.0684, Mean acc at 5: 0.3211, Mean acc at 1: 0.7368\n",
      "Params: {'n_estimators': 10, 'learning_rate': 0.001, 'subsample': 1.0}, MSE over all splits is: 0.0683, Mean acc at 5: 0.3158, Mean acc at 1: 0.6842\n",
      "Params: {'n_estimators': 10, 'learning_rate': 0.0001, 'subsample': 0.5}, MSE over all splits is: 0.0692, Mean acc at 5: 0.2632, Mean acc at 1: 0.5789\n",
      "Params: {'n_estimators': 10, 'learning_rate': 0.0001, 'subsample': 1.0}, MSE over all splits is: 0.0692, Mean acc at 5: 0.3053, Mean acc at 1: 0.7368\n",
      "Params: {'n_estimators': 10, 'learning_rate': 1, 'subsample': 0.5}, MSE over all splits is: 0.2514, Mean acc at 5: 0.1842, Mean acc at 1: 0.3947\n",
      "Params: {'n_estimators': 10, 'learning_rate': 1, 'subsample': 1.0}, MSE over all splits is: 0.1339, Mean acc at 5: 0.2211, Mean acc at 1: 0.5000\n",
      "Params: {'n_estimators': 50, 'learning_rate': 0.1, 'subsample': 0.5}, MSE over all splits is: 0.0574, Mean acc at 5: 0.2474, Mean acc at 1: 0.6316\n",
      "Params: {'n_estimators': 50, 'learning_rate': 0.1, 'subsample': 1.0}, MSE over all splits is: 0.0483, Mean acc at 5: 0.2632, Mean acc at 1: 0.6316\n",
      "Params: {'n_estimators': 50, 'learning_rate': 0.01, 'subsample': 0.5}, MSE over all splits is: 0.0422, Mean acc at 5: 0.2684, Mean acc at 1: 0.6842\n",
      "Params: {'n_estimators': 50, 'learning_rate': 0.01, 'subsample': 1.0}, MSE over all splits is: 0.0424, Mean acc at 5: 0.3263, Mean acc at 1: 0.7368\n",
      "Params: {'n_estimators': 50, 'learning_rate': 0.001, 'subsample': 0.5}, MSE over all splits is: 0.0649, Mean acc at 5: 0.3000, Mean acc at 1: 0.6842\n",
      "Params: {'n_estimators': 50, 'learning_rate': 0.001, 'subsample': 1.0}, MSE over all splits is: 0.0648, Mean acc at 5: 0.3053, Mean acc at 1: 0.7368\n",
      "Params: {'n_estimators': 50, 'learning_rate': 0.0001, 'subsample': 0.5}, MSE over all splits is: 0.0688, Mean acc at 5: 0.3053, Mean acc at 1: 0.6842\n",
      "Params: {'n_estimators': 50, 'learning_rate': 0.0001, 'subsample': 1.0}, MSE over all splits is: 0.0688, Mean acc at 5: 0.3053, Mean acc at 1: 0.7368\n",
      "Params: {'n_estimators': 50, 'learning_rate': 1, 'subsample': 0.5}, MSE over all splits is: 0.6333, Mean acc at 5: 0.1263, Mean acc at 1: 0.2895\n",
      "Params: {'n_estimators': 50, 'learning_rate': 1, 'subsample': 1.0}, MSE over all splits is: 0.1694, Mean acc at 5: 0.1947, Mean acc at 1: 0.5263\n",
      "Params: {'n_estimators': 100, 'learning_rate': 0.1, 'subsample': 0.5}, MSE over all splits is: 0.0656, Mean acc at 5: 0.3000, Mean acc at 1: 0.7105\n",
      "Params: {'n_estimators': 100, 'learning_rate': 0.1, 'subsample': 1.0}, MSE over all splits is: 0.0581, Mean acc at 5: 0.2684, Mean acc at 1: 0.6316\n",
      "Params: {'n_estimators': 100, 'learning_rate': 0.01, 'subsample': 0.5}, MSE over all splits is: 0.0358, Mean acc at 5: 0.2947, Mean acc at 1: 0.6842\n",
      "Params: {'n_estimators': 100, 'learning_rate': 0.01, 'subsample': 1.0}, MSE over all splits is: 0.0362, Mean acc at 5: 0.3105, Mean acc at 1: 0.6842\n",
      "Params: {'n_estimators': 100, 'learning_rate': 0.001, 'subsample': 0.5}, MSE over all splits is: 0.0609, Mean acc at 5: 0.3211, Mean acc at 1: 0.7105\n",
      "Params: {'n_estimators': 100, 'learning_rate': 0.001, 'subsample': 1.0}, MSE over all splits is: 0.0607, Mean acc at 5: 0.3263, Mean acc at 1: 0.7368\n",
      "Params: {'n_estimators': 100, 'learning_rate': 0.0001, 'subsample': 0.5}, MSE over all splits is: 0.0684, Mean acc at 5: 0.3105, Mean acc at 1: 0.6842\n",
      "Params: {'n_estimators': 100, 'learning_rate': 0.0001, 'subsample': 1.0}, MSE over all splits is: 0.0683, Mean acc at 5: 0.3158, Mean acc at 1: 0.7368\n",
      "Params: {'n_estimators': 100, 'learning_rate': 1, 'subsample': 0.5}, MSE over all splits is: 0.7704, Mean acc at 5: 0.1526, Mean acc at 1: 0.2105\n",
      "Params: {'n_estimators': 100, 'learning_rate': 1, 'subsample': 1.0}, MSE over all splits is: 0.1679, Mean acc at 5: 0.2368, Mean acc at 1: 0.5000\n",
      "Params: {'n_estimators': 200, 'learning_rate': 0.1, 'subsample': 0.5}, MSE over all splits is: 0.0714, Mean acc at 5: 0.2737, Mean acc at 1: 0.6053\n",
      "Params: {'n_estimators': 200, 'learning_rate': 0.1, 'subsample': 1.0}, MSE over all splits is: 0.0674, Mean acc at 5: 0.2842, Mean acc at 1: 0.6579\n",
      "Params: {'n_estimators': 200, 'learning_rate': 0.01, 'subsample': 0.5}, MSE over all splits is: 0.0390, Mean acc at 5: 0.2789, Mean acc at 1: 0.6842\n",
      "Params: {'n_estimators': 200, 'learning_rate': 0.01, 'subsample': 1.0}, MSE over all splits is: 0.0377, Mean acc at 5: 0.3000, Mean acc at 1: 0.6842\n",
      "Params: {'n_estimators': 200, 'learning_rate': 0.001, 'subsample': 0.5}, MSE over all splits is: 0.0543, Mean acc at 5: 0.3105, Mean acc at 1: 0.7105\n",
      "Params: {'n_estimators': 200, 'learning_rate': 0.001, 'subsample': 1.0}, MSE over all splits is: 0.0541, Mean acc at 5: 0.3105, Mean acc at 1: 0.7368\n",
      "Params: {'n_estimators': 200, 'learning_rate': 0.0001, 'subsample': 0.5}, MSE over all splits is: 0.0675, Mean acc at 5: 0.3053, Mean acc at 1: 0.7105\n",
      "Params: {'n_estimators': 200, 'learning_rate': 0.0001, 'subsample': 1.0}, MSE over all splits is: 0.0674, Mean acc at 5: 0.3158, Mean acc at 1: 0.7368\n",
      "Params: {'n_estimators': 200, 'learning_rate': 1, 'subsample': 0.5}, MSE over all splits is: 1.0733, Mean acc at 5: 0.1105, Mean acc at 1: 0.1842\n",
      "Params: {'n_estimators': 200, 'learning_rate': 1, 'subsample': 1.0}, MSE over all splits is: 0.1629, Mean acc at 5: 0.1895, Mean acc at 1: 0.5000\n"
     ]
    }
   ],
   "source": [
    "best_estimator = pipeline(\n",
    "    data_frame=data_frame,\n",
    "    estimators=estimators,\n",
    "    params=params,\n",
    "    filename=\"log_reg_scaler.txt\",\n",
    "    scaler=MinMaxScaler(),\n",
    "    # poly_fit=PolynomialFeatures(degree=3, interaction_only=True),\n",
    ")"
   ]
  },
  {
   "cell_type": "code",
   "execution_count": 181,
   "metadata": {
    "scrolled": true
   },
   "outputs": [
    {
     "name": "stdout",
     "output_type": "stream",
     "text": [
      "Starting with estimator: LinearRegression\n",
      "Params: {'n_jobs': -1}, MSE over all splits is: 1.3333, Mean acc at 5: 0.2474, Mean acc at 1: 0.5263\n",
      "Params: {'n_jobs': -1, 'normalize': True}, MSE over all splits is: 1.1544, Mean acc at 5: 0.2632, Mean acc at 1: 0.5526\n",
      "Starting with estimator: Ridge\n",
      "Params: {'alpha': 1.0}, MSE over all splits is: 0.0850, Mean acc at 5: 0.3368, Mean acc at 1: 0.6842\n",
      "Params: {'alpha': 10.0}, MSE over all splits is: 0.0503, Mean acc at 5: 0.3579, Mean acc at 1: 0.6579\n",
      "Params: {'alpha': 50.0}, MSE over all splits is: 0.0424, Mean acc at 5: 0.3474, Mean acc at 1: 0.6842\n",
      "Params: {'alpha': 100.0}, MSE over all splits is: 0.0390, Mean acc at 5: 0.3421, Mean acc at 1: 0.6842\n",
      "Params: {'alpha': 200.0}, MSE over all splits is: 0.0363, Mean acc at 5: 0.3211, Mean acc at 1: 0.6579\n",
      "Params: {'alpha': 500.0}, MSE over all splits is: 0.0374, Mean acc at 5: 0.3211, Mean acc at 1: 0.6579\n",
      "Starting with estimator: Lasso\n",
      "Params: {'alpha': 1.0}, MSE over all splits is: 0.0693, Mean acc at 5: 0.0000, Mean acc at 1: 0.0000\n",
      "Params: {'alpha': 10.0}, MSE over all splits is: 0.0693, Mean acc at 5: 0.0000, Mean acc at 1: 0.0000\n",
      "Params: {'alpha': 100.0}, MSE over all splits is: 0.0693, Mean acc at 5: 0.0000, Mean acc at 1: 0.0000\n",
      "Starting with estimator: GradientBoostingRegressor\n",
      "Params: {'n_estimators': 10, 'learning_rate': 0.1, 'subsample': 0.5}, MSE over all splits is: 0.0409, Mean acc at 5: 0.2474, Mean acc at 1: 0.6053\n",
      "Params: {'n_estimators': 10, 'learning_rate': 0.1, 'subsample': 1.0}, MSE over all splits is: 0.0387, Mean acc at 5: 0.3000, Mean acc at 1: 0.6579\n",
      "Params: {'n_estimators': 10, 'learning_rate': 0.01, 'subsample': 0.5}, MSE over all splits is: 0.0597, Mean acc at 5: 0.3211, Mean acc at 1: 0.6842\n",
      "Params: {'n_estimators': 10, 'learning_rate': 0.01, 'subsample': 1.0}, MSE over all splits is: 0.0597, Mean acc at 5: 0.3000, Mean acc at 1: 0.6579\n",
      "Params: {'n_estimators': 10, 'learning_rate': 0.001, 'subsample': 0.5}, MSE over all splits is: 0.0682, Mean acc at 5: 0.2579, Mean acc at 1: 0.6053\n",
      "Params: {'n_estimators': 10, 'learning_rate': 0.001, 'subsample': 1.0}, MSE over all splits is: 0.0682, Mean acc at 5: 0.2737, Mean acc at 1: 0.6579\n",
      "Params: {'n_estimators': 10, 'learning_rate': 0.0001, 'subsample': 0.5}, MSE over all splits is: 0.0692, Mean acc at 5: 0.3263, Mean acc at 1: 0.6579\n",
      "Params: {'n_estimators': 10, 'learning_rate': 0.0001, 'subsample': 1.0}, MSE over all splits is: 0.0692, Mean acc at 5: 0.2737, Mean acc at 1: 0.6579\n",
      "Params: {'n_estimators': 10, 'learning_rate': 1, 'subsample': 0.5}, MSE over all splits is: 0.3313, Mean acc at 5: 0.1421, Mean acc at 1: 0.2895\n",
      "Params: {'n_estimators': 10, 'learning_rate': 1, 'subsample': 1.0}, MSE over all splits is: 0.1514, Mean acc at 5: 0.2316, Mean acc at 1: 0.4211\n",
      "Params: {'n_estimators': 50, 'learning_rate': 0.1, 'subsample': 0.5}, MSE over all splits is: 0.0743, Mean acc at 5: 0.2789, Mean acc at 1: 0.5263\n",
      "Params: {'n_estimators': 50, 'learning_rate': 0.1, 'subsample': 1.0}, MSE over all splits is: 0.0725, Mean acc at 5: 0.2895, Mean acc at 1: 0.6316\n",
      "Params: {'n_estimators': 50, 'learning_rate': 0.01, 'subsample': 0.5}, MSE over all splits is: 0.0412, Mean acc at 5: 0.2842, Mean acc at 1: 0.6579\n",
      "Params: {'n_estimators': 50, 'learning_rate': 0.01, 'subsample': 1.0}, MSE over all splits is: 0.0408, Mean acc at 5: 0.2789, Mean acc at 1: 0.6316\n",
      "Params: {'n_estimators': 50, 'learning_rate': 0.001, 'subsample': 0.5}, MSE over all splits is: 0.0642, Mean acc at 5: 0.3316, Mean acc at 1: 0.7368\n",
      "Params: {'n_estimators': 50, 'learning_rate': 0.001, 'subsample': 1.0}, MSE over all splits is: 0.0642, Mean acc at 5: 0.2895, Mean acc at 1: 0.6579\n",
      "Params: {'n_estimators': 50, 'learning_rate': 0.0001, 'subsample': 0.5}, MSE over all splits is: 0.0688, Mean acc at 5: 0.3368, Mean acc at 1: 0.6842\n",
      "Params: {'n_estimators': 50, 'learning_rate': 0.0001, 'subsample': 1.0}, MSE over all splits is: 0.0688, Mean acc at 5: 0.2737, Mean acc at 1: 0.6579\n",
      "Params: {'n_estimators': 50, 'learning_rate': 1, 'subsample': 0.5}, MSE over all splits is: 0.9292, Mean acc at 5: 0.1211, Mean acc at 1: 0.1842\n",
      "Params: {'n_estimators': 50, 'learning_rate': 1, 'subsample': 1.0}, MSE over all splits is: 0.1931, Mean acc at 5: 0.1789, Mean acc at 1: 0.3421\n",
      "Params: {'n_estimators': 100, 'learning_rate': 0.1, 'subsample': 0.5}, MSE over all splits is: 0.0856, Mean acc at 5: 0.2211, Mean acc at 1: 0.6053\n",
      "Params: {'n_estimators': 100, 'learning_rate': 0.1, 'subsample': 1.0}, MSE over all splits is: 0.0918, Mean acc at 5: 0.2368, Mean acc at 1: 0.6316\n",
      "Params: {'n_estimators': 100, 'learning_rate': 0.01, 'subsample': 0.5}, MSE over all splits is: 0.0395, Mean acc at 5: 0.2632, Mean acc at 1: 0.5526\n",
      "Params: {'n_estimators': 100, 'learning_rate': 0.01, 'subsample': 1.0}, MSE over all splits is: 0.0387, Mean acc at 5: 0.3053, Mean acc at 1: 0.6579\n",
      "Params: {'n_estimators': 100, 'learning_rate': 0.001, 'subsample': 0.5}, MSE over all splits is: 0.0597, Mean acc at 5: 0.3053, Mean acc at 1: 0.7105\n",
      "Params: {'n_estimators': 100, 'learning_rate': 0.001, 'subsample': 1.0}, MSE over all splits is: 0.0598, Mean acc at 5: 0.2789, Mean acc at 1: 0.6316\n",
      "Params: {'n_estimators': 100, 'learning_rate': 0.0001, 'subsample': 0.5}, MSE over all splits is: 0.0682, Mean acc at 5: 0.3263, Mean acc at 1: 0.7368\n",
      "Params: {'n_estimators': 100, 'learning_rate': 0.0001, 'subsample': 1.0}, MSE over all splits is: 0.0682, Mean acc at 5: 0.2737, Mean acc at 1: 0.6579\n",
      "Params: {'n_estimators': 100, 'learning_rate': 1, 'subsample': 0.5}, MSE over all splits is: 1.2326, Mean acc at 5: 0.1158, Mean acc at 1: 0.3158\n",
      "Params: {'n_estimators': 100, 'learning_rate': 1, 'subsample': 1.0}, MSE over all splits is: 0.1919, Mean acc at 5: 0.1474, Mean acc at 1: 0.3421\n",
      "Params: {'n_estimators': 200, 'learning_rate': 0.1, 'subsample': 0.5}, MSE over all splits is: 0.1016, Mean acc at 5: 0.2579, Mean acc at 1: 0.5526\n",
      "Params: {'n_estimators': 200, 'learning_rate': 0.1, 'subsample': 1.0}, MSE over all splits is: 0.1041, Mean acc at 5: 0.2737, Mean acc at 1: 0.6316\n",
      "Params: {'n_estimators': 200, 'learning_rate': 0.01, 'subsample': 0.5}, MSE over all splits is: 0.0520, Mean acc at 5: 0.2684, Mean acc at 1: 0.6316\n",
      "Params: {'n_estimators': 200, 'learning_rate': 0.01, 'subsample': 1.0}, MSE over all splits is: 0.0499, Mean acc at 5: 0.3158, Mean acc at 1: 0.6053\n",
      "Params: {'n_estimators': 200, 'learning_rate': 0.001, 'subsample': 0.5}, MSE over all splits is: 0.0525, Mean acc at 5: 0.2842, Mean acc at 1: 0.6316\n",
      "Params: {'n_estimators': 200, 'learning_rate': 0.001, 'subsample': 1.0}, MSE over all splits is: 0.0525, Mean acc at 5: 0.2684, Mean acc at 1: 0.6053\n",
      "Params: {'n_estimators': 200, 'learning_rate': 0.0001, 'subsample': 0.5}, MSE over all splits is: 0.0672, Mean acc at 5: 0.3316, Mean acc at 1: 0.7368\n",
      "Params: {'n_estimators': 200, 'learning_rate': 0.0001, 'subsample': 1.0}, MSE over all splits is: 0.0672, Mean acc at 5: 0.2789, Mean acc at 1: 0.6579\n",
      "Params: {'n_estimators': 200, 'learning_rate': 1, 'subsample': 0.5}, MSE over all splits is: 1.2010, Mean acc at 5: 0.1158, Mean acc at 1: 0.2895\n",
      "Params: {'n_estimators': 200, 'learning_rate': 1, 'subsample': 1.0}, MSE over all splits is: 0.1963, Mean acc at 5: 0.1526, Mean acc at 1: 0.3684\n"
     ]
    }
   ],
   "source": [
    "best_estimator = pipeline(\n",
    "    data_frame=data_frame,\n",
    "    estimators=estimators,\n",
    "    params=params,\n",
    "    filename=\"log_reg_scaler_poly_2.txt\",\n",
    "    scaler=MinMaxScaler(),\n",
    "    poly_fit=PolynomialFeatures(degree=2, interaction_only=True),\n",
    ")"
   ]
  },
  {
   "cell_type": "code",
   "execution_count": 182,
   "metadata": {
    "scrolled": true
   },
   "outputs": [
    {
     "name": "stdout",
     "output_type": "stream",
     "text": [
      "Starting with estimator: LinearRegression\n",
      "Params: {'n_jobs': -1}, MSE over all splits is: 1.3578, Mean acc at 5: 0.2526, Mean acc at 1: 0.4474\n",
      "Params: {'n_jobs': -1, 'normalize': True}, MSE over all splits is: 1.6867, Mean acc at 5: 0.2579, Mean acc at 1: 0.3684\n",
      "Starting with estimator: Ridge\n",
      "Params: {'alpha': 1.0}, MSE over all splits is: 0.1061, Mean acc at 5: 0.3211, Mean acc at 1: 0.6316\n",
      "Params: {'alpha': 10.0}, MSE over all splits is: 0.0548, Mean acc at 5: 0.3526, Mean acc at 1: 0.6579\n",
      "Params: {'alpha': 50.0}, MSE over all splits is: 0.0439, Mean acc at 5: 0.3526, Mean acc at 1: 0.6842\n",
      "Params: {'alpha': 100.0}, MSE over all splits is: 0.0400, Mean acc at 5: 0.3474, Mean acc at 1: 0.6842\n",
      "Params: {'alpha': 200.0}, MSE over all splits is: 0.0367, Mean acc at 5: 0.3263, Mean acc at 1: 0.6316\n",
      "Params: {'alpha': 500.0}, MSE over all splits is: 0.0365, Mean acc at 5: 0.3263, Mean acc at 1: 0.6579\n",
      "Starting with estimator: Lasso\n",
      "Params: {'alpha': 1.0}, MSE over all splits is: 0.0693, Mean acc at 5: 0.0000, Mean acc at 1: 0.0000\n",
      "Params: {'alpha': 10.0}, MSE over all splits is: 0.0693, Mean acc at 5: 0.0000, Mean acc at 1: 0.0000\n",
      "Params: {'alpha': 100.0}, MSE over all splits is: 0.0693, Mean acc at 5: 0.0000, Mean acc at 1: 0.0000\n",
      "Starting with estimator: GradientBoostingRegressor\n",
      "Params: {'n_estimators': 10, 'learning_rate': 0.1, 'subsample': 0.5}, MSE over all splits is: 0.0420, Mean acc at 5: 0.2316, Mean acc at 1: 0.5789\n",
      "Params: {'n_estimators': 10, 'learning_rate': 0.1, 'subsample': 1.0}, MSE over all splits is: 0.0388, Mean acc at 5: 0.3000, Mean acc at 1: 0.6579\n",
      "Params: {'n_estimators': 10, 'learning_rate': 0.01, 'subsample': 0.5}, MSE over all splits is: 0.0597, Mean acc at 5: 0.3000, Mean acc at 1: 0.6316\n",
      "Params: {'n_estimators': 10, 'learning_rate': 0.01, 'subsample': 1.0}, MSE over all splits is: 0.0597, Mean acc at 5: 0.2947, Mean acc at 1: 0.6579\n",
      "Params: {'n_estimators': 10, 'learning_rate': 0.001, 'subsample': 0.5}, MSE over all splits is: 0.0682, Mean acc at 5: 0.2789, Mean acc at 1: 0.5789\n",
      "Params: {'n_estimators': 10, 'learning_rate': 0.001, 'subsample': 1.0}, MSE over all splits is: 0.0682, Mean acc at 5: 0.2737, Mean acc at 1: 0.6579\n",
      "Params: {'n_estimators': 10, 'learning_rate': 0.0001, 'subsample': 0.5}, MSE over all splits is: 0.0692, Mean acc at 5: 0.3053, Mean acc at 1: 0.6579\n",
      "Params: {'n_estimators': 10, 'learning_rate': 0.0001, 'subsample': 1.0}, MSE over all splits is: 0.0692, Mean acc at 5: 0.2737, Mean acc at 1: 0.6579\n",
      "Params: {'n_estimators': 10, 'learning_rate': 1, 'subsample': 0.5}, MSE over all splits is: 0.3052, Mean acc at 5: 0.1737, Mean acc at 1: 0.3421\n",
      "Params: {'n_estimators': 10, 'learning_rate': 1, 'subsample': 1.0}, MSE over all splits is: 0.1572, Mean acc at 5: 0.2158, Mean acc at 1: 0.4474\n",
      "Params: {'n_estimators': 50, 'learning_rate': 0.1, 'subsample': 0.5}, MSE over all splits is: 0.0781, Mean acc at 5: 0.2684, Mean acc at 1: 0.5789\n",
      "Params: {'n_estimators': 50, 'learning_rate': 0.1, 'subsample': 1.0}, MSE over all splits is: 0.0737, Mean acc at 5: 0.2632, Mean acc at 1: 0.6053\n",
      "Params: {'n_estimators': 50, 'learning_rate': 0.01, 'subsample': 0.5}, MSE over all splits is: 0.0411, Mean acc at 5: 0.3316, Mean acc at 1: 0.6842\n",
      "Params: {'n_estimators': 50, 'learning_rate': 0.01, 'subsample': 1.0}, MSE over all splits is: 0.0408, Mean acc at 5: 0.2789, Mean acc at 1: 0.6579\n",
      "Params: {'n_estimators': 50, 'learning_rate': 0.001, 'subsample': 0.5}, MSE over all splits is: 0.0642, Mean acc at 5: 0.3053, Mean acc at 1: 0.6842\n",
      "Params: {'n_estimators': 50, 'learning_rate': 0.001, 'subsample': 1.0}, MSE over all splits is: 0.0642, Mean acc at 5: 0.2895, Mean acc at 1: 0.6579\n",
      "Params: {'n_estimators': 50, 'learning_rate': 0.0001, 'subsample': 0.5}, MSE over all splits is: 0.0688, Mean acc at 5: 0.3421, Mean acc at 1: 0.7368\n",
      "Params: {'n_estimators': 50, 'learning_rate': 0.0001, 'subsample': 1.0}, MSE over all splits is: 0.0688, Mean acc at 5: 0.2737, Mean acc at 1: 0.6579\n",
      "Params: {'n_estimators': 50, 'learning_rate': 1, 'subsample': 0.5}, MSE over all splits is: 0.9811, Mean acc at 5: 0.1684, Mean acc at 1: 0.2632\n",
      "Params: {'n_estimators': 50, 'learning_rate': 1, 'subsample': 1.0}, MSE over all splits is: 0.1854, Mean acc at 5: 0.1368, Mean acc at 1: 0.3158\n",
      "Params: {'n_estimators': 100, 'learning_rate': 0.1, 'subsample': 0.5}, MSE over all splits is: 0.0863, Mean acc at 5: 0.2474, Mean acc at 1: 0.5789\n",
      "Params: {'n_estimators': 100, 'learning_rate': 0.1, 'subsample': 1.0}, MSE over all splits is: 0.0908, Mean acc at 5: 0.2632, Mean acc at 1: 0.6053\n",
      "Params: {'n_estimators': 100, 'learning_rate': 0.01, 'subsample': 0.5}, MSE over all splits is: 0.0396, Mean acc at 5: 0.2632, Mean acc at 1: 0.6842\n",
      "Params: {'n_estimators': 100, 'learning_rate': 0.01, 'subsample': 1.0}, MSE over all splits is: 0.0388, Mean acc at 5: 0.3158, Mean acc at 1: 0.6579\n",
      "Params: {'n_estimators': 100, 'learning_rate': 0.001, 'subsample': 0.5}, MSE over all splits is: 0.0597, Mean acc at 5: 0.2842, Mean acc at 1: 0.7105\n",
      "Params: {'n_estimators': 100, 'learning_rate': 0.001, 'subsample': 1.0}, MSE over all splits is: 0.0597, Mean acc at 5: 0.2895, Mean acc at 1: 0.6579\n",
      "Params: {'n_estimators': 100, 'learning_rate': 0.0001, 'subsample': 0.5}, MSE over all splits is: 0.0682, Mean acc at 5: 0.3211, Mean acc at 1: 0.7105\n",
      "Params: {'n_estimators': 100, 'learning_rate': 0.0001, 'subsample': 1.0}, MSE over all splits is: 0.0682, Mean acc at 5: 0.2737, Mean acc at 1: 0.6579\n",
      "Params: {'n_estimators': 100, 'learning_rate': 1, 'subsample': 0.5}, MSE over all splits is: 1.5011, Mean acc at 5: 0.1421, Mean acc at 1: 0.2895\n",
      "Params: {'n_estimators': 100, 'learning_rate': 1, 'subsample': 1.0}, MSE over all splits is: 0.1914, Mean acc at 5: 0.2000, Mean acc at 1: 0.3684\n",
      "Params: {'n_estimators': 200, 'learning_rate': 0.1, 'subsample': 0.5}, MSE over all splits is: 0.0993, Mean acc at 5: 0.2632, Mean acc at 1: 0.6316\n",
      "Params: {'n_estimators': 200, 'learning_rate': 0.1, 'subsample': 1.0}, MSE over all splits is: 0.1045, Mean acc at 5: 0.2474, Mean acc at 1: 0.6053\n",
      "Params: {'n_estimators': 200, 'learning_rate': 0.01, 'subsample': 0.5}, MSE over all splits is: 0.0527, Mean acc at 5: 0.2579, Mean acc at 1: 0.5789\n",
      "Params: {'n_estimators': 200, 'learning_rate': 0.01, 'subsample': 1.0}, MSE over all splits is: 0.0503, Mean acc at 5: 0.3263, Mean acc at 1: 0.6316\n",
      "Params: {'n_estimators': 200, 'learning_rate': 0.001, 'subsample': 0.5}, MSE over all splits is: 0.0526, Mean acc at 5: 0.2789, Mean acc at 1: 0.6842\n",
      "Params: {'n_estimators': 200, 'learning_rate': 0.001, 'subsample': 1.0}, MSE over all splits is: 0.0524, Mean acc at 5: 0.2789, Mean acc at 1: 0.6316\n",
      "Params: {'n_estimators': 200, 'learning_rate': 0.0001, 'subsample': 0.5}, MSE over all splits is: 0.0672, Mean acc at 5: 0.2895, Mean acc at 1: 0.6842\n",
      "Params: {'n_estimators': 200, 'learning_rate': 0.0001, 'subsample': 1.0}, MSE over all splits is: 0.0672, Mean acc at 5: 0.2789, Mean acc at 1: 0.6579\n",
      "Params: {'n_estimators': 200, 'learning_rate': 1, 'subsample': 0.5}, MSE over all splits is: 1.7162, Mean acc at 5: 0.1105, Mean acc at 1: 0.2105\n",
      "Params: {'n_estimators': 200, 'learning_rate': 1, 'subsample': 1.0}, MSE over all splits is: 0.1920, Mean acc at 5: 0.2158, Mean acc at 1: 0.4211\n"
     ]
    }
   ],
   "source": [
    "best_estimator = pipeline(\n",
    "    data_frame=data_frame,\n",
    "    estimators=estimators,\n",
    "    params=params,\n",
    "    filename=\"log_reg_scaler_poly_2_all.txt\",\n",
    "    scaler=MinMaxScaler(),\n",
    "    poly_fit=PolynomialFeatures(degree=2, interaction_only=False),\n",
    ")"
   ]
  },
  {
   "cell_type": "code",
   "execution_count": 183,
   "metadata": {
    "scrolled": true
   },
   "outputs": [
    {
     "name": "stdout",
     "output_type": "stream",
     "text": [
      "Starting with estimator: LinearRegression\n",
      "Params: {'n_jobs': -1}, MSE over all splits is: 72.1856, Mean acc at 5: 0.0421, Mean acc at 1: 0.0789\n",
      "Params: {'n_jobs': -1, 'normalize': True}, MSE over all splits is: 72.6812, Mean acc at 5: 0.0632, Mean acc at 1: 0.1842\n",
      "Starting with estimator: Ridge\n",
      "Params: {'alpha': 1.0}, MSE over all splits is: 0.1379, Mean acc at 5: 0.3368, Mean acc at 1: 0.6579\n",
      "Params: {'alpha': 10.0}, MSE over all splits is: 0.0787, Mean acc at 5: 0.3421, Mean acc at 1: 0.6579\n",
      "Params: {'alpha': 50.0}, MSE over all splits is: 0.0584, Mean acc at 5: 0.3421, Mean acc at 1: 0.6842\n",
      "Params: {'alpha': 100.0}, MSE over all splits is: 0.0526, Mean acc at 5: 0.3579, Mean acc at 1: 0.6842\n",
      "Params: {'alpha': 200.0}, MSE over all splits is: 0.0471, Mean acc at 5: 0.3474, Mean acc at 1: 0.6579\n",
      "Params: {'alpha': 500.0}, MSE over all splits is: 0.0398, Mean acc at 5: 0.3316, Mean acc at 1: 0.6579\n",
      "Starting with estimator: Lasso\n",
      "Params: {'alpha': 1.0}, MSE over all splits is: 0.0693, Mean acc at 5: 0.0000, Mean acc at 1: 0.0000\n",
      "Params: {'alpha': 10.0}, MSE over all splits is: 0.0693, Mean acc at 5: 0.0000, Mean acc at 1: 0.0000\n",
      "Params: {'alpha': 100.0}, MSE over all splits is: 0.0693, Mean acc at 5: 0.0000, Mean acc at 1: 0.0000\n",
      "Starting with estimator: GradientBoostingRegressor\n",
      "Params: {'n_estimators': 10, 'learning_rate': 0.1, 'subsample': 0.5}, MSE over all splits is: 0.0476, Mean acc at 5: 0.2842, Mean acc at 1: 0.6053\n",
      "Params: {'n_estimators': 10, 'learning_rate': 0.1, 'subsample': 1.0}, MSE over all splits is: 0.0456, Mean acc at 5: 0.3158, Mean acc at 1: 0.6842\n",
      "Params: {'n_estimators': 10, 'learning_rate': 0.01, 'subsample': 0.5}, MSE over all splits is: 0.0596, Mean acc at 5: 0.3368, Mean acc at 1: 0.7105\n",
      "Params: {'n_estimators': 10, 'learning_rate': 0.01, 'subsample': 1.0}, MSE over all splits is: 0.0596, Mean acc at 5: 0.2789, Mean acc at 1: 0.6579\n",
      "Params: {'n_estimators': 10, 'learning_rate': 0.001, 'subsample': 0.5}, MSE over all splits is: 0.0682, Mean acc at 5: 0.3158, Mean acc at 1: 0.6053\n",
      "Params: {'n_estimators': 10, 'learning_rate': 0.001, 'subsample': 1.0}, MSE over all splits is: 0.0682, Mean acc at 5: 0.2789, Mean acc at 1: 0.6579\n",
      "Params: {'n_estimators': 10, 'learning_rate': 0.0001, 'subsample': 0.5}, MSE over all splits is: 0.0692, Mean acc at 5: 0.2684, Mean acc at 1: 0.6053\n",
      "Params: {'n_estimators': 10, 'learning_rate': 0.0001, 'subsample': 1.0}, MSE over all splits is: 0.0692, Mean acc at 5: 0.2684, Mean acc at 1: 0.6579\n",
      "Params: {'n_estimators': 10, 'learning_rate': 1, 'subsample': 0.5}, MSE over all splits is: 0.3806, Mean acc at 5: 0.1263, Mean acc at 1: 0.2368\n",
      "Params: {'n_estimators': 10, 'learning_rate': 1, 'subsample': 1.0}, MSE over all splits is: 0.1593, Mean acc at 5: 0.2211, Mean acc at 1: 0.4737\n",
      "Params: {'n_estimators': 50, 'learning_rate': 0.1, 'subsample': 0.5}, MSE over all splits is: 0.0886, Mean acc at 5: 0.2316, Mean acc at 1: 0.5526\n",
      "Params: {'n_estimators': 50, 'learning_rate': 0.1, 'subsample': 1.0}, MSE over all splits is: 0.0925, Mean acc at 5: 0.2526, Mean acc at 1: 0.6053\n",
      "Params: {'n_estimators': 50, 'learning_rate': 0.01, 'subsample': 0.5}, MSE over all splits is: 0.0427, Mean acc at 5: 0.2895, Mean acc at 1: 0.6842\n",
      "Params: {'n_estimators': 50, 'learning_rate': 0.01, 'subsample': 1.0}, MSE over all splits is: 0.0426, Mean acc at 5: 0.2895, Mean acc at 1: 0.6579\n",
      "Params: {'n_estimators': 50, 'learning_rate': 0.001, 'subsample': 0.5}, MSE over all splits is: 0.0640, Mean acc at 5: 0.2789, Mean acc at 1: 0.6842\n",
      "Params: {'n_estimators': 50, 'learning_rate': 0.001, 'subsample': 1.0}, MSE over all splits is: 0.0641, Mean acc at 5: 0.3000, Mean acc at 1: 0.6579\n",
      "Params: {'n_estimators': 50, 'learning_rate': 0.0001, 'subsample': 0.5}, MSE over all splits is: 0.0687, Mean acc at 5: 0.3105, Mean acc at 1: 0.7368\n",
      "Params: {'n_estimators': 50, 'learning_rate': 0.0001, 'subsample': 1.0}, MSE over all splits is: 0.0688, Mean acc at 5: 0.2632, Mean acc at 1: 0.6579\n",
      "Params: {'n_estimators': 50, 'learning_rate': 1, 'subsample': 0.5}, MSE over all splits is: 1.3734, Mean acc at 5: 0.0947, Mean acc at 1: 0.2105\n",
      "Params: {'n_estimators': 50, 'learning_rate': 1, 'subsample': 1.0}, MSE over all splits is: 0.1914, Mean acc at 5: 0.2000, Mean acc at 1: 0.3421\n",
      "Params: {'n_estimators': 100, 'learning_rate': 0.1, 'subsample': 0.5}, MSE over all splits is: 0.1002, Mean acc at 5: 0.2368, Mean acc at 1: 0.5789\n",
      "Params: {'n_estimators': 100, 'learning_rate': 0.1, 'subsample': 1.0}, MSE over all splits is: 0.1079, Mean acc at 5: 0.2684, Mean acc at 1: 0.5789\n",
      "Params: {'n_estimators': 100, 'learning_rate': 0.01, 'subsample': 0.5}, MSE over all splits is: 0.0455, Mean acc at 5: 0.2632, Mean acc at 1: 0.5789\n",
      "Params: {'n_estimators': 100, 'learning_rate': 0.01, 'subsample': 1.0}, MSE over all splits is: 0.0448, Mean acc at 5: 0.3053, Mean acc at 1: 0.6579\n",
      "Params: {'n_estimators': 100, 'learning_rate': 0.001, 'subsample': 0.5}, MSE over all splits is: 0.0595, Mean acc at 5: 0.2895, Mean acc at 1: 0.6053\n",
      "Params: {'n_estimators': 100, 'learning_rate': 0.001, 'subsample': 1.0}, MSE over all splits is: 0.0596, Mean acc at 5: 0.2842, Mean acc at 1: 0.6579\n",
      "Params: {'n_estimators': 100, 'learning_rate': 0.0001, 'subsample': 0.5}, MSE over all splits is: 0.0682, Mean acc at 5: 0.2895, Mean acc at 1: 0.6842\n",
      "Params: {'n_estimators': 100, 'learning_rate': 0.0001, 'subsample': 1.0}, MSE over all splits is: 0.0682, Mean acc at 5: 0.2789, Mean acc at 1: 0.6579\n",
      "Params: {'n_estimators': 100, 'learning_rate': 1, 'subsample': 0.5}, MSE over all splits is: 1.4762, Mean acc at 5: 0.0947, Mean acc at 1: 0.1579\n",
      "Params: {'n_estimators': 100, 'learning_rate': 1, 'subsample': 1.0}, MSE over all splits is: 0.2001, Mean acc at 5: 0.1789, Mean acc at 1: 0.3421\n",
      "Params: {'n_estimators': 200, 'learning_rate': 0.1, 'subsample': 0.5}, MSE over all splits is: 0.1077, Mean acc at 5: 0.2158, Mean acc at 1: 0.5000\n",
      "Params: {'n_estimators': 200, 'learning_rate': 0.1, 'subsample': 1.0}, MSE over all splits is: 0.1199, Mean acc at 5: 0.2263, Mean acc at 1: 0.5526\n",
      "Params: {'n_estimators': 200, 'learning_rate': 0.01, 'subsample': 0.5}, MSE over all splits is: 0.0636, Mean acc at 5: 0.2474, Mean acc at 1: 0.5526\n",
      "Params: {'n_estimators': 200, 'learning_rate': 0.01, 'subsample': 1.0}, MSE over all splits is: 0.0632, Mean acc at 5: 0.2632, Mean acc at 1: 0.5263\n",
      "Params: {'n_estimators': 200, 'learning_rate': 0.001, 'subsample': 0.5}, MSE over all splits is: 0.0525, Mean acc at 5: 0.2947, Mean acc at 1: 0.6842\n",
      "Params: {'n_estimators': 200, 'learning_rate': 0.001, 'subsample': 1.0}, MSE over all splits is: 0.0526, Mean acc at 5: 0.3211, Mean acc at 1: 0.6842\n",
      "Params: {'n_estimators': 200, 'learning_rate': 0.0001, 'subsample': 0.5}, MSE over all splits is: 0.0671, Mean acc at 5: 0.2737, Mean acc at 1: 0.6316\n",
      "Params: {'n_estimators': 200, 'learning_rate': 0.0001, 'subsample': 1.0}, MSE over all splits is: 0.0671, Mean acc at 5: 0.2737, Mean acc at 1: 0.6579\n",
      "Params: {'n_estimators': 200, 'learning_rate': 1, 'subsample': 0.5}, MSE over all splits is: 1.4785, Mean acc at 5: 0.1211, Mean acc at 1: 0.3684\n",
      "Params: {'n_estimators': 200, 'learning_rate': 1, 'subsample': 1.0}, MSE over all splits is: 0.2023, Mean acc at 5: 0.2053, Mean acc at 1: 0.3947\n"
     ]
    }
   ],
   "source": [
    "best_estimator = pipeline(\n",
    "    data_frame=data_frame,\n",
    "    estimators=estimators,\n",
    "    params=params,\n",
    "    filename=\"log_reg_scaler_poly_3.txt\",\n",
    "    scaler=MinMaxScaler(),\n",
    "    poly_fit=PolynomialFeatures(degree=3, interaction_only=True),\n",
    ")"
   ]
  },
  {
   "cell_type": "code",
   "execution_count": 141,
   "metadata": {},
   "outputs": [],
   "source": [
    "train_columns = ['ts_pct', 'bpm', 'mp_per_g', 'pts_per_g', 'trb_per_g', 'ast_per_g',\n",
    "        'stl_per_g', 'blk_per_g', 'ws', 'win_pct']\n",
    "target_columns = ['award_share']"
   ]
  },
  {
   "cell_type": "code",
   "execution_count": 255,
   "metadata": {},
   "outputs": [],
   "source": [
    "season = \"2015-16\"\n",
    "#'n_estimators': 100, 'learning_rate': 0.001, 'subsample': 0.5}\n",
    "# ''n_estimators': 100, 'learning_rate': 0.1, 'subsample': 0.5, 'loss': 'huber'\n",
    "model = GradientBoostingRegressor(n_estimators=50, learning_rate= 0.1, subsample=1.0)\n",
    "model = RandomForestRegressor(n_estimators=50, n_jobs=-1)\n",
    "# model = Ridge(alpha=0.1)\n",
    "poly_fit = PolynomialFeatures(degree=3, interaction_only=True)"
   ]
  },
  {
   "cell_type": "code",
   "execution_count": 256,
   "metadata": {},
   "outputs": [],
   "source": [
    "train_data = data_frame.loc[data_frame.season != season]\n",
    "validation_data = data_frame.loc[data_frame.season == season]\n",
    "#validation_data = validation_data.sort_values(by='award_share')\n",
    "\n",
    "# Get train data\n",
    "train_x = train_data[train_columns].to_numpy()\n",
    "#train_x = poly_fit.fit_transform(train_x)\n",
    "train_y = train_data[target_columns].to_numpy()\n",
    "train_y = train_y.reshape(train_y.shape[0], )\n",
    "\n",
    "# Validate over one season only\n",
    "val_x = validation_data[train_columns].to_numpy()\n",
    "#val_x = poly_fit.fit_transform(val_x)\n",
    "val_y = validation_data[target_columns].to_numpy()\n",
    "val_y = val_y.reshape(val_y.shape[0], )"
   ]
  },
  {
   "cell_type": "code",
   "execution_count": 258,
   "metadata": {},
   "outputs": [
    {
     "data": {
      "text/plain": [
       "array([0.82988 , 0.33518 , 0.52746 , 0.47618 , 0.25812 , 0.18638 ,\n",
       "       0.104882, 0.05074 , 0.12348 , 0.051238])"
      ]
     },
     "execution_count": 258,
     "metadata": {},
     "output_type": "execute_result"
    }
   ],
   "source": [
    "model.fit(train_x, train_y)\n",
    "predict_y = model.predict(val_x)\n",
    "predict_y"
   ]
  },
  {
   "cell_type": "code",
   "execution_count": 259,
   "metadata": {},
   "outputs": [
    {
     "data": {
      "text/plain": [
       "array([1.   , 0.484, 0.482, 0.371, 0.112, 0.082, 0.038, 0.02 , 0.007,\n",
       "       0.005])"
      ]
     },
     "execution_count": 259,
     "metadata": {},
     "output_type": "execute_result"
    }
   ],
   "source": [
    "val_y"
   ]
  },
  {
   "cell_type": "markdown",
   "metadata": {},
   "source": [
    "## Results Analysis"
   ]
  },
  {
   "cell_type": "code",
   "execution_count": 132,
   "metadata": {},
   "outputs": [],
   "source": [
    "import os"
   ]
  },
  {
   "cell_type": "code",
   "execution_count": 133,
   "metadata": {},
   "outputs": [],
   "source": [
    "results = os.listdir('logs/')\n",
    "result_list = []\n",
    "for name in results:\n",
    "    if 'log_final_features' in name:\n",
    "        added_name = name.split(\".txt\")[0].split(\"log_final_features_\")[1]\n",
    "        estimator = None\n",
    "        with open(\"logs/\" + name) as f:\n",
    "            lines = f.readlines()\n",
    "        for line in lines:\n",
    "            if \"{\" not in line:\n",
    "                estimator = line.split(\" \")[-1].strip()\n",
    "                continue\n",
    "            params = line.split(\"{\")[1].split(\"}\")[0].strip().replace(\"'\", \"\")\n",
    "            mse = float(line.split(\"MSE over all splits is: \")[1].split(\",\")[0].strip())\n",
    "            acc_top_1 = float(line.split(\"Mean acc at 1: \")[1].strip())\n",
    "            acc_top_5 = float(line.split(\"Mean acc at 5: \")[1].split(\",\")[0].strip())\n",
    "            result_list.append((added_name,estimator, params, acc_top_5, acc_top_1, mse))"
   ]
  },
  {
   "cell_type": "code",
   "execution_count": 137,
   "metadata": {},
   "outputs": [],
   "source": [
    "sorted_results = sorted(result_list, key=lambda item: item[-1])"
   ]
  },
  {
   "cell_type": "code",
   "execution_count": 138,
   "metadata": {
    "scrolled": true
   },
   "outputs": [],
   "source": [
    "with open('reg_results_mse_sorted.txt', 'w') as f:\n",
    "    for line in sorted_results:\n",
    "        string = \"\"\n",
    "        for item in line:\n",
    "            string = string + str(item) + \"|\"\n",
    "        string += \"\\n\"\n",
    "        f.write(string)"
   ]
  },
  {
   "cell_type": "markdown",
   "metadata": {},
   "source": [
    "Based on the results of couple of simple regressors, the best one is Ridge regressor with poly level 2 and all polynoms (not only interacitons). Alpha is set to 50 or 100."
   ]
  },
  {
   "cell_type": "markdown",
   "metadata": {},
   "source": [
    "# Cls attempt"
   ]
  },
  {
   "cell_type": "markdown",
   "metadata": {},
   "source": [
    "It is more natural to approach this problem as a classification problem, since we need to rank players, in other words, we need to give them a class. Minimum number of players for a season is 10, so I'll limit each season to only ten players, and I'll let the classifier decide top 10 ranks."
   ]
  },
  {
   "cell_type": "code",
   "execution_count": 78,
   "metadata": {},
   "outputs": [],
   "source": [
    "cls_data_frame = None\n",
    "ranks = []\n",
    "minimum = None\n",
    "for season in data_frame.season.unique():\n",
    "    season_data = data_frame.loc[data_frame.season == season]\n",
    "    num_pos = len(season_data)\n",
    "    ranks = list(range(1, num_pos+1))\n",
    "    season_data = season_data.sort_values(by='award_share', ascending=False)\n",
    "    is_mvp = [1 if rank == 1 else 0 for rank in ranks]\n",
    "    season_data['rank'] = ranks\n",
    "    season_data['is_mvp'] = is_mvp\n",
    "    season_data = season_data[:10]\n",
    "    if cls_data_frame is None:\n",
    "        cls_data_frame = season_data\n",
    "    else:\n",
    "        cls_data_frame = cls_data_frame.append(season_data)"
   ]
  },
  {
   "cell_type": "code",
   "execution_count": 79,
   "metadata": {},
   "outputs": [],
   "source": [
    "cls_data_frame.to_csv('cls_data_frame.csv')"
   ]
  },
  {
   "cell_type": "markdown",
   "metadata": {},
   "source": [
    "## Feature selection"
   ]
  },
  {
   "cell_type": "code",
   "execution_count": 75,
   "metadata": {},
   "outputs": [],
   "source": [
    "from sklearn.feature_selection import SelectKBest, mutual_info_classif"
   ]
  },
  {
   "cell_type": "code",
   "execution_count": 76,
   "metadata": {},
   "outputs": [],
   "source": [
    "features = ['fga', 'fg3a', 'fta', 'per', 'ts_pct', 'usg_pct', 'bpm',\n",
    "       'mp_per_g', 'pts_per_g', 'trb_per_g', 'ast_per_g',\n",
    "       'stl_per_g', 'blk_per_g', 'fg_pct', 'fg3_pct', 'ft_pct', 'ws',\n",
    "       'ws_per_48', 'win_pct']\n",
    "x_data = cls_data_frame[features].to_numpy()\n",
    "y_data = cls_data_frame[['rank']].to_numpy()\n",
    "scaler = MinMaxScaler()\n",
    "x_data = scaler.fit_transform(x_data)\n",
    "y_data = y_data.reshape(y_data.shape[0], )"
   ]
  },
  {
   "cell_type": "code",
   "execution_count": 77,
   "metadata": {},
   "outputs": [],
   "source": [
    "selector = SelectKBest(mutual_info_classif, k=5)"
   ]
  },
  {
   "cell_type": "code",
   "execution_count": 78,
   "metadata": {},
   "outputs": [],
   "source": [
    "best_feat = selector.fit_transform(x_data, y_data)"
   ]
  },
  {
   "cell_type": "code",
   "execution_count": 79,
   "metadata": {},
   "outputs": [],
   "source": [
    "sorted_indices = np.argsort(selector.scores_)[::-1]"
   ]
  },
  {
   "cell_type": "code",
   "execution_count": 80,
   "metadata": {
    "scrolled": true
   },
   "outputs": [
    {
     "name": "stdout",
     "output_type": "stream",
     "text": [
      "per: 0.2472\n",
      "bpm: 0.2130\n",
      "ws_per_48: 0.2024\n",
      "ws: 0.1613\n",
      "win_pct: 0.0878\n",
      "trb_per_g: 0.0635\n",
      "blk_per_g: 0.0535\n",
      "stl_per_g: 0.0518\n",
      "ts_pct: 0.0419\n",
      "usg_pct: 0.0402\n",
      "pts_per_g: 0.0392\n",
      "fta: 0.0381\n",
      "ast_per_g: 0.0368\n",
      "ft_pct: 0.0360\n",
      "fg_pct: 0.0211\n",
      "fg3a: 0.0190\n",
      "mp_per_g: 0.0000\n",
      "fg3_pct: 0.0000\n",
      "fga: 0.0000\n"
     ]
    }
   ],
   "source": [
    "for index in sorted_indices:\n",
    "    print(f\"{features[index]}: {selector.scores_[index]:.4f}\")"
   ]
  },
  {
   "cell_type": "markdown",
   "metadata": {},
   "source": [
    "### Random Forest"
   ]
  },
  {
   "cell_type": "code",
   "execution_count": 37,
   "metadata": {},
   "outputs": [],
   "source": [
    "from sklearn.ensemble import RandomForestClassifier"
   ]
  },
  {
   "cell_type": "code",
   "execution_count": 38,
   "metadata": {},
   "outputs": [],
   "source": [
    "clf = RandomForestClassifier(n_estimators=100)"
   ]
  },
  {
   "cell_type": "code",
   "execution_count": 83,
   "metadata": {},
   "outputs": [
    {
     "data": {
      "text/plain": [
       "RandomForestClassifier(bootstrap=True, class_weight=None, criterion='gini',\n",
       "            max_depth=None, max_features='auto', max_leaf_nodes=None,\n",
       "            min_impurity_decrease=0.0, min_impurity_split=None,\n",
       "            min_samples_leaf=1, min_samples_split=2,\n",
       "            min_weight_fraction_leaf=0.0, n_estimators=100, n_jobs=None,\n",
       "            oob_score=False, random_state=None, verbose=0,\n",
       "            warm_start=False)"
      ]
     },
     "execution_count": 83,
     "metadata": {},
     "output_type": "execute_result"
    }
   ],
   "source": [
    "clf.fit(x_data, y_data)"
   ]
  },
  {
   "cell_type": "code",
   "execution_count": 84,
   "metadata": {},
   "outputs": [
    {
     "name": "stdout",
     "output_type": "stream",
     "text": [
      "win_pct: 0.07045285760530273\n",
      "ws_per_48: 0.0692605957927698\n",
      "ws: 0.06797313417636797\n",
      "bpm: 0.06376022441733051\n",
      "per: 0.060702595278032165\n",
      "pts_per_g: 0.05464115358658442\n",
      "ft_pct: 0.052663705715118636\n",
      "ts_pct: 0.0506437427328556\n",
      "fga: 0.04964946440566086\n",
      "fg_pct: 0.04909896844957942\n",
      "mp_per_g: 0.049053654632370554\n",
      "ast_per_g: 0.04893833368148348\n",
      "fta: 0.04884429460438513\n",
      "trb_per_g: 0.04833394179969547\n",
      "usg_pct: 0.046024240524036156\n",
      "blk_per_g: 0.044444415935090895\n",
      "fg3_pct: 0.04439268040673557\n",
      "stl_per_g: 0.041658569471196755\n",
      "fg3a: 0.03946342678540384\n"
     ]
    }
   ],
   "source": [
    "sorted_indices = np.argsort(clf.feature_importances_)[::-1]\n",
    "for index in sorted_indices:\n",
    "    print(f\"{features[index]}: {clf.feature_importances_[index]}\")"
   ]
  },
  {
   "cell_type": "markdown",
   "metadata": {},
   "source": [
    "For random forest classifier there isn't any feature which really jumps out."
   ]
  },
  {
   "cell_type": "code",
   "execution_count": 131,
   "metadata": {},
   "outputs": [],
   "source": [
    "def get_max_prob_for_rank(predictions):\n",
    "    indices = []\n",
    "    visited = []\n",
    "    # return np.argsort(predictions[:, 0])[::-1]\n",
    "    return np.argsort(predictions[:, 0])[::-1] + 1\n",
    "    for i in range(len(predictions)):\n",
    "        rank_i_values = predictions[:,i]\n",
    "        for top_rank in np.argsort(predictions[:,i])[::-1]:\n",
    "            if top_rank in visited:\n",
    "                continue\n",
    "            indices.append(top_rank+1)\n",
    "            visited.append(top_rank)\n",
    "            break\n",
    "    return indices"
   ]
  },
  {
   "cell_type": "code",
   "execution_count": 133,
   "metadata": {},
   "outputs": [],
   "source": [
    "def mean_reciprocal_rank(preds, ground_truths):\n",
    "    total_sum = 0.0\n",
    "    for i in range(len(ground_truths)):\n",
    "        index = np.where(preds == ground_truths)[0]\n",
    "        if len(index) == 0:\n",
    "            total_sum += 0.0\n",
    "            continue\n",
    "        total_sum += 1. / (index[0]+1)\n",
    "    return total_sum / len(ground_truths)"
   ]
  },
  {
   "cell_type": "code",
   "execution_count": 134,
   "metadata": {},
   "outputs": [],
   "source": [
    "from sklearn.preprocessing import PolynomialFeatures, normalize, StandardScaler, MinMaxScaler\n",
    "from sklearn.utils import shuffle\n",
    "import logging"
   ]
  },
  {
   "cell_type": "code",
   "execution_count": 135,
   "metadata": {},
   "outputs": [],
   "source": [
    "def cls_pipeline(data_frame, estimators, params, filename, poly_fit = None, scaler = None):\n",
    "    \n",
    "    unique_seasons = data_frame.season.unique()\n",
    "    \"\"\"\n",
    "    train_columns = [\n",
    "        'fga', 'fg3a', 'fta', 'fg_pct', 'fg3_pct', 'ft_pct', 'per', 'ts_pct', 'usg_pct', 'bpm',\n",
    "        'mp_per_g', 'pts_per_g', 'trb_per_g', 'ast_per_g', 'stl_per_g', 'blk_per_g', 'ws_per_48'            \n",
    "    ]\n",
    "    \n",
    "    train_columns = [\n",
    "        'fga', 'fta', 'per', 'ts_pct', 'usg_pct', 'bpm', 'pts_per_g','ws_per_48'            \n",
    "    ]\n",
    "    \"\"\"\n",
    "    train_columns = ['ts_pct', 'bpm', 'per', 'pts_per_g', 'trb_per_g', 'ast_per_g',\n",
    "            'stl_per_g', 'blk_per_g', 'ws', 'usg_pct', 'win_pct']\n",
    "    target_columns = ['rank']\n",
    "    \n",
    "    for handler in logging.root.handlers[:]:\n",
    "        logging.root.removeHandler(handler)\n",
    "    logging.basicConfig(filename=filename, filemode='w', level=logging.INFO)\n",
    "    logger = logging.getLogger()\n",
    "    \n",
    "    maximal_acc, best_estimator = None, None\n",
    "    \n",
    "    for estimator in estimators:\n",
    "        \n",
    "        \n",
    "            print(f\"Starting with estimator: {estimator.__name__}\")\n",
    "            logging.info(f\"Starting with estimator: {estimator.__name__}\")\n",
    "\n",
    "            for index, cur_params in enumerate(params[estimator.__name__]):\n",
    "\n",
    "                classifier = estimator(**cur_params)\n",
    "\n",
    "                # To collect MSE over each split\n",
    "                total_accuracies = []\n",
    "\n",
    "                # to collect accuracies\n",
    "                accuracies = []\n",
    "                top_1_accs = []\n",
    "\n",
    "                for season in unique_seasons:\n",
    "\n",
    "                    train_data = data_frame.loc[data_frame.season != season]\n",
    "                    validation_data = data_frame.loc[data_frame.season == season]\n",
    "                    validation_data = validation_data.sort_values(by='award_share', ascending=False)\n",
    "\n",
    "                    # Get train data\n",
    "                    train_x = train_data[train_columns].to_numpy()\n",
    "                    train_y = train_data[target_columns].to_numpy()\n",
    "                    train_y = train_y.reshape(train_y.shape[0], )\n",
    "\n",
    "                    # Validate over one season only\n",
    "                    val_x = validation_data[train_columns].to_numpy()\n",
    "                    val_y = validation_data[target_columns].to_numpy()\n",
    "                    val_y = val_y.reshape(val_y.shape[0], )\n",
    "\n",
    "                    if poly_fit is not None:\n",
    "                        # poly_fit = PolynomialFeatures(degree=2,interaction_only=False)\n",
    "                        train_x = poly_fit.fit_transform(train_x)\n",
    "                        val_x = poly_fit.fit_transform(val_x)\n",
    "\n",
    "                    if scaler is not None:\n",
    "                        train_x = scaler.fit_transform(train_x)\n",
    "                        val_x = scaler.fit_transform(val_x)\n",
    "\n",
    "                    shuffle_x, shuffle_y = shuffle(train_x, train_y)\n",
    "\n",
    "                    classifier.fit(shuffle_x, shuffle_y)\n",
    "                    predicted_y = classifier.predict_proba(val_x)\n",
    "\n",
    "                    # sorted_indices = np.argsort(predicted_y)[::-1]\n",
    "                    # correct_indices = np.arange(len(val_y))\n",
    "                    # print(predict_y)\n",
    "                    indices = get_max_prob_for_rank(predicted_y)\n",
    "                    \n",
    "                    accuracy = np.sum(indices[:5] == val_y[:5]) / len(val_y[:5])\n",
    "                    accuracies.append(accuracy)\n",
    "                    \n",
    "                    top_1_accs.append(\n",
    "                        np.sum(indices[:1] == val_y[:1]) / len(val_y[:1])\n",
    "                    )\n",
    "                    #curr_error = mean_squared_error(y_true=list(val_y[:5]) + list(val_y[-3:]),\n",
    "                    #                                y_pred=list(predicted_y[:5]) + list(predicted_y[-3:])\n",
    "                    total_accuracies.append(mean_reciprocal_rank(preds=indices[:5], ground_truths=val_y[:5]))\n",
    "\n",
    "                mean_total_acc = np.average(total_accuracies)\n",
    "                mean_accuracy = np.average(accuracies)\n",
    "                mean_acc_at_1 = np.average(top_1_accs)\n",
    "                logging.info(f\"Params: {cur_params}, MRR top 5 is: {mean_total_acc:.4f}, Mean acc at 5: {mean_accuracy:.4f}, Mean acc at 1: {mean_acc_at_1:.4f}\")\n",
    "                print(\n",
    "                    f\"Params: {cur_params}, MRR top 5 is: {mean_total_acc:.4f}, Mean acc at 5: {mean_accuracy:.4f}, Mean acc at 1: {mean_acc_at_1:.4f}\"\n",
    "                )\n",
    "\n",
    "\n",
    "                if maximal_acc is None or mean_total_acc > maximal_acc:\n",
    "                    maximal_acc = mean_total_acc\n",
    "                    best_estimator = estimator(*cur_params)\n",
    "\n",
    "            \n",
    "    return best_estimator"
   ]
  },
  {
   "cell_type": "code",
   "execution_count": 136,
   "metadata": {},
   "outputs": [],
   "source": [
    "from sklearn.linear_model import LogisticRegression\n",
    "from sklearn.svm import SVC\n",
    "from sklearn.neural_network import MLPClassifier\n",
    "from sklearn.ensemble import RandomForestClassifier\n",
    "from sklearn.ensemble import GradientBoostingClassifier"
   ]
  },
  {
   "cell_type": "code",
   "execution_count": 137,
   "metadata": {},
   "outputs": [],
   "source": [
    "def get_log_reg():\n",
    "    dicts = []\n",
    "    for C in [0.001, 0.01, 0.1, 1.0, 10.0, 100.0]:\n",
    "        for solver in ['newton-cg', 'lbfgs']:\n",
    "            dicts.append(\n",
    "                {\n",
    "                    'multi_class': 'multinomial',\n",
    "                    'solver': solver,\n",
    "                    'C': C,\n",
    "                    'n_jobs': -1,\n",
    "                    'max_iter': 2000\n",
    "                }\n",
    "            )\n",
    "    return dicts\n",
    "            \n",
    "def get_svc():\n",
    "    dicts = []\n",
    "    for C in [0.001, 0.01, 0.1, 1.0, 10, 100]:\n",
    "        for gamma in [0.0001, 0.001, 0.01, 0.1, 1.0]:\n",
    "            dicts.append(\n",
    "                {\n",
    "                    'C': C,\n",
    "                    'gamma': gamma,\n",
    "                    'probability': True\n",
    "                }\n",
    "            )\n",
    "    return dicts\n",
    "\n",
    "def get_rf_cls():\n",
    "    dicts = []\n",
    "    for n_estimators in [10, 100, 200]:\n",
    "        for min_samples_split in [2, 3]:\n",
    "            dicts.append(\n",
    "                {\n",
    "                    'n_estimators': n_estimators,\n",
    "                    'min_samples_split': min_samples_split,\n",
    "                    'n_jobs': -1\n",
    "                }\n",
    "            )\n",
    "    return dicts\n",
    "\n",
    "def define_gradient_boosting_cls():\n",
    "    dicts = []\n",
    "    for estimator in [10, 50, 100]:\n",
    "        for learning_rate in [0.1, 0.01, 0.001, 0.0001]:\n",
    "            for subsample in [0.5, 1.0]:\n",
    "                dicts.append(\n",
    "                    {\n",
    "                        'n_estimators': estimator,\n",
    "                        'learning_rate': learning_rate,\n",
    "                        'subsample': subsample,\n",
    "                    }\n",
    "                )\n",
    "    return dicts"
   ]
  },
  {
   "cell_type": "code",
   "execution_count": 138,
   "metadata": {},
   "outputs": [],
   "source": [
    "estimators = [\n",
    "    LogisticRegression,\n",
    "    RandomForestClassifier,\n",
    "    GradientBoostingClassifier,\n",
    "    SVC,\n",
    "]\n",
    "params = {\n",
    "    LogisticRegression.__name__: [\n",
    "        *get_log_reg()\n",
    "    ],\n",
    "    GradientBoostingClassifier.__name__: [\n",
    "        *define_gradient_boosting_cls()\n",
    "    ],\n",
    "    SVC.__name__: [\n",
    "        *get_svc()\n",
    "    ],\n",
    "    RandomForestClassifier.__name__ : [\n",
    "        *get_rf_cls()\n",
    "    ]\n",
    "\n",
    "}"
   ]
  },
  {
   "cell_type": "code",
   "execution_count": 139,
   "metadata": {
    "scrolled": true
   },
   "outputs": [
    {
     "name": "stdout",
     "output_type": "stream",
     "text": [
      "Starting with estimator: LogisticRegression\n",
      "Params: {'multi_class': 'multinomial', 'solver': 'newton-cg', 'C': 0.001, 'n_jobs': -1, 'max_iter': 2000}, MRR top 5 is: 0.6632, Mean acc at 5: 0.3053, Mean acc at 1: 0.6053\n",
      "Params: {'multi_class': 'multinomial', 'solver': 'lbfgs', 'C': 0.001, 'n_jobs': -1, 'max_iter': 2000}, MRR top 5 is: 0.6632, Mean acc at 5: 0.3053, Mean acc at 1: 0.6053\n",
      "Params: {'multi_class': 'multinomial', 'solver': 'newton-cg', 'C': 0.01, 'n_jobs': -1, 'max_iter': 2000}, MRR top 5 is: 0.6632, Mean acc at 5: 0.3105, Mean acc at 1: 0.6053\n",
      "Params: {'multi_class': 'multinomial', 'solver': 'lbfgs', 'C': 0.01, 'n_jobs': -1, 'max_iter': 2000}, MRR top 5 is: 0.6632, Mean acc at 5: 0.3105, Mean acc at 1: 0.6053\n",
      "Params: {'multi_class': 'multinomial', 'solver': 'newton-cg', 'C': 0.1, 'n_jobs': -1, 'max_iter': 2000}, MRR top 5 is: 0.6873, Mean acc at 5: 0.3368, Mean acc at 1: 0.6316\n",
      "Params: {'multi_class': 'multinomial', 'solver': 'lbfgs', 'C': 0.1, 'n_jobs': -1, 'max_iter': 2000}, MRR top 5 is: 0.6873, Mean acc at 5: 0.3368, Mean acc at 1: 0.6316\n",
      "Params: {'multi_class': 'multinomial', 'solver': 'newton-cg', 'C': 1.0, 'n_jobs': -1, 'max_iter': 2000}, MRR top 5 is: 0.7509, Mean acc at 5: 0.3421, Mean acc at 1: 0.7105\n",
      "Params: {'multi_class': 'multinomial', 'solver': 'lbfgs', 'C': 1.0, 'n_jobs': -1, 'max_iter': 2000}, MRR top 5 is: 0.7509, Mean acc at 5: 0.3421, Mean acc at 1: 0.7105\n",
      "Params: {'multi_class': 'multinomial', 'solver': 'newton-cg', 'C': 10.0, 'n_jobs': -1, 'max_iter': 2000}, MRR top 5 is: 0.7127, Mean acc at 5: 0.2895, Mean acc at 1: 0.6579\n",
      "Params: {'multi_class': 'multinomial', 'solver': 'lbfgs', 'C': 10.0, 'n_jobs': -1, 'max_iter': 2000}, MRR top 5 is: 0.7127, Mean acc at 5: 0.2895, Mean acc at 1: 0.6579\n",
      "Params: {'multi_class': 'multinomial', 'solver': 'newton-cg', 'C': 100.0, 'n_jobs': -1, 'max_iter': 2000}, MRR top 5 is: 0.6930, Mean acc at 5: 0.3105, Mean acc at 1: 0.6316\n",
      "Params: {'multi_class': 'multinomial', 'solver': 'lbfgs', 'C': 100.0, 'n_jobs': -1, 'max_iter': 2000}, MRR top 5 is: 0.6930, Mean acc at 5: 0.3105, Mean acc at 1: 0.6316\n",
      "Starting with estimator: RandomForestClassifier\n",
      "Params: {'n_estimators': 10, 'min_samples_split': 2, 'n_jobs': -1}, MRR top 5 is: 0.6706, Mean acc at 5: 0.2368, Mean acc at 1: 0.6053\n",
      "Params: {'n_estimators': 10, 'min_samples_split': 3, 'n_jobs': -1}, MRR top 5 is: 0.6404, Mean acc at 5: 0.2211, Mean acc at 1: 0.5789\n",
      "Params: {'n_estimators': 100, 'min_samples_split': 2, 'n_jobs': -1}, MRR top 5 is: 0.7254, Mean acc at 5: 0.2895, Mean acc at 1: 0.6579\n",
      "Params: {'n_estimators': 100, 'min_samples_split': 3, 'n_jobs': -1}, MRR top 5 is: 0.7522, Mean acc at 5: 0.3211, Mean acc at 1: 0.7105\n",
      "Params: {'n_estimators': 200, 'min_samples_split': 2, 'n_jobs': -1}, MRR top 5 is: 0.6719, Mean acc at 5: 0.2474, Mean acc at 1: 0.6053\n",
      "Params: {'n_estimators': 200, 'min_samples_split': 3, 'n_jobs': -1}, MRR top 5 is: 0.6798, Mean acc at 5: 0.2632, Mean acc at 1: 0.6316\n",
      "Starting with estimator: GradientBoostingClassifier\n",
      "Params: {'n_estimators': 10, 'learning_rate': 0.1, 'subsample': 0.5}, MRR top 5 is: 0.6754, Mean acc at 5: 0.3211, Mean acc at 1: 0.5526\n",
      "Params: {'n_estimators': 10, 'learning_rate': 0.1, 'subsample': 1.0}, MRR top 5 is: 0.6754, Mean acc at 5: 0.2368, Mean acc at 1: 0.6053\n",
      "Params: {'n_estimators': 10, 'learning_rate': 0.01, 'subsample': 0.5}, MRR top 5 is: 0.6917, Mean acc at 5: 0.2316, Mean acc at 1: 0.6579\n",
      "Params: {'n_estimators': 10, 'learning_rate': 0.01, 'subsample': 1.0}, MRR top 5 is: 0.6623, Mean acc at 5: 0.2000, Mean acc at 1: 0.5789\n",
      "Params: {'n_estimators': 10, 'learning_rate': 0.001, 'subsample': 0.5}, MRR top 5 is: 0.7061, Mean acc at 5: 0.2789, Mean acc at 1: 0.6316\n",
      "Params: {'n_estimators': 10, 'learning_rate': 0.001, 'subsample': 1.0}, MRR top 5 is: 0.6338, Mean acc at 5: 0.2316, Mean acc at 1: 0.5789\n",
      "Params: {'n_estimators': 10, 'learning_rate': 0.0001, 'subsample': 0.5}, MRR top 5 is: 0.6667, Mean acc at 5: 0.2632, Mean acc at 1: 0.5789\n",
      "Params: {'n_estimators': 10, 'learning_rate': 0.0001, 'subsample': 1.0}, MRR top 5 is: 0.6096, Mean acc at 5: 0.2421, Mean acc at 1: 0.5263\n",
      "Params: {'n_estimators': 50, 'learning_rate': 0.1, 'subsample': 0.5}, MRR top 5 is: 0.7627, Mean acc at 5: 0.3263, Mean acc at 1: 0.6842\n",
      "Params: {'n_estimators': 50, 'learning_rate': 0.1, 'subsample': 1.0}, MRR top 5 is: 0.6829, Mean acc at 5: 0.3053, Mean acc at 1: 0.6316\n",
      "Params: {'n_estimators': 50, 'learning_rate': 0.01, 'subsample': 0.5}, MRR top 5 is: 0.6610, Mean acc at 5: 0.2737, Mean acc at 1: 0.5789\n",
      "Params: {'n_estimators': 50, 'learning_rate': 0.01, 'subsample': 1.0}, MRR top 5 is: 0.6864, Mean acc at 5: 0.2895, Mean acc at 1: 0.5789\n",
      "Params: {'n_estimators': 50, 'learning_rate': 0.001, 'subsample': 0.5}, MRR top 5 is: 0.7193, Mean acc at 5: 0.2842, Mean acc at 1: 0.6579\n",
      "Params: {'n_estimators': 50, 'learning_rate': 0.001, 'subsample': 1.0}, MRR top 5 is: 0.6675, Mean acc at 5: 0.2737, Mean acc at 1: 0.5789\n",
      "Params: {'n_estimators': 50, 'learning_rate': 0.0001, 'subsample': 0.5}, MRR top 5 is: 0.6996, Mean acc at 5: 0.3053, Mean acc at 1: 0.6316\n",
      "Params: {'n_estimators': 50, 'learning_rate': 0.0001, 'subsample': 1.0}, MRR top 5 is: 0.6382, Mean acc at 5: 0.2316, Mean acc at 1: 0.5526\n",
      "Params: {'n_estimators': 100, 'learning_rate': 0.1, 'subsample': 0.5}, MRR top 5 is: 0.6640, Mean acc at 5: 0.2684, Mean acc at 1: 0.5789\n",
      "Params: {'n_estimators': 100, 'learning_rate': 0.1, 'subsample': 1.0}, MRR top 5 is: 0.6982, Mean acc at 5: 0.2737, Mean acc at 1: 0.6579\n",
      "Params: {'n_estimators': 100, 'learning_rate': 0.01, 'subsample': 0.5}, MRR top 5 is: 0.7114, Mean acc at 5: 0.3211, Mean acc at 1: 0.6579\n",
      "Params: {'n_estimators': 100, 'learning_rate': 0.01, 'subsample': 1.0}, MRR top 5 is: 0.7136, Mean acc at 5: 0.2947, Mean acc at 1: 0.6053\n",
      "Params: {'n_estimators': 100, 'learning_rate': 0.001, 'subsample': 0.5}, MRR top 5 is: 0.7083, Mean acc at 5: 0.3000, Mean acc at 1: 0.6316\n",
      "Params: {'n_estimators': 100, 'learning_rate': 0.001, 'subsample': 1.0}, MRR top 5 is: 0.6895, Mean acc at 5: 0.2421, Mean acc at 1: 0.5789\n",
      "Params: {'n_estimators': 100, 'learning_rate': 0.0001, 'subsample': 0.5}, MRR top 5 is: 0.7232, Mean acc at 5: 0.3053, Mean acc at 1: 0.6579\n",
      "Params: {'n_estimators': 100, 'learning_rate': 0.0001, 'subsample': 1.0}, MRR top 5 is: 0.6294, Mean acc at 5: 0.2316, Mean acc at 1: 0.5526\n",
      "Starting with estimator: SVC\n",
      "Params: {'C': 0.001, 'gamma': 0.0001, 'probability': True}, MRR top 5 is: 0.0421, Mean acc at 5: 0.0421, Mean acc at 1: 0.0000\n",
      "Params: {'C': 0.001, 'gamma': 0.001, 'probability': True}, MRR top 5 is: 0.0368, Mean acc at 5: 0.0368, Mean acc at 1: 0.0000\n",
      "Params: {'C': 0.001, 'gamma': 0.01, 'probability': True}, MRR top 5 is: 0.0368, Mean acc at 5: 0.0368, Mean acc at 1: 0.0000\n",
      "Params: {'C': 0.001, 'gamma': 0.1, 'probability': True}, MRR top 5 is: 0.0500, Mean acc at 5: 0.0474, Mean acc at 1: 0.0000\n",
      "Params: {'C': 0.001, 'gamma': 1.0, 'probability': True}, MRR top 5 is: 0.0579, Mean acc at 5: 0.0526, Mean acc at 1: 0.0000\n",
      "Params: {'C': 0.01, 'gamma': 0.0001, 'probability': True}, MRR top 5 is: 0.0316, Mean acc at 5: 0.0316, Mean acc at 1: 0.0000\n",
      "Params: {'C': 0.01, 'gamma': 0.001, 'probability': True}, MRR top 5 is: 0.0421, Mean acc at 5: 0.0421, Mean acc at 1: 0.0000\n",
      "Params: {'C': 0.01, 'gamma': 0.01, 'probability': True}, MRR top 5 is: 0.0368, Mean acc at 5: 0.0368, Mean acc at 1: 0.0000\n",
      "Params: {'C': 0.01, 'gamma': 0.1, 'probability': True}, MRR top 5 is: 0.0539, Mean acc at 5: 0.0526, Mean acc at 1: 0.0000\n",
      "Params: {'C': 0.01, 'gamma': 1.0, 'probability': True}, MRR top 5 is: 0.0873, Mean acc at 5: 0.0737, Mean acc at 1: 0.0000\n",
      "Params: {'C': 0.1, 'gamma': 0.0001, 'probability': True}, MRR top 5 is: 0.0421, Mean acc at 5: 0.0421, Mean acc at 1: 0.0000\n",
      "Params: {'C': 0.1, 'gamma': 0.001, 'probability': True}, MRR top 5 is: 0.0263, Mean acc at 5: 0.0263, Mean acc at 1: 0.0000\n",
      "Params: {'C': 0.1, 'gamma': 0.01, 'probability': True}, MRR top 5 is: 0.0487, Mean acc at 5: 0.0474, Mean acc at 1: 0.0000\n"
     ]
    },
    {
     "ename": "KeyboardInterrupt",
     "evalue": "",
     "output_type": "error",
     "traceback": [
      "\u001b[0;31m---------------------------------------------------------------------------\u001b[0m",
      "\u001b[0;31mKeyboardInterrupt\u001b[0m                         Traceback (most recent call last)",
      "\u001b[0;32m<ipython-input-139-7b4a7b23a66d>\u001b[0m in \u001b[0;36m<module>\u001b[0;34m\u001b[0m\n\u001b[1;32m      4\u001b[0m     \u001b[0mparams\u001b[0m\u001b[0;34m=\u001b[0m\u001b[0mparams\u001b[0m\u001b[0;34m,\u001b[0m\u001b[0;34m\u001b[0m\u001b[0;34m\u001b[0m\u001b[0m\n\u001b[1;32m      5\u001b[0m     \u001b[0mfilename\u001b[0m\u001b[0;34m=\u001b[0m\u001b[0;34m\"log_cls_mrr.txt\"\u001b[0m\u001b[0;34m,\u001b[0m\u001b[0;34m\u001b[0m\u001b[0;34m\u001b[0m\u001b[0m\n\u001b[0;32m----> 6\u001b[0;31m     \u001b[0mscaler\u001b[0m\u001b[0;34m=\u001b[0m\u001b[0mMinMaxScaler\u001b[0m\u001b[0;34m(\u001b[0m\u001b[0;34m)\u001b[0m\u001b[0;34m,\u001b[0m\u001b[0;34m\u001b[0m\u001b[0;34m\u001b[0m\u001b[0m\n\u001b[0m\u001b[1;32m      7\u001b[0m     \u001b[0;31m# poly_fit=PolynomialFeatures(degree=4, interaction_only=True),\u001b[0m\u001b[0;34m\u001b[0m\u001b[0;34m\u001b[0m\u001b[0;34m\u001b[0m\u001b[0m\n\u001b[1;32m      8\u001b[0m )\n",
      "\u001b[0;32m<ipython-input-135-c454454b2da4>\u001b[0m in \u001b[0;36mcls_pipeline\u001b[0;34m(data_frame, estimators, params, filename, poly_fit, scaler)\u001b[0m\n\u001b[1;32m     67\u001b[0m                     \u001b[0mshuffle_x\u001b[0m\u001b[0;34m,\u001b[0m \u001b[0mshuffle_y\u001b[0m \u001b[0;34m=\u001b[0m \u001b[0mshuffle\u001b[0m\u001b[0;34m(\u001b[0m\u001b[0mtrain_x\u001b[0m\u001b[0;34m,\u001b[0m \u001b[0mtrain_y\u001b[0m\u001b[0;34m)\u001b[0m\u001b[0;34m\u001b[0m\u001b[0;34m\u001b[0m\u001b[0m\n\u001b[1;32m     68\u001b[0m \u001b[0;34m\u001b[0m\u001b[0m\n\u001b[0;32m---> 69\u001b[0;31m                     \u001b[0mclassifier\u001b[0m\u001b[0;34m.\u001b[0m\u001b[0mfit\u001b[0m\u001b[0;34m(\u001b[0m\u001b[0mshuffle_x\u001b[0m\u001b[0;34m,\u001b[0m \u001b[0mshuffle_y\u001b[0m\u001b[0;34m)\u001b[0m\u001b[0;34m\u001b[0m\u001b[0;34m\u001b[0m\u001b[0m\n\u001b[0m\u001b[1;32m     70\u001b[0m                     \u001b[0mpredicted_y\u001b[0m \u001b[0;34m=\u001b[0m \u001b[0mclassifier\u001b[0m\u001b[0;34m.\u001b[0m\u001b[0mpredict_proba\u001b[0m\u001b[0;34m(\u001b[0m\u001b[0mval_x\u001b[0m\u001b[0;34m)\u001b[0m\u001b[0;34m\u001b[0m\u001b[0;34m\u001b[0m\u001b[0m\n\u001b[1;32m     71\u001b[0m \u001b[0;34m\u001b[0m\u001b[0m\n",
      "\u001b[0;32m~/.local/lib/python3.6/site-packages/sklearn/svm/base.py\u001b[0m in \u001b[0;36mfit\u001b[0;34m(self, X, y, sample_weight)\u001b[0m\n\u001b[1;32m    210\u001b[0m \u001b[0;34m\u001b[0m\u001b[0m\n\u001b[1;32m    211\u001b[0m         \u001b[0mseed\u001b[0m \u001b[0;34m=\u001b[0m \u001b[0mrnd\u001b[0m\u001b[0;34m.\u001b[0m\u001b[0mrandint\u001b[0m\u001b[0;34m(\u001b[0m\u001b[0mnp\u001b[0m\u001b[0;34m.\u001b[0m\u001b[0miinfo\u001b[0m\u001b[0;34m(\u001b[0m\u001b[0;34m'i'\u001b[0m\u001b[0;34m)\u001b[0m\u001b[0;34m.\u001b[0m\u001b[0mmax\u001b[0m\u001b[0;34m)\u001b[0m\u001b[0;34m\u001b[0m\u001b[0;34m\u001b[0m\u001b[0m\n\u001b[0;32m--> 212\u001b[0;31m         \u001b[0mfit\u001b[0m\u001b[0;34m(\u001b[0m\u001b[0mX\u001b[0m\u001b[0;34m,\u001b[0m \u001b[0my\u001b[0m\u001b[0;34m,\u001b[0m \u001b[0msample_weight\u001b[0m\u001b[0;34m,\u001b[0m \u001b[0msolver_type\u001b[0m\u001b[0;34m,\u001b[0m \u001b[0mkernel\u001b[0m\u001b[0;34m,\u001b[0m \u001b[0mrandom_seed\u001b[0m\u001b[0;34m=\u001b[0m\u001b[0mseed\u001b[0m\u001b[0;34m)\u001b[0m\u001b[0;34m\u001b[0m\u001b[0;34m\u001b[0m\u001b[0m\n\u001b[0m\u001b[1;32m    213\u001b[0m         \u001b[0;31m# see comment on the other call to np.iinfo in this file\u001b[0m\u001b[0;34m\u001b[0m\u001b[0;34m\u001b[0m\u001b[0;34m\u001b[0m\u001b[0m\n\u001b[1;32m    214\u001b[0m \u001b[0;34m\u001b[0m\u001b[0m\n",
      "\u001b[0;32m~/.local/lib/python3.6/site-packages/sklearn/svm/base.py\u001b[0m in \u001b[0;36m_dense_fit\u001b[0;34m(self, X, y, sample_weight, solver_type, kernel, random_seed)\u001b[0m\n\u001b[1;32m    269\u001b[0m                 \u001b[0mcache_size\u001b[0m\u001b[0;34m=\u001b[0m\u001b[0mself\u001b[0m\u001b[0;34m.\u001b[0m\u001b[0mcache_size\u001b[0m\u001b[0;34m,\u001b[0m \u001b[0mcoef0\u001b[0m\u001b[0;34m=\u001b[0m\u001b[0mself\u001b[0m\u001b[0;34m.\u001b[0m\u001b[0mcoef0\u001b[0m\u001b[0;34m,\u001b[0m\u001b[0;34m\u001b[0m\u001b[0;34m\u001b[0m\u001b[0m\n\u001b[1;32m    270\u001b[0m                 \u001b[0mgamma\u001b[0m\u001b[0;34m=\u001b[0m\u001b[0mself\u001b[0m\u001b[0;34m.\u001b[0m\u001b[0m_gamma\u001b[0m\u001b[0;34m,\u001b[0m \u001b[0mepsilon\u001b[0m\u001b[0;34m=\u001b[0m\u001b[0mself\u001b[0m\u001b[0;34m.\u001b[0m\u001b[0mepsilon\u001b[0m\u001b[0;34m,\u001b[0m\u001b[0;34m\u001b[0m\u001b[0;34m\u001b[0m\u001b[0m\n\u001b[0;32m--> 271\u001b[0;31m                 max_iter=self.max_iter, random_seed=random_seed)\n\u001b[0m\u001b[1;32m    272\u001b[0m \u001b[0;34m\u001b[0m\u001b[0m\n\u001b[1;32m    273\u001b[0m         \u001b[0mself\u001b[0m\u001b[0;34m.\u001b[0m\u001b[0m_warn_from_fit_status\u001b[0m\u001b[0;34m(\u001b[0m\u001b[0;34m)\u001b[0m\u001b[0;34m\u001b[0m\u001b[0;34m\u001b[0m\u001b[0m\n",
      "\u001b[0;31mKeyboardInterrupt\u001b[0m: "
     ]
    }
   ],
   "source": [
    "best_estimator = cls_pipeline(\n",
    "    data_frame=cls_data_frame,\n",
    "    estimators=estimators,\n",
    "    params=params,\n",
    "    filename=\"log_cls_mrr.txt\",\n",
    "    scaler=MinMaxScaler(),\n",
    "    # poly_fit=PolynomialFeatures(degree=4, interaction_only=True),\n",
    ")"
   ]
  },
  {
   "cell_type": "code",
   "execution_count": null,
   "metadata": {
    "scrolled": true
   },
   "outputs": [],
   "source": [
    "best_estimator = cls_pipeline(\n",
    "    data_frame=cls_data_frame,\n",
    "    estimators=estimators,\n",
    "    params=params,\n",
    "    filename=\"log_cls_poly_2.txt\",\n",
    "    scaler=MinMaxScaler(),\n",
    "    poly_fit=PolynomialFeatures(degree=2, interaction_only=True),\n",
    ")"
   ]
  },
  {
   "cell_type": "code",
   "execution_count": null,
   "metadata": {
    "scrolled": true
   },
   "outputs": [
    {
     "name": "stdout",
     "output_type": "stream",
     "text": [
      "Starting with estimator: LogisticRegression\n",
      "Params: {'multi_class': 'multinomial', 'solver': 'newton-cg', 'C': 0.001, 'n_jobs': -1, 'max_iter': 2000}, accuracy over all classes is: 0.2079, Mean acc at 5: 0.2211, Mean acc at 1: 0.5263\n",
      "Params: {'multi_class': 'multinomial', 'solver': 'lbfgs', 'C': 0.001, 'n_jobs': -1, 'max_iter': 2000}, accuracy over all classes is: 0.2079, Mean acc at 5: 0.2421, Mean acc at 1: 0.5526\n",
      "Params: {'multi_class': 'multinomial', 'solver': 'newton-cg', 'C': 0.01, 'n_jobs': -1, 'max_iter': 2000}, accuracy over all classes is: 0.2474, Mean acc at 5: 0.2526, Mean acc at 1: 0.5789\n",
      "Params: {'multi_class': 'multinomial', 'solver': 'lbfgs', 'C': 0.01, 'n_jobs': -1, 'max_iter': 2000}, accuracy over all classes is: 0.2395, Mean acc at 5: 0.2579, Mean acc at 1: 0.5789\n",
      "Params: {'multi_class': 'multinomial', 'solver': 'newton-cg', 'C': 0.1, 'n_jobs': -1, 'max_iter': 2000}, accuracy over all classes is: 0.2105, Mean acc at 5: 0.2316, Mean acc at 1: 0.5789\n",
      "Params: {'multi_class': 'multinomial', 'solver': 'lbfgs', 'C': 0.1, 'n_jobs': -1, 'max_iter': 2000}, accuracy over all classes is: 0.2079, Mean acc at 5: 0.2316, Mean acc at 1: 0.6053\n"
     ]
    }
   ],
   "source": [
    "best_estimator = cls_pipeline(\n",
    "    data_frame=cls_data_frame,\n",
    "    estimators=estimators,\n",
    "    params=params,\n",
    "    filename=\"log_cls_poly_2_all.txt\",\n",
    "    # scaler=MinMaxScaler(),\n",
    "    poly_fit=PolynomialFeatures(degree=2, interaction_only=False),\n",
    ")"
   ]
  },
  {
   "cell_type": "code",
   "execution_count": null,
   "metadata": {
    "scrolled": true
   },
   "outputs": [],
   "source": [
    "best_estimator = cls_pipeline(\n",
    "    data_frame=cls_data_frame,\n",
    "    estimators=estimators,\n",
    "    params=params,\n",
    "    filename=\"log_cls_poly_3.txt\",\n",
    "    # scaler=MinMaxScaler(),\n",
    "    poly_fit=PolynomialFeatures(degree=3, interaction_only=True),\n",
    ")"
   ]
  },
  {
   "cell_type": "code",
   "execution_count": null,
   "metadata": {
    "scrolled": true
   },
   "outputs": [],
   "source": [
    "best_estimator = cls_pipeline(\n",
    "    data_frame=cls_data_frame,\n",
    "    estimators=estimators,\n",
    "    params=params,\n",
    "    filename=\"log_cls_poly_3_all.txt\",\n",
    "    # scaler=MinMaxScaler(),\n",
    "    poly_fit=PolynomialFeatures(degree=3, interaction_only=False),\n",
    ")"
   ]
  },
  {
   "cell_type": "markdown",
   "metadata": {},
   "source": [
    "### Results"
   ]
  },
  {
   "cell_type": "code",
   "execution_count": 30,
   "metadata": {},
   "outputs": [],
   "source": [
    "import os"
   ]
  },
  {
   "cell_type": "code",
   "execution_count": 31,
   "metadata": {},
   "outputs": [],
   "source": [
    "results = os.listdir('.')\n",
    "result_list = []\n",
    "for name in results:\n",
    "    if 'log_cls' in name:\n",
    "        added_name = name.split(\".txt\")[0].split(\"log_cls\")[1]\n",
    "        estimator = None\n",
    "        with open(name) as f:\n",
    "            lines = f.readlines()\n",
    "        for line in lines:\n",
    "            if \"{\" not in line:\n",
    "                estimator = line.split(\" \")[-1].strip()\n",
    "                continue\n",
    "            params = line.split(\"{\")[1].split(\"}\")[0].strip().replace(\"'\", \"\")\n",
    "            #mse = float(line.split(\"MSE over all splits is: \")[1].split(\",\")[0].strip())\n",
    "            acc_top_1 = float(line.split(\"Mean acc at 1: \")[1].strip())\n",
    "            acc_top_5 = float(line.split(\"Mean acc at 5: \")[1].split(\",\")[0].strip())\n",
    "            result_list.append((added_name,estimator, params, acc_top_5, acc_top_1))"
   ]
  },
  {
   "cell_type": "code",
   "execution_count": 32,
   "metadata": {},
   "outputs": [],
   "source": [
    "sorted_results = sorted(result_list, key=lambda item: -item[-1])"
   ]
  },
  {
   "cell_type": "code",
   "execution_count": 33,
   "metadata": {
    "scrolled": true
   },
   "outputs": [
    {
     "name": "stdout",
     "output_type": "stream",
     "text": [
      "('', 'LogisticRegression', 'multi_class: multinomial, solver: newton-cg, C: 1.0, n_jobs: -1, max_iter: 2000', 0.3421, 0.7105)\n",
      "('', 'LogisticRegression', 'multi_class: multinomial, solver: lbfgs, C: 1.0, n_jobs: -1, max_iter: 2000', 0.3421, 0.7105)\n",
      "('', 'SVC', 'C: 100, gamma: 0.1, probability: True', 0.3316, 0.7105)\n",
      "('_mrr', 'LogisticRegression', 'multi_class: multinomial, solver: newton-cg, C: 1.0, n_jobs: -1, max_iter: 2000', 0.3421, 0.7105)\n",
      "('_mrr', 'LogisticRegression', 'multi_class: multinomial, solver: lbfgs, C: 1.0, n_jobs: -1, max_iter: 2000', 0.3421, 0.7105)\n",
      "('_mrr', 'RandomForestClassifier', 'n_estimators: 100, min_samples_split: 3, n_jobs: -1', 0.3211, 0.7105)\n",
      "('', 'GradientBoostingClassifier', 'n_estimators: 50, learning_rate: 0.1, subsample: 0.5', 0.3263, 0.6842)\n",
      "('', 'SVC', 'C: 10, gamma: 0.1, probability: True', 0.3211, 0.6842)\n",
      "('', 'SVC', 'C: 100, gamma: 0.01, probability: True', 0.3211, 0.6842)\n",
      "('_mrr', 'GradientBoostingClassifier', 'n_estimators: 50, learning_rate: 0.1, subsample: 0.5', 0.3263, 0.6842)\n",
      "('_poly_3_all', 'RandomForestClassifier', 'n_estimators: 200, min_samples_split: 2, n_jobs: -1', 0.2632, 0.6842)\n",
      "('_poly_3', 'RandomForestClassifier', 'n_estimators: 100, min_samples_split: 2, n_jobs: -1', 0.2737, 0.6579)\n",
      "('_poly_3', 'RandomForestClassifier', 'n_estimators: 100, min_samples_split: 3, n_jobs: -1', 0.2632, 0.6579)\n",
      "('_poly_3', 'RandomForestClassifier', 'n_estimators: 200, min_samples_split: 2, n_jobs: -1', 0.2842, 0.6579)\n",
      "('_poly_3', 'RandomForestClassifier', 'n_estimators: 200, min_samples_split: 3, n_jobs: -1', 0.2474, 0.6579)\n",
      "('', 'LogisticRegression', 'multi_class: multinomial, solver: newton-cg, C: 10.0, n_jobs: -1, max_iter: 2000', 0.2895, 0.6579)\n",
      "('', 'LogisticRegression', 'multi_class: multinomial, solver: lbfgs, C: 10.0, n_jobs: -1, max_iter: 2000', 0.2895, 0.6579)\n",
      "('', 'GradientBoostingClassifier', 'n_estimators: 50, learning_rate: 0.01, subsample: 0.5', 0.3105, 0.6579)\n",
      "('', 'GradientBoostingClassifier', 'n_estimators: 50, learning_rate: 0.001, subsample: 0.5', 0.3158, 0.6579)\n",
      "('', 'GradientBoostingClassifier', 'n_estimators: 100, learning_rate: 0.1, subsample: 0.5', 0.3158, 0.6579)\n",
      "('_mrr', 'LogisticRegression', 'multi_class: multinomial, solver: newton-cg, C: 10.0, n_jobs: -1, max_iter: 2000', 0.2895, 0.6579)\n",
      "('_mrr', 'LogisticRegression', 'multi_class: multinomial, solver: lbfgs, C: 10.0, n_jobs: -1, max_iter: 2000', 0.2895, 0.6579)\n",
      "('_mrr', 'RandomForestClassifier', 'n_estimators: 100, min_samples_split: 2, n_jobs: -1', 0.2895, 0.6579)\n",
      "('_mrr', 'GradientBoostingClassifier', 'n_estimators: 10, learning_rate: 0.01, subsample: 0.5', 0.2316, 0.6579)\n",
      "('_mrr', 'GradientBoostingClassifier', 'n_estimators: 50, learning_rate: 0.001, subsample: 0.5', 0.2842, 0.6579)\n",
      "('_mrr', 'GradientBoostingClassifier', 'n_estimators: 100, learning_rate: 0.1, subsample: 1.0', 0.2737, 0.6579)\n",
      "('_mrr', 'GradientBoostingClassifier', 'n_estimators: 100, learning_rate: 0.01, subsample: 0.5', 0.3211, 0.6579)\n",
      "('_mrr', 'GradientBoostingClassifier', 'n_estimators: 100, learning_rate: 0.0001, subsample: 0.5', 0.3053, 0.6579)\n",
      "('_poly_3_all', 'RandomForestClassifier', 'n_estimators: 100, min_samples_split: 3, n_jobs: -1', 0.2684, 0.6579)\n",
      "('_poly_3_all', 'RandomForestClassifier', 'n_estimators: 200, min_samples_split: 3, n_jobs: -1', 0.2632, 0.6579)\n",
      "('_poly_2', 'LogisticRegression', 'multi_class: multinomial, solver: newton-cg, C: 0.1, n_jobs: -1, max_iter: 2000', 0.2789, 0.6579)\n",
      "('_poly_2', 'LogisticRegression', 'multi_class: multinomial, solver: lbfgs, C: 0.1, n_jobs: -1, max_iter: 2000', 0.2789, 0.6579)\n",
      "('_poly_2', 'LogisticRegression', 'multi_class: multinomial, solver: newton-cg, C: 1.0, n_jobs: -1, max_iter: 2000', 0.2421, 0.6579)\n",
      "('_poly_2', 'LogisticRegression', 'multi_class: multinomial, solver: lbfgs, C: 1.0, n_jobs: -1, max_iter: 2000', 0.2421, 0.6579)\n",
      "('_poly_2', 'LogisticRegression', 'multi_class: multinomial, solver: newton-cg, C: 10.0, n_jobs: -1, max_iter: 2000', 0.2263, 0.6579)\n",
      "('_poly_2', 'LogisticRegression', 'multi_class: multinomial, solver: lbfgs, C: 10.0, n_jobs: -1, max_iter: 2000', 0.2263, 0.6579)\n",
      "('', 'LogisticRegression', 'multi_class: multinomial, solver: newton-cg, C: 0.1, n_jobs: -1, max_iter: 2000', 0.3368, 0.6316)\n",
      "('', 'LogisticRegression', 'multi_class: multinomial, solver: lbfgs, C: 0.1, n_jobs: -1, max_iter: 2000', 0.3368, 0.6316)\n",
      "('', 'LogisticRegression', 'multi_class: multinomial, solver: newton-cg, C: 100.0, n_jobs: -1, max_iter: 2000', 0.3105, 0.6316)\n",
      "('', 'LogisticRegression', 'multi_class: multinomial, solver: lbfgs, C: 100.0, n_jobs: -1, max_iter: 2000', 0.3105, 0.6316)\n",
      "('', 'RandomForestClassifier', 'n_estimators: 10, min_samples_split: 2, n_jobs: -1', 0.2579, 0.6316)\n",
      "('', 'RandomForestClassifier', 'n_estimators: 100, min_samples_split: 3, n_jobs: -1', 0.3, 0.6316)\n",
      "('', 'RandomForestClassifier', 'n_estimators: 200, min_samples_split: 2, n_jobs: -1', 0.2895, 0.6316)\n",
      "('', 'RandomForestClassifier', 'n_estimators: 200, min_samples_split: 3, n_jobs: -1', 0.2789, 0.6316)\n",
      "('', 'GradientBoostingClassifier', 'n_estimators: 10, learning_rate: 0.01, subsample: 0.5', 0.2684, 0.6316)\n",
      "('', 'GradientBoostingClassifier', 'n_estimators: 10, learning_rate: 0.001, subsample: 0.5', 0.2842, 0.6316)\n",
      "('', 'GradientBoostingClassifier', 'n_estimators: 10, learning_rate: 0.0001, subsample: 0.5', 0.3053, 0.6316)\n",
      "('', 'GradientBoostingClassifier', 'n_estimators: 50, learning_rate: 0.0001, subsample: 0.5', 0.3526, 0.6316)\n",
      "('', 'GradientBoostingClassifier', 'n_estimators: 100, learning_rate: 0.1, subsample: 1.0', 0.2895, 0.6316)\n",
      "('', 'GradientBoostingClassifier', 'n_estimators: 100, learning_rate: 0.01, subsample: 0.5', 0.2789, 0.6316)\n",
      "('', 'GradientBoostingClassifier', 'n_estimators: 100, learning_rate: 0.001, subsample: 0.5', 0.3211, 0.6316)\n",
      "('', 'GradientBoostingClassifier', 'n_estimators: 100, learning_rate: 0.0001, subsample: 0.5', 0.2789, 0.6316)\n",
      "('_mrr', 'LogisticRegression', 'multi_class: multinomial, solver: newton-cg, C: 0.1, n_jobs: -1, max_iter: 2000', 0.3368, 0.6316)\n",
      "('_mrr', 'LogisticRegression', 'multi_class: multinomial, solver: lbfgs, C: 0.1, n_jobs: -1, max_iter: 2000', 0.3368, 0.6316)\n",
      "('_mrr', 'LogisticRegression', 'multi_class: multinomial, solver: newton-cg, C: 100.0, n_jobs: -1, max_iter: 2000', 0.3105, 0.6316)\n",
      "('_mrr', 'LogisticRegression', 'multi_class: multinomial, solver: lbfgs, C: 100.0, n_jobs: -1, max_iter: 2000', 0.3105, 0.6316)\n",
      "('_mrr', 'RandomForestClassifier', 'n_estimators: 200, min_samples_split: 3, n_jobs: -1', 0.2632, 0.6316)\n",
      "('_mrr', 'GradientBoostingClassifier', 'n_estimators: 10, learning_rate: 0.001, subsample: 0.5', 0.2789, 0.6316)\n",
      "('_mrr', 'GradientBoostingClassifier', 'n_estimators: 50, learning_rate: 0.1, subsample: 1.0', 0.3053, 0.6316)\n",
      "('_mrr', 'GradientBoostingClassifier', 'n_estimators: 50, learning_rate: 0.0001, subsample: 0.5', 0.3053, 0.6316)\n",
      "('_mrr', 'GradientBoostingClassifier', 'n_estimators: 100, learning_rate: 0.001, subsample: 0.5', 0.3, 0.6316)\n",
      "('_poly_3_all', 'RandomForestClassifier', 'n_estimators: 10, min_samples_split: 3, n_jobs: -1', 0.2684, 0.6316)\n",
      "('_poly_2', 'LogisticRegression', 'multi_class: multinomial, solver: newton-cg, C: 0.001, n_jobs: -1, max_iter: 2000', 0.2737, 0.6316)\n",
      "('_poly_2', 'LogisticRegression', 'multi_class: multinomial, solver: lbfgs, C: 0.001, n_jobs: -1, max_iter: 2000', 0.2737, 0.6316)\n",
      "('_poly_2', 'LogisticRegression', 'multi_class: multinomial, solver: newton-cg, C: 0.01, n_jobs: -1, max_iter: 2000', 0.2789, 0.6316)\n",
      "('_poly_2', 'LogisticRegression', 'multi_class: multinomial, solver: lbfgs, C: 0.01, n_jobs: -1, max_iter: 2000', 0.2789, 0.6316)\n",
      "('_poly_2', 'GradientBoostingClassifier', 'n_estimators: 100, learning_rate: 0.1, subsample: 1.0', 0.2, 0.6316)\n",
      "('_poly_2', 'SVC', 'C: 100, gamma: 0.01, probability: True', 0.2368, 0.6316)\n",
      "('_poly_3', 'RandomForestClassifier', 'n_estimators: 10, min_samples_split: 3, n_jobs: -1', 0.2842, 0.6053)\n",
      "('_poly_2_all', 'LogisticRegression', 'multi_class: multinomial, solver: lbfgs, C: 0.1, n_jobs: -1, max_iter: 2000', 0.2316, 0.6053)\n",
      "('', 'LogisticRegression', 'multi_class: multinomial, solver: newton-cg, C: 0.001, n_jobs: -1, max_iter: 2000', 0.3053, 0.6053)\n",
      "('', 'LogisticRegression', 'multi_class: multinomial, solver: lbfgs, C: 0.001, n_jobs: -1, max_iter: 2000', 0.3053, 0.6053)\n",
      "('', 'LogisticRegression', 'multi_class: multinomial, solver: newton-cg, C: 0.01, n_jobs: -1, max_iter: 2000', 0.3105, 0.6053)\n",
      "('', 'LogisticRegression', 'multi_class: multinomial, solver: lbfgs, C: 0.01, n_jobs: -1, max_iter: 2000', 0.3105, 0.6053)\n",
      "('', 'RandomForestClassifier', 'n_estimators: 10, min_samples_split: 3, n_jobs: -1', 0.2263, 0.6053)\n",
      "('', 'RandomForestClassifier', 'n_estimators: 100, min_samples_split: 2, n_jobs: -1', 0.3053, 0.6053)\n",
      "('', 'GradientBoostingClassifier', 'n_estimators: 50, learning_rate: 0.001, subsample: 1.0', 0.2579, 0.6053)\n",
      "('', 'GradientBoostingClassifier', 'n_estimators: 100, learning_rate: 0.01, subsample: 1.0', 0.3, 0.6053)\n",
      "('', 'SVC', 'C: 1.0, gamma: 1.0, probability: True', 0.3053, 0.6053)\n",
      "('', 'SVC', 'C: 10, gamma: 1.0, probability: True', 0.3053, 0.6053)\n",
      "('_mrr', 'LogisticRegression', 'multi_class: multinomial, solver: newton-cg, C: 0.001, n_jobs: -1, max_iter: 2000', 0.3053, 0.6053)\n",
      "('_mrr', 'LogisticRegression', 'multi_class: multinomial, solver: lbfgs, C: 0.001, n_jobs: -1, max_iter: 2000', 0.3053, 0.6053)\n",
      "('_mrr', 'LogisticRegression', 'multi_class: multinomial, solver: newton-cg, C: 0.01, n_jobs: -1, max_iter: 2000', 0.3105, 0.6053)\n",
      "('_mrr', 'LogisticRegression', 'multi_class: multinomial, solver: lbfgs, C: 0.01, n_jobs: -1, max_iter: 2000', 0.3105, 0.6053)\n",
      "('_mrr', 'RandomForestClassifier', 'n_estimators: 10, min_samples_split: 2, n_jobs: -1', 0.2368, 0.6053)\n",
      "('_mrr', 'RandomForestClassifier', 'n_estimators: 200, min_samples_split: 2, n_jobs: -1', 0.2474, 0.6053)\n",
      "('_mrr', 'GradientBoostingClassifier', 'n_estimators: 10, learning_rate: 0.1, subsample: 1.0', 0.2368, 0.6053)\n",
      "('_mrr', 'GradientBoostingClassifier', 'n_estimators: 100, learning_rate: 0.01, subsample: 1.0', 0.2947, 0.6053)\n",
      "('_poly_2', 'RandomForestClassifier', 'n_estimators: 100, min_samples_split: 2, n_jobs: -1', 0.2632, 0.6053)\n",
      "('_poly_2', 'RandomForestClassifier', 'n_estimators: 100, min_samples_split: 3, n_jobs: -1', 0.2632, 0.6053)\n",
      "('_poly_2', 'RandomForestClassifier', 'n_estimators: 200, min_samples_split: 2, n_jobs: -1', 0.2421, 0.6053)\n",
      "('_poly_2', 'RandomForestClassifier', 'n_estimators: 200, min_samples_split: 3, n_jobs: -1', 0.2368, 0.6053)\n",
      "('_poly_2', 'SVC', 'C: 10, gamma: 0.01, probability: True', 0.2632, 0.6053)\n",
      "('_poly_2', 'SVC', 'C: 100, gamma: 0.001, probability: True', 0.2263, 0.6053)\n",
      "('_poly_3', 'RandomForestClassifier', 'n_estimators: 10, min_samples_split: 2, n_jobs: -1', 0.2263, 0.5789)\n",
      "('_poly_2_all', 'LogisticRegression', 'multi_class: multinomial, solver: newton-cg, C: 0.01, n_jobs: -1, max_iter: 2000', 0.2526, 0.5789)\n",
      "('_poly_2_all', 'LogisticRegression', 'multi_class: multinomial, solver: lbfgs, C: 0.01, n_jobs: -1, max_iter: 2000', 0.2579, 0.5789)\n",
      "('_poly_2_all', 'LogisticRegression', 'multi_class: multinomial, solver: newton-cg, C: 0.1, n_jobs: -1, max_iter: 2000', 0.2316, 0.5789)\n",
      "('', 'GradientBoostingClassifier', 'n_estimators: 10, learning_rate: 0.1, subsample: 1.0', 0.2158, 0.5789)\n",
      "('', 'GradientBoostingClassifier', 'n_estimators: 10, learning_rate: 0.01, subsample: 1.0', 0.2474, 0.5789)\n",
      "('', 'GradientBoostingClassifier', 'n_estimators: 50, learning_rate: 0.1, subsample: 1.0', 0.2526, 0.5789)\n",
      "('', 'GradientBoostingClassifier', 'n_estimators: 50, learning_rate: 0.01, subsample: 1.0', 0.2895, 0.5789)\n",
      "('', 'GradientBoostingClassifier', 'n_estimators: 100, learning_rate: 0.001, subsample: 1.0', 0.2526, 0.5789)\n",
      "('', 'SVC', 'C: 100, gamma: 1.0, probability: True', 0.2263, 0.5789)\n",
      "('_mrr', 'RandomForestClassifier', 'n_estimators: 10, min_samples_split: 3, n_jobs: -1', 0.2211, 0.5789)\n",
      "('_mrr', 'GradientBoostingClassifier', 'n_estimators: 10, learning_rate: 0.01, subsample: 1.0', 0.2, 0.5789)\n",
      "('_mrr', 'GradientBoostingClassifier', 'n_estimators: 10, learning_rate: 0.001, subsample: 1.0', 0.2316, 0.5789)\n",
      "('_mrr', 'GradientBoostingClassifier', 'n_estimators: 10, learning_rate: 0.0001, subsample: 0.5', 0.2632, 0.5789)\n",
      "('_mrr', 'GradientBoostingClassifier', 'n_estimators: 50, learning_rate: 0.01, subsample: 0.5', 0.2737, 0.5789)\n",
      "('_mrr', 'GradientBoostingClassifier', 'n_estimators: 50, learning_rate: 0.01, subsample: 1.0', 0.2895, 0.5789)\n",
      "('_mrr', 'GradientBoostingClassifier', 'n_estimators: 50, learning_rate: 0.001, subsample: 1.0', 0.2737, 0.5789)\n",
      "('_mrr', 'GradientBoostingClassifier', 'n_estimators: 100, learning_rate: 0.1, subsample: 0.5', 0.2684, 0.5789)\n",
      "('_mrr', 'GradientBoostingClassifier', 'n_estimators: 100, learning_rate: 0.001, subsample: 1.0', 0.2421, 0.5789)\n",
      "('_poly_3_all', 'RandomForestClassifier', 'n_estimators: 100, min_samples_split: 2, n_jobs: -1', 0.2316, 0.5789)\n",
      "('_poly_2', 'GradientBoostingClassifier', 'n_estimators: 50, learning_rate: 0.001, subsample: 0.5', 0.2684, 0.5789)\n",
      "('_poly_2', 'GradientBoostingClassifier', 'n_estimators: 100, learning_rate: 0.001, subsample: 0.5', 0.2684, 0.5789)\n",
      "('_poly_2', 'SVC', 'C: 10, gamma: 0.1, probability: True', 0.2368, 0.5789)\n",
      "('_poly_2', 'SVC', 'C: 100, gamma: 0.1, probability: True', 0.2158, 0.5789)\n",
      "('_poly_2_all', 'LogisticRegression', 'multi_class: multinomial, solver: lbfgs, C: 0.001, n_jobs: -1, max_iter: 2000', 0.2421, 0.5526)\n",
      "('', 'GradientBoostingClassifier', 'n_estimators: 10, learning_rate: 0.001, subsample: 1.0', 0.2421, 0.5526)\n",
      "('', 'GradientBoostingClassifier', 'n_estimators: 10, learning_rate: 0.0001, subsample: 1.0', 0.2421, 0.5526)\n",
      "('', 'GradientBoostingClassifier', 'n_estimators: 100, learning_rate: 0.0001, subsample: 1.0', 0.2211, 0.5526)\n",
      "('', 'SVC', 'C: 1.0, gamma: 0.1, probability: True', 0.3053, 0.5526)\n",
      "('_mrr', 'GradientBoostingClassifier', 'n_estimators: 10, learning_rate: 0.1, subsample: 0.5', 0.3211, 0.5526)\n",
      "('_mrr', 'GradientBoostingClassifier', 'n_estimators: 50, learning_rate: 0.0001, subsample: 1.0', 0.2316, 0.5526)\n",
      "('_mrr', 'GradientBoostingClassifier', 'n_estimators: 100, learning_rate: 0.0001, subsample: 1.0', 0.2316, 0.5526)\n",
      "('_poly_2', 'GradientBoostingClassifier', 'n_estimators: 50, learning_rate: 0.01, subsample: 1.0', 0.1947, 0.5526)\n",
      "('_poly_2', 'GradientBoostingClassifier', 'n_estimators: 50, learning_rate: 0.0001, subsample: 0.5', 0.2421, 0.5526)\n",
      "('_poly_2', 'GradientBoostingClassifier', 'n_estimators: 100, learning_rate: 0.0001, subsample: 0.5', 0.2526, 0.5526)\n",
      "('_poly_2', 'SVC', 'C: 1.0, gamma: 0.1, probability: True', 0.2421, 0.5526)\n",
      "('_poly_2_all', 'LogisticRegression', 'multi_class: multinomial, solver: newton-cg, C: 0.001, n_jobs: -1, max_iter: 2000', 0.2211, 0.5263)\n",
      "('', 'GradientBoostingClassifier', 'n_estimators: 50, learning_rate: 0.0001, subsample: 1.0', 0.2211, 0.5263)\n",
      "('', 'SVC', 'C: 0.1, gamma: 1.0, probability: True', 0.2947, 0.5263)\n",
      "('', 'SVC', 'C: 10, gamma: 0.01, probability: True', 0.2842, 0.5263)\n",
      "('', 'SVC', 'C: 100, gamma: 0.001, probability: True', 0.2737, 0.5263)\n",
      "('_mrr', 'GradientBoostingClassifier', 'n_estimators: 10, learning_rate: 0.0001, subsample: 1.0', 0.2421, 0.5263)\n",
      "('_poly_2', 'GradientBoostingClassifier', 'n_estimators: 50, learning_rate: 0.1, subsample: 0.5', 0.2211, 0.5263)\n",
      "('_poly_2', 'GradientBoostingClassifier', 'n_estimators: 100, learning_rate: 0.1, subsample: 0.5', 0.1895, 0.5263)\n",
      "('_poly_2', 'GradientBoostingClassifier', 'n_estimators: 100, learning_rate: 0.01, subsample: 1.0', 0.2316, 0.5263)\n",
      "('', 'GradientBoostingClassifier', 'n_estimators: 10, learning_rate: 0.1, subsample: 0.5', 0.2263, 0.5)\n",
      "('_poly_2', 'LogisticRegression', 'multi_class: multinomial, solver: newton-cg, C: 100.0, n_jobs: -1, max_iter: 2000', 0.1579, 0.5)\n",
      "('_poly_2', 'LogisticRegression', 'multi_class: multinomial, solver: lbfgs, C: 100.0, n_jobs: -1, max_iter: 2000', 0.1579, 0.5)\n",
      "('_poly_2', 'RandomForestClassifier', 'n_estimators: 10, min_samples_split: 2, n_jobs: -1', 0.1895, 0.5)\n",
      "('_poly_2', 'RandomForestClassifier', 'n_estimators: 10, min_samples_split: 3, n_jobs: -1', 0.1737, 0.5)\n",
      "('_poly_2', 'GradientBoostingClassifier', 'n_estimators: 50, learning_rate: 0.1, subsample: 1.0', 0.1632, 0.5)\n",
      "('_poly_2', 'GradientBoostingClassifier', 'n_estimators: 50, learning_rate: 0.01, subsample: 0.5', 0.2158, 0.5)\n",
      "('_poly_2', 'SVC', 'C: 100, gamma: 0.0001, probability: True', 0.1947, 0.5)\n",
      "('_poly_3_all', 'RandomForestClassifier', 'n_estimators: 10, min_samples_split: 2, n_jobs: -1', 0.1947, 0.4737)\n",
      "('_poly_2', 'GradientBoostingClassifier', 'n_estimators: 10, learning_rate: 0.1, subsample: 1.0', 0.1632, 0.4737)\n",
      "('_poly_2', 'GradientBoostingClassifier', 'n_estimators: 10, learning_rate: 0.01, subsample: 0.5', 0.2211, 0.4737)\n",
      "('_poly_2', 'GradientBoostingClassifier', 'n_estimators: 10, learning_rate: 0.001, subsample: 0.5', 0.2053, 0.4737)\n",
      "('_poly_2', 'GradientBoostingClassifier', 'n_estimators: 10, learning_rate: 0.0001, subsample: 0.5', 0.2158, 0.4737)\n",
      "('_poly_2', 'SVC', 'C: 10, gamma: 0.001, probability: True', 0.2158, 0.4737)\n",
      "('_poly_2', 'SVC', 'C: 0.1, gamma: 0.1, probability: True', 0.1842, 0.4474)\n",
      "('_poly_2', 'GradientBoostingClassifier', 'n_estimators: 100, learning_rate: 0.01, subsample: 0.5', 0.1895, 0.4211)\n",
      "('_poly_2', 'SVC', 'C: 1.0, gamma: 0.01, probability: True', 0.1895, 0.4211)\n",
      "('_poly_2', 'GradientBoostingClassifier', 'n_estimators: 10, learning_rate: 0.01, subsample: 1.0', 0.1842, 0.3947)\n",
      "('_poly_2', 'GradientBoostingClassifier', 'n_estimators: 100, learning_rate: 0.001, subsample: 1.0', 0.1842, 0.3947)\n",
      "('_poly_2', 'GradientBoostingClassifier', 'n_estimators: 10, learning_rate: 0.1, subsample: 0.5', 0.1737, 0.3421)\n",
      "('_poly_2', 'GradientBoostingClassifier', 'n_estimators: 50, learning_rate: 0.001, subsample: 1.0', 0.1579, 0.3421)\n",
      "('_poly_2', 'GradientBoostingClassifier', 'n_estimators: 10, learning_rate: 0.001, subsample: 1.0', 0.1105, 0.3158)\n",
      "('_poly_2', 'GradientBoostingClassifier', 'n_estimators: 10, learning_rate: 0.0001, subsample: 1.0', 0.1474, 0.3158)\n",
      "('_poly_2', 'GradientBoostingClassifier', 'n_estimators: 50, learning_rate: 0.0001, subsample: 1.0', 0.1421, 0.3158)\n",
      "('_poly_2', 'GradientBoostingClassifier', 'n_estimators: 100, learning_rate: 0.0001, subsample: 1.0', 0.1421, 0.3158)\n",
      "('_poly_2', 'SVC', 'C: 10, gamma: 1.0, probability: True', 0.1158, 0.2368)\n",
      "('_poly_2', 'SVC', 'C: 100, gamma: 1.0, probability: True', 0.1, 0.2368)\n",
      "('_poly_2', 'SVC', 'C: 1.0, gamma: 1.0, probability: True', 0.1158, 0.2105)\n",
      "('', 'SVC', 'C: 1.0, gamma: 0.01, probability: True', 0.1053, 0.1316)\n",
      "('_poly_2', 'SVC', 'C: 0.1, gamma: 1.0, probability: True', 0.0947, 0.1053)\n",
      "('', 'SVC', 'C: 10, gamma: 0.001, probability: True', 0.0895, 0.0789)\n",
      "('_poly_2', 'SVC', 'C: 0.001, gamma: 0.0001, probability: True', 0.0421, 0.0263)\n",
      "('_poly_2', 'SVC', 'C: 0.001, gamma: 0.001, probability: True', 0.0368, 0.0263)\n",
      "('_poly_2', 'SVC', 'C: 0.01, gamma: 0.0001, probability: True', 0.0316, 0.0263)\n",
      "('_poly_2', 'SVC', 'C: 0.01, gamma: 0.001, probability: True', 0.0368, 0.0263)\n",
      "('_poly_2', 'SVC', 'C: 0.1, gamma: 0.0001, probability: True', 0.0316, 0.0263)\n",
      "('_poly_2', 'SVC', 'C: 0.1, gamma: 0.001, probability: True', 0.0421, 0.0263)\n",
      "('_poly_2', 'SVC', 'C: 1.0, gamma: 0.0001, probability: True', 0.0316, 0.0263)\n",
      "('_poly_2', 'SVC', 'C: 1.0, gamma: 0.001, probability: True', 0.0421, 0.0263)\n",
      "('_poly_2', 'SVC', 'C: 10, gamma: 0.0001, probability: True', 0.0474, 0.0263)\n",
      "('_poly_3', 'SVC', 'C: 0.001, gamma: 0.0001, probability: True', 0.0, 0.0)\n",
      "('_poly_3', 'SVC', 'C: 0.001, gamma: 0.001, probability: True', 0.0, 0.0)\n",
      "('_poly_3', 'SVC', 'C: 0.001, gamma: 0.01, probability: True', 0.0, 0.0)\n",
      "('_poly_3', 'SVC', 'C: 0.001, gamma: 0.1, probability: True', 0.0, 0.0)\n",
      "('_poly_3', 'SVC', 'C: 0.001, gamma: 1.0, probability: True', 0.0, 0.0)\n",
      "('_poly_3', 'SVC', 'C: 0.01, gamma: 0.0001, probability: True', 0.0, 0.0)\n",
      "('_poly_3', 'SVC', 'C: 0.01, gamma: 0.001, probability: True', 0.0, 0.0)\n",
      "('_poly_3', 'SVC', 'C: 0.01, gamma: 0.01, probability: True', 0.0, 0.0)\n",
      "('_poly_3', 'SVC', 'C: 0.01, gamma: 0.1, probability: True', 0.0, 0.0)\n",
      "('_poly_3', 'SVC', 'C: 0.01, gamma: 1.0, probability: True', 0.0, 0.0)\n",
      "('_poly_3', 'SVC', 'C: 0.1, gamma: 0.0001, probability: True', 0.0, 0.0)\n",
      "('_poly_3', 'SVC', 'C: 0.1, gamma: 0.001, probability: True', 0.0, 0.0)\n",
      "('_poly_3', 'SVC', 'C: 0.1, gamma: 0.01, probability: True', 0.0, 0.0)\n",
      "('_poly_3', 'SVC', 'C: 0.1, gamma: 0.1, probability: True', 0.0, 0.0)\n",
      "('_poly_3', 'SVC', 'C: 0.1, gamma: 1.0, probability: True', 0.0, 0.0)\n",
      "('_poly_3', 'SVC', 'C: 1.0, gamma: 0.0001, probability: True', 0.0, 0.0)\n",
      "('_poly_3', 'SVC', 'C: 1.0, gamma: 0.001, probability: True', 0.0, 0.0)\n",
      "('_poly_3', 'SVC', 'C: 1.0, gamma: 0.01, probability: True', 0.0, 0.0)\n",
      "('_poly_3', 'SVC', 'C: 1.0, gamma: 0.1, probability: True', 0.0, 0.0)\n",
      "('_poly_3', 'SVC', 'C: 1.0, gamma: 1.0, probability: True', 0.0, 0.0)\n",
      "('_poly_3', 'SVC', 'C: 10, gamma: 0.0001, probability: True', 0.0, 0.0)\n",
      "('_poly_3', 'SVC', 'C: 10, gamma: 0.001, probability: True', 0.0, 0.0)\n",
      "('_poly_3', 'SVC', 'C: 10, gamma: 0.01, probability: True', 0.0, 0.0)\n",
      "('_poly_3', 'SVC', 'C: 10, gamma: 0.1, probability: True', 0.0, 0.0)\n",
      "('_poly_3', 'SVC', 'C: 10, gamma: 1.0, probability: True', 0.0, 0.0)\n",
      "('_poly_3', 'SVC', 'C: 100, gamma: 0.0001, probability: True', 0.0, 0.0)\n",
      "('_poly_3', 'SVC', 'C: 100, gamma: 0.001, probability: True', 0.0, 0.0)\n",
      "('_poly_3', 'SVC', 'C: 100, gamma: 0.01, probability: True', 0.0, 0.0)\n",
      "('_poly_3', 'SVC', 'C: 100, gamma: 0.1, probability: True', 0.0, 0.0)\n",
      "('_poly_3', 'SVC', 'C: 100, gamma: 1.0, probability: True', 0.0, 0.0)\n",
      "('', 'SVC', 'C: 0.001, gamma: 0.0001, probability: True', 0.0316, 0.0)\n",
      "('', 'SVC', 'C: 0.001, gamma: 0.001, probability: True', 0.0421, 0.0)\n",
      "('', 'SVC', 'C: 0.001, gamma: 0.01, probability: True', 0.0263, 0.0)\n",
      "('', 'SVC', 'C: 0.001, gamma: 0.1, probability: True', 0.0474, 0.0)\n",
      "('', 'SVC', 'C: 0.001, gamma: 1.0, probability: True', 0.0421, 0.0)\n",
      "('', 'SVC', 'C: 0.01, gamma: 0.0001, probability: True', 0.0316, 0.0)\n",
      "('', 'SVC', 'C: 0.01, gamma: 0.001, probability: True', 0.0316, 0.0)\n",
      "('', 'SVC', 'C: 0.01, gamma: 0.01, probability: True', 0.0368, 0.0)\n",
      "('', 'SVC', 'C: 0.01, gamma: 0.1, probability: True', 0.0526, 0.0)\n",
      "('', 'SVC', 'C: 0.01, gamma: 1.0, probability: True', 0.0684, 0.0)\n",
      "('', 'SVC', 'C: 0.1, gamma: 0.0001, probability: True', 0.0421, 0.0)\n",
      "('', 'SVC', 'C: 0.1, gamma: 0.001, probability: True', 0.0368, 0.0)\n",
      "('', 'SVC', 'C: 0.1, gamma: 0.01, probability: True', 0.0474, 0.0)\n",
      "('', 'SVC', 'C: 0.1, gamma: 0.1, probability: True', 0.0474, 0.0)\n",
      "('', 'SVC', 'C: 1.0, gamma: 0.0001, probability: True', 0.0368, 0.0)\n",
      "('', 'SVC', 'C: 1.0, gamma: 0.001, probability: True', 0.0316, 0.0)\n",
      "('', 'SVC', 'C: 10, gamma: 0.0001, probability: True', 0.0368, 0.0)\n",
      "('', 'SVC', 'C: 100, gamma: 0.0001, probability: True', 0.0368, 0.0)\n",
      "('_mrr', 'SVC', 'C: 0.001, gamma: 0.0001, probability: True', 0.0421, 0.0)\n",
      "('_mrr', 'SVC', 'C: 0.001, gamma: 0.001, probability: True', 0.0368, 0.0)\n",
      "('_mrr', 'SVC', 'C: 0.001, gamma: 0.01, probability: True', 0.0368, 0.0)\n",
      "('_mrr', 'SVC', 'C: 0.001, gamma: 0.1, probability: True', 0.0474, 0.0)\n",
      "('_mrr', 'SVC', 'C: 0.001, gamma: 1.0, probability: True', 0.0526, 0.0)\n",
      "('_mrr', 'SVC', 'C: 0.01, gamma: 0.0001, probability: True', 0.0316, 0.0)\n",
      "('_mrr', 'SVC', 'C: 0.01, gamma: 0.001, probability: True', 0.0421, 0.0)\n",
      "('_mrr', 'SVC', 'C: 0.01, gamma: 0.01, probability: True', 0.0368, 0.0)\n",
      "('_mrr', 'SVC', 'C: 0.01, gamma: 0.1, probability: True', 0.0526, 0.0)\n",
      "('_mrr', 'SVC', 'C: 0.01, gamma: 1.0, probability: True', 0.0737, 0.0)\n",
      "('_mrr', 'SVC', 'C: 0.1, gamma: 0.0001, probability: True', 0.0421, 0.0)\n",
      "('_mrr', 'SVC', 'C: 0.1, gamma: 0.001, probability: True', 0.0263, 0.0)\n",
      "('_mrr', 'SVC', 'C: 0.1, gamma: 0.01, probability: True', 0.0474, 0.0)\n",
      "('_poly_3_all', 'SVC', 'C: 0.001, gamma: 0.0001, probability: True', 0.0, 0.0)\n",
      "('_poly_3_all', 'SVC', 'C: 0.001, gamma: 0.001, probability: True', 0.0, 0.0)\n",
      "('_poly_3_all', 'SVC', 'C: 0.001, gamma: 0.01, probability: True', 0.0, 0.0)\n",
      "('_poly_3_all', 'SVC', 'C: 0.001, gamma: 0.1, probability: True', 0.0, 0.0)\n",
      "('_poly_3_all', 'SVC', 'C: 0.001, gamma: 1.0, probability: True', 0.0, 0.0)\n",
      "('_poly_3_all', 'SVC', 'C: 0.01, gamma: 0.0001, probability: True', 0.0, 0.0)\n",
      "('_poly_3_all', 'SVC', 'C: 0.01, gamma: 0.001, probability: True', 0.0, 0.0)\n",
      "('_poly_3_all', 'SVC', 'C: 0.01, gamma: 0.01, probability: True', 0.0, 0.0)\n",
      "('_poly_3_all', 'SVC', 'C: 0.01, gamma: 0.1, probability: True', 0.0, 0.0)\n",
      "('_poly_3_all', 'SVC', 'C: 0.01, gamma: 1.0, probability: True', 0.0, 0.0)\n",
      "('_poly_2', 'SVC', 'C: 0.001, gamma: 0.01, probability: True', 0.0316, 0.0)\n",
      "('_poly_2', 'SVC', 'C: 0.001, gamma: 0.1, probability: True', 0.0158, 0.0)\n",
      "('_poly_2', 'SVC', 'C: 0.001, gamma: 1.0, probability: True', 0.0421, 0.0)\n",
      "('_poly_2', 'SVC', 'C: 0.01, gamma: 0.01, probability: True', 0.0263, 0.0)\n",
      "('_poly_2', 'SVC', 'C: 0.01, gamma: 0.1, probability: True', 0.0421, 0.0)\n",
      "('_poly_2', 'SVC', 'C: 0.01, gamma: 1.0, probability: True', 0.0368, 0.0)\n",
      "('_poly_2', 'SVC', 'C: 0.1, gamma: 0.01, probability: True', 0.0421, 0.0)\n"
     ]
    }
   ],
   "source": [
    "for item in sorted_results:\n",
    "    print(item)"
   ]
  },
  {
   "cell_type": "code",
   "execution_count": 104,
   "metadata": {},
   "outputs": [],
   "source": [
    "season = '2017-18'"
   ]
  },
  {
   "cell_type": "code",
   "execution_count": 105,
   "metadata": {},
   "outputs": [],
   "source": [
    "train_columns = ['ts_pct', 'bpm', 'mp_per_g', 'pts_per_g', 'trb_per_g', 'ast_per_g',\n",
    "        'stl_per_g', 'blk_per_g', 'ws', 'per', 'win_pct']\n",
    "target_columns = ['rank']"
   ]
  },
  {
   "cell_type": "code",
   "execution_count": 106,
   "metadata": {},
   "outputs": [],
   "source": [
    "train_data = cls_data_frame.loc[data_frame.season != season]\n",
    "validation_data = cls_data_frame.loc[data_frame.season == season]\n",
    "#validation_data = validation_data.sort_values(by='award_share', ascending=False)\n",
    "\n",
    "# Get train data\n",
    "train_x = train_data[train_columns].to_numpy()\n",
    "train_y = train_data[target_columns].to_numpy()\n",
    "train_y = train_y.reshape(train_y.shape[0], )\n",
    "\n",
    "# Validate over one season only\n",
    "val_x = validation_data[train_columns].to_numpy()\n",
    "val_y = validation_data[target_columns].to_numpy()\n",
    "val_y = val_y.reshape(val_y.shape[0], )"
   ]
  },
  {
   "cell_type": "code",
   "execution_count": 107,
   "metadata": {},
   "outputs": [],
   "source": [
    "# 'multi_class': 'multinomial', 'solver': 'lbfgs', 'C': 100.0, 'n_jobs': -1, 'max_iter': 2000\n",
    "model = LogisticRegression(multi_class='multinomial', solver='newton-cg', C=1.0, max_iter=2000, n_jobs=-1)\n",
    "#model = SVC(probability=True, C=10, gamma=0.001)\n",
    "#model = RandomForestClassifier(n_estimators=100, min_samples_split=3)"
   ]
  },
  {
   "cell_type": "code",
   "execution_count": 108,
   "metadata": {},
   "outputs": [
    {
     "data": {
      "text/plain": [
       "LogisticRegression(C=1.0, class_weight=None, dual=False, fit_intercept=True,\n",
       "          intercept_scaling=1, max_iter=2000, multi_class='multinomial',\n",
       "          n_jobs=-1, penalty='l2', random_state=None, solver='newton-cg',\n",
       "          tol=0.0001, verbose=0, warm_start=False)"
      ]
     },
     "execution_count": 108,
     "metadata": {},
     "output_type": "execute_result"
    }
   ],
   "source": [
    "model.fit(train_x, train_y)"
   ]
  },
  {
   "cell_type": "code",
   "execution_count": 109,
   "metadata": {},
   "outputs": [
    {
     "data": {
      "text/plain": [
       "array([[0.53549216, 0.18391131, 0.12019933, 0.07713274, 0.03742477,\n",
       "        0.03764238, 0.00458416, 0.00154636, 0.00134901, 0.00071779],\n",
       "       [0.37499232, 0.23795557, 0.15453131, 0.12226833, 0.03858387,\n",
       "        0.0438    , 0.01046086, 0.00651576, 0.00774268, 0.00314928],\n",
       "       [0.06790764, 0.13855452, 0.26355533, 0.19615421, 0.13753144,\n",
       "        0.05911776, 0.09961507, 0.00721826, 0.01225656, 0.01808922],\n",
       "       [0.08372429, 0.1093943 , 0.10665979, 0.15958171, 0.1968173 ,\n",
       "        0.17441712, 0.04303401, 0.05280967, 0.04272324, 0.03083858],\n",
       "       [0.11634017, 0.1506929 , 0.1086021 , 0.18256616, 0.03043562,\n",
       "        0.10391622, 0.04209724, 0.10785371, 0.12834714, 0.02914874],\n",
       "       [0.04991504, 0.11357897, 0.20421493, 0.20989684, 0.09787445,\n",
       "        0.10633822, 0.09653779, 0.0278316 , 0.04783076, 0.0459814 ],\n",
       "       [0.04751587, 0.0743863 , 0.11604058, 0.24447418, 0.2116348 ,\n",
       "        0.09911273, 0.0685396 , 0.05128707, 0.04086193, 0.04614696],\n",
       "       [0.00448738, 0.01157287, 0.0196373 , 0.03945433, 0.10272655,\n",
       "        0.09059248, 0.08940143, 0.2631368 , 0.20177603, 0.17721482],\n",
       "       [0.0104851 , 0.02864071, 0.05540753, 0.16477258, 0.09190873,\n",
       "        0.09501565, 0.1519508 , 0.07465743, 0.06821631, 0.25894514],\n",
       "       [0.00098333, 0.00955497, 0.05467786, 0.0405921 , 0.07124598,\n",
       "        0.19377307, 0.16121439, 0.08128789, 0.12678487, 0.25988553]])"
      ]
     },
     "execution_count": 109,
     "metadata": {},
     "output_type": "execute_result"
    }
   ],
   "source": [
    "model.predict_proba(val_x)"
   ]
  },
  {
   "cell_type": "code",
   "execution_count": 110,
   "metadata": {},
   "outputs": [
    {
     "name": "stdout",
     "output_type": "stream",
     "text": [
      "1. is index: 1\n",
      "2. is index: 2\n",
      "3. is index: 3\n",
      "4. is index: 7\n",
      "5. is index: 4\n",
      "6. is index: 10\n",
      "7. is index: 9\n",
      "8. is index: 8\n",
      "9. is index: 5\n",
      "10. is index: 6\n"
     ]
    }
   ],
   "source": [
    "preds = model.predict_proba(val_x)\n",
    "visited = []\n",
    "for i in range(len(preds)):\n",
    "    rank_i_values = preds[:,i]\n",
    "    for top_rank in np.argsort(preds[:,i])[::-1]:\n",
    "        if top_rank in visited:\n",
    "            continue\n",
    "        print(f\"{i+1}. is index: {top_rank+1}\")\n",
    "        visited.append(top_rank)\n",
    "        break"
   ]
  },
  {
   "cell_type": "markdown",
   "metadata": {},
   "source": [
    "# Test set"
   ]
  },
  {
   "cell_type": "code",
   "execution_count": 43,
   "metadata": {},
   "outputs": [],
   "source": [
    "train_columns = ['ts_pct', 'bpm', 'mp_per_g', 'pts_per_g', 'trb_per_g', 'ast_per_g',\n",
    "        'stl_per_g', 'blk_per_g', 'ws', 'per', 'usg_pct', 'ws_per_48']\n",
    "train_regression_columns = ['ts_pct', 'bpm', 'mp_per_g', 'pts_per_g', 'trb_per_g', 'ast_per_g',\n",
    "            'stl_per_g', 'blk_per_g', 'ws', 'win_pct']\n",
    "train_cls_columns = ['ts_pct', 'bpm', 'per', 'pts_per_g', 'trb_per_g', 'ast_per_g',\n",
    "            'stl_per_g', 'blk_per_g', 'ws', 'usg_pct', 'win_pct']\n",
    "target_reg_columns = ['award_share']\n",
    "target_cls_columns = ['rank']"
   ]
  },
  {
   "cell_type": "code",
   "execution_count": 44,
   "metadata": {},
   "outputs": [],
   "source": [
    "test_reg_columns = [\n",
    "    'TS_pct', 'BPM', 'MP_x', 'PTS', 'TRB', 'AST', 'STL', 'BLK', 'WS', 'win_pct',\n",
    "]\n",
    "test_cls_columns = [\n",
    "        'TS_pct', 'BPM','PER', 'PTS', 'TRB', 'AST', 'STL', 'BLK', 'WS', 'PER', 'USG_pct',\n",
    "]"
   ]
  },
  {
   "cell_type": "markdown",
   "metadata": {},
   "source": [
    "## Merging data frames"
   ]
  },
  {
   "cell_type": "code",
   "execution_count": 84,
   "metadata": {},
   "outputs": [],
   "source": [
    "per_g_df = pd.read_csv('player_per_g.csv')"
   ]
  },
  {
   "cell_type": "code",
   "execution_count": 73,
   "metadata": {},
   "outputs": [],
   "source": [
    "advanced_df = pd.read_csv('advanced.csv')"
   ]
  },
  {
   "cell_type": "code",
   "execution_count": 74,
   "metadata": {},
   "outputs": [],
   "source": [
    "merged = pd.merge(per_g_df, advanced_df, on=['PlayerId', 'Player'])"
   ]
  },
  {
   "cell_type": "code",
   "execution_count": 75,
   "metadata": {},
   "outputs": [],
   "source": [
    "sorted_merged = merged.sort_values(by='WS', ascending=False)"
   ]
  },
  {
   "cell_type": "code",
   "execution_count": 76,
   "metadata": {},
   "outputs": [],
   "source": [
    "top_players = sorted_merged[:40]"
   ]
  },
  {
   "cell_type": "code",
   "execution_count": 77,
   "metadata": {},
   "outputs": [
    {
     "ename": "KeyboardInterrupt",
     "evalue": "",
     "output_type": "error",
     "traceback": [
      "\u001b[0;31m---------------------------------------------------------------------------\u001b[0m",
      "\u001b[0;31mKeyboardInterrupt\u001b[0m                         Traceback (most recent call last)",
      "\u001b[0;32m<ipython-input-77-28be1bee83e6>\u001b[0m in \u001b[0;36m<module>\u001b[0;34m\u001b[0m\n\u001b[1;32m      4\u001b[0m     \u001b[0mplayer_id\u001b[0m \u001b[0;34m=\u001b[0m \u001b[0mtop_players\u001b[0m\u001b[0;34m.\u001b[0m\u001b[0miloc\u001b[0m\u001b[0;34m[\u001b[0m\u001b[0mi\u001b[0m\u001b[0;34m]\u001b[0m\u001b[0;34m.\u001b[0m\u001b[0mPlayerId\u001b[0m\u001b[0;34m[\u001b[0m\u001b[0;36m1\u001b[0m\u001b[0;34m:\u001b[0m\u001b[0;34m]\u001b[0m\u001b[0;34m\u001b[0m\u001b[0;34m\u001b[0m\u001b[0m\n\u001b[1;32m      5\u001b[0m     \u001b[0mfull_url\u001b[0m \u001b[0;34m=\u001b[0m \u001b[0;34mf'{base_url}/{player_id[0]}/{player_id}.html'\u001b[0m\u001b[0;34m\u001b[0m\u001b[0;34m\u001b[0m\u001b[0m\n\u001b[0;32m----> 6\u001b[0;31m     \u001b[0mresponse\u001b[0m \u001b[0;34m=\u001b[0m \u001b[0mrequests\u001b[0m\u001b[0;34m.\u001b[0m\u001b[0mget\u001b[0m\u001b[0;34m(\u001b[0m\u001b[0mfull_url\u001b[0m\u001b[0;34m)\u001b[0m\u001b[0;34m\u001b[0m\u001b[0;34m\u001b[0m\u001b[0m\n\u001b[0m\u001b[1;32m      7\u001b[0m     \u001b[0msoup\u001b[0m \u001b[0;34m=\u001b[0m \u001b[0mBeautifulSoup\u001b[0m\u001b[0;34m(\u001b[0m\u001b[0mresponse\u001b[0m\u001b[0;34m.\u001b[0m\u001b[0mtext\u001b[0m\u001b[0;34m)\u001b[0m\u001b[0;34m\u001b[0m\u001b[0;34m\u001b[0m\u001b[0m\n\u001b[1;32m      8\u001b[0m     \u001b[0mtime\u001b[0m\u001b[0;34m.\u001b[0m\u001b[0msleep\u001b[0m\u001b[0;34m(\u001b[0m\u001b[0;36m0.5\u001b[0m\u001b[0;34m)\u001b[0m\u001b[0;34m\u001b[0m\u001b[0;34m\u001b[0m\u001b[0m\n",
      "\u001b[0;32m~/.local/lib/python3.6/site-packages/requests/api.py\u001b[0m in \u001b[0;36mget\u001b[0;34m(url, params, **kwargs)\u001b[0m\n\u001b[1;32m     73\u001b[0m \u001b[0;34m\u001b[0m\u001b[0m\n\u001b[1;32m     74\u001b[0m     \u001b[0mkwargs\u001b[0m\u001b[0;34m.\u001b[0m\u001b[0msetdefault\u001b[0m\u001b[0;34m(\u001b[0m\u001b[0;34m'allow_redirects'\u001b[0m\u001b[0;34m,\u001b[0m \u001b[0;32mTrue\u001b[0m\u001b[0;34m)\u001b[0m\u001b[0;34m\u001b[0m\u001b[0;34m\u001b[0m\u001b[0m\n\u001b[0;32m---> 75\u001b[0;31m     \u001b[0;32mreturn\u001b[0m \u001b[0mrequest\u001b[0m\u001b[0;34m(\u001b[0m\u001b[0;34m'get'\u001b[0m\u001b[0;34m,\u001b[0m \u001b[0murl\u001b[0m\u001b[0;34m,\u001b[0m \u001b[0mparams\u001b[0m\u001b[0;34m=\u001b[0m\u001b[0mparams\u001b[0m\u001b[0;34m,\u001b[0m \u001b[0;34m**\u001b[0m\u001b[0mkwargs\u001b[0m\u001b[0;34m)\u001b[0m\u001b[0;34m\u001b[0m\u001b[0;34m\u001b[0m\u001b[0m\n\u001b[0m\u001b[1;32m     76\u001b[0m \u001b[0;34m\u001b[0m\u001b[0m\n\u001b[1;32m     77\u001b[0m \u001b[0;34m\u001b[0m\u001b[0m\n",
      "\u001b[0;32m~/.local/lib/python3.6/site-packages/requests/api.py\u001b[0m in \u001b[0;36mrequest\u001b[0;34m(method, url, **kwargs)\u001b[0m\n\u001b[1;32m     58\u001b[0m     \u001b[0;31m# cases, and look like a memory leak in others.\u001b[0m\u001b[0;34m\u001b[0m\u001b[0;34m\u001b[0m\u001b[0;34m\u001b[0m\u001b[0m\n\u001b[1;32m     59\u001b[0m     \u001b[0;32mwith\u001b[0m \u001b[0msessions\u001b[0m\u001b[0;34m.\u001b[0m\u001b[0mSession\u001b[0m\u001b[0;34m(\u001b[0m\u001b[0;34m)\u001b[0m \u001b[0;32mas\u001b[0m \u001b[0msession\u001b[0m\u001b[0;34m:\u001b[0m\u001b[0;34m\u001b[0m\u001b[0;34m\u001b[0m\u001b[0m\n\u001b[0;32m---> 60\u001b[0;31m         \u001b[0;32mreturn\u001b[0m \u001b[0msession\u001b[0m\u001b[0;34m.\u001b[0m\u001b[0mrequest\u001b[0m\u001b[0;34m(\u001b[0m\u001b[0mmethod\u001b[0m\u001b[0;34m=\u001b[0m\u001b[0mmethod\u001b[0m\u001b[0;34m,\u001b[0m \u001b[0murl\u001b[0m\u001b[0;34m=\u001b[0m\u001b[0murl\u001b[0m\u001b[0;34m,\u001b[0m \u001b[0;34m**\u001b[0m\u001b[0mkwargs\u001b[0m\u001b[0;34m)\u001b[0m\u001b[0;34m\u001b[0m\u001b[0;34m\u001b[0m\u001b[0m\n\u001b[0m\u001b[1;32m     61\u001b[0m \u001b[0;34m\u001b[0m\u001b[0m\n\u001b[1;32m     62\u001b[0m \u001b[0;34m\u001b[0m\u001b[0m\n",
      "\u001b[0;32m~/.local/lib/python3.6/site-packages/requests/sessions.py\u001b[0m in \u001b[0;36mrequest\u001b[0;34m(self, method, url, params, data, headers, cookies, files, auth, timeout, allow_redirects, proxies, hooks, stream, verify, cert, json)\u001b[0m\n\u001b[1;32m    531\u001b[0m         }\n\u001b[1;32m    532\u001b[0m         \u001b[0msend_kwargs\u001b[0m\u001b[0;34m.\u001b[0m\u001b[0mupdate\u001b[0m\u001b[0;34m(\u001b[0m\u001b[0msettings\u001b[0m\u001b[0;34m)\u001b[0m\u001b[0;34m\u001b[0m\u001b[0;34m\u001b[0m\u001b[0m\n\u001b[0;32m--> 533\u001b[0;31m         \u001b[0mresp\u001b[0m \u001b[0;34m=\u001b[0m \u001b[0mself\u001b[0m\u001b[0;34m.\u001b[0m\u001b[0msend\u001b[0m\u001b[0;34m(\u001b[0m\u001b[0mprep\u001b[0m\u001b[0;34m,\u001b[0m \u001b[0;34m**\u001b[0m\u001b[0msend_kwargs\u001b[0m\u001b[0;34m)\u001b[0m\u001b[0;34m\u001b[0m\u001b[0;34m\u001b[0m\u001b[0m\n\u001b[0m\u001b[1;32m    534\u001b[0m \u001b[0;34m\u001b[0m\u001b[0m\n\u001b[1;32m    535\u001b[0m         \u001b[0;32mreturn\u001b[0m \u001b[0mresp\u001b[0m\u001b[0;34m\u001b[0m\u001b[0;34m\u001b[0m\u001b[0m\n",
      "\u001b[0;32m~/.local/lib/python3.6/site-packages/requests/sessions.py\u001b[0m in \u001b[0;36msend\u001b[0;34m(self, request, **kwargs)\u001b[0m\n\u001b[1;32m    684\u001b[0m \u001b[0;34m\u001b[0m\u001b[0m\n\u001b[1;32m    685\u001b[0m         \u001b[0;32mif\u001b[0m \u001b[0;32mnot\u001b[0m \u001b[0mstream\u001b[0m\u001b[0;34m:\u001b[0m\u001b[0;34m\u001b[0m\u001b[0;34m\u001b[0m\u001b[0m\n\u001b[0;32m--> 686\u001b[0;31m             \u001b[0mr\u001b[0m\u001b[0;34m.\u001b[0m\u001b[0mcontent\u001b[0m\u001b[0;34m\u001b[0m\u001b[0;34m\u001b[0m\u001b[0m\n\u001b[0m\u001b[1;32m    687\u001b[0m \u001b[0;34m\u001b[0m\u001b[0m\n\u001b[1;32m    688\u001b[0m         \u001b[0;32mreturn\u001b[0m \u001b[0mr\u001b[0m\u001b[0;34m\u001b[0m\u001b[0;34m\u001b[0m\u001b[0m\n",
      "\u001b[0;32m~/.local/lib/python3.6/site-packages/requests/models.py\u001b[0m in \u001b[0;36mcontent\u001b[0;34m(self)\u001b[0m\n\u001b[1;32m    826\u001b[0m                 \u001b[0mself\u001b[0m\u001b[0;34m.\u001b[0m\u001b[0m_content\u001b[0m \u001b[0;34m=\u001b[0m \u001b[0;32mNone\u001b[0m\u001b[0;34m\u001b[0m\u001b[0;34m\u001b[0m\u001b[0m\n\u001b[1;32m    827\u001b[0m             \u001b[0;32melse\u001b[0m\u001b[0;34m:\u001b[0m\u001b[0;34m\u001b[0m\u001b[0;34m\u001b[0m\u001b[0m\n\u001b[0;32m--> 828\u001b[0;31m                 \u001b[0mself\u001b[0m\u001b[0;34m.\u001b[0m\u001b[0m_content\u001b[0m \u001b[0;34m=\u001b[0m \u001b[0;34mb''\u001b[0m\u001b[0;34m.\u001b[0m\u001b[0mjoin\u001b[0m\u001b[0;34m(\u001b[0m\u001b[0mself\u001b[0m\u001b[0;34m.\u001b[0m\u001b[0miter_content\u001b[0m\u001b[0;34m(\u001b[0m\u001b[0mCONTENT_CHUNK_SIZE\u001b[0m\u001b[0;34m)\u001b[0m\u001b[0;34m)\u001b[0m \u001b[0;32mor\u001b[0m \u001b[0;34mb''\u001b[0m\u001b[0;34m\u001b[0m\u001b[0;34m\u001b[0m\u001b[0m\n\u001b[0m\u001b[1;32m    829\u001b[0m \u001b[0;34m\u001b[0m\u001b[0m\n\u001b[1;32m    830\u001b[0m         \u001b[0mself\u001b[0m\u001b[0;34m.\u001b[0m\u001b[0m_content_consumed\u001b[0m \u001b[0;34m=\u001b[0m \u001b[0;32mTrue\u001b[0m\u001b[0;34m\u001b[0m\u001b[0;34m\u001b[0m\u001b[0m\n",
      "\u001b[0;32m~/.local/lib/python3.6/site-packages/requests/models.py\u001b[0m in \u001b[0;36mgenerate\u001b[0;34m()\u001b[0m\n\u001b[1;32m    748\u001b[0m             \u001b[0;32mif\u001b[0m \u001b[0mhasattr\u001b[0m\u001b[0;34m(\u001b[0m\u001b[0mself\u001b[0m\u001b[0;34m.\u001b[0m\u001b[0mraw\u001b[0m\u001b[0;34m,\u001b[0m \u001b[0;34m'stream'\u001b[0m\u001b[0;34m)\u001b[0m\u001b[0;34m:\u001b[0m\u001b[0;34m\u001b[0m\u001b[0;34m\u001b[0m\u001b[0m\n\u001b[1;32m    749\u001b[0m                 \u001b[0;32mtry\u001b[0m\u001b[0;34m:\u001b[0m\u001b[0;34m\u001b[0m\u001b[0;34m\u001b[0m\u001b[0m\n\u001b[0;32m--> 750\u001b[0;31m                     \u001b[0;32mfor\u001b[0m \u001b[0mchunk\u001b[0m \u001b[0;32min\u001b[0m \u001b[0mself\u001b[0m\u001b[0;34m.\u001b[0m\u001b[0mraw\u001b[0m\u001b[0;34m.\u001b[0m\u001b[0mstream\u001b[0m\u001b[0;34m(\u001b[0m\u001b[0mchunk_size\u001b[0m\u001b[0;34m,\u001b[0m \u001b[0mdecode_content\u001b[0m\u001b[0;34m=\u001b[0m\u001b[0;32mTrue\u001b[0m\u001b[0;34m)\u001b[0m\u001b[0;34m:\u001b[0m\u001b[0;34m\u001b[0m\u001b[0;34m\u001b[0m\u001b[0m\n\u001b[0m\u001b[1;32m    751\u001b[0m                         \u001b[0;32myield\u001b[0m \u001b[0mchunk\u001b[0m\u001b[0;34m\u001b[0m\u001b[0;34m\u001b[0m\u001b[0m\n\u001b[1;32m    752\u001b[0m                 \u001b[0;32mexcept\u001b[0m \u001b[0mProtocolError\u001b[0m \u001b[0;32mas\u001b[0m \u001b[0me\u001b[0m\u001b[0;34m:\u001b[0m\u001b[0;34m\u001b[0m\u001b[0;34m\u001b[0m\u001b[0m\n",
      "\u001b[0;32m~/.local/lib/python3.6/site-packages/urllib3/response.py\u001b[0m in \u001b[0;36mstream\u001b[0;34m(self, amt, decode_content)\u001b[0m\n\u001b[1;32m    488\u001b[0m         \"\"\"\n\u001b[1;32m    489\u001b[0m         \u001b[0;32mif\u001b[0m \u001b[0mself\u001b[0m\u001b[0;34m.\u001b[0m\u001b[0mchunked\u001b[0m \u001b[0;32mand\u001b[0m \u001b[0mself\u001b[0m\u001b[0;34m.\u001b[0m\u001b[0msupports_chunked_reads\u001b[0m\u001b[0;34m(\u001b[0m\u001b[0;34m)\u001b[0m\u001b[0;34m:\u001b[0m\u001b[0;34m\u001b[0m\u001b[0;34m\u001b[0m\u001b[0m\n\u001b[0;32m--> 490\u001b[0;31m             \u001b[0;32mfor\u001b[0m \u001b[0mline\u001b[0m \u001b[0;32min\u001b[0m \u001b[0mself\u001b[0m\u001b[0;34m.\u001b[0m\u001b[0mread_chunked\u001b[0m\u001b[0;34m(\u001b[0m\u001b[0mamt\u001b[0m\u001b[0;34m,\u001b[0m \u001b[0mdecode_content\u001b[0m\u001b[0;34m=\u001b[0m\u001b[0mdecode_content\u001b[0m\u001b[0;34m)\u001b[0m\u001b[0;34m:\u001b[0m\u001b[0;34m\u001b[0m\u001b[0;34m\u001b[0m\u001b[0m\n\u001b[0m\u001b[1;32m    491\u001b[0m                 \u001b[0;32myield\u001b[0m \u001b[0mline\u001b[0m\u001b[0;34m\u001b[0m\u001b[0;34m\u001b[0m\u001b[0m\n\u001b[1;32m    492\u001b[0m         \u001b[0;32melse\u001b[0m\u001b[0;34m:\u001b[0m\u001b[0;34m\u001b[0m\u001b[0;34m\u001b[0m\u001b[0m\n",
      "\u001b[0;32m~/.local/lib/python3.6/site-packages/urllib3/response.py\u001b[0m in \u001b[0;36mread_chunked\u001b[0;34m(self, amt, decode_content)\u001b[0m\n\u001b[1;32m    667\u001b[0m                 \u001b[0;32mif\u001b[0m \u001b[0mself\u001b[0m\u001b[0;34m.\u001b[0m\u001b[0mchunk_left\u001b[0m \u001b[0;34m==\u001b[0m \u001b[0;36m0\u001b[0m\u001b[0;34m:\u001b[0m\u001b[0;34m\u001b[0m\u001b[0;34m\u001b[0m\u001b[0m\n\u001b[1;32m    668\u001b[0m                     \u001b[0;32mbreak\u001b[0m\u001b[0;34m\u001b[0m\u001b[0;34m\u001b[0m\u001b[0m\n\u001b[0;32m--> 669\u001b[0;31m                 \u001b[0mchunk\u001b[0m \u001b[0;34m=\u001b[0m \u001b[0mself\u001b[0m\u001b[0;34m.\u001b[0m\u001b[0m_handle_chunk\u001b[0m\u001b[0;34m(\u001b[0m\u001b[0mamt\u001b[0m\u001b[0;34m)\u001b[0m\u001b[0;34m\u001b[0m\u001b[0;34m\u001b[0m\u001b[0m\n\u001b[0m\u001b[1;32m    670\u001b[0m                 decoded = self._decode(chunk, decode_content=decode_content,\n\u001b[1;32m    671\u001b[0m                                        flush_decoder=False)\n",
      "\u001b[0;32m~/.local/lib/python3.6/site-packages/urllib3/response.py\u001b[0m in \u001b[0;36m_handle_chunk\u001b[0;34m(self, amt)\u001b[0m\n\u001b[1;32m    613\u001b[0m             \u001b[0mself\u001b[0m\u001b[0;34m.\u001b[0m\u001b[0mchunk_left\u001b[0m \u001b[0;34m=\u001b[0m \u001b[0;32mNone\u001b[0m\u001b[0;34m\u001b[0m\u001b[0;34m\u001b[0m\u001b[0m\n\u001b[1;32m    614\u001b[0m         \u001b[0;32melif\u001b[0m \u001b[0mamt\u001b[0m \u001b[0;34m<\u001b[0m \u001b[0mself\u001b[0m\u001b[0;34m.\u001b[0m\u001b[0mchunk_left\u001b[0m\u001b[0;34m:\u001b[0m\u001b[0;34m\u001b[0m\u001b[0;34m\u001b[0m\u001b[0m\n\u001b[0;32m--> 615\u001b[0;31m             \u001b[0mvalue\u001b[0m \u001b[0;34m=\u001b[0m \u001b[0mself\u001b[0m\u001b[0;34m.\u001b[0m\u001b[0m_fp\u001b[0m\u001b[0;34m.\u001b[0m\u001b[0m_safe_read\u001b[0m\u001b[0;34m(\u001b[0m\u001b[0mamt\u001b[0m\u001b[0;34m)\u001b[0m\u001b[0;34m\u001b[0m\u001b[0;34m\u001b[0m\u001b[0m\n\u001b[0m\u001b[1;32m    616\u001b[0m             \u001b[0mself\u001b[0m\u001b[0;34m.\u001b[0m\u001b[0mchunk_left\u001b[0m \u001b[0;34m=\u001b[0m \u001b[0mself\u001b[0m\u001b[0;34m.\u001b[0m\u001b[0mchunk_left\u001b[0m \u001b[0;34m-\u001b[0m \u001b[0mamt\u001b[0m\u001b[0;34m\u001b[0m\u001b[0;34m\u001b[0m\u001b[0m\n\u001b[1;32m    617\u001b[0m             \u001b[0mreturned_chunk\u001b[0m \u001b[0;34m=\u001b[0m \u001b[0mvalue\u001b[0m\u001b[0;34m\u001b[0m\u001b[0;34m\u001b[0m\u001b[0m\n",
      "\u001b[0;32m/usr/lib/python3.6/http/client.py\u001b[0m in \u001b[0;36m_safe_read\u001b[0;34m(self, amt)\u001b[0m\n\u001b[1;32m    610\u001b[0m         \u001b[0ms\u001b[0m \u001b[0;34m=\u001b[0m \u001b[0;34m[\u001b[0m\u001b[0;34m]\u001b[0m\u001b[0;34m\u001b[0m\u001b[0;34m\u001b[0m\u001b[0m\n\u001b[1;32m    611\u001b[0m         \u001b[0;32mwhile\u001b[0m \u001b[0mamt\u001b[0m \u001b[0;34m>\u001b[0m \u001b[0;36m0\u001b[0m\u001b[0;34m:\u001b[0m\u001b[0;34m\u001b[0m\u001b[0;34m\u001b[0m\u001b[0m\n\u001b[0;32m--> 612\u001b[0;31m             \u001b[0mchunk\u001b[0m \u001b[0;34m=\u001b[0m \u001b[0mself\u001b[0m\u001b[0;34m.\u001b[0m\u001b[0mfp\u001b[0m\u001b[0;34m.\u001b[0m\u001b[0mread\u001b[0m\u001b[0;34m(\u001b[0m\u001b[0mmin\u001b[0m\u001b[0;34m(\u001b[0m\u001b[0mamt\u001b[0m\u001b[0;34m,\u001b[0m \u001b[0mMAXAMOUNT\u001b[0m\u001b[0;34m)\u001b[0m\u001b[0;34m)\u001b[0m\u001b[0;34m\u001b[0m\u001b[0;34m\u001b[0m\u001b[0m\n\u001b[0m\u001b[1;32m    613\u001b[0m             \u001b[0;32mif\u001b[0m \u001b[0;32mnot\u001b[0m \u001b[0mchunk\u001b[0m\u001b[0;34m:\u001b[0m\u001b[0;34m\u001b[0m\u001b[0;34m\u001b[0m\u001b[0m\n\u001b[1;32m    614\u001b[0m                 \u001b[0;32mraise\u001b[0m \u001b[0mIncompleteRead\u001b[0m\u001b[0;34m(\u001b[0m\u001b[0;34mb''\u001b[0m\u001b[0;34m.\u001b[0m\u001b[0mjoin\u001b[0m\u001b[0;34m(\u001b[0m\u001b[0ms\u001b[0m\u001b[0;34m)\u001b[0m\u001b[0;34m,\u001b[0m \u001b[0mamt\u001b[0m\u001b[0;34m)\u001b[0m\u001b[0;34m\u001b[0m\u001b[0;34m\u001b[0m\u001b[0m\n",
      "\u001b[0;32m/usr/lib/python3.6/socket.py\u001b[0m in \u001b[0;36mreadinto\u001b[0;34m(self, b)\u001b[0m\n\u001b[1;32m    584\u001b[0m         \u001b[0;32mwhile\u001b[0m \u001b[0;32mTrue\u001b[0m\u001b[0;34m:\u001b[0m\u001b[0;34m\u001b[0m\u001b[0;34m\u001b[0m\u001b[0m\n\u001b[1;32m    585\u001b[0m             \u001b[0;32mtry\u001b[0m\u001b[0;34m:\u001b[0m\u001b[0;34m\u001b[0m\u001b[0;34m\u001b[0m\u001b[0m\n\u001b[0;32m--> 586\u001b[0;31m                 \u001b[0;32mreturn\u001b[0m \u001b[0mself\u001b[0m\u001b[0;34m.\u001b[0m\u001b[0m_sock\u001b[0m\u001b[0;34m.\u001b[0m\u001b[0mrecv_into\u001b[0m\u001b[0;34m(\u001b[0m\u001b[0mb\u001b[0m\u001b[0;34m)\u001b[0m\u001b[0;34m\u001b[0m\u001b[0;34m\u001b[0m\u001b[0m\n\u001b[0m\u001b[1;32m    587\u001b[0m             \u001b[0;32mexcept\u001b[0m \u001b[0mtimeout\u001b[0m\u001b[0;34m:\u001b[0m\u001b[0;34m\u001b[0m\u001b[0;34m\u001b[0m\u001b[0m\n\u001b[1;32m    588\u001b[0m                 \u001b[0mself\u001b[0m\u001b[0;34m.\u001b[0m\u001b[0m_timeout_occurred\u001b[0m \u001b[0;34m=\u001b[0m \u001b[0;32mTrue\u001b[0m\u001b[0;34m\u001b[0m\u001b[0;34m\u001b[0m\u001b[0m\n",
      "\u001b[0;32m/usr/lib/python3.6/ssl.py\u001b[0m in \u001b[0;36mrecv_into\u001b[0;34m(self, buffer, nbytes, flags)\u001b[0m\n\u001b[1;32m   1010\u001b[0m                   \u001b[0;34m\"non-zero flags not allowed in calls to recv_into() on %s\"\u001b[0m \u001b[0;34m%\u001b[0m\u001b[0;34m\u001b[0m\u001b[0;34m\u001b[0m\u001b[0m\n\u001b[1;32m   1011\u001b[0m                   self.__class__)\n\u001b[0;32m-> 1012\u001b[0;31m             \u001b[0;32mreturn\u001b[0m \u001b[0mself\u001b[0m\u001b[0;34m.\u001b[0m\u001b[0mread\u001b[0m\u001b[0;34m(\u001b[0m\u001b[0mnbytes\u001b[0m\u001b[0;34m,\u001b[0m \u001b[0mbuffer\u001b[0m\u001b[0;34m)\u001b[0m\u001b[0;34m\u001b[0m\u001b[0;34m\u001b[0m\u001b[0m\n\u001b[0m\u001b[1;32m   1013\u001b[0m         \u001b[0;32melse\u001b[0m\u001b[0;34m:\u001b[0m\u001b[0;34m\u001b[0m\u001b[0;34m\u001b[0m\u001b[0m\n\u001b[1;32m   1014\u001b[0m             \u001b[0;32mreturn\u001b[0m \u001b[0msocket\u001b[0m\u001b[0;34m.\u001b[0m\u001b[0mrecv_into\u001b[0m\u001b[0;34m(\u001b[0m\u001b[0mself\u001b[0m\u001b[0;34m,\u001b[0m \u001b[0mbuffer\u001b[0m\u001b[0;34m,\u001b[0m \u001b[0mnbytes\u001b[0m\u001b[0;34m,\u001b[0m \u001b[0mflags\u001b[0m\u001b[0;34m)\u001b[0m\u001b[0;34m\u001b[0m\u001b[0;34m\u001b[0m\u001b[0m\n",
      "\u001b[0;32m/usr/lib/python3.6/ssl.py\u001b[0m in \u001b[0;36mread\u001b[0;34m(self, len, buffer)\u001b[0m\n\u001b[1;32m    872\u001b[0m             \u001b[0;32mraise\u001b[0m \u001b[0mValueError\u001b[0m\u001b[0;34m(\u001b[0m\u001b[0;34m\"Read on closed or unwrapped SSL socket.\"\u001b[0m\u001b[0;34m)\u001b[0m\u001b[0;34m\u001b[0m\u001b[0;34m\u001b[0m\u001b[0m\n\u001b[1;32m    873\u001b[0m         \u001b[0;32mtry\u001b[0m\u001b[0;34m:\u001b[0m\u001b[0;34m\u001b[0m\u001b[0;34m\u001b[0m\u001b[0m\n\u001b[0;32m--> 874\u001b[0;31m             \u001b[0;32mreturn\u001b[0m \u001b[0mself\u001b[0m\u001b[0;34m.\u001b[0m\u001b[0m_sslobj\u001b[0m\u001b[0;34m.\u001b[0m\u001b[0mread\u001b[0m\u001b[0;34m(\u001b[0m\u001b[0mlen\u001b[0m\u001b[0;34m,\u001b[0m \u001b[0mbuffer\u001b[0m\u001b[0;34m)\u001b[0m\u001b[0;34m\u001b[0m\u001b[0;34m\u001b[0m\u001b[0m\n\u001b[0m\u001b[1;32m    875\u001b[0m         \u001b[0;32mexcept\u001b[0m \u001b[0mSSLError\u001b[0m \u001b[0;32mas\u001b[0m \u001b[0mx\u001b[0m\u001b[0;34m:\u001b[0m\u001b[0;34m\u001b[0m\u001b[0;34m\u001b[0m\u001b[0m\n\u001b[1;32m    876\u001b[0m             \u001b[0;32mif\u001b[0m \u001b[0mx\u001b[0m\u001b[0;34m.\u001b[0m\u001b[0margs\u001b[0m\u001b[0;34m[\u001b[0m\u001b[0;36m0\u001b[0m\u001b[0;34m]\u001b[0m \u001b[0;34m==\u001b[0m \u001b[0mSSL_ERROR_EOF\u001b[0m \u001b[0;32mand\u001b[0m \u001b[0mself\u001b[0m\u001b[0;34m.\u001b[0m\u001b[0msuppress_ragged_eofs\u001b[0m\u001b[0;34m:\u001b[0m\u001b[0;34m\u001b[0m\u001b[0;34m\u001b[0m\u001b[0m\n",
      "\u001b[0;32m/usr/lib/python3.6/ssl.py\u001b[0m in \u001b[0;36mread\u001b[0;34m(self, len, buffer)\u001b[0m\n\u001b[1;32m    629\u001b[0m         \"\"\"\n\u001b[1;32m    630\u001b[0m         \u001b[0;32mif\u001b[0m \u001b[0mbuffer\u001b[0m \u001b[0;32mis\u001b[0m \u001b[0;32mnot\u001b[0m \u001b[0;32mNone\u001b[0m\u001b[0;34m:\u001b[0m\u001b[0;34m\u001b[0m\u001b[0;34m\u001b[0m\u001b[0m\n\u001b[0;32m--> 631\u001b[0;31m             \u001b[0mv\u001b[0m \u001b[0;34m=\u001b[0m \u001b[0mself\u001b[0m\u001b[0;34m.\u001b[0m\u001b[0m_sslobj\u001b[0m\u001b[0;34m.\u001b[0m\u001b[0mread\u001b[0m\u001b[0;34m(\u001b[0m\u001b[0mlen\u001b[0m\u001b[0;34m,\u001b[0m \u001b[0mbuffer\u001b[0m\u001b[0;34m)\u001b[0m\u001b[0;34m\u001b[0m\u001b[0;34m\u001b[0m\u001b[0m\n\u001b[0m\u001b[1;32m    632\u001b[0m         \u001b[0;32melse\u001b[0m\u001b[0;34m:\u001b[0m\u001b[0;34m\u001b[0m\u001b[0;34m\u001b[0m\u001b[0m\n\u001b[1;32m    633\u001b[0m             \u001b[0mv\u001b[0m \u001b[0;34m=\u001b[0m \u001b[0mself\u001b[0m\u001b[0;34m.\u001b[0m\u001b[0m_sslobj\u001b[0m\u001b[0;34m.\u001b[0m\u001b[0mread\u001b[0m\u001b[0;34m(\u001b[0m\u001b[0mlen\u001b[0m\u001b[0;34m)\u001b[0m\u001b[0;34m\u001b[0m\u001b[0;34m\u001b[0m\u001b[0m\n",
      "\u001b[0;31mKeyboardInterrupt\u001b[0m: "
     ]
    }
   ],
   "source": [
    "base_url = 'https://www.basketball-reference.com/players'\n",
    "win_percentages = []\n",
    "for i in range(len(top_players)):\n",
    "    player_id = top_players.iloc[i].PlayerId[1:]\n",
    "    full_url = f'{base_url}/{player_id[0]}/{player_id}.html'\n",
    "    response = requests.get(full_url)\n",
    "    soup = BeautifulSoup(response.text)\n",
    "    time.sleep(0.5)\n",
    "    string = f\"Player: {player_id} \"\n",
    "    for p in soup.findAll('p'):\n",
    "        if \"Team\" in p.text:\n",
    "            full_url = 'https://www.basketball-reference.com' + str(p.find('a')['href'])\n",
    "            soup = BeautifulSoup(requests.get(full_url).text)\n",
    "            time.sleep(0.5)\n",
    "            for item in soup.findAll(\"p\"):\n",
    "                if \"Record\" in item.text:\n",
    "                    record = re.findall(\"\\d+\\-\\d+\", item.text)[0]\n",
    "                    splitted = record.split(\"-\")\n",
    "                    win_pct = float(splitted[0]) / (float(splitted[1]) + float(splitted[0]))\n",
    "                    win_percentages.append(win_pct)\n",
    "                    string += \"found\"\n",
    "                    break\n",
    "            break\n",
    "    print(f\"{string}\")"
   ]
  },
  {
   "cell_type": "code",
   "execution_count": 188,
   "metadata": {},
   "outputs": [
    {
     "name": "stderr",
     "output_type": "stream",
     "text": [
      "/home/daniel/.local/lib/python3.6/site-packages/pandas/core/indexing.py:362: SettingWithCopyWarning: \n",
      "A value is trying to be set on a copy of a slice from a DataFrame.\n",
      "Try using .loc[row_indexer,col_indexer] = value instead\n",
      "\n",
      "See the caveats in the documentation: http://pandas.pydata.org/pandas-docs/stable/indexing.html#indexing-view-versus-copy\n",
      "  self.obj[key] = _infer_fill_value(value)\n",
      "/home/daniel/.local/lib/python3.6/site-packages/pandas/core/indexing.py:543: SettingWithCopyWarning: \n",
      "A value is trying to be set on a copy of a slice from a DataFrame.\n",
      "Try using .loc[row_indexer,col_indexer] = value instead\n",
      "\n",
      "See the caveats in the documentation: http://pandas.pydata.org/pandas-docs/stable/indexing.html#indexing-view-versus-copy\n",
      "  self.obj[item] = s\n"
     ]
    }
   ],
   "source": [
    "top_players.loc[:, 'win_pct'] = win_percentages"
   ]
  },
  {
   "cell_type": "markdown",
   "metadata": {},
   "source": [
    "## Load test data frame"
   ]
  },
  {
   "cell_type": "code",
   "execution_count": 114,
   "metadata": {},
   "outputs": [],
   "source": [
    "data_frame = pd.read_csv(\"mvp_votings.csv\")"
   ]
  },
  {
   "cell_type": "code",
   "execution_count": 115,
   "metadata": {},
   "outputs": [],
   "source": [
    "top_players = pd.read_csv('top_players.csv')"
   ]
  },
  {
   "cell_type": "code",
   "execution_count": 116,
   "metadata": {},
   "outputs": [],
   "source": [
    "cls_data_frame = pd.read_csv('cls_data_frame.csv')"
   ]
  },
  {
   "cell_type": "code",
   "execution_count": 117,
   "metadata": {},
   "outputs": [],
   "source": [
    "test_data = pd.read_csv('test_data.csv')"
   ]
  },
  {
   "cell_type": "code",
   "execution_count": 312,
   "metadata": {},
   "outputs": [
    {
     "data": {
      "text/plain": [
       "Index(['Unnamed: 0', 'fga', 'fg3a', 'fta', 'per', 'ts_pct', 'usg_pct', 'bpm',\n",
       "       'season', 'player', 'win_pct', 'votes_first', 'points_won',\n",
       "       'points_max', 'award_share', 'g', 'mp_per_g', 'pts_per_g', 'trb_per_g',\n",
       "       'ast_per_g', 'stl_per_g', 'blk_per_g', 'fg_pct', 'fg3_pct', 'ft_pct',\n",
       "       'ws', 'ws_per_48'],\n",
       "      dtype='object')"
      ]
     },
     "execution_count": 312,
     "metadata": {},
     "output_type": "execute_result"
    }
   ],
   "source": [
    "data_frame.columns"
   ]
  },
  {
   "cell_type": "code",
   "execution_count": 118,
   "metadata": {},
   "outputs": [],
   "source": [
    "train_columns = ['ts_pct', 'bpm', 'mp_per_g', 'pts_per_g', 'trb_per_g', 'ast_per_g',\n",
    "        'stl_per_g', 'blk_per_g', 'ws', 'per', 'usg_pct', 'ws_per_48']\n",
    "train_regression_columns = ['ts_pct', 'bpm', 'mp_per_g', 'pts_per_g', 'trb_per_g', 'ast_per_g',\n",
    "            'stl_per_g', 'blk_per_g', 'ws', 'win_pct']\n",
    "train_cls_columns = ['ts_pct', 'bpm', 'per', 'pts_per_g', 'trb_per_g', 'ast_per_g',\n",
    "            'stl_per_g', 'blk_per_g', 'ws', 'usg_pct', 'win_pct']\n",
    "target_reg_columns = ['award_share']\n",
    "target_cls_columns = ['rank']"
   ]
  },
  {
   "cell_type": "code",
   "execution_count": 119,
   "metadata": {},
   "outputs": [],
   "source": [
    "test_reg_columns = [\n",
    "'ts_pct', 'bpm', 'mp_per_g', 'pts_per_g', 'trb_per_g', 'ast_per_g',\n",
    "            'stl_per_g', 'blk_per_g', 'ws', 'win_pct'\n",
    "]\n",
    "test_cls_columns = [\n",
    "        'TS_pct', 'BPM','PER', 'PTS', 'TRB', 'AST', 'STL', 'BLK', 'WS', 'PER', 'USG_pct',\n",
    "]"
   ]
  },
  {
   "cell_type": "code",
   "execution_count": 90,
   "metadata": {},
   "outputs": [],
   "source": [
    "filtered_columns = top_players[\n",
    "    [\n",
    "        'Player', 'PlayerId', 'Pos_x', 'Age_x', 'Tm_x', 'G_x','MP_x', 'FGA', 'FG_pct', '3PA', '3P_pct', \n",
    "        'FTA', 'FT_pct', 'TRB', 'AST', 'STL', 'BLK', 'PTS', 'PER', 'TS_pct', 'USG_pct', 'WS', 'WS_48',\n",
    "        'BPM', 'win_pct'\n",
    "    ]\n",
    "]"
   ]
  },
  {
   "cell_type": "code",
   "execution_count": 80,
   "metadata": {},
   "outputs": [],
   "source": [
    "filtered_columns.columns = [\n",
    "    'player', 'PlayerId', 'Pos_x', 'Age_x', 'Tm_x', 'g','mp_per_g', 'fga', 'fg_pct', 'fg3a', 'fg3_pct', \n",
    "    'fta', 'ft_pct', 'trb_per_g', 'ast_per_g', 'stl_per_g', 'blk_per_g',\n",
    "    'pts_per_g', 'per', 'ts_pct', 'usg_pct', 'ws', 'ws_per_48',\n",
    "    'bpm', 'win_pct'\n",
    "]"
   ]
  },
  {
   "cell_type": "code",
   "execution_count": 81,
   "metadata": {},
   "outputs": [],
   "source": [
    "filtered_columns = filtered_columns.iloc[:, [0, *list(range(5, len(filtered_columns.iloc[0])))]]"
   ]
  },
  {
   "cell_type": "code",
   "execution_count": 92,
   "metadata": {},
   "outputs": [
    {
     "data": {
      "text/plain": [
       "\"test_data = filtered_columns[\\n    [ 'fga', 'fg3a', 'fta', 'per', 'ts_pct', 'usg_pct', 'bpm',\\n       'player', 'win_pct', 'g', 'mp_per_g', 'pts_per_g', 'trb_per_g',\\n       'ast_per_g', 'stl_per_g', 'blk_per_g', 'fg_pct', 'fg3_pct', 'ft_pct',\\n       'ws', 'ws_per_48']\\n]\""
      ]
     },
     "execution_count": 92,
     "metadata": {},
     "output_type": "execute_result"
    }
   ],
   "source": [
    "\"\"\"test_data = filtered_columns[\n",
    "    [ 'fga', 'fg3a', 'fta', 'per', 'ts_pct', 'usg_pct', 'bpm',\n",
    "       'player', 'win_pct', 'g', 'mp_per_g', 'pts_per_g', 'trb_per_g',\n",
    "       'ast_per_g', 'stl_per_g', 'blk_per_g', 'fg_pct', 'fg3_pct', 'ft_pct',\n",
    "       'ws', 'ws_per_48']\n",
    "]\"\"\""
   ]
  },
  {
   "cell_type": "code",
   "execution_count": 313,
   "metadata": {},
   "outputs": [
    {
     "data": {
      "text/plain": [
       "Index(['Unnamed: 0', 'fga', 'fg3a', 'fta', 'per', 'ts_pct', 'usg_pct', 'bpm',\n",
       "       'player', 'win_pct', 'g', 'mp_per_g', 'pts_per_g', 'trb_per_g',\n",
       "       'ast_per_g', 'stl_per_g', 'blk_per_g', 'fg_pct', 'fg3_pct', 'ft_pct',\n",
       "       'ws', 'ws_per_48'],\n",
       "      dtype='object')"
      ]
     },
     "execution_count": 313,
     "metadata": {},
     "output_type": "execute_result"
    }
   ],
   "source": [
    "test_data.columns"
   ]
  },
  {
   "cell_type": "code",
   "execution_count": 91,
   "metadata": {},
   "outputs": [],
   "source": [
    "# test_data.to_csv('test_data.csv')"
   ]
  },
  {
   "cell_type": "markdown",
   "metadata": {},
   "source": [
    "## Predict Regression"
   ]
  },
  {
   "cell_type": "code",
   "execution_count": 120,
   "metadata": {},
   "outputs": [],
   "source": [
    "from sklearn.preprocessing import PolynomialFeatures, normalize, StandardScaler, MinMaxScaler\n",
    "from sklearn.linear_model import SGDRegressor, LinearRegression, Ridge, Lasso, ElasticNet\n",
    "from sklearn.neural_network import MLPRegressor\n",
    "from sklearn.svm import SVR\n",
    "from sklearn.ensemble import RandomForestRegressor, GradientBoostingRegressor, BaggingRegressor, AdaBoostRegressor\n",
    "from sklearn.utils import shuffle"
   ]
  },
  {
   "cell_type": "code",
   "execution_count": 169,
   "metadata": {},
   "outputs": [],
   "source": [
    "def get_predictions_for_regression_model(model, poly_fit, train_data, test_data, scaler=None, should_print=True):\n",
    "    train_x = train_data[train_regression_columns].to_numpy()\n",
    "    train_y = train_data[target_reg_columns].to_numpy()\n",
    "\n",
    "    train_x, train_y = shuffle(train_x, train_y)\n",
    "    train_y = train_y.reshape(train_y.shape[0], )\n",
    "    \n",
    "    test_x = test_data[test_reg_columns].to_numpy()\n",
    "    test_x = np.nan_to_num(test_x)\n",
    "    \n",
    "    if poly_fit is not None:\n",
    "        train_x = poly_fit.fit_transform(train_x)\n",
    "        test_x = poly_fit.fit_transform(test_x)\n",
    "    \n",
    "    if scaler is not None:\n",
    "        train_x = scaler.fit_transform(train_x)\n",
    "        test_x = scaler.fit_transform(test_x)\n",
    "    \n",
    "    model.fit(train_x, train_y)\n",
    "    predict_y = model.predict(test_x)\n",
    "    sorted_indices = np.argsort(predict_y)[::-1]\n",
    "    predictions = predict_y[sorted_indices]\n",
    "    \n",
    "    formatted_preds = []\n",
    "    if should_print:\n",
    "        print(f\"Predictions:\")\n",
    "    for i in range(10):\n",
    "        if predictions[i] < 0:\n",
    "            break\n",
    "        if should_print:\n",
    "            print(f\"{i+1}. {top_players.iloc[sorted_indices[i]].Player}: {predictions[i]}\")\n",
    "        formatted_preds.append((top_players.iloc[sorted_indices[i]].Player, predictions[i]))\n",
    "    return formatted_preds"
   ]
  },
  {
   "cell_type": "code",
   "execution_count": 162,
   "metadata": {},
   "outputs": [
    {
     "name": "stdout",
     "output_type": "stream",
     "text": [
      "Predictions:\n",
      "1. James Harden: 0.7503165092408556\n",
      "2. Giannis Antetokounmpo: 0.7128233623607908\n",
      "3. Joel Embiid: 0.2981501420139886\n",
      "4. Kawhi Leonard: 0.26369955851669674\n",
      "5. Paul George: 0.17653668514623136\n",
      "6. Stephen Curry: 0.17401853065740572\n",
      "7. Nikola Jokic: 0.1725925733183824\n",
      "8. Russell Westbrook: 0.1306408948130648\n",
      "9. Rudy Gobert: 0.1182442690242957\n",
      "10. Damian Lillard: 0.10123934904712831\n"
     ]
    },
    {
     "data": {
      "text/plain": [
       "[('James Harden', 0.7503165092408556),\n",
       " ('Giannis Antetokounmpo', 0.7128233623607908),\n",
       " ('Joel Embiid', 0.2981501420139886),\n",
       " ('Kawhi Leonard', 0.26369955851669674),\n",
       " ('Paul George', 0.17653668514623136),\n",
       " ('Stephen Curry', 0.17401853065740572),\n",
       " ('Nikola Jokic', 0.1725925733183824),\n",
       " ('Russell Westbrook', 0.1306408948130648),\n",
       " ('Rudy Gobert', 0.1182442690242957),\n",
       " ('Damian Lillard', 0.10123934904712831)]"
      ]
     },
     "execution_count": 162,
     "metadata": {},
     "output_type": "execute_result"
    }
   ],
   "source": [
    "get_predictions_for_regression_model(\n",
    "    model = GradientBoostingRegressor(n_estimators=50, learning_rate=0.1, subsample=1.0),\n",
    "    poly_fit = PolynomialFeatures(degree=2, interaction_only=False),\n",
    "    train_data=data_frame,\n",
    "    test_data=test_data\n",
    ")"
   ]
  },
  {
   "cell_type": "code",
   "execution_count": 124,
   "metadata": {},
   "outputs": [
    {
     "name": "stdout",
     "output_type": "stream",
     "text": [
      "Predictions:\n",
      "1. James Harden: 0.7503165092408556\n",
      "2. Giannis Antetokounmpo: 0.7128233623607908\n",
      "3. Joel Embiid: 0.29815014201398854\n",
      "4. Kawhi Leonard: 0.26369955851669674\n",
      "5. Paul George: 0.17653668514623141\n",
      "6. Stephen Curry: 0.1740185306574057\n",
      "7. Nikola Jokic: 0.1725925733183824\n",
      "8. Russell Westbrook: 0.13064089481306476\n",
      "9. Rudy Gobert: 0.11824426902429568\n",
      "10. Damian Lillard: 0.10123934904712836\n"
     ]
    }
   ],
   "source": [
    "get_predictions_for_regression_model(\n",
    "    model = GradientBoostingRegressor(n_estimators=50, learning_rate=0.1, subsample=1.0),\n",
    "    poly_fit = PolynomialFeatures(degree=2, interaction_only=True),\n",
    "    train_data=data_frame,\n",
    "    test_data=test_data\n",
    ")"
   ]
  },
  {
   "cell_type": "code",
   "execution_count": 125,
   "metadata": {},
   "outputs": [
    {
     "name": "stdout",
     "output_type": "stream",
     "text": [
      "Predictions:\n",
      "1. James Harden: 0.6488600000000002\n",
      "2. Giannis Antetokounmpo: 0.63826\n",
      "3. Kawhi Leonard: 0.24178\n",
      "4. Stephen Curry: 0.19312000000000004\n",
      "5. Russell Westbrook: 0.18977999999999992\n",
      "6. Nikola Jokic: 0.17467999999999992\n",
      "7. Paul George: 0.14970000000000003\n",
      "8. Joel Embiid: 0.13787999999999997\n",
      "9. Damian Lillard: 0.1128\n",
      "10. Kevin Durant: 0.11047999999999997\n"
     ]
    }
   ],
   "source": [
    "get_predictions_for_regression_model(\n",
    "    model = RandomForestRegressor(n_estimators=50),\n",
    "    poly_fit = PolynomialFeatures(degree=3, interaction_only=True),\n",
    "    train_data=data_frame,\n",
    "    test_data=test_data\n",
    ")"
   ]
  },
  {
   "cell_type": "code",
   "execution_count": 126,
   "metadata": {},
   "outputs": [
    {
     "name": "stdout",
     "output_type": "stream",
     "text": [
      "Predictions:\n",
      "1. Giannis Antetokounmpo: 0.6310100000000001\n",
      "2. James Harden: 0.60273\n",
      "3. Kawhi Leonard: 0.23797000000000007\n",
      "4. Paul George: 0.2205600000000001\n",
      "5. Stephen Curry: 0.19235\n",
      "6. Nikola Jokic: 0.18689999999999998\n",
      "7. Joel Embiid: 0.1748199999999999\n",
      "8. Rudy Gobert: 0.14081000000000002\n",
      "9. Russell Westbrook: 0.13942999999999992\n",
      "10. Kevin Durant: 0.12348999999999992\n"
     ]
    }
   ],
   "source": [
    "get_predictions_for_regression_model(\n",
    "    model = RandomForestRegressor(n_estimators=100),\n",
    "    poly_fit = PolynomialFeatures(degree=2, interaction_only=True),\n",
    "    train_data=data_frame,\n",
    "    test_data=test_data\n",
    ")"
   ]
  },
  {
   "cell_type": "code",
   "execution_count": 127,
   "metadata": {},
   "outputs": [
    {
     "name": "stdout",
     "output_type": "stream",
     "text": [
      "Predictions:\n",
      "1. James Harden: 0.7892392728829574\n",
      "2. Giannis Antetokounmpo: 0.6896219134702817\n",
      "3. Nikola Jokic: 0.31948060540152395\n",
      "4. Damian Lillard: 0.21741540752261773\n",
      "5. Paul George: 0.20085552624883912\n",
      "6. Kevin Durant: 0.1969068609607913\n",
      "7. Kawhi Leonard: 0.17613448218194344\n",
      "8. Stephen Curry: 0.17381575200219318\n",
      "9. Joel Embiid: 0.061180686466423884\n",
      "10. Kyrie Irving: 0.05430756068296955\n"
     ]
    }
   ],
   "source": [
    "get_predictions_for_regression_model(\n",
    "    model = Ridge(alpha=10.0),\n",
    "    poly_fit = PolynomialFeatures(degree=2, interaction_only=True),\n",
    "    train_data=data_frame,\n",
    "    test_data=test_data\n",
    ")"
   ]
  },
  {
   "cell_type": "code",
   "execution_count": 128,
   "metadata": {},
   "outputs": [
    {
     "name": "stdout",
     "output_type": "stream",
     "text": [
      "Predictions:\n",
      "1. James Harden: 0.7909472985550989\n",
      "2. Giannis Antetokounmpo: 0.6264787281077004\n",
      "3. Dwight Powell: 0.44021169226188306\n",
      "4. DeAndre Jordan: 0.3735670002124145\n",
      "5. Nikola Jokic: 0.3127727855190645\n",
      "6. Damian Lillard: 0.20571356093716342\n",
      "7. D.J. Augustin: 0.1777310516280819\n",
      "8. Paul George: 0.17198543484372708\n",
      "9. Kevin Durant: 0.17101546432015446\n",
      "10. Stephen Curry: 0.14732917585002814\n"
     ]
    }
   ],
   "source": [
    "get_predictions_for_regression_model(\n",
    "    model = LinearRegression(normalize=True),\n",
    "    poly_fit = PolynomialFeatures(degree=2, interaction_only=True),\n",
    "    train_data=data_frame,\n",
    "    test_data=test_data\n",
    ")"
   ]
  },
  {
   "cell_type": "code",
   "execution_count": 130,
   "metadata": {},
   "outputs": [
    {
     "name": "stdout",
     "output_type": "stream",
     "text": [
      "Predictions:\n",
      "1. James Harden: 0.7563476230848476\n",
      "2. Giannis Antetokounmpo: 0.6746083507874783\n",
      "3. Nikola Jokic: 0.21871061822342422\n",
      "4. Paul George: 0.21036571339862856\n",
      "5. Rudy Gobert: 0.20936196190336712\n",
      "6. Damian Lillard: 0.20200699254779234\n",
      "7. Kevin Durant: 0.19205147330531072\n",
      "8. Kawhi Leonard: 0.13294650085702922\n",
      "9. Stephen Curry: 0.13207131804327157\n",
      "10. Clint Capela: 0.032160546528826855\n"
     ]
    }
   ],
   "source": [
    "get_predictions_for_regression_model(\n",
    "    model = SVR(C=100, gamma=0.001),\n",
    "    poly_fit = None,\n",
    "    train_data=data_frame,\n",
    "    test_data=test_data\n",
    ")"
   ]
  },
  {
   "cell_type": "code",
   "execution_count": 131,
   "metadata": {},
   "outputs": [
    {
     "name": "stdout",
     "output_type": "stream",
     "text": [
      "Predictions:\n",
      "1. James Harden: 1.154675740170516\n",
      "2. Giannis Antetokounmpo: 1.0386462648887385\n",
      "3. Nikola Jokic: 0.4901939268491997\n",
      "4. Rudy Gobert: 0.4686246990682559\n",
      "5. Damian Lillard: 0.36504592734324426\n",
      "6. Kevin Durant: 0.3463866404815956\n",
      "7. Paul George: 0.31713392580389943\n",
      "8. Joel Embiid: 0.2957015900849296\n",
      "9. Russell Westbrook: 0.2782817213866746\n",
      "10. Stephen Curry: 0.2077814108315561\n"
     ]
    }
   ],
   "source": [
    "get_predictions_for_regression_model(\n",
    "    model = SVR(C=100, gamma=0.01),\n",
    "    poly_fit = None,\n",
    "    train_data=data_frame,\n",
    "    test_data=test_data,\n",
    "    scaler=MinMaxScaler()\n",
    ")"
   ]
  },
  {
   "cell_type": "code",
   "execution_count": 24,
   "metadata": {},
   "outputs": [
    {
     "name": "stdout",
     "output_type": "stream",
     "text": [
      "Predictions:\n",
      "1. Giannis Antetokounmpo: 0.2954057689671746\n",
      "2. James Harden: 0.2914771242253993\n",
      "3. Rudy Gobert: 0.16625874725946113\n",
      "4. Nikola Jokic: 0.16533157783545852\n",
      "5. Stephen Curry: 0.144578519811052\n",
      "6. Damian Lillard: 0.1434476414419158\n",
      "7. Paul George: 0.13872571505515233\n",
      "8. Kawhi Leonard: 0.1302470085313449\n",
      "9. Kevin Durant: 0.12892009493992332\n",
      "10. Karl-Anthony Towns: 0.1286063133521597\n"
     ]
    }
   ],
   "source": [
    "get_predictions_for_regression_model(\n",
    "    model = GradientBoostingRegressor(n_estimators=50, learning_rate=0.01 ,subsample=0.5),\n",
    "    poly_fit = None,\n",
    "    train_data=data_frame,\n",
    "    test_data=test_data,\n",
    ")"
   ]
  },
  {
   "cell_type": "markdown",
   "metadata": {},
   "source": [
    "## \"Large scale\" regression prediction"
   ]
  },
  {
   "cell_type": "markdown",
   "metadata": {},
   "source": [
    "I will load data from results file and run predictions."
   ]
  },
  {
   "cell_type": "code",
   "execution_count": 160,
   "metadata": {},
   "outputs": [],
   "source": [
    "poly_dict = {\n",
    "    'normal': None,\n",
    "    'poly_2': PolynomialFeatures(degree=2, interaction_only=True),\n",
    "    'poly_2_all': PolynomialFeatures(degree=2, interaction_only=False),\n",
    "    'poly_3': PolynomialFeatures(degree=3, interaction_only=True),\n",
    "}"
   ]
  },
  {
   "cell_type": "code",
   "execution_count": 164,
   "metadata": {},
   "outputs": [],
   "source": [
    "estimators = {\n",
    "    'SVR': SVR,\n",
    "    'RandomForestRegressor': RandomForestRegressor,\n",
    "    'Ridge': Ridge,\n",
    "    'GradientBoostingRegressor': GradientBoostingRegressor,\n",
    "    'LinearRegression': LinearRegression,\n",
    "}"
   ]
  },
  {
   "cell_type": "code",
   "execution_count": 166,
   "metadata": {},
   "outputs": [],
   "source": [
    "from collections import defaultdict"
   ]
  },
  {
   "cell_type": "code",
   "execution_count": 220,
   "metadata": {},
   "outputs": [],
   "source": [
    "def get_results(file_name, top_k=20):\n",
    "\n",
    "    with open(file_name) as f:\n",
    "        lines = f.readlines()\n",
    "\n",
    "    predictions_counter = defaultdict(list)\n",
    "    score_counter = defaultdict(list)\n",
    "\n",
    "    for line in lines[:top_k]:\n",
    "        splitted = line.split(\"|\")\n",
    "        poly = splitted[0]\n",
    "        estimator = splitted[1]\n",
    "        if estimator == \"Lasso\":\n",
    "            continue\n",
    "        params = splitted[2]\n",
    "        param_dict = {}\n",
    "        polynomial = None\n",
    "        for key in poly_dict:\n",
    "            if poly in key:\n",
    "                polynomial = poly_dict[key]\n",
    "                break\n",
    "        scaler = None\n",
    "        if \"scaler\" in poly:\n",
    "            scaler = MinMaxScaler()\n",
    "        for param_value in params.split(\",\"):\n",
    "            param_value = param_value.strip()\n",
    "            param_value_split = param_value.split(\":\")\n",
    "            key = param_value_split[0].strip()\n",
    "            value = param_value_split[1].strip()\n",
    "            if key == 'normalize':\n",
    "                value = bool(value)\n",
    "            elif key == \"kernel\":\n",
    "                value = str(value)\n",
    "            elif key == \"n_estimators\" or key == 'n_jobs' or key == 'min_samples_split':\n",
    "                value = int(value)\n",
    "            else:\n",
    "                value = float(value)\n",
    "            param_dict[key] = value\n",
    "\n",
    "        predictions = get_predictions_for_regression_model(\n",
    "            model = estimators[estimator](**param_dict),\n",
    "            poly_fit = polynomial,\n",
    "            train_data=data_frame,\n",
    "            test_data=test_data,\n",
    "            scaler=scaler,\n",
    "            should_print=False\n",
    "        )\n",
    "\n",
    "        for index, item in enumerate(predictions):\n",
    "            name, score = item\n",
    "            predictions_counter[name].append((index+1))\n",
    "            score_counter[name].append(score)\n",
    "    \n",
    "    return predictions_counter, score_counter"
   ]
  },
  {
   "cell_type": "markdown",
   "metadata": {},
   "source": [
    "### MSE"
   ]
  },
  {
   "cell_type": "code",
   "execution_count": 296,
   "metadata": {},
   "outputs": [],
   "source": [
    "predictions_counter, score_counter = get_results(\"reg_results_mse_sorted.txt\", top_k=50)"
   ]
  },
  {
   "cell_type": "markdown",
   "metadata": {},
   "source": [
    "#### By Rank"
   ]
  },
  {
   "cell_type": "code",
   "execution_count": 297,
   "metadata": {},
   "outputs": [],
   "source": [
    "avg_rank = {}\n",
    "for key in predictions_counter:\n",
    "    if len(predictions_counter[key]) < 10:\n",
    "        continue\n",
    "    avg_rank[key] = np.mean(predictions_counter[key])"
   ]
  },
  {
   "cell_type": "code",
   "execution_count": 298,
   "metadata": {},
   "outputs": [],
   "source": [
    "sorted_items = sorted(avg_rank.items(), key=lambda kv: -kv[1])"
   ]
  },
  {
   "cell_type": "code",
   "execution_count": 299,
   "metadata": {},
   "outputs": [
    {
     "data": {
      "image/png": "[encoded data removed]",
      "text/plain": [
       "<Figure size 864x864 with 1 Axes>"
      ]
     },
     "metadata": {},
     "output_type": "display_data"
    }
   ],
   "source": [
    "fig, ax = plt.subplots(figsize=(12, 12))\n",
    "\n",
    "ax.barh([item[0] for item in sorted_items], [item[1] for item in sorted_items])\n",
    "ax.set_title(\"Average rank of players by top 50 models based on MSE\", size=18)\n",
    "_ = ax.set_xlabel(\"Rank\", size=14)"
   ]
  },
  {
   "cell_type": "markdown",
   "metadata": {},
   "source": [
    "#### By Score"
   ]
  },
  {
   "cell_type": "code",
   "execution_count": 300,
   "metadata": {},
   "outputs": [],
   "source": [
    "avg_rank = {}\n",
    "for key in score_counter:\n",
    "    if len(score_counter[key]) < 10:\n",
    "        continue\n",
    "    avg_rank[key] = np.mean(score_counter[key])"
   ]
  },
  {
   "cell_type": "code",
   "execution_count": 301,
   "metadata": {},
   "outputs": [],
   "source": [
    "sorted_items = sorted(avg_rank.items(), key=lambda kv: -kv[1])"
   ]
  },
  {
   "cell_type": "code",
   "execution_count": 302,
   "metadata": {},
   "outputs": [],
   "source": [
    "names = [item[0].split(\" \")[0][0] + \". \" + item[0].split(\" \")[1] for item in sorted_items]"
   ]
  },
  {
   "cell_type": "code",
   "execution_count": 303,
   "metadata": {},
   "outputs": [
    {
     "data": {
      "image/png": "[encoded data removed]",
      "text/plain": [
       "<Figure size 864x864 with 1 Axes>"
      ]
     },
     "metadata": {},
     "output_type": "display_data"
    }
   ],
   "source": [
    "fig, ax = plt.subplots(figsize=(12, 12))\n",
    "\n",
    "ax.bar([item[0] for item in sorted_items], [item[1] for item in sorted_items])\n",
    "ax.set_title(\"Average score of players by top 50 models based on MSE\", size=18)\n",
    "ax.set_ylabel(\"Score\", size=14)\n",
    "_ = ax.set_xticklabels(labels=[item[0] for item in sorted_items], rotation=45, ha='right')"
   ]
  },
  {
   "cell_type": "markdown",
   "metadata": {},
   "source": [
    "### Top 1 accuracy"
   ]
  },
  {
   "cell_type": "markdown",
   "metadata": {},
   "source": [
    "Check top models in predicting mvp"
   ]
  },
  {
   "cell_type": "code",
   "execution_count": 304,
   "metadata": {},
   "outputs": [],
   "source": [
    "predictions_counter, score_counter = get_results(\"reg_results_sorted_top_1.txt\", top_k=50)"
   ]
  },
  {
   "cell_type": "code",
   "execution_count": 305,
   "metadata": {},
   "outputs": [],
   "source": [
    "avg_rank = {}\n",
    "for key in predictions_counter:\n",
    "    if len(predictions_counter[key]) < 10:\n",
    "        continue\n",
    "    avg_rank[key] = np.mean(predictions_counter[key])"
   ]
  },
  {
   "cell_type": "code",
   "execution_count": 306,
   "metadata": {},
   "outputs": [],
   "source": [
    "sorted_items = sorted(avg_rank.items(), key=lambda kv: -kv[1])"
   ]
  },
  {
   "cell_type": "code",
   "execution_count": 307,
   "metadata": {},
   "outputs": [
    {
     "data": {
      "image/png": "[encoded data removed]",
      "text/plain": [
       "<Figure size 864x864 with 1 Axes>"
      ]
     },
     "metadata": {},
     "output_type": "display_data"
    }
   ],
   "source": [
    "fig, ax = plt.subplots(figsize=(12, 12))\n",
    "\n",
    "ax.barh([item[0] for item in sorted_items], [item[1] for item in sorted_items])\n",
    "ax.set_title(\"Average rank of players by top 50 models based on top 1 accuracy\", size=18)\n",
    "_ = ax.set_xlabel(\"Rank\", size=14)"
   ]
  },
  {
   "cell_type": "markdown",
   "metadata": {},
   "source": [
    "#### By Score"
   ]
  },
  {
   "cell_type": "code",
   "execution_count": 308,
   "metadata": {},
   "outputs": [],
   "source": [
    "avg_rank = {}\n",
    "for key in score_counter:\n",
    "    if len(score_counter[key]) < 10:\n",
    "        continue\n",
    "    avg_rank[key] = np.mean(score_counter[key])"
   ]
  },
  {
   "cell_type": "code",
   "execution_count": 309,
   "metadata": {},
   "outputs": [],
   "source": [
    "sorted_items = sorted(avg_rank.items(), key=lambda kv: -kv[1])"
   ]
  },
  {
   "cell_type": "code",
   "execution_count": 310,
   "metadata": {},
   "outputs": [],
   "source": [
    "names = [item[0].split(\" \")[0][0] + \". \" + item[0].split(\" \")[1] for item in sorted_items]"
   ]
  },
  {
   "cell_type": "code",
   "execution_count": 311,
   "metadata": {},
   "outputs": [
    {
     "data": {
      "image/png": "[encoded data removed]",
      "text/plain": [
       "<Figure size 864x864 with 1 Axes>"
      ]
     },
     "metadata": {},
     "output_type": "display_data"
    }
   ],
   "source": [
    "fig, ax = plt.subplots(figsize=(12, 12))\n",
    "\n",
    "ax.bar([item[0] for item in sorted_items], [item[1] for item in sorted_items])\n",
    "ax.set_title(\"Average score of players by top 50 models based on top 1 accuracy\", size=18)\n",
    "ax.set_ylabel(\"Score\", size=14)\n",
    "_ = ax.set_xticklabels(labels=[item[0] for item in sorted_items], rotation=45, ha='right')"
   ]
  },
  {
   "cell_type": "markdown",
   "metadata": {},
   "source": [
    "## Predict Classification"
   ]
  },
  {
   "cell_type": "code",
   "execution_count": 25,
   "metadata": {},
   "outputs": [],
   "source": [
    "from sklearn.linear_model import LogisticRegression\n",
    "from sklearn.svm import SVC\n",
    "from sklearn.neural_network import MLPClassifier\n",
    "from sklearn.ensemble import RandomForestClassifier\n",
    "from sklearn.ensemble import GradientBoostingClassifier"
   ]
  },
  {
   "cell_type": "code",
   "execution_count": 26,
   "metadata": {},
   "outputs": [],
   "source": [
    "def get_predictions_for_cls_model(model, poly_fit, train_data, test_data, scaler=None):\n",
    "    train_x = train_data[train_cls_columns].to_numpy()\n",
    "    train_y = train_data[target_cls_columns].to_numpy()\n",
    "\n",
    "    train_x, train_y = shuffle(train_x, train_y)\n",
    "    train_y = train_y.reshape(train_y.shape[0], )\n",
    "    \n",
    "    test_x = test_data[test_cls_columns].to_numpy()\n",
    "    test_x = np.nan_to_num(test_x)\n",
    "    \n",
    "    if poly_fit is not None:\n",
    "        train_x = poly_fit.fit_transform(train_x)\n",
    "        test_x = poly_fit.fit_transform(test_x)\n",
    "    \n",
    "    if scaler is not None:\n",
    "        train_x = scaler.fit_transform(train_x)\n",
    "        test_x = scaler.fit_transform(test_x)\n",
    "    \n",
    "    model.fit(train_x, train_y)\n",
    "\n",
    "    preds = model.predict_proba(test_x)\n",
    "    sorted_indices = np.argsort([float(item) for item in preds[:,0]])[::-1]\n",
    "    for i, index in enumerate(sorted_indices[:10]):\n",
    "        print(f\"{i+1}. is index: {test_data.iloc[index].Player}, {preds[index,0]}\")\n"
   ]
  },
  {
   "cell_type": "code",
   "execution_count": 27,
   "metadata": {},
   "outputs": [
    {
     "name": "stdout",
     "output_type": "stream",
     "text": [
      "1. is index: James Harden, 0.8872124899681998\n",
      "2. is index: Giannis Antetokounmpo, 0.5915625383132933\n",
      "3. is index: Joel Embiid, 0.13256664560432202\n",
      "4. is index: Nikola Jokic, 0.10364580312770617\n",
      "5. is index: Damian Lillard, 0.09938941629038436\n",
      "6. is index: Paul George, 0.09715353483498966\n",
      "7. is index: Russell Westbrook, 0.07622540795424594\n",
      "8. is index: Kevin Durant, 0.06844237054322204\n",
      "9. is index: Karl-Anthony Towns, 0.06418638294669467\n",
      "10. is index: Kawhi Leonard, 0.03927932704101305\n"
     ]
    }
   ],
   "source": [
    "get_predictions_for_cls_model(\n",
    "    model = SVC(C=100, gamma=0.1, probability=True),\n",
    "    poly_fit=None,\n",
    "    train_data=cls_data_frame,\n",
    "    test_data=top_players,\n",
    "    scaler=MinMaxScaler()\n",
    ")"
   ]
  },
  {
   "cell_type": "code",
   "execution_count": 28,
   "metadata": {},
   "outputs": [
    {
     "name": "stdout",
     "output_type": "stream",
     "text": [
      "1. is index: James Harden, 0.7936514473019313\n",
      "2. is index: Giannis Antetokounmpo, 0.5276188287021737\n",
      "3. is index: Nikola Jokic, 0.18976004603386226\n",
      "4. is index: Damian Lillard, 0.12026660153111093\n",
      "5. is index: Karl-Anthony Towns, 0.09493431476682627\n",
      "6. is index: Paul George, 0.0948561110744394\n",
      "7. is index: Kevin Durant, 0.09068631757321668\n",
      "8. is index: Joel Embiid, 0.08676239854234064\n",
      "9. is index: Stephen Curry, 0.07744223868443946\n",
      "10. is index: Nikola Vucevic, 0.06555454010136422\n"
     ]
    }
   ],
   "source": [
    "get_predictions_for_cls_model(\n",
    "    model = LogisticRegression(multi_class='multinomial', solver='newton-cg', C=1.0),\n",
    "    poly_fit=None,\n",
    "    train_data=cls_data_frame,\n",
    "    test_data=top_players,\n",
    "    scaler=MinMaxScaler()\n",
    ")"
   ]
  },
  {
   "cell_type": "code",
   "execution_count": 35,
   "metadata": {},
   "outputs": [
    {
     "name": "stdout",
     "output_type": "stream",
     "text": [
      "1. is index: James Harden, 0.7949999999999998\n",
      "2. is index: Giannis Antetokounmpo, 0.5883333333333333\n",
      "3. is index: Nikola Jokic, 0.231\n",
      "4. is index: Joel Embiid, 0.11\n",
      "5. is index: Rudy Gobert, 0.09833333333333333\n",
      "6. is index: Paul George, 0.085\n",
      "7. is index: Karl-Anthony Towns, 0.076\n",
      "8. is index: Kevin Durant, 0.05333333333333333\n",
      "9. is index: Kawhi Leonard, 0.05333333333333333\n",
      "10. is index: Damian Lillard, 0.04666666666666666\n"
     ]
    }
   ],
   "source": [
    "get_predictions_for_cls_model(\n",
    "    model = RandomForestClassifier(n_estimators=100, min_samples_split=3),\n",
    "    poly_fit=None,\n",
    "    train_data=cls_data_frame,\n",
    "    test_data=top_players,\n",
    "    scaler=MinMaxScaler()\n",
    ")"
   ]
  },
  {
   "cell_type": "code",
   "execution_count": null,
   "metadata": {},
   "outputs": [],
   "source": []
  }
 ],
 "metadata": {
  "kernelspec": {
   "display_name": "Python 3",
   "language": "python",
   "name": "python3"
  },
  "language_info": {
   "codemirror_mode": {
    "name": "ipython",
    "version": 3
   },
   "file_extension": ".py",
   "mimetype": "text/x-python",
   "name": "python",
   "nbconvert_exporter": "python",
   "pygments_lexer": "ipython3",
   "version": "3.7.3"
  }
 },
 "nbformat": 4,
 "nbformat_minor": 2
}
